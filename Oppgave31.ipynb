{
 "cells": [
  {
   "cell_type": "markdown",
   "metadata": {},
   "source": [
    "#### Oppgave 3\n",
    "\n",
    "3.1"
   ]
  },
  {
   "cell_type": "code",
   "execution_count": 1,
   "metadata": {},
   "outputs": [],
   "source": [
    "from layers import *\n",
    "from neural_network import NeuralNetwork\n",
    "from utils import onehot\n",
    "import numpy as np\n",
    "from data_generators import get_train_test_sorting\n",
    "import matplotlib.pyplot as plt"
   ]
  },
  {
   "cell_type": "markdown",
   "metadata": {},
   "source": [
    "For å teste om lagene vi har implementert fungerer, kan vi manuelt kjøre gjennom algoritmen. Vi starter med å initalisere lagene til det nevrale nettverk."
   ]
  },
  {
   "cell_type": "code",
   "execution_count": 2,
   "metadata": {},
   "outputs": [],
   "source": [
    "#definerer variabler\n",
    "r = 4\n",
    "m = 4\n",
    "\n",
    "d = 10\n",
    "k = 5\n",
    "p = 15\n",
    "L = 2\n",
    "\n",
    "embed = EmbedPosition(9,m,d)\n",
    "att1 = Attention(d,k)\n",
    "ff1 = FeedForward(d,p)\n",
    "un_embed = LinearLayer(d,m)\n",
    "softmax = Softmax()\n",
    "loss = CrossEntropy()"
   ]
  },
  {
   "cell_type": "markdown",
   "metadata": {},
   "source": [
    "Vi kan videre gi nettverket vårt en input, la oss f.eks late som vi prøver å få modellen til å sortere tallene."
   ]
  },
  {
   "cell_type": "code",
   "execution_count": 9,
   "metadata": {},
   "outputs": [
    {
     "name": "stdout",
     "output_type": "stream",
     "text": [
      "[[[1. 0. 0.]\n",
      "  [0. 1. 0.]\n",
      "  [0. 0. 1.]\n",
      "  [0. 0. 0.]]]\n",
      "[[[ 0.05412351 -0.08970169 -0.13488025]\n",
      "  [ 0.11435062  0.11428386 -0.08162248]\n",
      "  [ 0.04683727 -0.1663157   0.08734214]\n",
      "  [ 0.04124843  0.10858371  0.06586499]\n",
      "  [-0.11662671  0.15176342 -0.0193181 ]\n",
      "  [ 0.07456936 -0.21681149 -0.01241408]\n",
      "  [-0.0036356   0.2318733   0.06160288]\n",
      "  [ 0.01059464 -0.11922348  0.25638006]\n",
      "  [-0.2007586   0.00620548  0.0918998 ]\n",
      "  [-0.18375509  0.16314001 -0.10399757]]]\n",
      "[[[ 0.06273352 -0.08982487 -0.13426984]\n",
      "  [ 0.11418979  0.11256713 -0.08103296]\n",
      "  [ 0.04089767 -0.16427762  0.0873991 ]\n",
      "  [ 0.04809669  0.10731933  0.06336887]\n",
      "  [-0.10305729  0.15552714 -0.02025011]\n",
      "  [ 0.06206236 -0.22009269 -0.01523849]\n",
      "  [-0.02069533  0.23084205  0.06362968]\n",
      "  [ 0.00325234 -0.11830187  0.25625665]\n",
      "  [-0.19517846  0.00486401  0.09224956]\n",
      "  [-0.1778029   0.16274667 -0.10444467]]]\n",
      "[[[ 0.06183219 -0.0901242  -0.15126668]\n",
      "  [ 0.11281199  0.09973305 -0.08656429]\n",
      "  [ 0.02860465 -0.15274457  0.08011932]\n",
      "  [ 0.03909408  0.12890449  0.05878922]\n",
      "  [-0.09773217  0.14661562 -0.02886188]\n",
      "  [ 0.05263677 -0.22002071 -0.02433097]\n",
      "  [-0.03427694  0.22166625  0.05347581]\n",
      "  [ 0.00082163 -0.11714574  0.25764756]\n",
      "  [-0.19319     0.00474261  0.09257821]\n",
      "  [-0.18205847  0.15998627 -0.09734097]]]\n",
      "[[[ 0.02936943 -0.00922687 -0.02546006]\n",
      "  [ 0.02307074 -0.05400148  0.03434976]\n",
      "  [-0.04227507 -0.01345259  0.04350639]\n",
      "  [ 0.00655791  0.00581482  0.01795277]]]\n",
      "[[[0.25627688 0.25207002 0.23938312]\n",
      "  [0.25466775 0.24103262 0.25413741]\n",
      "  [0.23855835 0.25100709 0.25647514]\n",
      "  [0.25049699 0.25589024 0.2500043 ]]]\n"
     ]
    }
   ],
   "source": [
    "x = np.array([[0,1,2]])\n",
    "X = onehot(x, m)\n",
    "\n",
    "print(X)\n",
    "\n",
    "z0 = embed.forward(X)\n",
    "\n",
    "print(z0)\n",
    "\n",
    "z11 = att1.forward(z0)\n",
    "\n",
    "print(z11)\n",
    "\n",
    "z12 = ff1.forward(z11)\n",
    "\n",
    "print(z12)\n",
    "z2 = un_embed.forward(z12)\n",
    "\n",
    "print(z2)\n",
    "Z = softmax.forward(z2)\n",
    "\n",
    "print(Z)"
   ]
  },
  {
   "cell_type": "markdown",
   "metadata": {},
   "source": [
    "Vi kan så teste om vi fikk riktig output, som i dette tilfelle burde være at det er $0$ på siste element. Om vi har riktig output skulle loss funksjonen vårt bli 0."
   ]
  },
  {
   "cell_type": "code",
   "execution_count": 11,
   "metadata": {},
   "outputs": [
    {
     "name": "stdout",
     "output_type": "stream",
     "text": [
      "1.4296899882098888\n"
     ]
    }
   ],
   "source": [
    "y = np.array([[0]])\n",
    "L = loss.forward(Z,y)\n",
    "\n",
    "print(L)"
   ]
  },
  {
   "cell_type": "markdown",
   "metadata": {},
   "source": [
    "Dette fungerte åpenbart ikke enda. Etter å ha kjørt en forward pass, er det fint å teste backwardfunksjonen til lagene. Vi starter da med å beregne den deriverte av loss funksjonen"
   ]
  },
  {
   "cell_type": "code",
   "execution_count": 12,
   "metadata": {},
   "outputs": [],
   "source": [
    "dLdz = loss.backward()\n",
    "d0 = softmax.backward(dLdz)\n",
    "d1 = un_embed.backward(d0)\n",
    "d21 = ff1.backward(d1)\n",
    "d22 = att1.backward(d21)\n",
    "d3 = embed.backward(d22)"
   ]
  }
 ],
 "metadata": {
  "kernelspec": {
   "display_name": "Python 3",
   "language": "python",
   "name": "python3"
  },
  "language_info": {
   "codemirror_mode": {
    "name": "ipython",
    "version": 3
   },
   "file_extension": ".py",
   "mimetype": "text/x-python",
   "name": "python",
   "nbconvert_exporter": "python",
   "pygments_lexer": "ipython3",
   "version": "3.11.1"
  }
 },
 "nbformat": 4,
 "nbformat_minor": 2
}
