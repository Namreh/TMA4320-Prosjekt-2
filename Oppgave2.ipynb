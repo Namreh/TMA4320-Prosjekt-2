{
 "cells": [
  {
   "cell_type": "markdown",
   "metadata": {},
   "source": [
    "### Oppgave 2"
   ]
  },
  {
   "cell_type": "markdown",
   "metadata": {},
   "source": [
    "2.1\n",
    "\n",
    "NeuralNetwork utnytter arven som er mellom Layers og dens underklasser. Ved at alle lag i det nevrale nettverket er underklasser av Layers, kan vi behandle alle lag «likt» uten å måtte bekymre oss. Dette forenkler og generaliserer nettverket vårt, og gjør at vi enkelt kan bruke samme kode for å lage nettverk som er strukturert ulikt. \n",
    "\n",
    "step_gd funksjonen i NeuralNetwork bruker funksjonen isinstance for å kun utføre gradient descent på de underklassene av Layers som faktisk har parametere vi ønsker å oppdatere. Et annet alternativ ville da vært å holde en liste på hvilke lag som vi ønsker å oppdatere parametere på, men dette hadde vært mer krunglete, siden vi da må vite noe om strukturen til det spesifikke nettverket."
   ]
  },
  {
   "cell_type": "markdown",
   "metadata": {},
   "source": [
    "2.2\n",
    "\n",
    "Implementeringen av funksjonene skjer i layers.py. Vi gir en oppsumering av det vi har tenkt for de ulike lagene.\n",
    "\n",
    "**Softmax**\n",
    "\n",
    "Her har vi fulgt Appendix A og tips gitt i oppgaveteksten. \n",
    "\n",
    "**Cross-entropy**\n",
    "\n",
    "Ettersom $y$ kan ha, og som oftest har, mindre lengde enn sannsynelighetsfordelingen man får ut fra nettverket, splicer vi $Z$ utfra lengden til $y$. Dette gjør også at vi må «padde» $\\hat y$ matrisen i backward funksjonen, slik at den får samme dimensjon som $Z$ når den går bakover i nettverket.\n",
    "\n",
    "Ellers følges Appendiks A i utregningene.\n",
    "\n",
    "**Unembedding**\n",
    "\n",
    "Her velger vi å implementere laget som et LinearLayer som tar input-matrisen fra lengde d til m.\n",
    "\n",
    "**Attention**\n",
    "\n",
    "Her velger vi å bruke"
   ]
  }
 ],
 "metadata": {
  "kernelspec": {
   "display_name": "Python 3",
   "language": "python",
   "name": "python3"
  },
  "language_info": {
   "codemirror_mode": {
    "name": "ipython",
    "version": 3
   },
   "file_extension": ".py",
   "mimetype": "text/x-python",
   "name": "python",
   "nbconvert_exporter": "python",
   "pygments_lexer": "ipython3",
   "version": "3.11.1"
  }
 },
 "nbformat": 4,
 "nbformat_minor": 2
}
