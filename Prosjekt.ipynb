{
 "cells": [
  {
   "cell_type": "markdown",
   "metadata": {},
   "source": [
    "# Indmat prosjekt\n",
    "###### Liva Berge Flo, André Pettersen-Dahl, Herman Neple\n",
    "\n",
    "#### Oppgave 1"
   ]
  },
  {
   "cell_type": "markdown",
   "metadata": {},
   "source": [
    "#### Oppgave 3"
   ]
  },
  {
   "cell_type": "markdown",
   "metadata": {},
   "source": [
    "Vi begynner med å importere alle bibliotek vi trenger"
   ]
  },
  {
   "cell_type": "code",
   "execution_count": 1,
   "metadata": {},
   "outputs": [],
   "source": [
    "from layers import *\n",
    "from neural_network import NeuralNetwork\n",
    "from utils import onehot\n",
    "import numpy as np\n",
    "from data_generators import get_train_test_sorting"
   ]
  },
  {
   "cell_type": "code",
   "execution_count": 2,
   "metadata": {},
   "outputs": [
    {
     "name": "stdout",
     "output_type": "stream",
     "text": [
      "Iterasjon 0 L = 0.6886800949134869\n",
      "Iterasjon 1 L = 0.6144492022638326\n",
      "Iterasjon 2 L = 0.4877430386879026\n",
      "Iterasjon 3 L = 0.4534109737357904\n",
      "Iterasjon 4 L = 0.45093667947689714\n",
      "Iterasjon 5 L = 0.41046133421203973\n",
      "Iterasjon 6 L = 0.3821474406793422\n",
      "Iterasjon 7 L = 0.3674176529667748\n",
      "Iterasjon 8 L = 0.3738972115980233\n",
      "Iterasjon 9 L = 0.3853642045509607\n",
      "Iterasjon 10 L = 0.38133584788954017\n",
      "Iterasjon 11 L = 0.360712467211868\n",
      "Iterasjon 12 L = 0.33785963807796454\n",
      "Iterasjon 13 L = 0.3259727644123952\n",
      "Iterasjon 14 L = 0.31538717503818053\n",
      "Iterasjon 15 L = 0.3033299826898327\n",
      "Iterasjon 16 L = 0.29545514827150693\n",
      "Iterasjon 17 L = 0.29132641085210126\n",
      "Iterasjon 18 L = 0.28650990824343414\n",
      "Iterasjon 19 L = 0.28539647737507506\n",
      "Iterasjon 20 L = 0.2835951488051887\n",
      "Iterasjon 21 L = 0.2822531810231566\n",
      "Iterasjon 22 L = 0.28034541430837\n",
      "Iterasjon 23 L = 0.2803538631142016\n",
      "Iterasjon 24 L = 0.2797899343780987\n",
      "Iterasjon 25 L = 0.2802417719592193\n",
      "Iterasjon 26 L = 0.28055169959689785\n",
      "Iterasjon 27 L = 0.28173499140331426\n",
      "Iterasjon 28 L = 0.2799700712256509\n",
      "Iterasjon 29 L = 0.2789073086866032\n",
      "Iterasjon 30 L = 0.279372678658693\n",
      "Iterasjon 31 L = 0.2801364033145136\n",
      "Iterasjon 32 L = 0.2779277408687462\n",
      "Iterasjon 33 L = 0.2772399012752996\n",
      "Iterasjon 34 L = 0.2754897045888977\n",
      "Iterasjon 35 L = 0.27549078964386153\n",
      "Iterasjon 36 L = 0.2764245711372363\n",
      "Iterasjon 37 L = 0.27632131042118935\n",
      "Iterasjon 38 L = 0.2773112207659211\n",
      "Iterasjon 39 L = 0.28162776711654514\n",
      "Iterasjon 40 L = 0.282832386302997\n",
      "Iterasjon 41 L = 0.280934505868434\n",
      "Iterasjon 42 L = 0.27836199934778094\n",
      "Iterasjon 43 L = 0.279131437238084\n",
      "Iterasjon 44 L = 0.27816390032382704\n",
      "Iterasjon 45 L = 0.27847981476916234\n",
      "Iterasjon 46 L = 0.2785180983723909\n",
      "Iterasjon 47 L = 0.2810419480298525\n",
      "Iterasjon 48 L = 0.2782291028569176\n",
      "Iterasjon 49 L = 0.2762201620069766\n",
      "\n"
     ]
    }
   ],
   "source": [
    "#definerer variabler\n",
    "r = 5\n",
    "m = 2\n",
    "\n",
    "d = 10\n",
    "k = 5\n",
    "p = 15\n",
    "L = 2\n",
    "\n",
    "embed = EmbedPosition(9,m,d)\n",
    "att1 = Attention(d,k)\n",
    "ff1 = FeedForward(d,p)\n",
    "un_embed = LinearLayer(d,m)\n",
    "softmax = Softmax()\n",
    "loss = CrossEntropy()\n",
    "\n",
    "nn = NeuralNetwork([embed, att1, ff1, un_embed, softmax])\n",
    "\n",
    "data = get_train_test_sorting(r, m, samples_per_batch=250,n_batches_train=10, n_batches_test=4)\n",
    "\n",
    "x_train = data['x_train']\n",
    "y_train = data['y_train']\n",
    "\n",
    "for j in range(50):\n",
    "    losses = []\n",
    "    for i in range(10):\n",
    "        X = onehot(x_train[i], m)\n",
    "        Z = nn.forward(X)\n",
    "\n",
    "        losses.append(loss.forward(Z,y_train[i]))\n",
    "        dLdZ = loss.backward()\n",
    "        nn.backward(dLdZ)\n",
    "        nn.step_Adam()\n",
    "    mean_loss = np.mean(losses)\n",
    "    print(f'Iterasjon {j} L = {mean_loss}')\n",
    "\n",
    "print()"
   ]
  },
  {
   "cell_type": "code",
   "execution_count": 3,
   "metadata": {},
   "outputs": [
    {
     "name": "stdout",
     "output_type": "stream",
     "text": [
      "Iterasjon 0 L = 0.2773755224805332\n",
      "Iterasjon 1 L = 0.2785080682194594\n",
      "Iterasjon 2 L = 0.2745925188168889\n",
      "Iterasjon 3 L = 0.27354685833141656\n",
      "Iterasjon 4 L = 0.2751833234730213\n",
      "Iterasjon 5 L = 0.27345916411152915\n",
      "Iterasjon 6 L = 0.27423949275103\n",
      "Iterasjon 7 L = 0.27903588848850863\n",
      "Iterasjon 8 L = 0.27874300003189384\n",
      "Iterasjon 9 L = 0.2759813112977738\n",
      "Iterasjon 10 L = 0.2748279247557979\n",
      "Iterasjon 11 L = 0.2791642657327908\n",
      "Iterasjon 12 L = 0.2790908736463721\n",
      "Iterasjon 13 L = 0.27521017990152397\n",
      "Iterasjon 14 L = 0.2744401708701155\n",
      "Iterasjon 15 L = 0.274740654405153\n",
      "Iterasjon 16 L = 0.2735730658756311\n",
      "Iterasjon 17 L = 0.27548731416048694\n",
      "Iterasjon 18 L = 0.2750443716528411\n",
      "Iterasjon 19 L = 0.27684233720803314\n",
      "Iterasjon 20 L = 0.27519344842239474\n",
      "Iterasjon 21 L = 0.2761511939291742\n",
      "Iterasjon 22 L = 0.2760348493800951\n",
      "Iterasjon 23 L = 0.29219163084402594\n",
      "Iterasjon 24 L = 0.5543215016151819\n",
      "Iterasjon 25 L = 0.7920667867047556\n",
      "Iterasjon 26 L = 0.6053140870188309\n",
      "Iterasjon 27 L = 0.5181102098934518\n",
      "Iterasjon 28 L = 0.471098895897262\n",
      "Iterasjon 29 L = 0.4196758640949832\n",
      "Iterasjon 30 L = 0.38185035146395785\n",
      "Iterasjon 31 L = 0.4598716509210473\n",
      "Iterasjon 32 L = 0.4720983634704673\n",
      "Iterasjon 33 L = 0.4062065249724999\n",
      "Iterasjon 34 L = 0.36705343900199794\n",
      "Iterasjon 35 L = 0.36853909576044996\n",
      "Iterasjon 36 L = 0.40692593220767603\n",
      "Iterasjon 37 L = 0.4050512779848846\n",
      "Iterasjon 38 L = 0.3683051398786345\n",
      "Iterasjon 39 L = 0.33631727121694804\n",
      "Iterasjon 40 L = 0.3164025022478093\n",
      "Iterasjon 41 L = 0.30647608825008055\n",
      "Iterasjon 42 L = 0.29631716877846437\n",
      "Iterasjon 43 L = 0.2905951087492583\n",
      "Iterasjon 44 L = 0.28717787817874585\n",
      "Iterasjon 45 L = 0.2839548545307046\n",
      "Iterasjon 46 L = 0.2822966621538664\n",
      "Iterasjon 47 L = 0.28154511580841074\n",
      "Iterasjon 48 L = 0.27957310265277263\n",
      "Iterasjon 49 L = 0.278708134296919\n"
     ]
    }
   ],
   "source": [
    "for j in range(50):\n",
    "    losses = []\n",
    "    for i in range(10):\n",
    "        X = onehot(x_train[i], m)\n",
    "        Z = nn.forward(X)\n",
    "\n",
    "        losses.append(loss.forward(Z,y_train[i]))\n",
    "        dLdZ = loss.backward()\n",
    "        nn.backward(dLdZ)\n",
    "        nn.step_Adam()\n",
    "    mean_loss = np.mean(losses)\n",
    "    print(f'Iterasjon {j} L = {mean_loss}')"
   ]
  },
  {
   "cell_type": "code",
   "execution_count": 26,
   "metadata": {},
   "outputs": [
    {
     "name": "stdout",
     "output_type": "stream",
     "text": [
      "[[1 1 0 0 0]]\n"
     ]
    }
   ],
   "source": [
    "print(np.argmax(nn.forward(onehot(np.array([[1, 0 ,0, 0, 1]]), m)),axis=1))"
   ]
  }
 ],
 "metadata": {
  "kernelspec": {
   "display_name": "Python 3",
   "language": "python",
   "name": "python3"
  },
  "language_info": {
   "codemirror_mode": {
    "name": "ipython",
    "version": 3
   },
   "file_extension": ".py",
   "mimetype": "text/x-python",
   "name": "python",
   "nbconvert_exporter": "python",
   "pygments_lexer": "ipython3",
   "version": "3.9.12"
  }
 },
 "nbformat": 4,
 "nbformat_minor": 2
}
