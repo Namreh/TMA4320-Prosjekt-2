{
 "cells": [
  {
   "cell_type": "markdown",
   "metadata": {},
   "source": [
    "# Indmat prosjekt\n",
    "###### Liva Berge Flo, André Pettersen-Dahl, Herman Neple\n",
    "\n",
    "#### Oppgave 1"
   ]
  },
  {
   "cell_type": "markdown",
   "metadata": {},
   "source": [
    "1.1"
   ]
  },
  {
   "cell_type": "markdown",
   "metadata": {},
   "source": [
    "En transformermodell skal trenes opp til å forsøke å predikere et heltall $d$, hvor $d = a \\cdot b + c$, hvor $a$ og $c$ er tosifrede heltall og $b$ er et ettsifret heltall. Vi kan se på et eksempel på et datasett som kan brukes for å trene opp modellen."
   ]
  },
  {
   "cell_type": "markdown",
   "metadata": {},
   "source": [
    "Vi kan la\n",
    "\\begin{align*}\n",
    "       a = 28,  \n",
    " b = 4,   c = 18,   d = 130, \\\\\n",
    "\\end{align*}\n",
    "Input $x$ vil være tallene $a$, $b$ og $c$. I tillegg vil de to første sifrene i $d$ være inkludert i input, fordi vi ønsker at transformermodellen skal trenes opp til å finne det siste sifferet i $d$. Output $y$ vil være tallet $d$ som man ønsker å predikere. Dermed har vi altså\n",
    "\n",
    "\\begin{align*}\n",
    "    x &= [2,8,4,1,8,1,3] \\quad \\text{og} \\quad y = [1,3,0] \\\\\n",
    "\\end{align*}"
   ]
  },
  {
   "cell_type": "markdown",
   "metadata": {},
   "source": [
    "1.2"
   ]
  },
  {
   "cell_type": "markdown",
   "metadata": {},
   "source": [
    "Videre ser vi på et eksempel på hvordan transformermodellen $f_{\\theta}$ kan predikere tallet $d$ for samme type problem."
   ]
  },
  {
   "cell_type": "markdown",
   "metadata": {},
   "source": [
    "Vi setter $a = 18, b = 3, c = 22.\\\\$\n",
    "Et nytt siffer vil predikeres for hver gang vi sender $x$ inn i transformermodellen. Siste element i prediksjonen vil så bli lagt til i $x$, hvor de andre elementene i prediksjonen blir forkastet. Deretter sender vi $x$-en med det nye elementet inn i modellen på nytt. \n",
    "\n",
    "Prosessen vil dermed se slik ut:\n",
    "\\begin{align*}\n",
    "    x^{(0)} &= [1,8,3,2,2], & [\\hat{z}_{0}^{(0)},\\hat{z}_{1}^{(0)},\\hat{z}_{2}^{(0)},\\hat{z}_{3}^{(0)},\\hat{z}_{4}^{(0)},\\textcolor{red}{\\hat{z}_{5}^{(0)}}] = f_\\theta(x^{(0)}), \\\\\n",
    "    x^{(1)} &= [1,8,3,2,2,\\textcolor{red}{\\hat{z}_{5}^{(0)}}], & [\\hat{z}_{0}^{(1)},\\ldots, \\textcolor{blue}{\\hat{z}_{6}^{(1)}}] = f_\\theta(x^{(1)}), \\\\ \n",
    "    x^{(2)} &= [1,8,3,2,2,\\textcolor{red}{\\hat{z}_{5}^{(0)}},\\textcolor{blue}{\\hat{z}_{6}^{(1)}}], & [\\hat{z}_{0}^{(1)},\\ldots, \\textcolor{gold}{\\hat{z}_{7}^{(2)}}] = f_\\theta(x^{(2)}), \\\\\n",
    "    x^{(3)} &= [1,8,3,2,2,\\textcolor{red}{\\hat{z}_{5}^{(0)}},\\textcolor{blue}{\\hat{z}_{6}^{(1)}},\\textcolor{gold}{\\hat{z}_{7}^{(2)}}] \\\\\n",
    "    \\hat{y} &= [\\textcolor{red}{\\hat{z}_{5}^{(0)}},\\textcolor{blue}{\\hat{z}_{6}^{(1)}},\\textcolor{gold}{\\hat{z}_{7}^{(2)}}]. \\\\\n",
    "\\end{align*}"
   ]
  },
  {
   "cell_type": "markdown",
   "metadata": {},
   "source": [
    "Om parameterne $\\theta$ er riktig optimert, ønsker vi altså at rekkefølgen $\\textcolor{red}{\\hat{z}_{5}^{(0)}}\\textcolor{blue}{\\hat{z}_{6}^{(1)}}\\textcolor{gold}{\\hat{z}_{7}^{(2)}} = 076 = d$"
   ]
  },
  {
   "cell_type": "markdown",
   "metadata": {},
   "source": [
    "1.3"
   ]
  },
  {
   "cell_type": "markdown",
   "metadata": {},
   "source": [
    "La $m = 5$ og $y = [4,3,2,1]$. Vi bruker cross-entropy som objektfunksjon $\\mathcal{L}$, og ønsker å finne en sannsynlighetsfordeling $\\hat Y$ som gir $\\mathcal{L}(\\theta, \\mathcal{D}) = 0$."
   ]
  },
  {
   "cell_type": "markdown",
   "metadata": {},
   "source": [
    "I vårt tilfelle vil dette se slik ut:\n",
    "\n",
    "\n",
    "\\begin{align*}\n",
    "\\mathcal{L}(\\theta, \\mathcal{D}) &= -\\frac{1}{4} \\sum_{i=0}^{0} \\sum_{j=0}^{4} \\log \\hat Y_{kj}^{(i)}\n",
    "\\end{align*}\n",
    "\n",
    "hvor det i ytre løkke kun summeres opp til $D = 0$, siden vi kun har ett datasett. I indre løkke summeres det opp til $n = 4$, fordi vi har 4 kolonner i $y$. For hver kolonne er indeksen $k$ gitt av hvilken rad som er «riktig» ifølge $y$."
   ]
  },
  {
   "cell_type": "markdown",
   "metadata": {},
   "source": [
    "Siden vi ønsker at $\\mathcal{L}(\\theta, \\mathcal{D}) = 0$, vil vi at alle $Y_{kj}^{(i)} = 1$, slik at logaritmen av dette blir $0$. Vi velger altså en sannsynelighetsfordeling $\\hat Y$ der elementene er $1$ i rad $k$ for hver kolonne.\n",
    "\n",
    "Vi får altså:"
   ]
  },
  {
   "cell_type": "markdown",
   "metadata": {},
   "source": [
    "\n",
    "\n",
    "$$\\hat Y = \\left[\n",
    "\\begin{array}{cccc}\n",
    "0 & 0 & 0 & 0 \\\\\n",
    "0 & 0 & 0 & 1 \\\\\n",
    "0 & 0 & 1 & 0 \\\\\n",
    "0 & 1 & 0 & 0 \\\\\n",
    "1 & 0 & 0 & 0 \n",
    "\\end{array}\n",
    "\\right]$$\n",
    "\n",
    "Dette gjør at:\n",
    "\n",
    "\n",
    "\\begin{align*}\n",
    "Y_{4,0} &= 1 \\\\\n",
    "Y_{3,1} &= 1 \\\\\n",
    "Y_{2,2} &= 1 \\\\\n",
    "Y_{1,3} &= 1 \\\\\n",
    "\\end{align*}\n",
    "\n",
    "Vi kan videre forenkle uttrykket for objektfunksjonen:\n",
    "\n",
    "$$\\mathcal{L}(\\theta, \\mathcal{D}) = -\\frac{1}{4} \\left( \\log Y_{4,0} + \\log Y_{3,1} + \\log Y_{2,2} + \\log Y_{1,3} \\right) \\\\$$\n",
    "$$= -\\frac{1}{4} \\left( \\log 1 + \\log 1 + \\log 1 + \\log 1 \\right) = -\\frac{1}{4} \\cdot 4 \\cdot \\log 1 \\\\$$\n",
    "$$= -\\frac{4}{4} \\cdot 0 = 0$$\n",
    "\n",
    "\n",
    "Altså har vi at $ \\mathcal{L}(\\theta, \\mathcal{D}) = 0 $."
   ]
  },
  {
   "cell_type": "markdown",
   "metadata": {},
   "source": [
    "Vi må i dette tilfellet ha at $\\hat y = y = [4,3,2,1]$. Dette kan man se dersom man utfører operasjonen $\\text{argmax}_{\\text{col}}(\\hat Y)$. Det kan også lett observeres ut fra at $\\hat Y = Y$."
   ]
  },
  {
   "cell_type": "markdown",
   "metadata": {},
   "source": [
    "1.4"
   ]
  },
  {
   "cell_type": "markdown",
   "metadata": {},
   "source": [
    "Det kan beregnes hvor mange enkeltparametre som inkluderes i transformermodellen. Vi kan begynne med å se på settet av parametere\n",
    "\\begin{align*}\n",
    "\\theta = \\{ W_E, W_P, W_U, \\{W_O^{(l)}, W_V^{(l)}, W_Q^{(l)}, W_K^{(l)}, W_1^{(l)}, W_2^{(l)}\\}_{l=0}^{L-1} \\}\n",
    "\\end{align*}\n",
    "Med $L$ lag, og dimensjoner $d$, $m$, $n_{max}$, $k$ og $p$, vil antallet enkeltparametere $w$, som må bestemmes ved optimering, bli\n",
    "\n",
    "\\begin{align*}\n",
    "w &=  d \\cdot m + d \\cdot n_{\\text{max}} + d \\cdot m + L\\cdot \\{ 4 ( k \\cdot d ) + 2 (p\\cdot d)\\} \\\\\n",
    "&= 2(d\\cdot m) + d\\cdot n_{\\text{max}} + L\\cdot \\{ 4 ( k \\cdot d ) + 2 (p\\cdot d)\\}\n",
    "\\end{align*}"
   ]
  },
  {
   "cell_type": "markdown",
   "metadata": {},
   "source": [
    "1.5"
   ]
  },
  {
   "cell_type": "markdown",
   "metadata": {},
   "source": [
    "Vi ønsker å vise at man må ha $\\alpha > 1$ for å få $\\hat{z} = [1]$ når input er $x = [1]$ og $n = n_{max} = 1, m = d = k = p = 2$ og $L = 1$. Vi kan starte med å gå manuelt gjennom hele transformeralgoritmen med de gitte verdiene. De første stegene gjøres i embedding."
   ]
  },
  {
   "cell_type": "markdown",
   "metadata": {},
   "source": [
    "$$x = [1], \\quad m = 2 \\\\\n",
    "X = \\text{onehot}(x) = \n",
    "\\begin{bmatrix}\n",
    "0 \\\\\n",
    "1 \\\\\n",
    "\\end{bmatrix} \\\\$$\n",
    "\n",
    "$$W_{E} = \\begin{bmatrix}\n",
    "    1 & 0 \\\\\n",
    "    0 & \\alpha \\\\\n",
    "\\end{bmatrix}\n",
    "W_{P} = \\begin{bmatrix}\n",
    "    1  \\\\\n",
    "    0  \\\\\n",
    "\\end{bmatrix} \\\\$$\n",
    "$$z_{0} = \\begin{bmatrix}\n",
    "    1 & 0 \\\\\n",
    "    0 & \\alpha \\\\\n",
    "\\end{bmatrix}\n",
    "\\begin{bmatrix}\n",
    "    0 \\\\\n",
    "    1 \\\\\n",
    "\\end{bmatrix} + \\begin{bmatrix}\n",
    "    1 \\\\\n",
    "    0 \\\\\n",
    "\\end{bmatrix}\n",
    "= \\begin{bmatrix}\n",
    "    0 \\\\\n",
    "    \\alpha \\\\\n",
    "\\end{bmatrix}\n",
    "+ \\begin{bmatrix}\n",
    "    1 \\\\\n",
    "    0 \\\\\n",
    "\\end{bmatrix}\n",
    "= \\begin{bmatrix}\n",
    "    1 \\\\\n",
    "    \\alpha \\\\\n",
    "\\end{bmatrix} \\\\$$\n"
   ]
  },
  {
   "cell_type": "markdown",
   "metadata": {},
   "source": [
    "Videre utføres attention-laget."
   ]
  },
  {
   "cell_type": "markdown",
   "metadata": {},
   "source": [
    "$$z_{\\frac{1}{2}} = z_0 + W_{O}^{T}W_{V}z_{0}A(z_{0})$$\n",
    "$$ = z_{0} + W_{O}^{T}W_{V}z_{0}\\text{ softmax}_{\\text{col }}(z_{0}^{T}W_{Q}^{T}W_{K}z_{0} + D)$$\n",
    "$$= \\begin{bmatrix}\n",
    "    0 \\\\\n",
    "    1 \\\\\n",
    "\\end{bmatrix} + \\begin{bmatrix}\n",
    "    1 & 0 \\\\\n",
    "    0 & 1 \\\\\n",
    "\\end{bmatrix} \\begin{bmatrix}\n",
    "    1 & 0 \\\\\n",
    "    1 & 1 \\\\\n",
    "\\end{bmatrix} \\begin{bmatrix}\n",
    "    1 \\\\\n",
    "    \\alpha \\\\\n",
    "\\end{bmatrix} \\text{softmax}_{\\text{col } }(\\begin{bmatrix}\n",
    "    1 & \\alpha\n",
    "\\end{bmatrix}\\begin{bmatrix}\n",
    "    1 & 0 \\\\\n",
    "    0 & 1 \\\\\n",
    "\\end{bmatrix}\\begin{bmatrix}\n",
    "    1 & 0 \\\\\n",
    "    0 & 1 \\\\\n",
    "\\end{bmatrix}\\begin{bmatrix}\n",
    "    1 \\\\\n",
    "    \\alpha \\\\\n",
    "\\end{bmatrix} + 0) \\\\$$\n",
    "\n",
    "$$= \\begin{bmatrix}\n",
    "    1 \\\\\n",
    "    \\alpha \\\\\n",
    "\\end{bmatrix}+\\begin{bmatrix}\n",
    "    1 \\\\\n",
    "    \\alpha \\\\\n",
    "\\end{bmatrix}\\text{softmax}_{\\text{col }}(1+\\alpha^2)\n",
    "= 2 \\begin{bmatrix}\n",
    "    1 \\\\\n",
    "    \\alpha \\\\\n",
    "\\end{bmatrix}$$"
   ]
  },
  {
   "cell_type": "markdown",
   "metadata": {},
   "source": [
    "Deretter utføres feed-forward-laget."
   ]
  },
  {
   "cell_type": "markdown",
   "metadata": {},
   "source": [
    "$$z_1 = z_{\\frac{1}{2}} + W_{2}^{T}\\sigma(W_1 z_{\\frac{1}{2}})\\\\$$\n",
    "$$= 2\\begin{bmatrix}\n",
    "    1 \\\\\n",
    "    \\alpha \\\\\n",
    "\\end{bmatrix} + W_{2}^{T}\\text{max}(0,W_1 z_{\\frac{1}{2}})\\\\$$\n",
    "$$= 2\\begin{bmatrix}\n",
    "    1 \\\\\n",
    "    \\alpha \\\\\n",
    "\\end{bmatrix}+\\begin{bmatrix}\n",
    "    1 & 0 \\\\\n",
    "    0 & 1 \\\\\n",
    "\\end{bmatrix}\\text{max}\\Bigg(0, \\begin{bmatrix}\n",
    "    1 & 0 \\\\\n",
    "    0 & 1 \\\\\n",
    "\\end{bmatrix}2\\begin{bmatrix}\n",
    "    1 \\\\\n",
    "    \\alpha \\\\\n",
    "\\end{bmatrix}\\Bigg)\\\\$$\n",
    "$$= 4\\begin{bmatrix}\n",
    "    1\\\\\n",
    "    \\alpha \\\\\n",
    "\\end{bmatrix}$$"
   ]
  },
  {
   "cell_type": "markdown",
   "metadata": {},
   "source": [
    "Deretter benyttes $\\text{softmax}_{\\text{col}}$ for å finne sannsynlighetsfordelingen."
   ]
  },
  {
   "cell_type": "markdown",
   "metadata": {},
   "source": [
    "$$Z = \\text{softmax}_{\\text{col}}(W_{U}^{T}z_{1})\\\\$$\n",
    "$$= \\text{softmax}_{\\text{col}}\\bigg(4\\begin{bmatrix}\n",
    "        1 \\\\\n",
    "        \\alpha \\\\\n",
    "    \\end{bmatrix}\\bigg)\\\\$$\n",
    "$$= \\frac{1}{e^{4}+e^{4\\alpha}}\\begin{bmatrix}\n",
    "        e^{4} \\\\\n",
    "        e^{4\\alpha} \\\\\n",
    "    \\end{bmatrix}$$"
   ]
  },
  {
   "cell_type": "markdown",
   "metadata": {},
   "source": [
    "Det kan observeres at $\\text{argmax}_{\\text{col}}(Z)$ vil returnere $\\hat{z} = [1]$ dersom $Z_{10}$ er størst. Vi må altså ha at\n",
    "\\begin{align*}\n",
    "e^{4\\alpha} > e^{4} \\implies \\alpha > 1\\\\\n",
    "\\Box\n",
    "\\end{align*}"
   ]
  },
  {
   "cell_type": "markdown",
   "metadata": {},
   "source": [
    "#### Oppgave 2"
   ]
  },
  {
   "cell_type": "markdown",
   "metadata": {},
   "source": [
    "2.1\n",
    "\n",
    "$\\texttt{NeuralNetwork}$ utnytter arven som er mellom $\\texttt{Layers}$ og dens underklasser. Ved at alle lag i det nevrale nettverket er underklasser av $\\texttt{Layers}$, kan vi behandle alle lag «likt». Her utnyttes altså det faktumet at hvert lag har mye av de samme funksjonalitetene. Dette kalles polymorfisme. Dette forenkler og generaliserer nettverket vårt, og gjør at vi enkelt kan bruke samme kode for å lage nettverk som er strukturert ulikt og bygd opp med ulike typer lag. \n",
    "\n",
    "$ \\texttt{step\\_gd} $ funksjonen i $\\texttt{NeuralNetwork}$ bruker funksjonen $\\texttt{isinstance}$ for å kun utføre gradient descent på de underklassene av $\\texttt{Layers}$ som faktisk har parametere vi ønsker å oppdatere. Et annet alternativ ville da vært å holde en liste på hvilke lag som vi ønsker å oppdatere parametere på, men dette hadde vært mer krunglete, siden vi da må vite noe om strukturen til det spesifikke nettverket."
   ]
  },
  {
   "cell_type": "markdown",
   "metadata": {},
   "source": [
    "2.2\n",
    "\n",
    "Implementeringen av funksjonene skjer i layers.py. Vi gir en oppsumering av det vi har tenkt for de ulike lagene.\n",
    "\n",
    "$\\texttt{Softmax}$\n",
    "\n",
    "Her har vi fulgt Appendix A og tips gitt i oppgaveteksten. \n",
    "\n",
    "$\\texttt{Cross-entropy}$\n",
    "\n",
    "Ettersom $y$ kan ha, og som oftest har, mindre lengde enn sannsynelighetsfordelingen man får ut fra nettverket, splicer vi $Z$ utfra lengden til $y$. Dette gjør også at vi må «padde» $\\hat y$ matrisen i backward funksjonen, slik at den får samme dimensjon som $Z$ når den går bakover i nettverket.\n",
    "\n",
    "Ellers følges Appendiks A i utregningene.\n",
    "\n",
    "$\\texttt{Unembedding}$\n",
    "\n",
    "Her velger vi å implementere laget som et lineært lag som tar input-matrisen fra lengde d til m.\n",
    "\n",
    "$\\texttt{Attention}$\n",
    "\n",
    "Her velger vi å implementere $W_V$ og $W_O$ som lineære lag innad i attention laget, der $W_O$ blir lagret som \n",
    "transponert. Ellers blir $W_K$ og $W_Q$ definert i Attention-laget."
   ]
  },
  {
   "cell_type": "markdown",
   "metadata": {},
   "source": [
    "2.3\n",
    "\n",
    "Implementeringen av ADAM gjøres ved at matrisene $M$ og $V$ lagres sammen med paramterene og $G$ i params ordboken innad i lagene."
   ]
  },
  {
   "cell_type": "markdown",
   "metadata": {},
   "source": [
    "#### Oppgave 3.1"
   ]
  },
  {
   "cell_type": "code",
   "execution_count": 1,
   "metadata": {},
   "outputs": [],
   "source": [
    "#Importerer nødvendige bibliotek\n",
    "from layers import *\n",
    "from neural_network import NeuralNetwork\n",
    "from utils import *\n",
    "import numpy as np\n",
    "from data_generators import get_train_test_sorting\n",
    "import matplotlib.pyplot as plt"
   ]
  },
  {
   "cell_type": "markdown",
   "metadata": {},
   "source": [
    "For å teste om lagene vi har implementert fungerer, kan vi manuelt kjøre gjennom algoritmen. Vi starter med å initalisere lagene til det nevrale nettverk."
   ]
  },
  {
   "cell_type": "code",
   "execution_count": 2,
   "metadata": {},
   "outputs": [],
   "source": [
    "#definerer variabler\n",
    "r = 4\n",
    "m = 4\n",
    "\n",
    "d = 10\n",
    "k = 5\n",
    "p = 15\n",
    "L = 2\n",
    "\n",
    "embed = EmbedPosition(9,m,d)\n",
    "att1 = Attention(d,k)\n",
    "ff1 = FeedForward(d,p)\n",
    "un_embed = LinearLayer(d,m)\n",
    "softmax = Softmax()\n",
    "loss = CrossEntropy()"
   ]
  },
  {
   "cell_type": "markdown",
   "metadata": {},
   "source": [
    "Vi kan videre gi nettverket vårt en input, la oss f.eks late som vi prøver å få modellen til å sortere tallene."
   ]
  },
  {
   "cell_type": "code",
   "execution_count": 3,
   "metadata": {},
   "outputs": [],
   "source": [
    "x = np.array([[0,1,2]])\n",
    "X = onehot(x, m)\n",
    "\n",
    "z0 = embed.forward(X)\n",
    "z11 = att1.forward(z0)\n",
    "z12 = ff1.forward(z11)\n",
    "z2 = un_embed.forward(z12)\n",
    "Z = softmax.forward(z2)"
   ]
  },
  {
   "cell_type": "markdown",
   "metadata": {},
   "source": [
    "Vi kan så teste om vi fikk riktig output, som i dette tilfelle burde være at det er $0$ på siste element. Om vi har riktig output skulle loss funksjonen vårt bli 0."
   ]
  },
  {
   "cell_type": "code",
   "execution_count": 4,
   "metadata": {},
   "outputs": [
    {
     "name": "stdout",
     "output_type": "stream",
     "text": [
      "0.6001828627918931\n"
     ]
    }
   ],
   "source": [
    "y = np.array([[0]])\n",
    "L = loss.forward(Z,y)\n",
    "\n",
    "print(L)"
   ]
  },
  {
   "cell_type": "markdown",
   "metadata": {},
   "source": [
    "Dette fungerte åpenbart ikke enda. Etter å ha kjørt en forward pass, er det fint å teste backwardfunksjonen til lagene. Vi starter da med å beregne den deriverte av loss funksjonen"
   ]
  },
  {
   "cell_type": "code",
   "execution_count": 5,
   "metadata": {},
   "outputs": [],
   "source": [
    "dLdz = loss.backward()\n",
    "d0 = softmax.backward(dLdz)\n",
    "d1 = un_embed.backward(d0)\n",
    "d21 = ff1.backward(d1)\n",
    "d22 = att1.backward(d21)\n",
    "d3 = embed.backward(d22)"
   ]
  },
  {
   "cell_type": "markdown",
   "metadata": {},
   "source": [
    "#### Oppgave 3.2\n",
    "\n",
    "Vi lager en generell funksjon som vil trene nettverket vårt. Denne funksjonen tar inn datasettet i batcher og gjennomfører Adam-steg for å optimalisere parametrene. Vi plotter også $\\mathcal{L}^{i}$ for $i = 0,\\dots , n_{iter} − 1$ med logaritmisk skala på y-aksen.\n"
   ]
  },
  {
   "cell_type": "code",
   "execution_count": 6,
   "metadata": {},
   "outputs": [],
   "source": [
    "def test_Adam(nn: NeuralNetwork, loss, x_data, y_data, n_iters, step_size, m, start, stop):\n",
    "    n_batches = x_data.shape[0]\n",
    "    mean_losses = np.zeros(n_iters)\n",
    "    for j in range(n_iters):\n",
    "        losses = []\n",
    "        for i in range(n_batches):\n",
    "            x = x_data[i]\n",
    "            y = y_data[i][:,start:stop]\n",
    "            #Forward pass\n",
    "            X = onehot(x,m)\n",
    "            Z = nn.forward(X)\n",
    "            #Backward pass\n",
    "            losses.append(loss.forward(Z,y))\n",
    "            dLdZ = loss.backward()\n",
    "            nn.backward(dLdZ)\n",
    "            nn.step_Adam(step_size)\n",
    "        mean_loss = np.mean(losses)\n",
    "        print(\"Iterasjon \", str(j+1), \" L = \",mean_loss, \"\")\n",
    "        mean_losses[j] = mean_loss\n",
    "    #Plotter loss-funksjonen per itterasjon i en logaritmisk skala\n",
    "    plt.plot(np.arange(0,n_iters), np.log10(mean_losses))\n",
    "    plt.xlabel(\"Iterasjonnummer\")\n",
    "    plt.ylabel(\"Logaritmen av loss-funksjon\")\n",
    "    plt.title(\"Minimering ved antall iterasjoner\")\n",
    "    plt.show()\n",
    "    #Returnerer gjennomsnittet over objektfunksjonen over batchene\n",
    "    return mean_losses"
   ]
  },
  {
   "cell_type": "markdown",
   "metadata": {},
   "source": [
    "#### Oppgave 3.3"
   ]
  },
  {
   "cell_type": "markdown",
   "metadata": {},
   "source": [
    "Nå som vi har implementert treningsalgoritmen vår og testet at lagene er riktig implementert, er vi klare til å trene nettverket vårt på et enkelt sorteringsproblem. Vi ønsker å trene nettverket ved å gi det usorterte tallsekvenser bestående av 5 sifre med verdi 0 eller 1, sammen med tilhørende sorterte datasett. Med korrekt konfigurert nettverk vil det kunne analysere treningsdataene og søke etter mønstre som det deretter kan bruke til å forutsi hvordan en usortert sekvens vil se ut når den er ferdig sortert."
   ]
  },
  {
   "cell_type": "code",
   "execution_count": 7,
   "metadata": {},
   "outputs": [],
   "source": [
    "#definerer variabler\n",
    "r = 5\n",
    "m = 2\n",
    "\n",
    "d = 10\n",
    "k = 5\n",
    "p = 15\n",
    "L = 2\n",
    "#Implementerer 2 lag \n",
    "embed = EmbedPosition(9,m,d)\n",
    "att1 = Attention(d,k)\n",
    "att2 = Attention(d,k)\n",
    "ff1 = FeedForward(d,p)\n",
    "ff2 = FeedForward(d,p)\n",
    "un_embed = LinearLayer(d,m)\n",
    "softmax = Softmax()\n",
    "loss = CrossEntropy()\n",
    "\n",
    "nn = NeuralNetwork([embed, att1, ff1, att2, ff2, un_embed, softmax])\n",
    "\n",
    "data = get_train_test_sorting(r, m, samples_per_batch=250,n_batches_train=20, n_batches_test=4)\n",
    "\n",
    "x_train = data['x_train']\n",
    "y_train = data['y_train']\n",
    "x_test = data['x_test']\n",
    "y_test = data['y_test']"
   ]
  },
  {
   "cell_type": "markdown",
   "metadata": {},
   "source": [
    "Med lagene initialisert og treningsdataene innhentet, er det nå på tide å starte treningen av nettverket. Vi kjører nå treningsalgoritmen som beskrevet tidligere på treningsdataene vi har hentet fra $\\texttt{get\\_train\\_test\\_sorting}$-funksjonen. Deretter plotter vi og skriver ut tapet til objektsfunksjonen underveis."
   ]
  },
  {
   "cell_type": "code",
   "execution_count": 8,
   "metadata": {},
   "outputs": [
    {
     "name": "stdout",
     "output_type": "stream",
     "text": [
      "Iterasjon  1  L =  0.3001812754007017 \n",
      "Iterasjon  2  L =  0.28731661106089756 \n",
      "Iterasjon  3  L =  0.26401402116525985 \n",
      "Iterasjon  4  L =  0.2124866569994522 \n",
      "Iterasjon  5  L =  0.13631111000498133 \n",
      "Iterasjon  6  L =  0.07971691765259924 \n",
      "Iterasjon  7  L =  0.051581316586120626 \n",
      "Iterasjon  8  L =  0.04803871389748049 \n",
      "Iterasjon  9  L =  0.038538468259647865 \n",
      "Iterasjon  10  L =  0.022423685931045458 \n",
      "Iterasjon  11  L =  0.011194933963771952 \n",
      "Iterasjon  12  L =  0.006640286422894719 \n",
      "Iterasjon  13  L =  0.002851782939758278 \n",
      "Iterasjon  14  L =  0.0016313768082488061 \n",
      "Iterasjon  15  L =  0.0009661025699011031 \n",
      "Iterasjon  16  L =  0.0006713261054309844 \n",
      "Iterasjon  17  L =  0.0005041936999853538 \n",
      "Iterasjon  18  L =  0.00039630946024737403 \n",
      "Iterasjon  19  L =  0.0003213639568085024 \n",
      "Iterasjon  20  L =  0.00026596111000611267 \n",
      "Iterasjon  21  L =  0.00022386019146892837 \n",
      "Iterasjon  22  L =  0.00019091155900585418 \n",
      "Iterasjon  23  L =  0.00016467343755457203 \n",
      "Iterasjon  24  L =  0.000143498179839573 \n",
      "Iterasjon  25  L =  0.00012613570539418603 \n",
      "Iterasjon  26  L =  0.00011173500562573454 \n",
      "Iterasjon  27  L =  9.967682593287216e-05 \n",
      "Iterasjon  28  L =  8.946568011111318e-05 \n",
      "Iterasjon  29  L =  8.075042434456042e-05 \n",
      "Iterasjon  30  L =  7.32460790634932e-05 \n",
      "Iterasjon  31  L =  6.674118280000742e-05 \n",
      "Iterasjon  32  L =  6.10640355483948e-05 \n",
      "Iterasjon  33  L =  5.608054145459872e-05 \n",
      "Iterasjon  34  L =  5.167863775339345e-05 \n",
      "Iterasjon  35  L =  4.7773620625406445e-05 \n",
      "Iterasjon  36  L =  4.429327841354266e-05 \n",
      "Iterasjon  37  L =  4.11775948569955e-05 \n",
      "Iterasjon  38  L =  3.8375701028209045e-05 \n",
      "Iterasjon  39  L =  3.584622459829226e-05 \n",
      "Iterasjon  40  L =  3.353490526403513e-05 \n",
      "Iterasjon  41  L =  3.1428887854098724e-05 \n",
      "Iterasjon  42  L =  2.951414908861186e-05 \n",
      "Iterasjon  43  L =  2.7766620165618717e-05 \n",
      "Iterasjon  44  L =  2.6168580328095824e-05 \n",
      "Iterasjon  45  L =  2.470397736359795e-05 \n",
      "Iterasjon  46  L =  2.3358006997936006e-05 \n",
      "Iterasjon  47  L =  2.2116611024258713e-05 \n",
      "Iterasjon  48  L =  2.09701805227009e-05 \n",
      "Iterasjon  49  L =  1.9909682661173584e-05 \n",
      "Iterasjon  50  L =  1.892636975581346e-05 \n",
      "Iterasjon  51  L =  1.801232457989785e-05 \n",
      "Iterasjon  52  L =  1.7161755558706634e-05 \n",
      "Iterasjon  53  L =  1.6369080613299827e-05 \n",
      "Iterasjon  54  L =  1.5628844967517274e-05 \n",
      "Iterasjon  55  L =  1.4936204686130035e-05 \n",
      "Iterasjon  56  L =  1.4287757012591395e-05 \n",
      "Iterasjon  57  L =  1.3679516922736199e-05 \n",
      "Iterasjon  58  L =  1.3108092686865247e-05 \n",
      "Iterasjon  59  L =  1.25709808539157e-05 \n",
      "Iterasjon  60  L =  1.2062949085603315e-05 \n",
      "Iterasjon  61  L =  1.157252868650702e-05 \n",
      "Iterasjon  62  L =  1.1101534786913806e-05 \n",
      "Iterasjon  63  L =  1.065494604797187e-05 \n",
      "Iterasjon  64  L =  1.0234798971068429e-05 \n",
      "Iterasjon  65  L =  9.839140904483068e-06 \n",
      "Iterasjon  66  L =  9.46554099776809e-06 \n",
      "Iterasjon  67  L =  9.112029393697339e-06 \n",
      "Iterasjon  68  L =  8.777788064446164e-06 \n",
      "Iterasjon  69  L =  8.460922075972188e-06 \n",
      "Iterasjon  70  L =  8.160261714993212e-06 \n",
      "Iterasjon  71  L =  7.874760242098908e-06 \n",
      "Iterasjon  72  L =  7.603520183907737e-06 \n",
      "Iterasjon  73  L =  7.345391449609415e-06 \n",
      "Iterasjon  74  L =  7.099627645344951e-06 \n",
      "Iterasjon  75  L =  6.865661337829464e-06 \n",
      "Iterasjon  76  L =  6.64249606784635e-06 \n",
      "Iterasjon  77  L =  6.42945262332994e-06 \n",
      "Iterasjon  78  L =  6.226140999348464e-06 \n",
      "Iterasjon  79  L =  6.031786952016608e-06 \n",
      "Iterasjon  80  L =  5.845936962630635e-06 \n",
      "Iterasjon  81  L =  5.668210869562239e-06 \n",
      "Iterasjon  82  L =  5.497945365133547e-06 \n",
      "Iterasjon  83  L =  5.3348196581255795e-06 \n",
      "Iterasjon  84  L =  5.1785532793411335e-06 \n",
      "Iterasjon  85  L =  5.028601118455823e-06 \n",
      "Iterasjon  86  L =  4.884671317325254e-06 \n",
      "Iterasjon  87  L =  4.7465071838957345e-06 \n",
      "Iterasjon  88  L =  4.613831054448277e-06 \n",
      "Iterasjon  89  L =  4.486219723503889e-06 \n",
      "Iterasjon  90  L =  4.363492170144192e-06 \n",
      "Iterasjon  91  L =  4.245485155086194e-06 \n",
      "Iterasjon  92  L =  4.1318357895049884e-06 \n",
      "Iterasjon  93  L =  4.022371551509153e-06 \n",
      "Iterasjon  94  L =  3.9169886784853615e-06 \n",
      "Iterasjon  95  L =  3.815342306607708e-06 \n",
      "Iterasjon  96  L =  3.7173398238589855e-06 \n",
      "Iterasjon  97  L =  3.62277142905664e-06 \n",
      "Iterasjon  98  L =  3.531577126753305e-06 \n",
      "Iterasjon  99  L =  3.4434820987740316e-06 \n",
      "Iterasjon  100  L =  3.3583923286342257e-06 \n"
     ]
    },
    {
     "data": {
      "image/png": "[encoded data removed]",
      "text/plain": [
       "<Figure size 432x288 with 1 Axes>"
      ]
     },
     "metadata": {
      "needs_background": "light"
     },
     "output_type": "display_data"
    }
   ],
   "source": [
    "losses = test_Adam(nn, loss, data['x_train'], data['y_train'], 100, 0.001, m, 4, 9)"
   ]
  },
  {
   "cell_type": "markdown",
   "metadata": {},
   "source": [
    "Som vi ser optimerer vi objektfunksjonen gjennom treningen."
   ]
  },
  {
   "cell_type": "markdown",
   "metadata": {},
   "source": [
    "#### Tester for én iterasjon for å se om den greier å predikere neste verdi"
   ]
  },
  {
   "cell_type": "code",
   "execution_count": 9,
   "metadata": {},
   "outputs": [
    {
     "name": "stdout",
     "output_type": "stream",
     "text": [
      "[[1 0 0 1 0]]\n"
     ]
    }
   ],
   "source": [
    "x = np.array([[1, 0 ,0, 1, 0]])\n",
    "X = onehot(x, m)\n",
    "\n",
    "#forward pass\n",
    "Z = nn.forward(X)\n",
    "z_hat = np.argmax(Z, axis=1)\n",
    "\n",
    "print(z_hat)"
   ]
  },
  {
   "cell_type": "markdown",
   "metadata": {},
   "source": [
    "Når vi sender inn arrayet [1, 0, 0, 1, 1], vil vi ved å sende det gjennom algoritmen få predikert den første predikerte verdien som det siste elementet i det returnerte arrayet, som beskrevet i avsnitt 1.2. Siden algoritmen sorterer verdiene i arrayet bestående av 0 og 1, forventer vi at det første sifferet i det sorterte arrayet blir 0. Deretter, for å predikere resten av sekvensen, mater vi inn det siste elementet i det predikerte arrayet tilbake inn i arrayet vi sender gjennom 'forward'-steget, og fortsetter prediksjonen derfra."
   ]
  },
  {
   "cell_type": "markdown",
   "metadata": {},
   "source": [
    "Videre har vi definert funksjonene predict i $\\texttt{neural\\_network}$ og $\\texttt{countCorrect}$ i $\\texttt{utils.py}$ som tar inn testdataen til det nevrale nettverket vårt, predikerer svarene ut ifra dataen, for så å sjekke hvor stor andel av prediksjonene som var riktige. Dermed kan vi se hvorvidt nettverket vårt klarer å sortere eller ikke."
   ]
  },
  {
   "cell_type": "code",
   "execution_count": 10,
   "metadata": {},
   "outputs": [
    {
     "name": "stdout",
     "output_type": "stream",
     "text": [
      "Antall rette prediksjoner: 1000\n",
      "Totalt antall prediksjoner: 1000\n",
      "Prosentvis riktige predikasjoner: 100.0 %\n"
     ]
    }
   ],
   "source": [
    "#Kaller på prediksjonsfunksjonen\n",
    "y_hats = nn.predict(x_test, 2, 5)\n",
    "#Teller antall rette prediksjoner\n",
    "tell = countCorrect_sort(y_hats, y_test)"
   ]
  },
  {
   "cell_type": "markdown",
   "metadata": {},
   "source": [
    "Når to forskjellige verdier kan forekomme på fem ulike steder, resulterer dette i totalt $32$ mulige kombinasjoner $(2^5 = 32)$. Denne variasjonen gjør det praktisk talt umulig å teste algoritmen vår med nye sekvenser. Ideelt sett ville tapet ha tendert mot null, og prediksjonene ville vært korrekte hver gang, siden algoritmen burde gjenkjenne det riktige svaret $(y)$ i stedet for å forutsi neste sekvens. Hvis dette ikke skjer, kan det tyde på feil i det nevrale nettverket eller treningsdataen."
   ]
  },
  {
   "cell_type": "markdown",
   "metadata": {},
   "source": [
    "Nå som vi ser at det nevrale nettverket blir trent riktig, kan vi prøve å løse det samme problemet med tallsekvenser på lengde $7$ og tall fra $0$ til $4$."
   ]
  },
  {
   "cell_type": "code",
   "execution_count": 11,
   "metadata": {},
   "outputs": [],
   "source": [
    "#Initialiserer to lag og henter ny treningsdata likt som tidligere\n",
    "#definerer variabler\n",
    "r = 7\n",
    "m = 5\n",
    "n_max = 2*r-1\n",
    "\n",
    "d = 20\n",
    "k = 10\n",
    "p = 25\n",
    "L = 2\n",
    "\n",
    "embed = EmbedPosition(n_max,m,d)\n",
    "att1 = Attention(d,k)\n",
    "att2 = Attention(d,k)\n",
    "\n",
    "ff1 = FeedForward(d,p)\n",
    "ff2 = FeedForward(d,p)\n",
    "\n",
    "un_embed = LinearLayer(d,m)\n",
    "softmax = Softmax()\n",
    "loss = CrossEntropy()\n",
    "\n",
    "nn = NeuralNetwork([embed, att1, ff1, att2, ff2, un_embed, softmax])\n",
    "\n",
    "data = get_train_test_sorting(r, m, samples_per_batch=250,n_batches_train=10, n_batches_test=4)\n",
    "\n",
    "x_train = data['x_train']\n",
    "y_train = data['y_train']\n",
    "x_test = data['x_test']\n",
    "y_test = data['y_test']\n"
   ]
  },
  {
   "cell_type": "markdown",
   "metadata": {},
   "source": [
    "Trener modellen på den nye dataen for å optimere prediksjonene."
   ]
  },
  {
   "cell_type": "code",
   "execution_count": 12,
   "metadata": {},
   "outputs": [
    {
     "name": "stdout",
     "output_type": "stream",
     "text": [
      "Iterasjon  1  L =  0.6988708358667706 \n",
      "Iterasjon  2  L =  0.6823530607390851 \n",
      "Iterasjon  3  L =  0.662817511481652 \n",
      "Iterasjon  4  L =  0.6359530092852691 \n",
      "Iterasjon  5  L =  0.5943692438540926 \n",
      "Iterasjon  6  L =  0.528287460354177 \n",
      "Iterasjon  7  L =  0.44153973678663083 \n",
      "Iterasjon  8  L =  0.3732585459247006 \n",
      "Iterasjon  9  L =  0.3344122183168365 \n",
      "Iterasjon  10  L =  0.3161779608721792 \n",
      "Iterasjon  11  L =  0.30758021913092704 \n",
      "Iterasjon  12  L =  0.30080781895503805 \n",
      "Iterasjon  13  L =  0.3017826230119389 \n",
      "Iterasjon  14  L =  0.30015486774568567 \n",
      "Iterasjon  15  L =  0.2960071180748074 \n",
      "Iterasjon  16  L =  0.2852916251539118 \n",
      "Iterasjon  17  L =  0.27635061612276635 \n",
      "Iterasjon  18  L =  0.2665697676963113 \n",
      "Iterasjon  19  L =  0.2576109173179363 \n",
      "Iterasjon  20  L =  0.25169139124745754 \n",
      "Iterasjon  21  L =  0.24726276821158072 \n",
      "Iterasjon  22  L =  0.2431062512420369 \n",
      "Iterasjon  23  L =  0.23806031262754748 \n",
      "Iterasjon  24  L =  0.23384005063929916 \n",
      "Iterasjon  25  L =  0.233145153411138 \n",
      "Iterasjon  26  L =  0.22861233861321928 \n",
      "Iterasjon  27  L =  0.2310918978319799 \n",
      "Iterasjon  28  L =  0.22015962356021684 \n",
      "Iterasjon  29  L =  0.22130975488789467 \n",
      "Iterasjon  30  L =  0.2146177172910982 \n",
      "Iterasjon  31  L =  0.21158327850080597 \n",
      "Iterasjon  32  L =  0.205929115034755 \n",
      "Iterasjon  33  L =  0.20030263452701788 \n",
      "Iterasjon  34  L =  0.19622981515213683 \n",
      "Iterasjon  35  L =  0.19092415918822764 \n",
      "Iterasjon  36  L =  0.18865452931818955 \n",
      "Iterasjon  37  L =  0.18326960711799148 \n",
      "Iterasjon  38  L =  0.19131349417528876 \n",
      "Iterasjon  39  L =  0.19159732827916448 \n",
      "Iterasjon  40  L =  0.19766438104084422 \n",
      "Iterasjon  41  L =  0.19543040412816462 \n",
      "Iterasjon  42  L =  0.19115573420883827 \n",
      "Iterasjon  43  L =  0.18309234240727618 \n",
      "Iterasjon  44  L =  0.17583209178316098 \n",
      "Iterasjon  45  L =  0.17091278079568076 \n",
      "Iterasjon  46  L =  0.16460518979229286 \n",
      "Iterasjon  47  L =  0.16546073441083115 \n",
      "Iterasjon  48  L =  0.15763666885542565 \n",
      "Iterasjon  49  L =  0.1646883288947381 \n",
      "Iterasjon  50  L =  0.15298360106670633 \n",
      "Iterasjon  51  L =  0.15989494678137298 \n",
      "Iterasjon  52  L =  0.14930827621031978 \n",
      "Iterasjon  53  L =  0.15328830048287856 \n",
      "Iterasjon  54  L =  0.153882253864563 \n",
      "Iterasjon  55  L =  0.15004243231940242 \n",
      "Iterasjon  56  L =  0.14733220924745793 \n",
      "Iterasjon  57  L =  0.14177553471796106 \n",
      "Iterasjon  58  L =  0.14245705123749933 \n",
      "Iterasjon  59  L =  0.13800871841885148 \n",
      "Iterasjon  60  L =  0.14377848483167072 \n",
      "Iterasjon  61  L =  0.13776214217324956 \n",
      "Iterasjon  62  L =  0.1384706459458918 \n",
      "Iterasjon  63  L =  0.13032072801938038 \n",
      "Iterasjon  64  L =  0.1265821004151933 \n",
      "Iterasjon  65  L =  0.12035524409194384 \n",
      "Iterasjon  66  L =  0.11607686268310942 \n",
      "Iterasjon  67  L =  0.10711352278725157 \n",
      "Iterasjon  68  L =  0.10069520386917216 \n",
      "Iterasjon  69  L =  0.08978863954786434 \n",
      "Iterasjon  70  L =  0.0879262638424179 \n",
      "Iterasjon  71  L =  0.08878954662366037 \n",
      "Iterasjon  72  L =  0.10060999264306698 \n",
      "Iterasjon  73  L =  0.10731328706783187 \n",
      "Iterasjon  74  L =  0.12106919890112162 \n",
      "Iterasjon  75  L =  0.12773973748559153 \n",
      "Iterasjon  76  L =  0.13022892729674504 \n",
      "Iterasjon  77  L =  0.1424263968460663 \n",
      "Iterasjon  78  L =  0.13492234067211095 \n",
      "Iterasjon  79  L =  0.12353045830352227 \n",
      "Iterasjon  80  L =  0.11158210482498516 \n",
      "Iterasjon  81  L =  0.08472608717568783 \n",
      "Iterasjon  82  L =  0.07592646391617942 \n",
      "Iterasjon  83  L =  0.06650745569594639 \n",
      "Iterasjon  84  L =  0.06026926485376625 \n",
      "Iterasjon  85  L =  0.05237665594074875 \n",
      "Iterasjon  86  L =  0.046892263893127104 \n",
      "Iterasjon  87  L =  0.04165132183296281 \n",
      "Iterasjon  88  L =  0.03737724562741129 \n",
      "Iterasjon  89  L =  0.03350569130643756 \n",
      "Iterasjon  90  L =  0.03011776083683177 \n",
      "Iterasjon  91  L =  0.02661680334270426 \n",
      "Iterasjon  92  L =  0.024203104304414417 \n",
      "Iterasjon  93  L =  0.020947049018929527 \n",
      "Iterasjon  94  L =  0.019633748438155803 \n",
      "Iterasjon  95  L =  0.017372853371495155 \n",
      "Iterasjon  96  L =  0.017183258928863868 \n",
      "Iterasjon  97  L =  0.015098438342741119 \n",
      "Iterasjon  98  L =  0.015384209838286672 \n",
      "Iterasjon  99  L =  0.01341355582451132 \n",
      "Iterasjon  100  L =  0.013796256422125983 \n",
      "Iterasjon  101  L =  0.01207156610601271 \n",
      "Iterasjon  102  L =  0.01237794240981099 \n",
      "Iterasjon  103  L =  0.010916445353074958 \n",
      "Iterasjon  104  L =  0.011304139441812076 \n",
      "Iterasjon  105  L =  0.01001612430244762 \n",
      "Iterasjon  106  L =  0.010379336831212322 \n",
      "Iterasjon  107  L =  0.009122660322618426 \n",
      "Iterasjon  108  L =  0.009183774656060118 \n",
      "Iterasjon  109  L =  0.007967240003853853 \n",
      "Iterasjon  110  L =  0.007614994365754545 \n",
      "Iterasjon  111  L =  0.006436124450246383 \n",
      "Iterasjon  112  L =  0.005507514139508219 \n",
      "Iterasjon  113  L =  0.004990891139900521 \n",
      "Iterasjon  114  L =  0.004372891561807397 \n",
      "Iterasjon  115  L =  0.004314232307218563 \n",
      "Iterasjon  116  L =  0.003858813166105005 \n",
      "Iterasjon  117  L =  0.003601498956913117 \n",
      "Iterasjon  118  L =  0.003374503027936542 \n",
      "Iterasjon  119  L =  0.0030862291384163017 \n",
      "Iterasjon  120  L =  0.0029822196526725466 \n",
      "Iterasjon  121  L =  0.0028044212775382585 \n",
      "Iterasjon  122  L =  0.00270873248875816 \n",
      "Iterasjon  123  L =  0.0025827275945268634 \n",
      "Iterasjon  124  L =  0.002458350330273427 \n",
      "Iterasjon  125  L =  0.002373365598131693 \n",
      "Iterasjon  126  L =  0.002263652179807998 \n",
      "Iterasjon  127  L =  0.0021941284333025345 \n",
      "Iterasjon  128  L =  0.0021085587203429324 \n",
      "Iterasjon  129  L =  0.0020292952119784846 \n",
      "Iterasjon  130  L =  0.0019635339448555427 \n",
      "Iterasjon  131  L =  0.001889324960003786 \n",
      "Iterasjon  132  L =  0.0018301419476799263 \n",
      "Iterasjon  133  L =  0.0017666069871636741 \n",
      "Iterasjon  134  L =  0.0017069587151089228 \n",
      "Iterasjon  135  L =  0.0016533212006608878 \n",
      "Iterasjon  136  L =  0.0015974592584471026 \n",
      "Iterasjon  137  L =  0.0015479394405536044 \n",
      "Iterasjon  138  L =  0.001498486948744641 \n",
      "Iterasjon  139  L =  0.001450945846683337 \n",
      "Iterasjon  140  L =  0.0014070921544797376 \n",
      "Iterasjon  141  L =  0.0013635601805206004 \n",
      "Iterasjon  142  L =  0.0013230186804706746 \n",
      "Iterasjon  143  L =  0.0012835926697678615 \n",
      "Iterasjon  144  L =  0.0012454833749344697 \n",
      "Iterasjon  145  L =  0.0012095455638221643 \n",
      "Iterasjon  146  L =  0.0011742173888782581 \n",
      "Iterasjon  147  L =  0.0011407340849054572 \n",
      "Iterasjon  148  L =  0.0011084607522427819 \n",
      "Iterasjon  149  L =  0.0010772544167089008 \n",
      "Iterasjon  150  L =  0.0010475287767754593 \n",
      "Iterasjon  151  L =  0.0010185534349298707 \n",
      "Iterasjon  152  L =  0.00099083296278949 \n",
      "Iterasjon  153  L =  0.0009643498199024575 \n",
      "Iterasjon  154  L =  0.0009385174338858824 \n",
      "Iterasjon  155  L =  0.0009136903618711499 \n",
      "Iterasjon  156  L =  0.0008896935869269599 \n",
      "Iterasjon  157  L =  0.0008665640922268169 \n",
      "Iterasjon  158  L =  0.0008442700012386888 \n",
      "Iterasjon  159  L =  0.0008226275513670481 \n",
      "Iterasjon  160  L =  0.0008017558647294339 \n",
      "Iterasjon  161  L =  0.0007815374182102592 \n",
      "Iterasjon  162  L =  0.0007621333574161646 \n",
      "Iterasjon  163  L =  0.0007433386523230762 \n",
      "Iterasjon  164  L =  0.0007250252063694987 \n",
      "Iterasjon  165  L =  0.0007074717416652159 \n",
      "Iterasjon  166  L =  0.0006904784634269575 \n",
      "Iterasjon  167  L =  0.0006739401301142529 \n",
      "Iterasjon  168  L =  0.0006578442078369604 \n",
      "Iterasjon  169  L =  0.0006423577774284552 \n",
      "Iterasjon  170  L =  0.000627384500464831 \n",
      "Iterasjon  171  L =  0.00061273591736782 \n",
      "Iterasjon  172  L =  0.0005986397486776673 \n",
      "Iterasjon  173  L =  0.0005849585037832714 \n",
      "Iterasjon  174  L =  0.0005715814741523073 \n",
      "Iterasjon  175  L =  0.0005586897633384976 \n",
      "Iterasjon  176  L =  0.0005461724027207521 \n",
      "Iterasjon  177  L =  0.0005339366004224321 \n",
      "Iterasjon  178  L =  0.0005221377900423137 \n",
      "Iterasjon  179  L =  0.0005106781648680186 \n",
      "Iterasjon  180  L =  0.0004995076249773823 \n",
      "Iterasjon  181  L =  0.0004885890428803566 \n",
      "Iterasjon  182  L =  0.00047808765189173084 \n",
      "Iterasjon  183  L =  0.00046788883039977305 \n",
      "Iterasjon  184  L =  0.00045785482684054986 \n",
      "Iterasjon  185  L =  0.0004481722385902191 \n",
      "Iterasjon  186  L =  0.00043881270121464403 \n",
      "Iterasjon  187  L =  0.00042973106809116106 \n",
      "Iterasjon  188  L =  0.0004209199105909887 \n",
      "Iterasjon  189  L =  0.000412282760732312 \n",
      "Iterasjon  190  L =  0.00040396367299863693 \n",
      "Iterasjon  191  L =  0.00039587737882736205 \n",
      "Iterasjon  192  L =  0.0003879377595938097 \n",
      "Iterasjon  193  L =  0.00038024883101460524 \n",
      "Iterasjon  194  L =  0.0003727657456490746 \n",
      "Iterasjon  195  L =  0.0003654509994628121 \n",
      "Iterasjon  196  L =  0.00035832138562083197 \n",
      "Iterasjon  197  L =  0.0003513398608577877 \n",
      "Iterasjon  198  L =  0.00034454720305406906 \n",
      "Iterasjon  199  L =  0.0003379841041200034 \n",
      "Iterasjon  200  L =  0.0003314839455171003 \n",
      "Iterasjon  201  L =  0.0003251988282065352 \n",
      "Iterasjon  202  L =  0.00031907922412762856 \n",
      "Iterasjon  203  L =  0.0003131095464237117 \n",
      "Iterasjon  204  L =  0.0003073055566543226 \n",
      "Iterasjon  205  L =  0.0003015828590499619 \n",
      "Iterasjon  206  L =  0.0002960316124927352 \n",
      "Iterasjon  207  L =  0.0002906407072232723 \n",
      "Iterasjon  208  L =  0.00028538546700050275 \n",
      "Iterasjon  209  L =  0.000280242462287762 \n",
      "Iterasjon  210  L =  0.0002752042950666547 \n",
      "Iterasjon  211  L =  0.0002702916133830142 \n",
      "Iterasjon  212  L =  0.0002655015152431961 \n",
      "Iterasjon  213  L =  0.0002608161540987671 \n",
      "Iterasjon  214  L =  0.0002562605535670685 \n",
      "Iterasjon  215  L =  0.00025183941116765923 \n",
      "Iterasjon  216  L =  0.00024741792120988956 \n",
      "Iterasjon  217  L =  0.00024318880829550743 \n",
      "Iterasjon  218  L =  0.00023909253498892967 \n",
      "Iterasjon  219  L =  0.00023499741332500733 \n",
      "Iterasjon  220  L =  0.00023098489431656047 \n",
      "Iterasjon  221  L =  0.0002271165297781773 \n",
      "Iterasjon  222  L =  0.00022338220796774776 \n",
      "Iterasjon  223  L =  0.00021959480950392213 \n",
      "Iterasjon  224  L =  0.0002159709930106525 \n",
      "Iterasjon  225  L =  0.00021240408861336802 \n",
      "Iterasjon  226  L =  0.00020895648992168454 \n",
      "Iterasjon  227  L =  0.000205506416743413 \n",
      "Iterasjon  228  L =  0.00020219389887403462 \n",
      "Iterasjon  229  L =  0.0001989123230818456 \n",
      "Iterasjon  230  L =  0.00019575407948706956 \n",
      "Iterasjon  231  L =  0.00019261830099606851 \n",
      "Iterasjon  232  L =  0.00018956926319289616 \n",
      "Iterasjon  233  L =  0.00018658035918712323 \n",
      "Iterasjon  234  L =  0.00018369745817817555 \n",
      "Iterasjon  235  L =  0.0001807936784826562 \n",
      "Iterasjon  236  L =  0.0001779979036008776 \n",
      "Iterasjon  237  L =  0.0001752342674159521 \n",
      "Iterasjon  238  L =  0.00017258999813446116 \n",
      "Iterasjon  239  L =  0.00016991814788714873 \n",
      "Iterasjon  240  L =  0.00016734740640434823 \n",
      "Iterasjon  241  L =  0.00016483638264906369 \n",
      "Iterasjon  242  L =  0.00016235977260697397 \n",
      "Iterasjon  243  L =  0.00015991582036255445 \n",
      "Iterasjon  244  L =  0.0001575506278299184 \n",
      "Iterasjon  245  L =  0.00015522211484260146 \n",
      "Iterasjon  246  L =  0.00015299339899636972 \n",
      "Iterasjon  247  L =  0.00015072502259285905 \n",
      "Iterasjon  248  L =  0.00014853035731157 \n",
      "Iterasjon  249  L =  0.00014641778918259005 \n",
      "Iterasjon  250  L =  0.00014432894504564752 \n",
      "Iterasjon  251  L =  0.00014224716466914306 \n",
      "Iterasjon  252  L =  0.00014021646796808315 \n",
      "Iterasjon  253  L =  0.00013825590129873253 \n",
      "Iterasjon  254  L =  0.00013630097722619464 \n",
      "Iterasjon  255  L =  0.00013439521291943083 \n",
      "Iterasjon  256  L =  0.0001325240763650594 \n",
      "Iterasjon  257  L =  0.00013067738486505833 \n",
      "Iterasjon  258  L =  0.00012886717276558063 \n",
      "Iterasjon  259  L =  0.00012708366255543787 \n",
      "Iterasjon  260  L =  0.000125339941007508 \n",
      "Iterasjon  261  L =  0.00012364936748348704 \n",
      "Iterasjon  262  L =  0.00012195868850191382 \n",
      "Iterasjon  263  L =  0.00012030788535417208 \n",
      "Iterasjon  264  L =  0.00011867994524592345 \n",
      "Iterasjon  265  L =  0.00011707823279750673 \n",
      "Iterasjon  266  L =  0.00011554292211077672 \n",
      "Iterasjon  267  L =  0.00011398463829256 \n",
      "Iterasjon  268  L =  0.00011244431148179771 \n",
      "Iterasjon  269  L =  0.00011099311517305517 \n",
      "Iterasjon  270  L =  0.00010954079650526956 \n",
      "Iterasjon  271  L =  0.00010810053537688812 \n",
      "Iterasjon  272  L =  0.00010670632544937889 \n",
      "Iterasjon  273  L =  0.00010531076895380323 \n",
      "Iterasjon  274  L =  0.00010394775926513644 \n",
      "Iterasjon  275  L =  0.00010259892720943533 \n",
      "Iterasjon  276  L =  0.00010129858183906145 \n",
      "Iterasjon  277  L =  0.00010000186396466032 \n",
      "Iterasjon  278  L =  9.873191148341418e-05 \n",
      "Iterasjon  279  L =  9.747688768292574e-05 \n",
      "Iterasjon  280  L =  9.623806286590203e-05 \n",
      "Iterasjon  281  L =  9.502503099183542e-05 \n",
      "Iterasjon  282  L =  9.383526195178474e-05 \n",
      "Iterasjon  283  L =  9.267243777499659e-05 \n",
      "Iterasjon  284  L =  9.153086527790603e-05 \n",
      "Iterasjon  285  L =  9.039310483745136e-05 \n",
      "Iterasjon  286  L =  8.925365731773858e-05 \n",
      "Iterasjon  287  L =  8.818124758895867e-05 \n",
      "Iterasjon  288  L =  8.710248641897992e-05 \n",
      "Iterasjon  289  L =  8.603333677753604e-05 \n",
      "Iterasjon  290  L =  8.498130687091982e-05 \n",
      "Iterasjon  291  L =  8.396965492178238e-05 \n",
      "Iterasjon  292  L =  8.294674399183244e-05 \n",
      "Iterasjon  293  L =  8.193555725034943e-05 \n",
      "Iterasjon  294  L =  8.097651302244976e-05 \n",
      "Iterasjon  295  L =  8.000482604165248e-05 \n",
      "Iterasjon  296  L =  7.903491116932395e-05 \n",
      "Iterasjon  297  L =  7.810152016776296e-05 \n",
      "Iterasjon  298  L =  7.719418881838255e-05 \n",
      "Iterasjon  299  L =  7.62709607288783e-05 \n",
      "Iterasjon  300  L =  7.538053217674604e-05 \n"
     ]
    },
    {
     "data": {
      "image/png": "[encoded data removed]",
      "text/plain": [
       "<Figure size 432x288 with 1 Axes>"
      ]
     },
     "metadata": {
      "needs_background": "light"
     },
     "output_type": "display_data"
    }
   ],
   "source": [
    "losses = test_Adam(nn, loss, data['x_train'], data['y_train'], 300, 0.001, m, 6, 13)"
   ]
  },
  {
   "cell_type": "markdown",
   "metadata": {},
   "source": [
    "Som vi ser går også loss-funksjonen her mot 0, men i en lavere grad enn tidligere. Dette kan indikere at nettverket vårt sliter litt mer med å stadfeste klare mønster og sammenhenger, men verdien er likevel lav nok til at vi burde forvente riktig prediksjon store deler av tiden. "
   ]
  },
  {
   "cell_type": "markdown",
   "metadata": {},
   "source": [
    "Vi kan derfor teste med noen enkle tilfeller for å bekrefte at vi får riktig prediksjon."
   ]
  },
  {
   "cell_type": "code",
   "execution_count": 13,
   "metadata": {},
   "outputs": [
    {
     "name": "stdout",
     "output_type": "stream",
     "text": [
      "[3 0 4 1 4 3 2] -> [0 1 2 3 3 4 4]\n",
      "[4 2 2 1 0 2 4] -> [0 1 2 2 2 4 4]\n",
      "[1 2 0 1 3 0 4] -> [0 0 1 1 2 3 4]\n"
     ]
    }
   ],
   "source": [
    "x = np.array([[[3, 0, 4, 1, 4, 3, 2]]]) #Arrayet vi vil prøve å sortere\n",
    "print(x[0,0], \"->\",(nn.predict(x, 5, 7))[0,0])\n",
    "x = np.array([[[4, 2, 2, 1, 0, 2, 4]]])\n",
    "print(x[0,0], \"->\",(nn.predict(x, 5, 7))[0,0])\n",
    "x = np.array([[[1, 2, 0, 1, 3, 0, 4]]])\n",
    "print(x[0,0], \"->\",(nn.predict(x, 5, 7))[0,0])"
   ]
  },
  {
   "cell_type": "markdown",
   "metadata": {},
   "source": [
    "Vi ser at nettverket vårt klarer å predikere riktig for disse tilfellene. Likevel kan det være fordelaktig å teste det med et større datasett for å få en dypere forståelse av nettverkets treningsnivå."
   ]
  },
  {
   "cell_type": "markdown",
   "metadata": {},
   "source": [
    "$\\texttt{get\\_train\\_test\\_sorting}$-funksjonen leverer ikke bare treningsdata for nettverket vårt, men også testdata som nettverket ikke har blitt eksponert for under treningen. Dette lar oss evaluere hvor godt nettverket vårt kan forutsi sortering av tall, da det blir testet på prediksjonsevnen, ikke bare på gjenkjennelse av treningsdataen."
   ]
  },
  {
   "cell_type": "code",
   "execution_count": 14,
   "metadata": {},
   "outputs": [
    {
     "name": "stdout",
     "output_type": "stream",
     "text": [
      "Antall rette prediksjoner: 993\n",
      "Totalt antall prediksjoner: 1000\n",
      "Prosentvis riktige predikasjoner: 99.3 %\n"
     ]
    }
   ],
   "source": [
    "#Henter prediksjonsfunksjonen\n",
    "y_hats = nn.predict(x_test, 5, 7)\n",
    "#Finner andelen av riktige prediksjoner\n",
    "tell = countCorrect_sort(y_hats, y_test)"
   ]
  },
  {
   "cell_type": "markdown",
   "metadata": {},
   "source": [
    "Også her ser vi at modellen vår er godt trent på å sortere riktig, selv med ny data og flere mulige kombinasjoner."
   ]
  },
  {
   "cell_type": "markdown",
   "metadata": {},
   "source": [
    "#### Oppgave 3.4"
   ]
  },
  {
   "cell_type": "markdown",
   "metadata": {},
   "source": [
    "Nå som vi har demonstrert muligheten til å trene det nevrale nettverket til å sortere tall, ønsker vi å utforske om det kan lære enkel addisjon. Denne tilnærmingen ligner på sorteringen, men her øker vi mengden treningsdata i håp om å oppnå en godt trent modell som kan forutsi riktig resultat store deler av tiden."
   ]
  },
  {
   "cell_type": "markdown",
   "metadata": {},
   "source": [
    "Vi starter med å initialisere 3 lag, definere nødvendige variabler og hente ut treningsdata."
   ]
  },
  {
   "cell_type": "code",
   "execution_count": 15,
   "metadata": {},
   "outputs": [],
   "source": [
    "from data_generators import get_train_test_addition\n",
    "#definerer variabler\n",
    "r = 4\n",
    "m = 10\n",
    "n_max = 3*r\n",
    "\n",
    "d = 30\n",
    "k = 20\n",
    "p = 40\n",
    "L = 3\n",
    "\n",
    "#Lager 3 lag til nn\n",
    "att1 = Attention(d,k)\n",
    "att2 = Attention(d,k)\n",
    "att3 = Attention(d,k)\n",
    "\n",
    "ff1 = FeedForward(d,p)\n",
    "ff2 = FeedForward(d,p)\n",
    "ff3 = FeedForward(d,p)\n",
    "\n",
    "embed = EmbedPosition(n_max,m,d)\n",
    "un_embed = LinearLayer(d,m)\n",
    "softmax = Softmax()\n",
    "loss = CrossEntropy()\n",
    "\n",
    "#Lager det nevrale nettverket på nytt\n",
    "nn = NeuralNetwork([embed, att1, ff1, att2, ff2, att3, ff3, un_embed, softmax])\n",
    "#implementerer trenignsdata. 2 siffer i tallene vi adderer, 20 batches med 250 samples per batch, og 4 batches vi kan teste med\n",
    "data = get_train_test_addition(2, samples_per_batch=250,n_batches_train=20, n_batches_test=20)\n",
    "#Henter ut data\n",
    "x_train = data['x_train']\n",
    "y_train = data['y_train']\n",
    "x_test = data['x_test']\n",
    "y_test = data['y_test']"
   ]
  },
  {
   "cell_type": "markdown",
   "metadata": {},
   "source": [
    "Nå kan vi beregne, plotte og skrive ut tapet til objektsfunksjonen ved hver iterasjon ved hjelp av den samme funksjonen som tidligere."
   ]
  },
  {
   "cell_type": "code",
   "execution_count": 16,
   "metadata": {},
   "outputs": [
    {
     "name": "stdout",
     "output_type": "stream",
     "text": [
      "Iterasjon  1  L =  0.9662971787084116 \n",
      "Iterasjon  2  L =  0.8476231696679527 \n",
      "Iterasjon  3  L =  0.7636313461568854 \n",
      "Iterasjon  4  L =  0.7615419049386833 \n",
      "Iterasjon  5  L =  0.7444182482265094 \n",
      "Iterasjon  6  L =  0.7114238446609297 \n",
      "Iterasjon  7  L =  0.6756512154248862 \n",
      "Iterasjon  8  L =  0.6673300263302806 \n",
      "Iterasjon  9  L =  0.6649962239583237 \n",
      "Iterasjon  10  L =  0.6628611216573341 \n",
      "Iterasjon  11  L =  0.6612881709791707 \n",
      "Iterasjon  12  L =  0.6596421762693268 \n",
      "Iterasjon  13  L =  0.6567130979102311 \n",
      "Iterasjon  14  L =  0.6497142069706445 \n",
      "Iterasjon  15  L =  0.6424258556093939 \n",
      "Iterasjon  16  L =  0.6395535109149009 \n",
      "Iterasjon  17  L =  0.6228631261907381 \n",
      "Iterasjon  18  L =  0.5972598657036673 \n",
      "Iterasjon  19  L =  0.5931157927915078 \n",
      "Iterasjon  20  L =  0.5799076751870887 \n",
      "Iterasjon  21  L =  0.5460126400923926 \n",
      "Iterasjon  22  L =  0.4930985279955536 \n",
      "Iterasjon  23  L =  0.4409259508556054 \n",
      "Iterasjon  24  L =  0.4183731075950776 \n",
      "Iterasjon  25  L =  0.37833092129413626 \n",
      "Iterasjon  26  L =  0.35002461155798315 \n",
      "Iterasjon  27  L =  0.32863728780557644 \n",
      "Iterasjon  28  L =  0.3127366723155059 \n",
      "Iterasjon  29  L =  0.2720807745503041 \n",
      "Iterasjon  30  L =  0.24593764135235247 \n",
      "Iterasjon  31  L =  0.23803857868500572 \n",
      "Iterasjon  32  L =  0.2624505742444348 \n",
      "Iterasjon  33  L =  0.24181781905477057 \n",
      "Iterasjon  34  L =  0.2035058355833565 \n",
      "Iterasjon  35  L =  0.18620116763343744 \n",
      "Iterasjon  36  L =  0.21932412756741435 \n",
      "Iterasjon  37  L =  0.24082937936092894 \n",
      "Iterasjon  38  L =  0.2369562335105048 \n",
      "Iterasjon  39  L =  0.18926023821032933 \n",
      "Iterasjon  40  L =  0.14772260251060434 \n",
      "Iterasjon  41  L =  0.1210092827986626 \n",
      "Iterasjon  42  L =  0.09736653098735697 \n",
      "Iterasjon  43  L =  0.09330709798069196 \n",
      "Iterasjon  44  L =  0.1498445569659209 \n",
      "Iterasjon  45  L =  0.22252472074413654 \n",
      "Iterasjon  46  L =  0.23168278097406808 \n",
      "Iterasjon  47  L =  0.17691240373802414 \n",
      "Iterasjon  48  L =  0.1097487395659608 \n",
      "Iterasjon  49  L =  0.06799069278479876 \n",
      "Iterasjon  50  L =  0.046010394540352696 \n",
      "Iterasjon  51  L =  0.03355915056314878 \n",
      "Iterasjon  52  L =  0.02692991749737843 \n",
      "Iterasjon  53  L =  0.0223448830187126 \n",
      "Iterasjon  54  L =  0.022089345668658784 \n",
      "Iterasjon  55  L =  0.02092694781664025 \n",
      "Iterasjon  56  L =  0.0206743099699117 \n",
      "Iterasjon  57  L =  0.021735577904448335 \n",
      "Iterasjon  58  L =  0.026510606395236596 \n",
      "Iterasjon  59  L =  0.031044736469442846 \n",
      "Iterasjon  60  L =  0.035158707691844475 \n",
      "Iterasjon  61  L =  0.03949704410312154 \n",
      "Iterasjon  62  L =  0.03713181745743081 \n",
      "Iterasjon  63  L =  0.035836740460727864 \n",
      "Iterasjon  64  L =  0.07825361333959764 \n",
      "Iterasjon  65  L =  0.45040454790385853 \n",
      "Iterasjon  66  L =  0.4260547340040672 \n",
      "Iterasjon  67  L =  0.19535089358697783 \n",
      "Iterasjon  68  L =  0.10356229810766633 \n",
      "Iterasjon  69  L =  0.05629339606279844 \n",
      "Iterasjon  70  L =  0.03433657648486378 \n",
      "Iterasjon  71  L =  0.023136688215630603 \n",
      "Iterasjon  72  L =  0.017762942569659827 \n",
      "Iterasjon  73  L =  0.014046083845455679 \n",
      "Iterasjon  74  L =  0.010551652781213647 \n",
      "Iterasjon  75  L =  0.008262138105486396 \n",
      "Iterasjon  76  L =  0.006388726049350246 \n",
      "Iterasjon  77  L =  0.00527967337990205 \n",
      "Iterasjon  78  L =  0.004486003745842556 \n",
      "Iterasjon  79  L =  0.0038467610223374706 \n",
      "Iterasjon  80  L =  0.0033470339265701033 \n",
      "Iterasjon  81  L =  0.0029504438643471 \n",
      "Iterasjon  82  L =  0.002623247371635054 \n",
      "Iterasjon  83  L =  0.0023506926500755235 \n",
      "Iterasjon  84  L =  0.002119513687685326 \n",
      "Iterasjon  85  L =  0.0019221232139194806 \n",
      "Iterasjon  86  L =  0.001751675256905131 \n",
      "Iterasjon  87  L =  0.0016028900039638898 \n",
      "Iterasjon  88  L =  0.001473296446196826 \n",
      "Iterasjon  89  L =  0.001358554991349994 \n",
      "Iterasjon  90  L =  0.0012579064905986824 \n",
      "Iterasjon  91  L =  0.0011674332300029187 \n",
      "Iterasjon  92  L =  0.0010880338535869845 \n",
      "Iterasjon  93  L =  0.0010154148469202142 \n",
      "Iterasjon  94  L =  0.0009515988459814001 \n",
      "Iterasjon  95  L =  0.0008923488322193628 \n",
      "Iterasjon  96  L =  0.0008402481763738919 \n",
      "Iterasjon  97  L =  0.0007910282811861666 \n",
      "Iterasjon  98  L =  0.0007468945106238663 \n",
      "Iterasjon  99  L =  0.0007074202344326652 \n",
      "Iterasjon  100  L =  0.0006693142861653836 \n",
      "Iterasjon  101  L =  0.0006348039652481731 \n",
      "Iterasjon  102  L =  0.0006038532954136418 \n",
      "Iterasjon  103  L =  0.0005737708651838789 \n",
      "Iterasjon  104  L =  0.0005467850975445006 \n",
      "Iterasjon  105  L =  0.0005233138303772513 \n",
      "Iterasjon  106  L =  0.0004988449570713083 \n",
      "Iterasjon  107  L =  0.00047604594589939703 \n",
      "Iterasjon  108  L =  0.0004548833765291935 \n",
      "Iterasjon  109  L =  0.00043536960759895423 \n",
      "Iterasjon  110  L =  0.0004171840981909334 \n",
      "Iterasjon  111  L =  0.0004000940619368674 \n",
      "Iterasjon  112  L =  0.00038412897368446077 \n",
      "Iterasjon  113  L =  0.0003689883202728855 \n",
      "Iterasjon  114  L =  0.0003548323889446052 \n",
      "Iterasjon  115  L =  0.0003413497792230163 \n",
      "Iterasjon  116  L =  0.000328733266667693 \n",
      "Iterasjon  117  L =  0.00031669556610906656 \n",
      "Iterasjon  118  L =  0.0003053929584281831 \n",
      "Iterasjon  119  L =  0.00029454757461556567 \n",
      "Iterasjon  120  L =  0.0002843444946524453 \n",
      "Iterasjon  121  L =  0.00027458832635231267 \n",
      "Iterasjon  122  L =  0.00026536143359365993 \n",
      "Iterasjon  123  L =  0.00025650897355710355 \n",
      "Iterasjon  124  L =  0.00024813126689991196 \n",
      "Iterasjon  125  L =  0.00024007190721678055 \n",
      "Iterasjon  126  L =  0.00023243073668967633 \n",
      "Iterasjon  127  L =  0.00022509695919205037 \n",
      "Iterasjon  128  L =  0.00021812889749589859 \n",
      "Iterasjon  129  L =  0.00021142491630818483 \n",
      "Iterasjon  130  L =  0.00020504453159744096 \n",
      "Iterasjon  131  L =  0.00019890938117574897 \n",
      "Iterasjon  132  L =  0.00019304205967038147 \n",
      "Iterasjon  133  L =  0.000187405452666985 \n",
      "Iterasjon  134  L =  0.0001820078851458013 \n",
      "Iterasjon  135  L =  0.00017681877657730767 \n",
      "Iterasjon  136  L =  0.00017184087457101983 \n",
      "Iterasjon  137  L =  0.00016705218247681746 \n",
      "Iterasjon  138  L =  0.0001624511168673832 \n",
      "Iterasjon  139  L =  0.00015802214739531743 \n",
      "Iterasjon  140  L =  0.00015376840426120525 \n",
      "Iterasjon  141  L =  0.0001496623297747174 \n",
      "Iterasjon  142  L =  0.00014571666974757977 \n",
      "Iterasjon  143  L =  0.00014190397180855203 \n",
      "Iterasjon  144  L =  0.00013823648111971736 \n",
      "Iterasjon  145  L =  0.0001346917009366817 \n",
      "Iterasjon  146  L =  0.00013127057077720578 \n",
      "Iterasjon  147  L =  0.00012797024624207554 \n",
      "Iterasjon  148  L =  0.0001247770559837284 \n",
      "Iterasjon  149  L =  0.00012169985058029 \n",
      "Iterasjon  150  L =  0.00011871679905078515 \n"
     ]
    },
    {
     "data": {
      "image/png": "[encoded data removed]",
      "text/plain": [
       "<Figure size 432x288 with 1 Axes>"
      ]
     },
     "metadata": {
      "needs_background": "light"
     },
     "output_type": "display_data"
    }
   ],
   "source": [
    "#Beregner og skriver ut loss for hver itterasjon\n",
    "losses = test_Adam(nn, loss, data['x_train'], data['y_train'], 150, 0.001, m, 3, 6)"
   ]
  },
  {
   "cell_type": "markdown",
   "metadata": {},
   "source": [
    "Som vi ser fra figuren, blir tapet i objektsfunksjonen minsket over flere iterasjoner."
   ]
  },
  {
   "cell_type": "markdown",
   "metadata": {},
   "source": [
    "Vi kan nå evaluere vårt nevrale nettverk ved å mate det med enkelttilfeller og deretter observere om det faktisk klarer å forutsi riktig addisjon."
   ]
  },
  {
   "cell_type": "code",
   "execution_count": 17,
   "metadata": {},
   "outputs": [
    {
     "name": "stdout",
     "output_type": "stream",
     "text": [
      "[3 0] + [4 1] = [0 7 1]\n",
      "[4 2] + [9 1] = [1 3 3]\n",
      "[7 2] + [0 1] = [0 7 3]\n"
     ]
    }
   ],
   "source": [
    "#Gir eksempler på prediksjoner\n",
    "x = np.array([[[3, 0, 4, 1]]])\n",
    "print(x[0,0][:2], \"+\" ,x[0,0][2:], \"=\",np.flip(nn.predict(x, m, 3))[0,0])\n",
    "x = np.array([[[4, 2, 9, 1]]])\n",
    "print(x[0,0][:2], \"+\" ,x[0,0][2:], \"=\",np.flip(nn.predict(x, m, 3))[0,0])\n",
    "x = np.array([[[7, 2, 0, 1]]])\n",
    "print(x[0,0][:2], \"+\" ,x[0,0][2:], \"=\",np.flip(nn.predict(x, m, 3))[0,0])"
   ]
  },
  {
   "cell_type": "markdown",
   "metadata": {},
   "source": [
    "Vi kan også utføre testing av nettverket vårt på testdataen vi uttrakk samtidig med treningsdataen. I dette tilfellet vil vi gjennomføre 5000 tester på dataene som modellen vår ikke har blitt trent på tidligere."
   ]
  },
  {
   "cell_type": "code",
   "execution_count": 18,
   "metadata": {},
   "outputs": [
    {
     "name": "stdout",
     "output_type": "stream",
     "text": [
      "Antall rette prediksjoner: 4998\n",
      "Totalt antall prediksjoner: 5000\n",
      "Prosentvis riktige predikasjoner: 99.96 %\n"
     ]
    }
   ],
   "source": [
    "#Beregner antall riktige prediksjoner av testdataen opp mot testdataen\n",
    "y_hats = nn.predict(x_test, 10, 3)\n",
    "#Teller hvor mange prediksjoner som var riktig\n",
    "Tell = countCorrect_add(y_hats, y_test)"
   ]
  },
  {
   "cell_type": "markdown",
   "metadata": {},
   "source": [
    "Som vi observerer, vil modellen vår gjøre korrekte addisjonsprediksjoner mesteparten av tiden. For å vurdere nøyaktigheten grundig, kan vi teste hvor mange korrekte prediksjoner den gir for alle de 10 000 mulige tallparene av tosifrede tall."
   ]
  },
  {
   "cell_type": "code",
   "execution_count": 19,
   "metadata": {},
   "outputs": [
    {
     "name": "stdout",
     "output_type": "stream",
     "text": [
      "Antall rette prediksjoner: 9998\n",
      "Totalt antall prediksjoner: 10000\n",
      "Prosentvis riktige predikasjoner: 99.98 %\n"
     ]
    }
   ],
   "source": [
    "#Lager x og y arrays med dimensjon (100, 100, 4) og (100, 100, 3) med alle de mulige tallparene\n",
    "x_values = np.zeros((100, 100, 4), dtype=int)\n",
    "y_values = np.zeros((100, 100, 3), dtype=int)\n",
    "\n",
    "for i in range(100):\n",
    "    for j in range(100):\n",
    "        x_values[i, j] = [i // 10, i % 10, j // 10, j % 10]  \n",
    "        sum_tall = i + j\n",
    "        if sum_tall < 100: #legger til 0 før summen for å sikre en lengde på 3\n",
    "            y_values[i, j] = [0, sum_tall // 10, sum_tall % 10]  \n",
    "        else:\n",
    "            y_values[i, j] = [sum_tall // 100, sum_tall // 10 % 10, sum_tall % 10] \n",
    "#Ser hvor mange riktige av de 10 000 mulige kombinasjonene vi greier å predikere\n",
    "y_hats = nn.predict(x_values, 10, 3)\n",
    "\n",
    "Tell = countCorrect_add(y_hats, y_values)\n"
   ]
  },
  {
   "cell_type": "markdown",
   "metadata": {},
   "source": [
    "Som vi ser greier vi å predikere riktig for opp imot alle mulige kombinasjoner for addisjon mellom to tosifrede tall."
   ]
  }
 ],
 "metadata": {
  "kernelspec": {
   "display_name": "Python 3",
   "language": "python",
   "name": "python3"
  },
  "language_info": {
   "codemirror_mode": {
    "name": "ipython",
    "version": 3
   },
   "file_extension": ".py",
   "mimetype": "text/x-python",
   "name": "python",
   "nbconvert_exporter": "python",
   "pygments_lexer": "ipython3",
   "version": "3.11.1"
  }
 },
 "nbformat": 4,
 "nbformat_minor": 2
}
