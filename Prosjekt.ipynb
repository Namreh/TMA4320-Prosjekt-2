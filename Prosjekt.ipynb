{
 "cells": [
  {
   "cell_type": "markdown",
   "metadata": {},
   "source": [
    "# Indmat prosjekt\n",
    "###### Liva Berge Flo, André Pettersen-Dahl, Herman Neple\n",
    "\n",
    "#### Oppgave 1"
   ]
  },
  {
   "cell_type": "markdown",
   "metadata": {},
   "source": [
    "1.1"
   ]
  },
  {
   "cell_type": "markdown",
   "metadata": {},
   "source": [
    "Vi kan se på et eksempel på et datasett som kan trene en transformermodell. Transformermodellen skal forsøke å predikere et heltall $d$, hvor $d = a \\cdot b + c$. Her er $a$ og $c$ tosifrede heltall og $b$ er et ettsifret heltall"
   ]
  },
  {
   "cell_type": "markdown",
   "metadata": {},
   "source": [
    "Vi kan la\n",
    "\\begin{align*}\n",
    "    r &= 2,   a = 28,  \n",
    " b = 4,   c = 18,   d = 130, \\\\\n",
    "\\end{align*}\n",
    "Input $x$ vil være tallene $a$, $b$ og $c$. I tillegg vil det være de første sifferne i $d$ fordi vi ønsker at transformermodellen skal trenes opp til å finne det siste sifferet i $d$. Output $y$ vil være tallet $d$ som man ønsker å predikere. Dermed har vi altså\n",
    "\n",
    "\\begin{align*}\n",
    "    x &= [2,8,4,1,8,1,3] \\quad \\text{og} \\quad y = [1,3,0], \\\\\n",
    "\\end{align*}"
   ]
  },
  {
   "cell_type": "markdown",
   "metadata": {},
   "source": [
    "1.2"
   ]
  },
  {
   "cell_type": "markdown",
   "metadata": {},
   "source": [
    "Vi ser videre på et eksempel på hvordan transformermodellen $f_{\\theta}$ kan predikere tallet $d$ for samme type problem.\n",
    "\n",
    "Transformermodellen vil utføre følgende operasjon\n",
    "\\begin{align*}\n",
    "    \\hat{z} &= [\\hat{z}_0, \\ldots, \\hat{z}_6] = f_{\\theta}([2,8,4,1,8,1,3]), \\\\\n",
    "\\end{align*}\n",
    "hvor det er ønskelig å finne en $\\theta$ slik at \n",
    "\\begin{align*}\n",
    "    \\hat{y} &= [\\hat{z}_{4}, \\hat{z}_{5}, \\hat{z}_{6}] = [0,3,1].\\\\\n",
    "\\end{align*}\n",
    "Transformermodellen vil ved addisjon beregne siste siffer først og tallet $d$ vil dermed være $\\hat{z}_{6}\\hat{z}_{5}\\hat{z}_{4} = 130$"
   ]
  },
  {
   "cell_type": "markdown",
   "metadata": {},
   "source": [
    "\n",
    "\\begin{align*}\n",
    "    \\text{La } r &= 2, a = 18, b = 3, c = 22 \\\\\n",
    "    \\text{da har vi } x^{(0)} &= [1,8,3,2,2], & [\\hat{z}_{0}^{(0)},\\hat{z}_{1}^{(0)},\\hat{z}_{2}^{(0)},\\hat{z}_{3}^{(0)},\\hat{z}_{4}^{(0)},\\textcolor{red}{\\hat{z}_{5}^{(0)}}] = f_\\theta(x^{(0)}), \\\\\n",
    "    x^{(1)} &= [1,8,3,2,2,\\textcolor{red}{\\hat{z}_{5}^{(0)}}], & [\\hat{z}_{0}^{(1)},\\ldots, \\textcolor{blue}{\\hat{z}_{6}^{(1)}}] = f_\\theta(x^{(1)}), \\\\ \n",
    "    x^{(2)} &= [1,8,3,2,2,\\textcolor{red}{\\hat{z}_{5}^{(0)}},\\textcolor{blue}{\\hat{z}_{6}^{(1)}}], & [\\hat{z}_{0}^{(1)},\\ldots, \\textcolor{gold}{\\hat{z}_{7}^{(2)}}] = f_\\theta(x^{(2)}), \\\\\n",
    "    x^{(3)} &= [1,8,3,2,2,\\textcolor{red}{\\hat{z}_{5}^{(0)}},\\textcolor{blue}{\\hat{z}_{6}^{(1)}},\\textcolor{gold}{\\hat{z}_{7}^{(2)}}] \\\\\n",
    "    \\hat{y} &= [\\textcolor{red}{\\hat{z}_{5}^{(0)}},\\textcolor{blue}{\\hat{z}_{6}^{(1)}},\\textcolor{gold}{\\hat{z}_{7}^{(2)}}]. \\\\\n",
    "\\end{align*}"
   ]
  },
  {
   "cell_type": "markdown",
   "metadata": {},
   "source": [
    "Siden transformermodellen beregner siste siffer i et addisjonsproblem først, vil tallet $d = \\textcolor{gold}{\\hat{z}_{7}^{(2)}}\\textcolor{blue}{\\hat{z}_{6}^{(1)}}\\textcolor{red}{\\hat{z}_{5}^{(0)}}$"
   ]
  },
  {
   "cell_type": "markdown",
   "metadata": {},
   "source": [
    "1.3"
   ]
  },
  {
   "cell_type": "markdown",
   "metadata": {},
   "source": [
    "La $m = 5$ og $y = [4,3,2,1]$. Vi bruker cross-entropy som objektfunksjon $\\mathcal{L}$, og ønsker å finne en sannsynlighetsfordeling $\\hat Y$ som gir $\\mathcal{L}(\\theta, \\mathcal{D}) = 0$."
   ]
  },
  {
   "cell_type": "markdown",
   "metadata": {},
   "source": [
    "Vi får altså at \n",
    "\n",
    "$$Y = \\left[\n",
    "\\begin{array}{cccc}\n",
    "0 & 0 & 0 & 0 \\\\\n",
    "0 & 0 & 0 & 1 \\\\\n",
    "0 & 0 & 1 & 0 \\\\\n",
    "0 & 1 & 0 & 0 \\\\\n",
    "1 & 0 & 0 & 0 \n",
    "\\end{array}\n",
    "\\right]$$\n",
    "\n",
    "når vi representerer $y$ som en matrise, ved å benytte onehot.\n"
   ]
  },
  {
   "cell_type": "markdown",
   "metadata": {},
   "source": [
    "Cross-entropy vil i vårt tilfelle se slik ut:\n",
    "\n",
    "\n",
    "\\begin{align*}\n",
    "\\mathcal{L}(\\theta, \\mathcal{D}) &= -\\frac{1}{4} \\sum_{i=0}^{0} \\sum_{j=0}^{4} \\log Y_{kj}^{(i)}\n",
    "\\end{align*}\n",
    "\n",
    "hvor vi kun summerer opp til $D = 0$, siden vi kun har ett datasett og summerer opp til $n = 4$, fordi vi har fire elementer i $y$."
   ]
  },
  {
   "cell_type": "markdown",
   "metadata": {},
   "source": [
    "Siden vi ønsker at $\\mathcal{L}(\\theta, \\mathcal{D}) = 0$, vil vi at alle $Y_{kj}^{(i)} = 1$, slik at logaritmen blir 0."
   ]
  },
  {
   "cell_type": "markdown",
   "metadata": {},
   "source": [
    "\n",
    "\n",
    "$$\\hat Y = \\left[\n",
    "\\begin{array}{cccc}\n",
    "0 & 0 & 0 & 0 \\\\\n",
    "0 & 0 & 0 & 1 \\\\\n",
    "0 & 0 & 1 & 0 \\\\\n",
    "0 & 1 & 0 & 0 \\\\\n",
    "1 & 0 & 0 & 0 \n",
    "\\end{array}\n",
    "\\right]$$\n",
    "\n",
    "Altså, kan vi observere at:\n",
    "\n",
    "\n",
    "\\begin{align*}\n",
    "Y_{4,0} &= 1 \\\\\n",
    "Y_{3,1} &= 1 \\\\\n",
    "Y_{2,2} &= 1 \\\\\n",
    "Y_{1,3} &= 1 \\\\\n",
    "\\end{align*}\n",
    "\n",
    "Resten av elementene i $Y$ er null. Dermed kan vi forenkle uttrykket for kryssentropien:\n",
    "\n",
    "\\begin{align*}\n",
    "\\mathcal{L}(\\theta, \\mathcal{D}) &= -\\frac{1}{4} \\left( \\log Y_{4,0} + \\log Y_{3,1} + \\log Y_{2,2} + \\log Y_{1,3} \\right) \\\\\n",
    "&= -\\frac{1}{4} \\left( \\log 1 + \\log 1 + \\log 1 + \\log 1 \\right) \\\\\n",
    "&= -\\frac{1}{4} \\cdot 4 \\cdot \\log 1 \\\\\n",
    "&= -\\frac{4}{4} \\cdot 0 \\\\\n",
    "&= 0\n",
    "\\end{align*}\n",
    "\n",
    "\n",
    "Så vi ser at $ \\mathcal{L}(\\theta, \\mathcal{D}) = 0 $, som forventet."
   ]
  },
  {
   "cell_type": "markdown",
   "metadata": {},
   "source": [
    "Vi må i dette tilfellet ha at $\\hat y = y$. Dette kan man se dersom man utfører operasjonen $\\text{argmax}_{\\text{col}}(\\hat Y)$. Det kan også observeres at $\\hat Y = Y$."
   ]
  },
  {
   "cell_type": "markdown",
   "metadata": {},
   "source": [
    "1.4"
   ]
  },
  {
   "cell_type": "markdown",
   "metadata": {},
   "source": [
    "Vi kan begynne med å se på settet av parametere\n",
    "\\begin{align*}\n",
    "\\theta = \\{ W_E, W_P, W_U, \\{W_O^{(l)}, W_V^{(l)}, W_Q^{(l)}, W_K^{(l)}, W_1^{(l)}, W_2^{(l)}\\}_{l=0}^{L-1} \\}\n",
    "\\end{align*}\n",
    "Antall parametere blir da\n",
    "\n",
    "\\begin{align*}\n",
    "n_{w} &=  d \\cdot m + d \\cdot n_{\\text{max}} + d \\cdot m + L\\cdot \\{ 4 ( k \\cdot d ) + 2 (p\\cdot d)\\} \\\\\n",
    "&= 2(d\\cdot m) + d\\cdot n_{\\text{max}} + L\\cdot \\{ 4 ( k \\cdot d ) + 2 (p\\cdot d)\\}\n",
    "\\end{align*}"
   ]
  },
  {
   "cell_type": "markdown",
   "metadata": {},
   "source": [
    "1.5"
   ]
  },
  {
   "cell_type": "markdown",
   "metadata": {},
   "source": [
    "Vi starte med å gå manuelt gjennom hele transformeralgoritmen med de gitte verdiene."
   ]
  },
  {
   "cell_type": "markdown",
   "metadata": {},
   "source": [
    "\\begin{align*}\n",
    "x &= [1], \\text{       } m = 2 \\\\\n",
    "X &= \\text{onehot}(x) = \n",
    "\\begin{bmatrix}\n",
    "0 \\\\\n",
    "1 \\\\\n",
    "\\end{bmatrix} \\\\\n",
    "W_{E} &= \\begin{bmatrix}\n",
    "    1 & 0 \\\\\n",
    "    0 & \\alpha \\\\\n",
    "\\end{bmatrix}\n",
    "W_{P} = \\begin{bmatrix}\n",
    "    1  \\\\\n",
    "    0  \\\\\n",
    "\\end{bmatrix} \\\\\n",
    "z_{0} &= \\begin{bmatrix}\n",
    "    1 & 0 \\\\\n",
    "    0 & \\alpha \\\\\n",
    "\\end{bmatrix}\n",
    "\\begin{bmatrix}\n",
    "    0 \\\\\n",
    "    1 \\\\\n",
    "\\end{bmatrix} + \\begin{bmatrix}\n",
    "    1 \\\\\n",
    "    0 \\\\\n",
    "\\end{bmatrix}\n",
    "= \\begin{bmatrix}\n",
    "    0 \\\\\n",
    "    \\alpha \\\\\n",
    "\\end{bmatrix}\n",
    "+ \\begin{bmatrix}\n",
    "    1 \\\\\n",
    "    0 \\\\\n",
    "\\end{bmatrix}\n",
    "= \\begin{bmatrix}\n",
    "    1 \\\\\n",
    "    \\alpha \\\\\n",
    "\\end{bmatrix} \\\\\n",
    "\\end{align*}"
   ]
  },
  {
   "cell_type": "markdown",
   "metadata": {},
   "source": [
    "\\begin{align*}\n",
    "z_{\\frac{1}{2}} &= z_0 + W_{O}^{T}W_{V}z_{0}A(z_{0})\\\\ &= z_{0} + W_{O}^{T}W_{V}z_{0}\\text{ softmax}_{\\text{col }}(z_{0}^{T}W_{Q}^{T}W_{K}z_{0} + D) \\\\\n",
    "&= \\begin{bmatrix}\n",
    "    0 \\\\\n",
    "    1 \\\\\n",
    "\\end{bmatrix} + \\begin{bmatrix}\n",
    "    1 & 0 \\\\\n",
    "    0 & 1 \\\\\n",
    "\\end{bmatrix} \\begin{bmatrix}\n",
    "    1 & 0 \\\\\n",
    "    1 & 1 \\\\\n",
    "\\end{bmatrix} \\begin{bmatrix}\n",
    "    1 \\\\\n",
    "    \\alpha \\\\\n",
    "\\end{bmatrix} \\text{softmax}_{\\text{col } }(\\begin{bmatrix}\n",
    "    1 & \\alpha\n",
    "\\end{bmatrix}\\begin{bmatrix}\n",
    "    1 & 0 \\\\\n",
    "    0 & 1 \\\\\n",
    "\\end{bmatrix}\\begin{bmatrix}\n",
    "    1 & 0 \\\\\n",
    "    0 & 1 \\\\\n",
    "\\end{bmatrix}\\begin{bmatrix}\n",
    "    1 \\\\\n",
    "    \\alpha \\\\\n",
    "\\end{bmatrix} + 0) \\\\\n",
    "&= \\begin{bmatrix}\n",
    "    1 \\\\\n",
    "    \\alpha \\\\\n",
    "\\end{bmatrix}+\\begin{bmatrix}\n",
    "    1 \\\\\n",
    "    \\alpha \\\\\n",
    "\\end{bmatrix}\\text{softmax}_{\\text{col }}(1+\\alpha^2) \\\\\n",
    "&= 2 \\begin{bmatrix}\n",
    "    1 \\\\\n",
    "    \\alpha \\\\\n",
    "\\end{bmatrix}\n",
    "\\end{align*}"
   ]
  },
  {
   "cell_type": "markdown",
   "metadata": {},
   "source": [
    "\\begin{align*}\n",
    "z_1 &= z_{\\frac{1}{2}} + W_{2}^{T}\\sigma(W_1 z_{\\frac{1}{2}})\\\\\n",
    "&= 2_{\\frac{1}{2}} + W_{2}^{T}\\text{max}(0,W_1 z_{\\frac{1}{2}})\\\\\n",
    "&= 2\\begin{bmatrix}\n",
    "    1 \\\\\n",
    "    \\alpha \\\\\n",
    "\\end{bmatrix}+\\begin{bmatrix}\n",
    "    1 & 0 \\\\\n",
    "    0 & 1 \\\\\n",
    "\\end{bmatrix}\\text{max}\\Bigg(0, \\begin{bmatrix}\n",
    "    1 & 0 \\\\\n",
    "    0 & 1 \\\\\n",
    "\\end{bmatrix}2\\begin{bmatrix}\n",
    "    1 \\\\\n",
    "    \\alpha \\\\\n",
    "\\end{bmatrix}\\Bigg)\\\\\n",
    "&= 4\\begin{bmatrix}\n",
    "    1\\\\\n",
    "    \\alpha \\\\\n",
    "\\end{bmatrix}\n",
    "\\end{align*}"
   ]
  },
  {
   "cell_type": "markdown",
   "metadata": {},
   "source": [
    "\\begin{align*}\n",
    "Z &= \\text{softmax}_{\\text{col}}(W_{U}^{T}z_{1})\\\\\n",
    "&= \\text{softmax}_{\\text{col}}\\bigg(4\\begin{bmatrix}\n",
    "        1 \\\\\n",
    "        \\alpha \\\\\n",
    "    \\end{bmatrix}\\bigg)\\\\\n",
    "    &= \\begin{bmatrix}\n",
    "        \\frac{e^{4}}{e^{4}+e^{4\\alpha}} \\\\\n",
    "        \\frac{e^{4\\alpha}}{e^{4}+e^{4\\alpha}} \\\\\n",
    "    \\end{bmatrix}\n",
    "    = \\frac{1}{e^{4}+e^{4\\alpha}}\\begin{bmatrix}\n",
    "        e^{4} \\\\\n",
    "        e^{4\\alpha} \\\\\n",
    "    \\end{bmatrix}\n",
    "\\end{align*}\n",
    "\n",
    "Det kan observeres at $\\text{argmax}_{\\text{col}}$ vil returnere $\\hat{z} = [1]$ dersom $Z_{10}$ er størst. \n",
    "\\begin{align*}\n",
    "e^{4\\alpha} > e^{4} \\implies \\alpha > 1\\\\\n",
    "\\Box\n",
    "\\end{align*}"
   ]
  },
  {
   "cell_type": "markdown",
   "metadata": {},
   "source": [
    "#### Oppgave 2"
   ]
  },
  {
   "cell_type": "markdown",
   "metadata": {},
   "source": [
    "#### Oppgave 3.1"
   ]
  },
  {
   "cell_type": "code",
   "execution_count": 1,
   "metadata": {},
   "outputs": [],
   "source": [
    "from layers import *\n",
    "from neural_network import NeuralNetwork\n",
    "from utils import onehot\n",
    "import numpy as np\n",
    "from data_generators import get_train_test_sorting\n",
    "import matplotlib.pyplot as plt"
   ]
  },
  {
   "cell_type": "markdown",
   "metadata": {},
   "source": [
    "For å teste om lagene vi har implementert fungerer, kan vi manuelt kjøre gjennom algoritmen. Vi starter med å initalisere lagene til det nevrale nettverk."
   ]
  },
  {
   "cell_type": "code",
   "execution_count": 2,
   "metadata": {},
   "outputs": [],
   "source": [
    "#definerer variabler\n",
    "r = 4\n",
    "m = 4\n",
    "\n",
    "d = 10\n",
    "k = 5\n",
    "p = 15\n",
    "L = 2\n",
    "\n",
    "embed = EmbedPosition(9,m,d)\n",
    "att1 = Attention(d,k)\n",
    "ff1 = FeedForward(d,p)\n",
    "un_embed = LinearLayer(d,m)\n",
    "softmax = Softmax()\n",
    "loss = CrossEntropy()"
   ]
  },
  {
   "cell_type": "markdown",
   "metadata": {},
   "source": [
    "Vi kan videre gi nettverket vårt en input, la oss f.eks late som vi prøver å få modellen til å sortere tallene."
   ]
  },
  {
   "cell_type": "code",
   "execution_count": 3,
   "metadata": {},
   "outputs": [],
   "source": [
    "x = np.array([[0,1,2]])\n",
    "X = onehot(x, m)\n",
    "\n",
    "z0 = embed.forward(X)\n",
    "z11 = att1.forward(z0)\n",
    "z12 = ff1.forward(z11)\n",
    "z2 = un_embed.forward(z12)\n",
    "Z = softmax.forward(z2)"
   ]
  },
  {
   "cell_type": "markdown",
   "metadata": {},
   "source": [
    "Vi kan så teste om vi fikk riktig output, som i dette tilfelle burde være at det er $0$ på siste element. Om vi har riktig output skulle loss funksjonen vårt bli 0."
   ]
  },
  {
   "cell_type": "code",
   "execution_count": 4,
   "metadata": {},
   "outputs": [
    {
     "name": "stdout",
     "output_type": "stream",
     "text": [
      "1.3864797031526592\n"
     ]
    }
   ],
   "source": [
    "y = np.array([[0]])\n",
    "L = loss.forward(Z,y)\n",
    "\n",
    "print(L)"
   ]
  },
  {
   "cell_type": "markdown",
   "metadata": {},
   "source": [
    "Dette fungerte åpenbart ikke enda. Etter å ha kjørt en forward pass, er det fint å teste backwardfunksjonen til lagene. Vi starter da med å beregne den deriverte av loss funksjonen"
   ]
  },
  {
   "cell_type": "code",
   "execution_count": 5,
   "metadata": {},
   "outputs": [],
   "source": [
    "dLdz = loss.backward()\n",
    "d0 = softmax.backward(dLdz)\n",
    "d1 = un_embed.backward(d0)\n",
    "d21 = ff1.backward(d1)\n",
    "d22 = att1.backward(d21)\n",
    "d3 = embed.backward(d22)"
   ]
  },
  {
   "cell_type": "markdown",
   "metadata": {},
   "source": [
    "#### Oppgave 3.2\n",
    "\n",
    "Vi lager en generell funksjon som vil trene nettverket vårt"
   ]
  },
  {
   "cell_type": "code",
   "execution_count": 2,
   "metadata": {},
   "outputs": [],
   "source": [
    "def test_Adam(nn: NeuralNetwork, x_data, y_data, n_iters, step_size, m, start, stop):\n",
    "    n_batches = x_data.shape[0]\n",
    "    mean_losses = np.zeros(n_iters)\n",
    "    for j in range(n_iters):\n",
    "        losses = []\n",
    "        for i in range(n_batches):\n",
    "            x = x_data[i]\n",
    "            y = y_data[i][:,start:stop]\n",
    "\n",
    "            X = onehot(x,m)\n",
    "            Z = nn.forward(X)\n",
    "\n",
    "            losses.append(loss.forward(Z,y))\n",
    "            dLdZ = loss.backward()\n",
    "            nn.backward(dLdZ)\n",
    "            nn.step_Adam(step_size)\n",
    "        mean_loss = np.mean(losses)\n",
    "        print(\"Iterasjon \", str(j+1), \" L = \",mean_loss, \"\")\n",
    "        mean_losses[j] = mean_loss\n",
    "    return mean_losses"
   ]
  },
  {
   "cell_type": "markdown",
   "metadata": {},
   "source": [
    "#### Oppgave 3.3"
   ]
  },
  {
   "cell_type": "markdown",
   "metadata": {},
   "source": [
    "For oppgaven med sortering av 0 og 1"
   ]
  },
  {
   "cell_type": "code",
   "execution_count": 7,
   "metadata": {},
   "outputs": [],
   "source": [
    "#definerer variabler\n",
    "r = 5\n",
    "m = 2\n",
    "\n",
    "d = 10\n",
    "k = 5\n",
    "p = 15\n",
    "L = 2\n",
    "\n",
    "embed = EmbedPosition(9,m,d)\n",
    "att1 = Attention(d,k)\n",
    "att2 = Attention(d,k)\n",
    "ff1 = FeedForward(d,p)\n",
    "ff2 = FeedForward(d,p)\n",
    "un_embed = LinearLayer(d,m)\n",
    "softmax = Softmax()\n",
    "loss = CrossEntropy()\n",
    "\n",
    "nn = NeuralNetwork([embed, att1, ff1, att2, ff2, un_embed, softmax])\n",
    "\n",
    "data = get_train_test_sorting(r, m, samples_per_batch=250,n_batches_train=20, n_batches_test=4)\n",
    "\n",
    "x_train = data['x_train']\n",
    "y_train = data['y_train']\n",
    "x_test = data['x_test']\n",
    "y_test = data['y_test']"
   ]
  },
  {
   "cell_type": "markdown",
   "metadata": {},
   "source": [
    "La oss prøve å trene!"
   ]
  },
  {
   "cell_type": "code",
   "execution_count": 8,
   "metadata": {},
   "outputs": [
    {
     "name": "stdout",
     "output_type": "stream",
     "text": [
      "Iterasjon  1  L =  0.6801923894283891 \n",
      "Iterasjon  2  L =  0.6427449465109392 \n",
      "Iterasjon  3  L =  0.5718543545982874 \n",
      "Iterasjon  4  L =  0.45824030995857096 \n",
      "Iterasjon  5  L =  0.32756785265429006 \n",
      "Iterasjon  6  L =  0.21285531408333114 \n",
      "Iterasjon  7  L =  0.14675211501860524 \n",
      "Iterasjon  8  L =  0.10163835987890413 \n",
      "Iterasjon  9  L =  0.07222549536707805 \n",
      "Iterasjon  10  L =  0.038378811248403824 \n",
      "Iterasjon  11  L =  0.017615899265742273 \n",
      "Iterasjon  12  L =  0.005329992724304766 \n",
      "Iterasjon  13  L =  0.002191976231953854 \n",
      "Iterasjon  14  L =  0.0012884747378266322 \n",
      "Iterasjon  15  L =  0.0009194438895090706 \n"
     ]
    },
    {
     "ename": "KeyboardInterrupt",
     "evalue": "",
     "output_type": "error",
     "traceback": [
      "\u001b[0;31m---------------------------------------------------------------------------\u001b[0m",
      "\u001b[0;31mKeyboardInterrupt\u001b[0m                         Traceback (most recent call last)",
      "Cell \u001b[0;32mIn[8], line 1\u001b[0m\n\u001b[0;32m----> 1\u001b[0m losses \u001b[38;5;241m=\u001b[39m \u001b[43mtest_Adam\u001b[49m\u001b[43m(\u001b[49m\u001b[43mnn\u001b[49m\u001b[43m,\u001b[49m\u001b[43m \u001b[49m\u001b[43mdata\u001b[49m\u001b[43m[\u001b[49m\u001b[38;5;124;43m'\u001b[39;49m\u001b[38;5;124;43mx_train\u001b[39;49m\u001b[38;5;124;43m'\u001b[39;49m\u001b[43m]\u001b[49m\u001b[43m,\u001b[49m\u001b[43m \u001b[49m\u001b[43mdata\u001b[49m\u001b[43m[\u001b[49m\u001b[38;5;124;43m'\u001b[39;49m\u001b[38;5;124;43my_train\u001b[39;49m\u001b[38;5;124;43m'\u001b[39;49m\u001b[43m]\u001b[49m\u001b[43m,\u001b[49m\u001b[43m \u001b[49m\u001b[38;5;241;43m100\u001b[39;49m\u001b[43m,\u001b[49m\u001b[43m \u001b[49m\u001b[38;5;241;43m0.001\u001b[39;49m\u001b[43m,\u001b[49m\u001b[43m \u001b[49m\u001b[43mm\u001b[49m\u001b[43m,\u001b[49m\u001b[43m \u001b[49m\u001b[38;5;241;43m4\u001b[39;49m\u001b[43m,\u001b[49m\u001b[43m \u001b[49m\u001b[38;5;241;43m9\u001b[39;49m\u001b[43m)\u001b[49m\n",
      "Cell \u001b[0;32mIn[6], line 11\u001b[0m, in \u001b[0;36mtest_Adam\u001b[0;34m(nn, x_data, y_data, n_iters, step_size, m, start, stop)\u001b[0m\n\u001b[1;32m      8\u001b[0m y \u001b[38;5;241m=\u001b[39m y_data[i][:,start:stop]\n\u001b[1;32m     10\u001b[0m X \u001b[38;5;241m=\u001b[39m onehot(x,m)\n\u001b[0;32m---> 11\u001b[0m Z \u001b[38;5;241m=\u001b[39m \u001b[43mnn\u001b[49m\u001b[38;5;241;43m.\u001b[39;49m\u001b[43mforward\u001b[49m\u001b[43m(\u001b[49m\u001b[43mX\u001b[49m\u001b[43m)\u001b[49m\n\u001b[1;32m     13\u001b[0m losses\u001b[38;5;241m.\u001b[39mappend(loss\u001b[38;5;241m.\u001b[39mforward(Z,y))\n\u001b[1;32m     14\u001b[0m dLdZ \u001b[38;5;241m=\u001b[39m loss\u001b[38;5;241m.\u001b[39mbackward()\n",
      "File \u001b[0;32m~/Documents/Fag/Vitber/TMA4320-Prosjekt-2/neural_network.py:17\u001b[0m, in \u001b[0;36mNeuralNetwork.forward\u001b[0;34m(self, x)\u001b[0m\n\u001b[1;32m     14\u001b[0m \u001b[38;5;28;01mdef\u001b[39;00m \u001b[38;5;21mforward\u001b[39m(\u001b[38;5;28mself\u001b[39m,x):\n\u001b[1;32m     15\u001b[0m     \u001b[38;5;66;03m#Recursively perform forward pass from initial input x\u001b[39;00m\n\u001b[1;32m     16\u001b[0m     \u001b[38;5;28;01mfor\u001b[39;00m layer \u001b[38;5;129;01min\u001b[39;00m \u001b[38;5;28mself\u001b[39m\u001b[38;5;241m.\u001b[39mlayers:\n\u001b[0;32m---> 17\u001b[0m         x \u001b[38;5;241m=\u001b[39m \u001b[43mlayer\u001b[49m\u001b[38;5;241;43m.\u001b[39;49m\u001b[43mforward\u001b[49m\u001b[43m(\u001b[49m\u001b[43mx\u001b[49m\u001b[43m)\u001b[49m\n\u001b[1;32m     18\u001b[0m     \u001b[38;5;28;01mreturn\u001b[39;00m x\n",
      "File \u001b[0;32m~/Documents/Fag/Vitber/TMA4320-Prosjekt-2/layers.py:92\u001b[0m, in \u001b[0;36mAttention.forward\u001b[0;34m(self, z)\u001b[0m\n\u001b[1;32m     89\u001b[0m \u001b[38;5;28mself\u001b[39m\u001b[38;5;241m.\u001b[39mz \u001b[38;5;241m=\u001b[39m z\n\u001b[1;32m     91\u001b[0m \u001b[38;5;66;03m#Utfører operasjonen z^T @ W_Q^T @ W_K @ z\u001b[39;00m\n\u001b[0;32m---> 92\u001b[0m B \u001b[38;5;241m=\u001b[39m \u001b[43mnp\u001b[49m\u001b[38;5;241;43m.\u001b[39;49m\u001b[43meinsum\u001b[49m\u001b[43m(\u001b[49m\u001b[38;5;124;43m'\u001b[39;49m\u001b[38;5;124;43mbij,ki,kl,blm->bjm\u001b[39;49m\u001b[38;5;124;43m'\u001b[39;49m\u001b[43m,\u001b[49m\u001b[43m \u001b[49m\u001b[38;5;28;43mself\u001b[39;49m\u001b[38;5;241;43m.\u001b[39;49m\u001b[43mz\u001b[49m\u001b[43m,\u001b[49m\u001b[43m \u001b[49m\u001b[38;5;28;43mself\u001b[39;49m\u001b[38;5;241;43m.\u001b[39;49m\u001b[43mparams\u001b[49m\u001b[43m[\u001b[49m\u001b[38;5;124;43m'\u001b[39;49m\u001b[38;5;124;43mwq\u001b[39;49m\u001b[38;5;124;43m'\u001b[39;49m\u001b[43m]\u001b[49m\u001b[43m[\u001b[49m\u001b[38;5;124;43m'\u001b[39;49m\u001b[38;5;124;43mw\u001b[39;49m\u001b[38;5;124;43m'\u001b[39;49m\u001b[43m]\u001b[49m\u001b[43m,\u001b[49m\u001b[43m \u001b[49m\u001b[38;5;28;43mself\u001b[39;49m\u001b[38;5;241;43m.\u001b[39;49m\u001b[43mparams\u001b[49m\u001b[43m[\u001b[49m\u001b[38;5;124;43m'\u001b[39;49m\u001b[38;5;124;43mwk\u001b[39;49m\u001b[38;5;124;43m'\u001b[39;49m\u001b[43m]\u001b[49m\u001b[43m[\u001b[49m\u001b[38;5;124;43m'\u001b[39;49m\u001b[38;5;124;43mw\u001b[39;49m\u001b[38;5;124;43m'\u001b[39;49m\u001b[43m]\u001b[49m\u001b[43m,\u001b[49m\u001b[43m \u001b[49m\u001b[38;5;28;43mself\u001b[39;49m\u001b[38;5;241;43m.\u001b[39;49m\u001b[43mz\u001b[49m\u001b[43m,\u001b[49m\u001b[43m \u001b[49m\u001b[43moptimize\u001b[49m\u001b[38;5;241;43m=\u001b[39;49m\u001b[38;5;28;43;01mTrue\u001b[39;49;00m\u001b[43m)\u001b[49m\n\u001b[1;32m     94\u001b[0m \u001b[38;5;66;03m#setter nedre triangularen til B til -inf\u001b[39;00m\n\u001b[1;32m     95\u001b[0m i1, i2 \u001b[38;5;241m=\u001b[39m np\u001b[38;5;241m.\u001b[39mtril_indices(B\u001b[38;5;241m.\u001b[39mshape[\u001b[38;5;241m1\u001b[39m],\u001b[38;5;241m-\u001b[39m\u001b[38;5;241m1\u001b[39m)\n",
      "File \u001b[0;32m<__array_function__ internals>:200\u001b[0m, in \u001b[0;36meinsum\u001b[0;34m(*args, **kwargs)\u001b[0m\n",
      "File \u001b[0;32m/usr/local/lib/python3.11/site-packages/numpy/core/einsumfunc.py:1383\u001b[0m, in \u001b[0;36meinsum\u001b[0;34m(out, optimize, *operands, **kwargs)\u001b[0m\n\u001b[1;32m   1379\u001b[0m     \u001b[38;5;28;01mraise\u001b[39;00m \u001b[38;5;167;01mTypeError\u001b[39;00m(\u001b[38;5;124m\"\u001b[39m\u001b[38;5;124mDid not understand the following kwargs: \u001b[39m\u001b[38;5;132;01m%s\u001b[39;00m\u001b[38;5;124m\"\u001b[39m\n\u001b[1;32m   1380\u001b[0m                     \u001b[38;5;241m%\u001b[39m unknown_kwargs)\n\u001b[1;32m   1382\u001b[0m \u001b[38;5;66;03m# Build the contraction list and operand\u001b[39;00m\n\u001b[0;32m-> 1383\u001b[0m operands, contraction_list \u001b[38;5;241m=\u001b[39m \u001b[43meinsum_path\u001b[49m\u001b[43m(\u001b[49m\u001b[38;5;241;43m*\u001b[39;49m\u001b[43moperands\u001b[49m\u001b[43m,\u001b[49m\u001b[43m \u001b[49m\u001b[43moptimize\u001b[49m\u001b[38;5;241;43m=\u001b[39;49m\u001b[43moptimize\u001b[49m\u001b[43m,\u001b[49m\n\u001b[1;32m   1384\u001b[0m \u001b[43m                                         \u001b[49m\u001b[43meinsum_call\u001b[49m\u001b[38;5;241;43m=\u001b[39;49m\u001b[38;5;28;43;01mTrue\u001b[39;49;00m\u001b[43m)\u001b[49m\n\u001b[1;32m   1386\u001b[0m \u001b[38;5;66;03m# Handle order kwarg for output array, c_einsum allows mixed case\u001b[39;00m\n\u001b[1;32m   1387\u001b[0m output_order \u001b[38;5;241m=\u001b[39m kwargs\u001b[38;5;241m.\u001b[39mpop(\u001b[38;5;124m'\u001b[39m\u001b[38;5;124morder\u001b[39m\u001b[38;5;124m'\u001b[39m, \u001b[38;5;124m'\u001b[39m\u001b[38;5;124mK\u001b[39m\u001b[38;5;124m'\u001b[39m)\n",
      "File \u001b[0;32m<__array_function__ internals>:200\u001b[0m, in \u001b[0;36meinsum_path\u001b[0;34m(*args, **kwargs)\u001b[0m\n",
      "File \u001b[0;32m/usr/local/lib/python3.11/site-packages/numpy/core/einsumfunc.py:912\u001b[0m, in \u001b[0;36meinsum_path\u001b[0;34m(optimize, einsum_call, *operands)\u001b[0m\n\u001b[1;32m    910\u001b[0m     path \u001b[38;5;241m=\u001b[39m [\u001b[38;5;28mtuple\u001b[39m(\u001b[38;5;28mrange\u001b[39m(\u001b[38;5;28mlen\u001b[39m(input_list)))]\n\u001b[1;32m    911\u001b[0m \u001b[38;5;28;01melif\u001b[39;00m path_type \u001b[38;5;241m==\u001b[39m \u001b[38;5;124m\"\u001b[39m\u001b[38;5;124mgreedy\u001b[39m\u001b[38;5;124m\"\u001b[39m:\n\u001b[0;32m--> 912\u001b[0m     path \u001b[38;5;241m=\u001b[39m \u001b[43m_greedy_path\u001b[49m\u001b[43m(\u001b[49m\u001b[43minput_sets\u001b[49m\u001b[43m,\u001b[49m\u001b[43m \u001b[49m\u001b[43moutput_set\u001b[49m\u001b[43m,\u001b[49m\u001b[43m \u001b[49m\u001b[43mdimension_dict\u001b[49m\u001b[43m,\u001b[49m\u001b[43m \u001b[49m\u001b[43mmemory_arg\u001b[49m\u001b[43m)\u001b[49m\n\u001b[1;32m    913\u001b[0m \u001b[38;5;28;01melif\u001b[39;00m path_type \u001b[38;5;241m==\u001b[39m \u001b[38;5;124m\"\u001b[39m\u001b[38;5;124moptimal\u001b[39m\u001b[38;5;124m\"\u001b[39m:\n\u001b[1;32m    914\u001b[0m     path \u001b[38;5;241m=\u001b[39m _optimal_path(input_sets, output_set, dimension_dict, memory_arg)\n",
      "File \u001b[0;32m/usr/local/lib/python3.11/site-packages/numpy/core/einsumfunc.py:374\u001b[0m, in \u001b[0;36m_greedy_path\u001b[0;34m(input_sets, output_set, idx_dict, memory_limit)\u001b[0m\n\u001b[1;32m    371\u001b[0m \u001b[38;5;28;01mif\u001b[39;00m input_sets[positions[\u001b[38;5;241m0\u001b[39m]]\u001b[38;5;241m.\u001b[39misdisjoint(input_sets[positions[\u001b[38;5;241m1\u001b[39m]]):\n\u001b[1;32m    372\u001b[0m     \u001b[38;5;28;01mcontinue\u001b[39;00m\n\u001b[0;32m--> 374\u001b[0m result \u001b[38;5;241m=\u001b[39m \u001b[43m_parse_possible_contraction\u001b[49m\u001b[43m(\u001b[49m\u001b[43mpositions\u001b[49m\u001b[43m,\u001b[49m\u001b[43m \u001b[49m\u001b[43minput_sets\u001b[49m\u001b[43m,\u001b[49m\u001b[43m \u001b[49m\u001b[43moutput_set\u001b[49m\u001b[43m,\u001b[49m\u001b[43m \u001b[49m\u001b[43midx_dict\u001b[49m\u001b[43m,\u001b[49m\u001b[43m \u001b[49m\u001b[43mmemory_limit\u001b[49m\u001b[43m,\u001b[49m\u001b[43m \u001b[49m\u001b[43mpath_cost\u001b[49m\u001b[43m,\u001b[49m\n\u001b[1;32m    375\u001b[0m \u001b[43m                                     \u001b[49m\u001b[43mnaive_cost\u001b[49m\u001b[43m)\u001b[49m\n\u001b[1;32m    376\u001b[0m \u001b[38;5;28;01mif\u001b[39;00m result \u001b[38;5;129;01mis\u001b[39;00m \u001b[38;5;129;01mnot\u001b[39;00m \u001b[38;5;28;01mNone\u001b[39;00m:\n\u001b[1;32m    377\u001b[0m     known_contractions\u001b[38;5;241m.\u001b[39mappend(result)\n",
      "File \u001b[0;32m/usr/local/lib/python3.11/site-packages/numpy/core/einsumfunc.py:258\u001b[0m, in \u001b[0;36m_parse_possible_contraction\u001b[0;34m(positions, input_sets, output_set, idx_dict, memory_limit, path_cost, naive_cost)\u001b[0m\n\u001b[1;32m    256\u001b[0m \u001b[38;5;66;03m# Build sort tuple\u001b[39;00m\n\u001b[1;32m    257\u001b[0m old_sizes \u001b[38;5;241m=\u001b[39m (_compute_size_by_dict(input_sets[p], idx_dict) \u001b[38;5;28;01mfor\u001b[39;00m p \u001b[38;5;129;01min\u001b[39;00m positions)\n\u001b[0;32m--> 258\u001b[0m removed_size \u001b[38;5;241m=\u001b[39m \u001b[38;5;28msum\u001b[39m(old_sizes) \u001b[38;5;241m-\u001b[39m new_size\n\u001b[1;32m    260\u001b[0m \u001b[38;5;66;03m# NB: removed_size used to be just the size of any removed indices i.e.:\u001b[39;00m\n\u001b[1;32m    261\u001b[0m \u001b[38;5;66;03m#     helpers.compute_size_by_dict(idx_removed, idx_dict)\u001b[39;00m\n\u001b[1;32m    262\u001b[0m cost \u001b[38;5;241m=\u001b[39m _flop_count(idx_contract, idx_removed, \u001b[38;5;28mlen\u001b[39m(positions), idx_dict)\n",
      "File \u001b[0;32m/usr/local/lib/python3.11/site-packages/numpy/core/einsumfunc.py:257\u001b[0m, in \u001b[0;36m<genexpr>\u001b[0;34m(.0)\u001b[0m\n\u001b[1;32m    254\u001b[0m     \u001b[38;5;28;01mreturn\u001b[39;00m \u001b[38;5;28;01mNone\u001b[39;00m\n\u001b[1;32m    256\u001b[0m \u001b[38;5;66;03m# Build sort tuple\u001b[39;00m\n\u001b[0;32m--> 257\u001b[0m old_sizes \u001b[38;5;241m=\u001b[39m (\u001b[43m_compute_size_by_dict\u001b[49m\u001b[43m(\u001b[49m\u001b[43minput_sets\u001b[49m\u001b[43m[\u001b[49m\u001b[43mp\u001b[49m\u001b[43m]\u001b[49m\u001b[43m,\u001b[49m\u001b[43m \u001b[49m\u001b[43midx_dict\u001b[49m\u001b[43m)\u001b[49m \u001b[38;5;28;01mfor\u001b[39;00m p \u001b[38;5;129;01min\u001b[39;00m positions)\n\u001b[1;32m    258\u001b[0m removed_size \u001b[38;5;241m=\u001b[39m \u001b[38;5;28msum\u001b[39m(old_sizes) \u001b[38;5;241m-\u001b[39m new_size\n\u001b[1;32m    260\u001b[0m \u001b[38;5;66;03m# NB: removed_size used to be just the size of any removed indices i.e.:\u001b[39;00m\n\u001b[1;32m    261\u001b[0m \u001b[38;5;66;03m#     helpers.compute_size_by_dict(idx_removed, idx_dict)\u001b[39;00m\n",
      "File \u001b[0;32m/usr/local/lib/python3.11/site-packages/numpy/core/einsumfunc.py:81\u001b[0m, in \u001b[0;36m_compute_size_by_dict\u001b[0;34m(indices, idx_dict)\u001b[0m\n\u001b[1;32m     79\u001b[0m ret \u001b[38;5;241m=\u001b[39m \u001b[38;5;241m1\u001b[39m\n\u001b[1;32m     80\u001b[0m \u001b[38;5;28;01mfor\u001b[39;00m i \u001b[38;5;129;01min\u001b[39;00m indices:\n\u001b[0;32m---> 81\u001b[0m     ret \u001b[38;5;241m*\u001b[39m\u001b[38;5;241m=\u001b[39m idx_dict[i]\n\u001b[1;32m     82\u001b[0m \u001b[38;5;28;01mreturn\u001b[39;00m ret\n",
      "\u001b[0;31mKeyboardInterrupt\u001b[0m: "
     ]
    }
   ],
   "source": [
    "losses = test_Adam(nn, data['x_train'], data['y_train'], 100, 0.001, m, 4, 9)"
   ]
  },
  {
   "cell_type": "markdown",
   "metadata": {},
   "source": [
    "Og så kan vi plotte hvordan lossfunksjonen har endret seg gjennom iterasjonene"
   ]
  },
  {
   "cell_type": "code",
   "execution_count": null,
   "metadata": {},
   "outputs": [
    {
     "data": {
      "image/png": "[encoded data removed]",
      "text/plain": [
       "<Figure size 432x288 with 1 Axes>"
      ]
     },
     "metadata": {
      "needs_background": "light"
     },
     "output_type": "display_data"
    },
    {
     "data": {
      "text/plain": [
       "<Figure size 1080x864 with 0 Axes>"
      ]
     },
     "metadata": {},
     "output_type": "display_data"
    }
   ],
   "source": [
    "plt.plot(np.arange(0,100), np.log(losses))\n",
    "plt.xlabel(\"Iterasjonnummer\")\n",
    "plt.ylabel(\"Logaritmen av loss-funksjon\")\n",
    "plt.title(\"Minimering ved antall iterasjoner\")\n",
    "plt.figure(figsize=(15,12))\n",
    "plt.show()"
   ]
  },
  {
   "cell_type": "markdown",
   "metadata": {},
   "source": [
    "#### Tester for en iterasjon for å se om den greier å predikere neste verdi"
   ]
  },
  {
   "cell_type": "code",
   "execution_count": null,
   "metadata": {},
   "outputs": [
    {
     "name": "stdout",
     "output_type": "stream",
     "text": [
      "[[1 0 0 0 0]]\n"
     ]
    }
   ],
   "source": [
    "x = np.array([[1, 0 ,0, 1, 0]])\n",
    "X = onehot(x, m)\n",
    "\n",
    "#forward pass\n",
    "Z = nn.forward(X)\n",
    "z_hat = np.argmax(Z, axis=1)\n",
    "\n",
    "print(z_hat)"
   ]
  },
  {
   "cell_type": "markdown",
   "metadata": {},
   "source": [
    "Når vi sender inn arrayet [1, 0, 0, 1, 1], vil vi ved å sende det gjennom algoritmen få predikert den første predikerte verdien som det siste elementet i det returnerte arrayet, som beskrevet i avsnitt 1.2. Siden algoritmen sorterer verdiene i arrayet bestående av 0 og 1, forventer vi at det første sifferet i det sorterte arrayet blir 0. Deretter, for å predikere resten av sekvensen, mater vi inn det siste elementet i det predikerte arrayet tilbake inn i arrayet vi sender gjennom 'forward'-steget, og fortsetter prediksjonen derfra."
   ]
  },
  {
   "cell_type": "markdown",
   "metadata": {},
   "source": [
    "Videre er det nyttig med en funksjon som kan gir inn testdataen til nettverket vårt, og så en funksjon som teller antall riktige prediksjoner."
   ]
  },
  {
   "cell_type": "code",
   "execution_count": 24,
   "metadata": {},
   "outputs": [],
   "source": [
    "#funksjon for å predikere data\n",
    "def predict(nn: NeuralNetwork, x_test, m, r):\n",
    "    predictions = []\n",
    "    for i in range(x_test.shape[0]):\n",
    "        x = x_test[i]\n",
    "        for n in range(r):\n",
    "            X = onehot(x, m)\n",
    "            Z = nn.forward(X)\n",
    "            z = np.argmax(Z, axis=1)\n",
    "            x = np.append(x, z[:,-1:], axis=1)\n",
    "        predictions.append(x[:,-r:])\n",
    "    return np.array(predictions)\n",
    "\n",
    "def countCorrect(y_hat, y):\n",
    "    batches = y_hat.shape[0]\n",
    "    samples = y_hat[0].shape[0]\n",
    "\n",
    "    counter = 0\n",
    "    total = samples*batches\n",
    "\n",
    "    for b in range(batches):\n",
    "        for i in range(samples):\n",
    "            if np.sum(y_hat[b,i] - y[b,i]) == 0:\n",
    "                counter += 1\n",
    "\n",
    "    return counter, total, (counter/total)*100\n"
   ]
  },
  {
   "cell_type": "markdown",
   "metadata": {},
   "source": [
    "Så kan vi se hvorvidt nettverket vårt klarer å sortere eller ikke."
   ]
  },
  {
   "cell_type": "code",
   "execution_count": null,
   "metadata": {},
   "outputs": [
    {
     "name": "stdout",
     "output_type": "stream",
     "text": [
      "Antall rette prediksjoner: 1000\n",
      "Totalt antall prediksjoner: 1000\n",
      "Prosentvis riktige predikasjoner: 100.0 %\n"
     ]
    }
   ],
   "source": [
    "\n",
    "y_hats = predict(nn, x_test, 2, 5)\n",
    "\n",
    "\n",
    "corr, total, percent = countCorrect(y_hats, y_test)\n",
    "\n",
    "print(\"Antall rette prediksjoner:\", corr)\n",
    "print(\"Totalt antall prediksjoner:\", total)\n",
    "print(\"Prosentvis riktige predikasjoner:\", percent, \"%\")\n"
   ]
  },
  {
   "cell_type": "markdown",
   "metadata": {},
   "source": [
    "Når to forskjellige verdier kan forekomme på fem ulike steder, resulterer dette i totalt $32$ mulige kombinasjoner ($2^5 = 32$). Denne mangfoldigheten gjør det praktisk talt umulig å teste algoritmen vår med nye sekvenser. Ideelt sett ville tapet tendert mot null, og prediksjonene ville vært korrekte hver gang, siden algoritmen burde gjenkjenne det riktige svaret ($y$) i stedet for å forutsi neste sekvens. Dette antyder at vektene våre kanskje ikke er optimalt tilpasset."
   ]
  },
  {
   "cell_type": "code",
   "execution_count": null,
   "metadata": {},
   "outputs": [],
   "source": [
    "#definerer variabler\n",
    "r = 7\n",
    "m = 5\n",
    "n_max = 2*r-1\n",
    "\n",
    "d = 20\n",
    "k = 10\n",
    "p = 25\n",
    "L = 2\n",
    "\n",
    "embed = EmbedPosition(n_max,m,d)\n",
    "att1 = Attention(d,k)\n",
    "att2 = Attention(d,k)\n",
    "\n",
    "ff1 = FeedForward(d,p)\n",
    "ff2 = FeedForward(d,p)\n",
    "\n",
    "un_embed = LinearLayer(d,m)\n",
    "softmax = Softmax()\n",
    "loss = CrossEntropy()\n",
    "\n",
    "nn = NeuralNetwork([embed, att1, ff1, att2, ff2, un_embed, softmax])\n",
    "\n",
    "data = get_train_test_sorting(r, m, samples_per_batch=250,n_batches_train=10, n_batches_test=4)\n",
    "\n",
    "x_train = data['x_train']\n",
    "y_train = data['y_train']\n",
    "x_test = data['x_test']\n",
    "y_test = data['y_test']\n"
   ]
  },
  {
   "cell_type": "code",
   "execution_count": null,
   "metadata": {},
   "outputs": [
    {
     "name": "stdout",
     "output_type": "stream",
     "text": [
      "Iterasjon  1  L =  1.59766892050204 \n",
      "Iterasjon  2  L =  1.5657576742992376 \n",
      "Iterasjon  3  L =  1.5274375412562797 \n",
      "Iterasjon  4  L =  1.4751997581361642 \n",
      "Iterasjon  5  L =  1.395494404457662 \n",
      "Iterasjon  6  L =  1.2707550081689698 \n",
      "Iterasjon  7  L =  1.1099041133090926 \n",
      "Iterasjon  8  L =  0.9576243159242672 \n",
      "Iterasjon  9  L =  0.8323718182047619 \n",
      "Iterasjon  10  L =  0.7461656331557348 \n",
      "Iterasjon  11  L =  0.711963918514504 \n",
      "Iterasjon  12  L =  0.7072141164746131 \n",
      "Iterasjon  13  L =  0.6976256286269553 \n",
      "Iterasjon  14  L =  0.6933364626505066 \n",
      "Iterasjon  15  L =  0.6497495677647909 \n",
      "Iterasjon  16  L =  0.61418453821642 \n",
      "Iterasjon  17  L =  0.5864501371617543 \n",
      "Iterasjon  18  L =  0.5627283802519337 \n",
      "Iterasjon  19  L =  0.537514925708983 \n",
      "Iterasjon  20  L =  0.5200048731787301 \n",
      "Iterasjon  21  L =  0.5057346355401792 \n",
      "Iterasjon  22  L =  0.5007129928724587 \n",
      "Iterasjon  23  L =  0.5027278260428736 \n",
      "Iterasjon  24  L =  0.5077423595430377 \n",
      "Iterasjon  25  L =  0.5040538968052367 \n",
      "Iterasjon  26  L =  0.4929191382399375 \n",
      "Iterasjon  27  L =  0.4763873518974635 \n",
      "Iterasjon  28  L =  0.4471839922178672 \n",
      "Iterasjon  29  L =  0.4323542804651005 \n",
      "Iterasjon  30  L =  0.41268926542940665 \n",
      "Iterasjon  31  L =  0.4070945521617987 \n",
      "Iterasjon  32  L =  0.39678180667786955 \n",
      "Iterasjon  33  L =  0.38704272711345517 \n",
      "Iterasjon  34  L =  0.3801071813665279 \n",
      "Iterasjon  35  L =  0.3661272597726469 \n",
      "Iterasjon  36  L =  0.3578942457499661 \n",
      "Iterasjon  37  L =  0.3393944475988815 \n",
      "Iterasjon  38  L =  0.33997199927495725 \n",
      "Iterasjon  39  L =  0.3277598982543085 \n",
      "Iterasjon  40  L =  0.329726747821324 \n",
      "Iterasjon  41  L =  0.31162765557532474 \n",
      "Iterasjon  42  L =  0.3014847592296598 \n",
      "Iterasjon  43  L =  0.2884799164836996 \n",
      "Iterasjon  44  L =  0.27631808008250863 \n",
      "Iterasjon  45  L =  0.2621475246662855 \n",
      "Iterasjon  46  L =  0.2528189973248372 \n",
      "Iterasjon  47  L =  0.2453256350314832 \n",
      "Iterasjon  48  L =  0.2350943272110503 \n",
      "Iterasjon  49  L =  0.232835914813624 \n",
      "Iterasjon  50  L =  0.23453203401780615 \n",
      "Iterasjon  51  L =  0.26228399441153455 \n",
      "Iterasjon  52  L =  0.27699257268743993 \n",
      "Iterasjon  53  L =  0.2901485694395595 \n",
      "Iterasjon  54  L =  0.2843455989732019 \n",
      "Iterasjon  55  L =  0.28218926309432746 \n",
      "Iterasjon  56  L =  0.255739571503043 \n",
      "Iterasjon  57  L =  0.23712804044008307 \n",
      "Iterasjon  58  L =  0.2143409234691589 \n",
      "Iterasjon  59  L =  0.20241760103696307 \n",
      "Iterasjon  60  L =  0.1909914253071578 \n",
      "Iterasjon  61  L =  0.17935553074766022 \n",
      "Iterasjon  62  L =  0.17025423445833962 \n",
      "Iterasjon  63  L =  0.16100818380098536 \n",
      "Iterasjon  64  L =  0.15288491864259257 \n",
      "Iterasjon  65  L =  0.1420727512986594 \n",
      "Iterasjon  66  L =  0.13371627150705997 \n",
      "Iterasjon  67  L =  0.12504545357739852 \n",
      "Iterasjon  68  L =  0.12104812244735738 \n",
      "Iterasjon  69  L =  0.11725410471195183 \n",
      "Iterasjon  70  L =  0.11793972541334699 \n",
      "Iterasjon  71  L =  0.12291133067291722 \n",
      "Iterasjon  72  L =  0.13862905877994464 \n",
      "Iterasjon  73  L =  0.15352336252703008 \n",
      "Iterasjon  74  L =  0.1752860654373592 \n",
      "Iterasjon  75  L =  0.1800710668927393 \n",
      "Iterasjon  76  L =  0.18747533093459795 \n",
      "Iterasjon  77  L =  0.22134187106168465 \n",
      "Iterasjon  78  L =  0.2647500303267254 \n",
      "Iterasjon  79  L =  0.2822095872369827 \n",
      "Iterasjon  80  L =  0.2598087504496024 \n",
      "Iterasjon  81  L =  0.23084625934156366 \n",
      "Iterasjon  82  L =  0.18594544348377715 \n",
      "Iterasjon  83  L =  0.163052039024686 \n",
      "Iterasjon  84  L =  0.14752097965402824 \n",
      "Iterasjon  85  L =  0.13932767176031244 \n",
      "Iterasjon  86  L =  0.12027954485914678 \n",
      "Iterasjon  87  L =  0.10261062292270424 \n",
      "Iterasjon  88  L =  0.08949506636917606 \n",
      "Iterasjon  89  L =  0.08363668385976955 \n",
      "Iterasjon  90  L =  0.07710502252424238 \n",
      "Iterasjon  91  L =  0.0704879360793396 \n",
      "Iterasjon  92  L =  0.06582320717296009 \n",
      "Iterasjon  93  L =  0.06148392429879214 \n",
      "Iterasjon  94  L =  0.058954061767968004 \n",
      "Iterasjon  95  L =  0.054672315813979355 \n",
      "Iterasjon  96  L =  0.052609814369479105 \n",
      "Iterasjon  97  L =  0.04941242690581147 \n",
      "Iterasjon  98  L =  0.047953799125526206 \n",
      "Iterasjon  99  L =  0.04541580371381697 \n",
      "Iterasjon  100  L =  0.04417958653258867 \n"
     ]
    }
   ],
   "source": [
    "losses = test_Adam(nn, data['x_train'], data['y_train'], 100, 0.001, m, 6, 13)"
   ]
  },
  {
   "cell_type": "code",
   "execution_count": null,
   "metadata": {},
   "outputs": [
    {
     "data": {
      "image/png": "[encoded data removed]",
      "text/plain": [
       "<Figure size 432x288 with 1 Axes>"
      ]
     },
     "metadata": {
      "needs_background": "light"
     },
     "output_type": "display_data"
    },
    {
     "data": {
      "text/plain": [
       "<Figure size 1080x864 with 0 Axes>"
      ]
     },
     "metadata": {},
     "output_type": "display_data"
    }
   ],
   "source": [
    "#Plotter loss-funksjonen per itterasjon\n",
    "plt.plot(np.arange(0,100), np.log(losses))\n",
    "plt.xlabel(\"Iterasjonnummer\")\n",
    "plt.ylabel(\"Logaritmen av loss-funksjon\")\n",
    "plt.title(\"Minimering ved antall iterasjoner\")\n",
    "plt.figure(figsize=(15,12))\n",
    "plt.show()"
   ]
  },
  {
   "cell_type": "code",
   "execution_count": null,
   "metadata": {},
   "outputs": [
    {
     "name": "stdout",
     "output_type": "stream",
     "text": [
      "Antall rette prediksjoner: 1000\n",
      "Totalt antall prediksjoner: 1000\n",
      "Prosentvis riktige predikasjoner: 100.0 %\n"
     ]
    }
   ],
   "source": [
    "#Henter prediksjonsfunksjonen\n",
    "y_hats = predict(nn, x_test, 5, 7)\n",
    "\n",
    "corr, total, percent = countCorrect(y_hats, y_test)\n",
    "#Printer andel riktige prediksjoner\n",
    "print(\"Antall rette prediksjoner:\", corr)\n",
    "print(\"Totalt antall prediksjoner:\", total)\n",
    "print(\"Prosentvis riktige predikasjoner:\", percent, \"%\")\n"
   ]
  },
  {
   "cell_type": "code",
   "execution_count": 3,
   "metadata": {},
   "outputs": [],
   "source": [
    "from data_generators import get_train_test_addition\n",
    "#definerer variabler\n",
    "r = 4\n",
    "m = 10\n",
    "n_max = 3*r\n",
    "\n",
    "d = 30\n",
    "k = 20\n",
    "p = 40\n",
    "L = 3\n",
    "\n",
    "#Lager 3 lag til nn\n",
    "att1 = Attention(d,k)\n",
    "att2 = Attention(d,k)\n",
    "att3 = Attention(d,k)\n",
    "\n",
    "ff1 = FeedForward(d,p)\n",
    "ff2 = FeedForward(d,p)\n",
    "ff3 = FeedForward(d,p)\n",
    "\n",
    "embed = EmbedPosition(n_max,m,d)\n",
    "un_embed = LinearLayer(d,m)\n",
    "softmax = Softmax()\n",
    "loss = CrossEntropy()\n",
    "\n",
    "#Lager det nevrale nettverket på nytt\n",
    "nn = NeuralNetwork([embed, att1, ff1, att2, ff2, att3, ff3, un_embed, softmax])\n",
    "#implementerer trenignsdata. 2 siffer i tallene vi adderer, 20 batches med 250 samples per batch, og 4 batches vi kan teste med\n",
    "data = get_train_test_addition(2, samples_per_batch=250,n_batches_train=20, n_batches_test=4)\n",
    "#Henter ut data\n",
    "x_train = data['x_train']\n",
    "y_train = data['y_train']\n",
    "x_test = data['x_test']\n",
    "y_test = data['y_test']"
   ]
  },
  {
   "cell_type": "code",
   "execution_count": 26,
   "metadata": {},
   "outputs": [
    {
     "name": "stdout",
     "output_type": "stream",
     "text": [
      "Iterasjon  1  L =  0.004359980422579887 \n",
      "Iterasjon  2  L =  0.003982853886257772 \n",
      "Iterasjon  3  L =  0.0036556834907025973 \n",
      "Iterasjon  4  L =  0.003370900999500467 \n",
      "Iterasjon  5  L =  0.0031136492869168163 \n",
      "Iterasjon  6  L =  0.0028867291614360037 \n",
      "Iterasjon  7  L =  0.0026852844726884756 \n",
      "Iterasjon  8  L =  0.00250372993107676 \n",
      "Iterasjon  9  L =  0.002339015934242471 \n",
      "Iterasjon  10  L =  0.002188563473125943 \n",
      "Iterasjon  11  L =  0.0020516667008946927 \n",
      "Iterasjon  12  L =  0.001927591835361123 \n",
      "Iterasjon  13  L =  0.0018134129361027686 \n",
      "Iterasjon  14  L =  0.001709288957449897 \n",
      "Iterasjon  15  L =  0.0016134351511538376 \n",
      "Iterasjon  16  L =  0.001525254456028125 \n",
      "Iterasjon  17  L =  0.0014439636975488823 \n",
      "Iterasjon  18  L =  0.0013689855479876276 \n",
      "Iterasjon  19  L =  0.0012997019548501689 \n",
      "Iterasjon  20  L =  0.001234978999223172 \n",
      "Iterasjon  21  L =  0.0011752206619567928 \n",
      "Iterasjon  22  L =  0.0011193597641150923 \n",
      "Iterasjon  23  L =  0.0010672520372146705 \n",
      "Iterasjon  24  L =  0.001018908981358695 \n",
      "Iterasjon  25  L =  0.0009735704477236859 \n",
      "Iterasjon  26  L =  0.0009312481564517324 \n",
      "Iterasjon  27  L =  0.0008915000146020518 \n",
      "Iterasjon  28  L =  0.0008539743398259019 \n",
      "Iterasjon  29  L =  0.0008188853428845308 \n",
      "Iterasjon  30  L =  0.0007857475454305263 \n",
      "Iterasjon  31  L =  0.0007546240573035329 \n",
      "Iterasjon  32  L =  0.0007250977709463185 \n",
      "Iterasjon  33  L =  0.0006972353303305371 \n",
      "Iterasjon  34  L =  0.0006709465164233817 \n",
      "Iterasjon  35  L =  0.0006460348423549375 \n",
      "Iterasjon  36  L =  0.0006225051613451119 \n",
      "Iterasjon  37  L =  0.0006001231495624748 \n",
      "Iterasjon  38  L =  0.0005788955194862929 \n",
      "Iterasjon  39  L =  0.0005587427798308063 \n",
      "Iterasjon  40  L =  0.0005395479458067486 \n",
      "Iterasjon  41  L =  0.0005213556680713314 \n",
      "Iterasjon  42  L =  0.0005039741356368802 \n",
      "Iterasjon  43  L =  0.00048743271586431026 \n",
      "Iterasjon  44  L =  0.0004716162906476504 \n",
      "Iterasjon  45  L =  0.00045651435643189446 \n",
      "Iterasjon  46  L =  0.0004420952545986106 \n",
      "Iterasjon  47  L =  0.00042833526762252517 \n",
      "Iterasjon  48  L =  0.0004151074721442659 \n",
      "Iterasjon  49  L =  0.00040246148109561957 \n",
      "Iterasjon  50  L =  0.00039035480252025797 \n",
      "Iterasjon  51  L =  0.0003787364319594258 \n",
      "Iterasjon  52  L =  0.0003675876693198942 \n",
      "Iterasjon  53  L =  0.000356878705123964 \n",
      "Iterasjon  54  L =  0.00034664375569639575 \n",
      "Iterasjon  55  L =  0.0003367690642520181 \n",
      "Iterasjon  56  L =  0.0003272819983763743 \n",
      "Iterasjon  57  L =  0.00031817086606422153 \n",
      "Iterasjon  58  L =  0.00030940362494515105 \n",
      "Iterasjon  59  L =  0.0003009874162627911 \n",
      "Iterasjon  60  L =  0.00029286891506128093 \n",
      "Iterasjon  61  L =  0.00028505034309399935 \n",
      "Iterasjon  62  L =  0.00027750982035126706 \n",
      "Iterasjon  63  L =  0.0002702490417974128 \n",
      "Iterasjon  64  L =  0.00026322228096976576 \n",
      "Iterasjon  65  L =  0.0002564249970743796 \n",
      "Iterasjon  66  L =  0.0002498932968036193 \n",
      "Iterasjon  67  L =  0.00024355690866978587 \n",
      "Iterasjon  68  L =  0.00023748065447333648 \n",
      "Iterasjon  69  L =  0.00023156267637997993 \n",
      "Iterasjon  70  L =  0.00022586387899904185 \n",
      "Iterasjon  71  L =  0.0002203335746690354 \n",
      "Iterasjon  72  L =  0.0002149816897338674 \n",
      "Iterasjon  73  L =  0.00020980000953572443 \n",
      "Iterasjon  74  L =  0.0002048015424112443 \n",
      "Iterasjon  75  L =  0.0001999410056668921 \n",
      "Iterasjon  76  L =  0.00019521397848797415 \n",
      "Iterasjon  77  L =  0.00019063072020386615 \n",
      "Iterasjon  78  L =  0.00018617784624606003 \n",
      "Iterasjon  79  L =  0.00018188353528688042 \n",
      "Iterasjon  80  L =  0.00017768680429412347 \n",
      "Iterasjon  81  L =  0.00017361505730320605 \n",
      "Iterasjon  82  L =  0.0001697001981429788 \n",
      "Iterasjon  83  L =  0.00016587207411206082 \n",
      "Iterasjon  84  L =  0.0001621621347285657 \n",
      "Iterasjon  85  L =  0.00015856675291204945 \n",
      "Iterasjon  86  L =  0.00015507401805618797 \n",
      "Iterasjon  87  L =  0.0001516699366737991 \n",
      "Iterasjon  88  L =  0.00014839013568014752 \n",
      "Iterasjon  89  L =  0.0001451712012212504 \n",
      "Iterasjon  90  L =  0.00014204784385398738 \n",
      "Iterasjon  91  L =  0.00013902275851433203 \n",
      "Iterasjon  92  L =  0.00013606320298541322 \n",
      "Iterasjon  93  L =  0.00013319775153503922 \n",
      "Iterasjon  94  L =  0.00013040558436136095 \n",
      "Iterasjon  95  L =  0.00012769410207707948 \n",
      "Iterasjon  96  L =  0.00012505547090242515 \n",
      "Iterasjon  97  L =  0.0001224767092994937 \n",
      "Iterasjon  98  L =  0.00011997345030289493 \n",
      "Iterasjon  99  L =  0.0001175411557117799 \n",
      "Iterasjon  100  L =  0.00011515598024338357 \n",
      "Iterasjon  101  L =  0.00011284126001346601 \n",
      "Iterasjon  102  L =  0.00011059287893963378 \n",
      "Iterasjon  103  L =  0.00010839664702035538 \n",
      "Iterasjon  104  L =  0.00010625692024396672 \n",
      "Iterasjon  105  L =  0.00010417486246163509 \n",
      "Iterasjon  106  L =  0.0001021427344822226 \n",
      "Iterasjon  107  L =  0.00010015805268665388 \n",
      "Iterasjon  108  L =  9.82309942223904e-05 \n",
      "Iterasjon  109  L =  9.634499462315442e-05 \n",
      "Iterasjon  110  L =  9.450735246989311e-05 \n",
      "Iterasjon  111  L =  9.270814563579571e-05 \n",
      "Iterasjon  112  L =  9.095206509048364e-05 \n",
      "Iterasjon  113  L =  8.925093221560452e-05 \n",
      "Iterasjon  114  L =  8.757158148433722e-05 \n",
      "Iterasjon  115  L =  8.594347926358948e-05 \n",
      "Iterasjon  116  L =  8.435037895286269e-05 \n",
      "Iterasjon  117  L =  8.278600607002558e-05 \n",
      "Iterasjon  118  L =  8.126987811149579e-05 \n",
      "Iterasjon  119  L =  7.977676759726128e-05 \n",
      "Iterasjon  120  L =  7.83207484353294e-05 \n",
      "Iterasjon  121  L =  7.689971157406795e-05 \n",
      "Iterasjon  122  L =  7.55067926365465e-05 \n",
      "Iterasjon  123  L =  7.41571706148266e-05 \n",
      "Iterasjon  124  L =  7.282746706801087e-05 \n",
      "Iterasjon  125  L =  7.152267822531377e-05 \n",
      "Iterasjon  126  L =  7.02593879970921e-05 \n",
      "Iterasjon  127  L =  6.901555931519212e-05 \n",
      "Iterasjon  128  L =  6.780002033301532e-05 \n",
      "Iterasjon  129  L =  6.660906450677011e-05 \n",
      "Iterasjon  130  L =  6.545306808626777e-05 \n",
      "Iterasjon  131  L =  6.431138337013855e-05 \n",
      "Iterasjon  132  L =  6.319390519985594e-05 \n",
      "Iterasjon  133  L =  6.210570180078866e-05 \n",
      "Iterasjon  134  L =  6.103469957548185e-05 \n",
      "Iterasjon  135  L =  5.998764720486514e-05 \n",
      "Iterasjon  136  L =  5.895898814361907e-05 \n",
      "Iterasjon  137  L =  5.795625505141172e-05 \n",
      "Iterasjon  138  L =  5.6977316853450114e-05 \n",
      "Iterasjon  139  L =  5.6010065801967086e-05 \n",
      "Iterasjon  140  L =  5.506996013541854e-05 \n",
      "Iterasjon  141  L =  5.4144662807256876e-05 \n",
      "Iterasjon  142  L =  5.3238184936001206e-05 \n",
      "Iterasjon  143  L =  5.234448536912903e-05 \n",
      "Iterasjon  144  L =  5.147685579923353e-05 \n",
      "Iterasjon  145  L =  5.0617609729156975e-05 \n",
      "Iterasjon  146  L =  4.978047887794857e-05 \n",
      "Iterasjon  147  L =  4.895459295470145e-05 \n",
      "Iterasjon  148  L =  4.815239094994209e-05 \n",
      "Iterasjon  149  L =  4.736312312032278e-05 \n",
      "Iterasjon  150  L =  4.658593116959848e-05 \n"
     ]
    }
   ],
   "source": [
    "losses = test_Adam(nn, data['x_train'], data['y_train'], 150, 0.001, m, 3, 6)"
   ]
  },
  {
   "cell_type": "code",
   "execution_count": 28,
   "metadata": {},
   "outputs": [
    {
     "data": {
      "image/png": "[encoded data removed]",
      "text/plain": [
       "<Figure size 432x288 with 1 Axes>"
      ]
     },
     "metadata": {
      "needs_background": "light"
     },
     "output_type": "display_data"
    },
    {
     "data": {
      "text/plain": [
       "<Figure size 1080x864 with 0 Axes>"
      ]
     },
     "metadata": {},
     "output_type": "display_data"
    }
   ],
   "source": [
    "#Plotter loss-funksjonen per itterasjon i en logaritmisk skala\n",
    "plt.plot(np.arange(0,150), np.log(losses))\n",
    "plt.xlabel(\"Iterasjonnummer\")\n",
    "plt.ylabel(\"Logaritmen av loss-funksjon\")\n",
    "plt.title(\"Minimering ved antall iterasjoner\")\n",
    "plt.figure(figsize=(15,12))\n",
    "plt.show()"
   ]
  },
  {
   "cell_type": "code",
   "execution_count": 29,
   "metadata": {},
   "outputs": [],
   "source": [
    "#funksjon for å predikere data\n",
    "def predict(nn: NeuralNetwork, x_test, m, r):\n",
    "    predictions = []\n",
    "    #Looper gjennom og predikerer som beskrevet i 1.2\n",
    "    for i in range(x_test.shape[0]):\n",
    "        x = x_test[i]\n",
    "        for n in range(r):\n",
    "            X = onehot(x, m)\n",
    "            Z = nn.forward(X)\n",
    "            z = np.argmax(Z, axis=1)\n",
    "            x = np.append(x, z[:,-1:], axis=1)\n",
    "        predictions.append(x[:,-r:])\n",
    "    return np.array(predictions)\n",
    "\n",
    "def countCorrect(y_hat, y):\n",
    "    batches = y_hat.shape[0]\n",
    "    samples = y_hat[0].shape[0]\n",
    "\n",
    "    counter = 0\n",
    "    total = samples*batches\n",
    "    #Ittererer gjennom prediksjoner og forventede svar og teller antall rette prediksjoner\n",
    "    for b in range(batches):\n",
    "        for i in range(samples):\n",
    "            #Tar ut og sammenlikner koresponderende siffer i prediksjon og treningsdata\n",
    "            if np.sum(y_hat[b,i] - np.flip(y[b,i])) == 0:\n",
    "                counter += 1\n",
    "\n",
    "    return counter, total, (counter/total)*100\n"
   ]
  },
  {
   "cell_type": "code",
   "execution_count": 30,
   "metadata": {},
   "outputs": [
    {
     "name": "stdout",
     "output_type": "stream",
     "text": [
      "Antall rette prediksjoner: 999\n",
      "Totalt antall prediksjoner: 1000\n",
      "Prosentvis riktige predikasjoner: 99.9 %\n"
     ]
    }
   ],
   "source": [
    "#Beregner antall riktige prediksjoner av testdataen opp mot testdataen\n",
    "y_hats = predict(nn, x_test, 10, 3)\n",
    "\n",
    "corr, total, percent = countCorrect(y_hats, y_test)\n",
    "\n",
    "print(\"Antall rette prediksjoner:\", corr)\n",
    "print(\"Totalt antall prediksjoner:\", total)\n",
    "print(\"Prosentvis riktige predikasjoner:\", percent, \"%\")\n"
   ]
  }
 ],
 "metadata": {
  "kernelspec": {
   "display_name": "Python 3",
   "language": "python",
   "name": "python3"
  },
  "language_info": {
   "codemirror_mode": {
    "name": "ipython",
    "version": 3
   },
   "file_extension": ".py",
   "mimetype": "text/x-python",
   "name": "python",
   "nbconvert_exporter": "python",
   "pygments_lexer": "ipython3",
   "version": "3.9.12"
  }
 },
 "nbformat": 4,
 "nbformat_minor": 2
}
