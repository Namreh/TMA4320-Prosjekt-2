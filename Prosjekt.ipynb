{
 "cells": [
  {
   "cell_type": "markdown",
   "metadata": {},
   "source": [
    "# Indmat prosjekt\n",
    "###### Liva Berge Flo, André Pettersen-Dahl, Herman Neple\n",
    "\n",
    "#### Oppgave 1"
   ]
  },
  {
   "cell_type": "markdown",
   "metadata": {},
   "source": [
    "1.1"
   ]
  },
  {
   "cell_type": "markdown",
   "metadata": {},
   "source": [
    "En transformermodell skal trenes opp til å forsøke å predikere et heltall $d$, hvor $d = a \\cdot b + c$, hvor $a$ og $c$ er tosifrede heltall og $b$ er et ettsifret heltall. Vi kan se på et eksempel på et datasett som kan brukes for å trene opp modellen."
   ]
  },
  {
   "cell_type": "markdown",
   "metadata": {},
   "source": [
    "Vi kan la\n",
    "\\begin{align*}\n",
    "    r &= 2,   a = 28,  \n",
    " b = 4,   c = 18,   d = 130, \\\\\n",
    "\\end{align*}\n",
    "Input $x$ vil være tallene $a$, $b$ og $c$. I tillegg vil de første sifferne i $d$ være inkludert i input, fordi vi ønsker at transformermodellen skal trenes opp til å finne det siste sifferet i $d$. Output $y$ vil være tallet $d$ som man ønsker å predikere. Dermed har vi altså\n",
    "\n",
    "\\begin{align*}\n",
    "    x &= [2,8,4,1,8,1,3] \\quad \\text{og} \\quad y = [1,3,0], \\\\\n",
    "\\end{align*}"
   ]
  },
  {
   "cell_type": "markdown",
   "metadata": {},
   "source": [
    "1.2"
   ]
  },
  {
   "cell_type": "markdown",
   "metadata": {},
   "source": [
    "Vi ser videre på et eksempel på hvordan transformermodellen $f_{\\theta}$ kan predikere tallet $d$ for samme type problem.\n",
    "\n",
    "Transformermodellen vil utføre følgende operasjon\n",
    "\\begin{align*}\n",
    "    \\hat{z} &= [\\hat{z}_0, \\ldots, \\hat{z}_6] = f_{\\theta}([2,8,4,1,8,1,3]), \\\\\n",
    "\\end{align*}\n",
    "hvor det er ønskelig å finne en $\\theta$ slik at \n",
    "\\begin{align*}\n",
    "    \\hat{y} &= [\\hat{z}_{4}, \\hat{z}_{5}, \\hat{z}_{6}] = [0,3,1].\\\\\n",
    "\\end{align*}\n",
    "Transformermodellen vil ved addisjon beregne siste siffer først og tallet $d$ vil dermed være $\\hat{z}_{6}\\hat{z}_{5}\\hat{z}_{4} = 130$"
   ]
  },
  {
   "cell_type": "markdown",
   "metadata": {},
   "source": [
    "Vi lar igjen $r = 2, a = 18, b = 3, c = 22$.\n",
    "Et nytt siffer vil predikeres for hvert lag i transformermodellen. Prosessen vil dermed se slik ut:\n",
    "\\begin{align*}\n",
    "    x^{(0)} &= [1,8,3,2,2], & [\\hat{z}_{0}^{(0)},\\hat{z}_{1}^{(0)},\\hat{z}_{2}^{(0)},\\hat{z}_{3}^{(0)},\\hat{z}_{4}^{(0)},\\textcolor{red}{\\hat{z}_{5}^{(0)}}] = f_\\theta(x^{(0)}), \\\\\n",
    "    x^{(1)} &= [1,8,3,2,2,\\textcolor{red}{\\hat{z}_{5}^{(0)}}], & [\\hat{z}_{0}^{(1)},\\ldots, \\textcolor{blue}{\\hat{z}_{6}^{(1)}}] = f_\\theta(x^{(1)}), \\\\ \n",
    "    x^{(2)} &= [1,8,3,2,2,\\textcolor{red}{\\hat{z}_{5}^{(0)}},\\textcolor{blue}{\\hat{z}_{6}^{(1)}}], & [\\hat{z}_{0}^{(1)},\\ldots, \\textcolor{gold}{\\hat{z}_{7}^{(2)}}] = f_\\theta(x^{(2)}), \\\\\n",
    "    x^{(3)} &= [1,8,3,2,2,\\textcolor{red}{\\hat{z}_{5}^{(0)}},\\textcolor{blue}{\\hat{z}_{6}^{(1)}},\\textcolor{gold}{\\hat{z}_{7}^{(2)}}] \\\\\n",
    "    \\hat{y} &= [\\textcolor{red}{\\hat{z}_{5}^{(0)}},\\textcolor{blue}{\\hat{z}_{6}^{(1)}},\\textcolor{gold}{\\hat{z}_{7}^{(2)}}]. \\\\\n",
    "\\end{align*}"
   ]
  },
  {
   "cell_type": "markdown",
   "metadata": {},
   "source": [
    "Her ønsker vi altså at $d = \\textcolor{gold}{\\hat{z}_{7}^{(2)}}\\textcolor{blue}{\\hat{z}_{6}^{(1)}}\\textcolor{red}{\\hat{z}_{5}^{(0)}} = 130$"
   ]
  },
  {
   "cell_type": "markdown",
   "metadata": {},
   "source": [
    "1.3"
   ]
  },
  {
   "cell_type": "markdown",
   "metadata": {},
   "source": [
    "La $m = 5$ og $y = [4,3,2,1]$. Vi bruker cross-entropy som objektfunksjon $\\mathcal{L}$, og ønsker å finne en sannsynlighetsfordeling $\\hat Y$ som gir $\\mathcal{L}(\\theta, \\mathcal{D}) = 0$."
   ]
  },
  {
   "cell_type": "markdown",
   "metadata": {},
   "source": [
    "Ved å gjøre operasjonen $\\text{onehot}(y)$, får vi representert $y$ som en matrise Y\n",
    "\n",
    "$$Y = \\left[\n",
    "\\begin{array}{cccc}\n",
    "0 & 0 & 0 & 0 \\\\\n",
    "0 & 0 & 0 & 1 \\\\\n",
    "0 & 0 & 1 & 0 \\\\\n",
    "0 & 1 & 0 & 0 \\\\\n",
    "1 & 0 & 0 & 0 \n",
    "\\end{array}\n",
    "\\right]$$\n"
   ]
  },
  {
   "cell_type": "markdown",
   "metadata": {},
   "source": [
    "Objektfunksjonen cross-entropy vil i vårt tilfelle se slik ut:\n",
    "\n",
    "\n",
    "\\begin{align*}\n",
    "\\mathcal{L}(\\theta, \\mathcal{D}) &= -\\frac{1}{4} \\sum_{i=0}^{0} \\sum_{j=0}^{4} \\log Y_{kj}^{(i)}\n",
    "\\end{align*}\n",
    "\n",
    "hvor det i ytre løkke kun summeres opp til $D = 0$, siden vi kun har ett datasett. I indre løkke summeres det opp til $n = 4$, fordi vi har fire elementer i $y$."
   ]
  },
  {
   "cell_type": "markdown",
   "metadata": {},
   "source": [
    "Siden vi ønsker at $\\mathcal{L}(\\theta, \\mathcal{D}) = 0$, vil vi at alle $Y_{kj}^{(i)} = 1$, slik at logaritmen blir $0$."
   ]
  },
  {
   "cell_type": "markdown",
   "metadata": {},
   "source": [
    "\n",
    "\n",
    "$$\\hat Y = \\left[\n",
    "\\begin{array}{cccc}\n",
    "0 & 0 & 0 & 0 \\\\\n",
    "0 & 0 & 0 & 1 \\\\\n",
    "0 & 0 & 1 & 0 \\\\\n",
    "0 & 1 & 0 & 0 \\\\\n",
    "1 & 0 & 0 & 0 \n",
    "\\end{array}\n",
    "\\right]$$\n",
    "\n",
    "Altså har vi at:\n",
    "\n",
    "\n",
    "\\begin{align*}\n",
    "Y_{4,0} &= 1 \\\\\n",
    "Y_{3,1} &= 1 \\\\\n",
    "Y_{2,2} &= 1 \\\\\n",
    "Y_{1,3} &= 1 \\\\\n",
    "\\end{align*}\n",
    "\n",
    "Alle andre elementer i matrisen er $0$. Vi kan videre forenkle uttrykket for kryssentropien:\n",
    "\n",
    "\\begin{align*}\n",
    "\\mathcal{L}(\\theta, \\mathcal{D}) &= -\\frac{1}{4} \\left( \\log Y_{4,0} + \\log Y_{3,1} + \\log Y_{2,2} + \\log Y_{1,3} \\right) \\\\\n",
    "&= -\\frac{1}{4} \\left( \\log 1 + \\log 1 + \\log 1 + \\log 1 \\right) \\\\\n",
    "&= -\\frac{1}{4} \\cdot 4 \\cdot \\log 1 \\\\\n",
    "&= -\\frac{4}{4} \\cdot 0 \\\\\n",
    "&= 0\n",
    "\\end{align*}\n",
    "\n",
    "\n",
    "Altså har vi at $ \\mathcal{L}(\\theta, \\mathcal{D}) = 0 $."
   ]
  },
  {
   "cell_type": "markdown",
   "metadata": {},
   "source": [
    "Vi må i dette tilfellet ha at $\\hat y = y = [4,3,2,1]$. Dette kan man se dersom man utfører operasjonen $\\text{argmax}_{\\text{col}}(\\hat Y)$. Det kan også lett observeres ut fra at $\\hat Y = Y$."
   ]
  },
  {
   "cell_type": "markdown",
   "metadata": {},
   "source": [
    "1.4"
   ]
  },
  {
   "cell_type": "markdown",
   "metadata": {},
   "source": [
    "Det kan beregnes hvor mange enkeltparametre som inkluderes i transformermodellen. Vi kan begynne med å se på settet av parametere\n",
    "\\begin{align*}\n",
    "\\theta = \\{ W_E, W_P, W_U, \\{W_O^{(l)}, W_V^{(l)}, W_Q^{(l)}, W_K^{(l)}, W_1^{(l)}, W_2^{(l)}\\}_{l=0}^{L-1} \\}\n",
    "\\end{align*}\n",
    "Med $L$ lag, og dimensjoner $d$, $m$, $n_{max}$, $k$ og $p$, vil antallet enkeltparametere $w$, som må bestemmes ved optimering, bli\n",
    "\n",
    "\\begin{align*}\n",
    "w &=  d \\cdot m + d \\cdot n_{\\text{max}} + d \\cdot m + L\\cdot \\{ 4 ( k \\cdot d ) + 2 (p\\cdot d)\\} \\\\\n",
    "&= 2(d\\cdot m) + d\\cdot n_{\\text{max}} + L\\cdot \\{ 4 ( k \\cdot d ) + 2 (p\\cdot d)\\}\n",
    "\\end{align*}"
   ]
  },
  {
   "cell_type": "markdown",
   "metadata": {},
   "source": [
    "1.5"
   ]
  },
  {
   "cell_type": "markdown",
   "metadata": {},
   "source": [
    "Vi ønsker å vise at man må ha $\\alpha > 1$ for å få $\\hat{z} = [1]$ når input er $x = [1]$ og $n = n_{max} = 1, m = d = k = p = 2$ og $L = 1$. Vi kan starte med å gå manuelt gjennom hele transformeralgoritmen med de gitte verdiene. De første stegene gjøres i embedding."
   ]
  },
  {
   "cell_type": "markdown",
   "metadata": {},
   "source": [
    "$$x = [1], \\quad m = 2 \\\\\n",
    "X = \\text{onehot}(x) = \n",
    "\\begin{bmatrix}\n",
    "0 \\\\\n",
    "1 \\\\\n",
    "\\end{bmatrix} \\\\$$\n",
    "\n",
    "$$W_{E} = \\begin{bmatrix}\n",
    "    1 & 0 \\\\\n",
    "    0 & \\alpha \\\\\n",
    "\\end{bmatrix}\n",
    "W_{P} = \\begin{bmatrix}\n",
    "    1  \\\\\n",
    "    0  \\\\\n",
    "\\end{bmatrix} \\\\$$\n",
    "$$z_{0} = \\begin{bmatrix}\n",
    "    1 & 0 \\\\\n",
    "    0 & \\alpha \\\\\n",
    "\\end{bmatrix}\n",
    "\\begin{bmatrix}\n",
    "    0 \\\\\n",
    "    1 \\\\\n",
    "\\end{bmatrix} + \\begin{bmatrix}\n",
    "    1 \\\\\n",
    "    0 \\\\\n",
    "\\end{bmatrix}\n",
    "= \\begin{bmatrix}\n",
    "    0 \\\\\n",
    "    \\alpha \\\\\n",
    "\\end{bmatrix}\n",
    "+ \\begin{bmatrix}\n",
    "    1 \\\\\n",
    "    0 \\\\\n",
    "\\end{bmatrix}\n",
    "= \\begin{bmatrix}\n",
    "    1 \\\\\n",
    "    \\alpha \\\\\n",
    "\\end{bmatrix} \\\\$$\n"
   ]
  },
  {
   "cell_type": "markdown",
   "metadata": {},
   "source": [
    "Videre utføres attention-laget."
   ]
  },
  {
   "cell_type": "markdown",
   "metadata": {},
   "source": [
    "$$z_{\\frac{1}{2}} = z_0 + W_{O}^{T}W_{V}z_{0}A(z_{0})$$\n",
    "$$ = z_{0} + W_{O}^{T}W_{V}z_{0}\\text{ softmax}_{\\text{col }}(z_{0}^{T}W_{Q}^{T}W_{K}z_{0} + D)$$\n",
    "$$= \\begin{bmatrix}\n",
    "    0 \\\\\n",
    "    1 \\\\\n",
    "\\end{bmatrix} + \\begin{bmatrix}\n",
    "    1 & 0 \\\\\n",
    "    0 & 1 \\\\\n",
    "\\end{bmatrix} \\begin{bmatrix}\n",
    "    1 & 0 \\\\\n",
    "    1 & 1 \\\\\n",
    "\\end{bmatrix} \\begin{bmatrix}\n",
    "    1 \\\\\n",
    "    \\alpha \\\\\n",
    "\\end{bmatrix} \\text{softmax}_{\\text{col } }(\\begin{bmatrix}\n",
    "    1 & \\alpha\n",
    "\\end{bmatrix}\\begin{bmatrix}\n",
    "    1 & 0 \\\\\n",
    "    0 & 1 \\\\\n",
    "\\end{bmatrix}\\begin{bmatrix}\n",
    "    1 & 0 \\\\\n",
    "    0 & 1 \\\\\n",
    "\\end{bmatrix}\\begin{bmatrix}\n",
    "    1 \\\\\n",
    "    \\alpha \\\\\n",
    "\\end{bmatrix} + 0) \\\\$$\n",
    "\n",
    "$$= \\begin{bmatrix}\n",
    "    1 \\\\\n",
    "    \\alpha \\\\\n",
    "\\end{bmatrix}+\\begin{bmatrix}\n",
    "    1 \\\\\n",
    "    \\alpha \\\\\n",
    "\\end{bmatrix}\\text{softmax}_{\\text{col }}(1+\\alpha^2)\n",
    "= 2 \\begin{bmatrix}\n",
    "    1 \\\\\n",
    "    \\alpha \\\\\n",
    "\\end{bmatrix}$$"
   ]
  },
  {
   "cell_type": "markdown",
   "metadata": {},
   "source": [
    "Deretter utføres feed-forward-laget."
   ]
  },
  {
   "cell_type": "markdown",
   "metadata": {},
   "source": [
    "$$z_1 = z_{\\frac{1}{2}} + W_{2}^{T}\\sigma(W_1 z_{\\frac{1}{2}})\\\\$$\n",
    "$$= 2\\begin{bmatrix}\n",
    "    1 \\\\\n",
    "    \\alpha \\\\\n",
    "\\end{bmatrix} + W_{2}^{T}\\text{max}(0,W_1 z_{\\frac{1}{2}})\\\\$$\n",
    "$$= 2\\begin{bmatrix}\n",
    "    1 \\\\\n",
    "    \\alpha \\\\\n",
    "\\end{bmatrix}+\\begin{bmatrix}\n",
    "    1 & 0 \\\\\n",
    "    0 & 1 \\\\\n",
    "\\end{bmatrix}\\text{max}\\Bigg(0, \\begin{bmatrix}\n",
    "    1 & 0 \\\\\n",
    "    0 & 1 \\\\\n",
    "\\end{bmatrix}2\\begin{bmatrix}\n",
    "    1 \\\\\n",
    "    \\alpha \\\\\n",
    "\\end{bmatrix}\\Bigg)\\\\$$\n",
    "$$= 4\\begin{bmatrix}\n",
    "    1\\\\\n",
    "    \\alpha \\\\\n",
    "\\end{bmatrix}$$"
   ]
  },
  {
   "cell_type": "markdown",
   "metadata": {},
   "source": [
    "Deretter benyttes $\\text{softmax}_{\\text{col}}$ for å finne sannsynlighetsfordelingen."
   ]
  },
  {
   "cell_type": "markdown",
   "metadata": {},
   "source": [
    "$$Z = \\text{softmax}_{\\text{col}}(W_{U}^{T}z_{1})\\\\\n",
    "= \\text{softmax}_{\\text{col}}\\bigg(4\\begin{bmatrix}\n",
    "        1 \\\\\n",
    "        \\alpha \\\\\n",
    "    \\end{bmatrix}\\bigg)\\\\\n",
    "    = \\frac{1}{e^{4}+e^{4\\alpha}}\\begin{bmatrix}\n",
    "        e^{4} \\\\\n",
    "        e^{4\\alpha} \\\\\n",
    "    \\end{bmatrix}$$"
   ]
  },
  {
   "cell_type": "markdown",
   "metadata": {},
   "source": [
    "Det kan observeres at $\\text{argmax}_{\\text{col}}(Z)$ vil returnere $\\hat{z} = [1]$ dersom $Z_{10}$ er størst. Vi må altså ha at\n",
    "\\begin{align*}\n",
    "e^{4\\alpha} > e^{4} \\implies \\alpha > 1\\\\\n",
    "\\Box\n",
    "\\end{align*}"
   ]
  },
  {
   "cell_type": "markdown",
   "metadata": {},
   "source": [
    "#### Oppgave 2"
   ]
  },
  {
   "cell_type": "markdown",
   "metadata": {},
   "source": [
    "#### Oppgave 3.1"
   ]
  },
  {
   "cell_type": "code",
   "execution_count": 1,
   "metadata": {},
   "outputs": [],
   "source": [
    "#Importerer nødvendige bibliotek\n",
    "from layers import *\n",
    "from neural_network import NeuralNetwork\n",
    "from utils import onehot\n",
    "import numpy as np\n",
    "from data_generators import get_train_test_sorting\n",
    "import matplotlib.pyplot as plt"
   ]
  },
  {
   "cell_type": "markdown",
   "metadata": {},
   "source": [
    "For å teste om lagene vi har implementert fungerer, kan vi manuelt kjøre gjennom algoritmen. Vi starter med å initalisere lagene til det nevrale nettverk."
   ]
  },
  {
   "cell_type": "code",
   "execution_count": 2,
   "metadata": {},
   "outputs": [],
   "source": [
    "#definerer variabler\n",
    "r = 4\n",
    "m = 4\n",
    "\n",
    "d = 10\n",
    "k = 5\n",
    "p = 15\n",
    "L = 2\n",
    "\n",
    "embed = EmbedPosition(9,m,d)\n",
    "att1 = Attention(d,k)\n",
    "ff1 = FeedForward(d,p)\n",
    "un_embed = LinearLayer(d,m)\n",
    "softmax = Softmax()\n",
    "loss = CrossEntropy()"
   ]
  },
  {
   "cell_type": "markdown",
   "metadata": {},
   "source": [
    "Vi kan videre gi nettverket vårt en input, la oss f.eks late som vi prøver å få modellen til å sortere tallene."
   ]
  },
  {
   "cell_type": "code",
   "execution_count": 3,
   "metadata": {},
   "outputs": [],
   "source": [
    "x = np.array([[0,1,2]])\n",
    "X = onehot(x, m)\n",
    "\n",
    "z0 = embed.forward(X)\n",
    "z11 = att1.forward(z0)\n",
    "z12 = ff1.forward(z11)\n",
    "z2 = un_embed.forward(z12)\n",
    "Z = softmax.forward(z2)"
   ]
  },
  {
   "cell_type": "markdown",
   "metadata": {},
   "source": [
    "Vi kan så teste om vi fikk riktig output, som i dette tilfelle burde være at det er $0$ på siste element. Om vi har riktig output skulle loss funksjonen vårt bli 0."
   ]
  },
  {
   "cell_type": "code",
   "execution_count": 4,
   "metadata": {},
   "outputs": [
    {
     "name": "stdout",
     "output_type": "stream",
     "text": [
      "1.3658588220025012\n"
     ]
    }
   ],
   "source": [
    "y = np.array([[0]])\n",
    "L = loss.forward(Z,y)\n",
    "\n",
    "print(L)"
   ]
  },
  {
   "cell_type": "markdown",
   "metadata": {},
   "source": [
    "Dette fungerte åpenbart ikke enda. Etter å ha kjørt en forward pass, er det fint å teste backwardfunksjonen til lagene. Vi starter da med å beregne den deriverte av loss funksjonen"
   ]
  },
  {
   "cell_type": "code",
   "execution_count": 5,
   "metadata": {},
   "outputs": [],
   "source": [
    "dLdz = loss.backward()\n",
    "d0 = softmax.backward(dLdz)\n",
    "d1 = un_embed.backward(d0)\n",
    "d21 = ff1.backward(d1)\n",
    "d22 = att1.backward(d21)\n",
    "d3 = embed.backward(d22)"
   ]
  },
  {
   "cell_type": "markdown",
   "metadata": {},
   "source": [
    "#### Oppgave 3.2\n",
    "\n",
    "Vi lager en generell funksjon som vil trene nettverket vårt. Denne funksjonen tar inn datasettet i batcher og gjennomfører Adam-steg for å optimalisere parametrene."
   ]
  },
  {
   "cell_type": "code",
   "execution_count": 6,
   "metadata": {},
   "outputs": [],
   "source": [
    "def test_Adam(nn: NeuralNetwork, x_data, y_data, n_iters, step_size, m, start, stop):\n",
    "    n_batches = x_data.shape[0]\n",
    "    mean_losses = np.zeros(n_iters)\n",
    "    for j in range(n_iters):\n",
    "        losses = []\n",
    "        for i in range(n_batches):\n",
    "            x = x_data[i]\n",
    "            y = y_data[i][:,start:stop]\n",
    "            #Forward pass\n",
    "            X = onehot(x,m)\n",
    "            Z = nn.forward(X)\n",
    "            #Backward pass\n",
    "            losses.append(loss.forward(Z,y))\n",
    "            dLdZ = loss.backward()\n",
    "            nn.backward(dLdZ)\n",
    "            nn.step_Adam(step_size)\n",
    "        mean_loss = np.mean(losses)\n",
    "        print(\"Iterasjon \", str(j+1), \" L = \",mean_loss, \"\")\n",
    "        mean_losses[j] = mean_loss\n",
    "    #Returnerer gjennomsnittet over objektfunksjonen over batchene\n",
    "    return mean_losses\n",
    "#Kaller på funksjonen og plotter objektsfunksjonen senere når netverket trenes"
   ]
  },
  {
   "cell_type": "markdown",
   "metadata": {},
   "source": [
    "#### Oppgave 3.3"
   ]
  },
  {
   "cell_type": "markdown",
   "metadata": {},
   "source": [
    "For oppgaven med sortering av 0 og 1"
   ]
  },
  {
   "cell_type": "code",
   "execution_count": 7,
   "metadata": {},
   "outputs": [],
   "source": [
    "#definerer variabler\n",
    "r = 5\n",
    "m = 2\n",
    "\n",
    "d = 10\n",
    "k = 5\n",
    "p = 15\n",
    "L = 2\n",
    "\n",
    "embed = EmbedPosition(9,m,d)\n",
    "att1 = Attention(d,k)\n",
    "att2 = Attention(d,k)\n",
    "ff1 = FeedForward(d,p)\n",
    "ff2 = FeedForward(d,p)\n",
    "un_embed = LinearLayer(d,m)\n",
    "softmax = Softmax()\n",
    "loss = CrossEntropy()\n",
    "\n",
    "nn = NeuralNetwork([embed, att1, ff1, att2, ff2, un_embed, softmax])\n",
    "\n",
    "data = get_train_test_sorting(r, m, samples_per_batch=250,n_batches_train=20, n_batches_test=4)\n",
    "\n",
    "x_train = data['x_train']\n",
    "y_train = data['y_train']\n",
    "x_test = data['x_test']\n",
    "y_test = data['y_test']"
   ]
  },
  {
   "cell_type": "markdown",
   "metadata": {},
   "source": [
    "La oss prøve å trene!"
   ]
  },
  {
   "cell_type": "code",
   "execution_count": 8,
   "metadata": {},
   "outputs": [
    {
     "name": "stdout",
     "output_type": "stream",
     "text": [
      "Iterasjon  1  L =  0.6864964774241843 \n",
      "Iterasjon  2  L =  0.6581295409456861 \n",
      "Iterasjon  3  L =  0.6027642358135419 \n",
      "Iterasjon  4  L =  0.4888779707269765 \n",
      "Iterasjon  5  L =  0.339174264853114 \n",
      "Iterasjon  6  L =  0.21152827589827142 \n",
      "Iterasjon  7  L =  0.13993758162952313 \n",
      "Iterasjon  8  L =  0.1257892337332675 \n",
      "Iterasjon  9  L =  0.09754144181723372 \n",
      "Iterasjon  10  L =  0.06992571793432947 \n",
      "Iterasjon  11  L =  0.04315968540198041 \n",
      "Iterasjon  12  L =  0.02263581215303231 \n",
      "Iterasjon  13  L =  0.007786406271114229 \n",
      "Iterasjon  14  L =  0.0032163871709930125 \n",
      "Iterasjon  15  L =  0.0011057041360484825 \n",
      "Iterasjon  16  L =  0.0005864411551604759 \n",
      "Iterasjon  17  L =  0.000456475959251016 \n",
      "Iterasjon  18  L =  0.0003762223643643874 \n",
      "Iterasjon  19  L =  0.00032082746570039815 \n",
      "Iterasjon  20  L =  0.0002773496913792806 \n",
      "Iterasjon  21  L =  0.00024251125643384212 \n",
      "Iterasjon  22  L =  0.00021398979665989765 \n",
      "Iterasjon  23  L =  0.0001903100021634672 \n",
      "Iterasjon  24  L =  0.00017042271304306032 \n",
      "Iterasjon  25  L =  0.00015355601537415668 \n",
      "Iterasjon  26  L =  0.00013911828531631168 \n",
      "Iterasjon  27  L =  0.00012665577113824957 \n",
      "Iterasjon  28  L =  0.00011581019176089711 \n",
      "Iterasjon  29  L =  0.00010630886160930555 \n",
      "Iterasjon  30  L =  9.794961855436263e-05 \n",
      "Iterasjon  31  L =  9.054851256647042e-05 \n",
      "Iterasjon  32  L =  8.395824682289598e-05 \n",
      "Iterasjon  33  L =  7.806271164867778e-05 \n",
      "Iterasjon  34  L =  7.276850663383525e-05 \n",
      "Iterasjon  35  L =  6.799395995381296e-05 \n",
      "Iterasjon  36  L =  6.367275843261109e-05 \n",
      "Iterasjon  37  L =  5.975104788151577e-05 \n",
      "Iterasjon  38  L =  5.617970980295889e-05 \n",
      "Iterasjon  39  L =  5.2916568011289804e-05 \n",
      "Iterasjon  40  L =  4.992693491677099e-05 \n",
      "Iterasjon  41  L =  4.718099559124758e-05 \n",
      "Iterasjon  42  L =  4.465276615776786e-05 \n",
      "Iterasjon  43  L =  4.231973281724168e-05 \n",
      "Iterasjon  44  L =  4.016228432581234e-05 \n",
      "Iterasjon  45  L =  3.8163108108705135e-05 \n",
      "Iterasjon  46  L =  3.630705003917778e-05 \n",
      "Iterasjon  47  L =  3.4580773629921515e-05 \n",
      "Iterasjon  48  L =  3.297235878627407e-05 \n",
      "Iterasjon  49  L =  3.147135496439644e-05 \n",
      "Iterasjon  50  L =  3.0068460216606598e-05 \n",
      "Iterasjon  51  L =  2.875520259508674e-05 \n",
      "Iterasjon  52  L =  2.7524067444927887e-05 \n",
      "Iterasjon  53  L =  2.6368337833460997e-05 \n",
      "Iterasjon  54  L =  2.528197474075126e-05 \n",
      "Iterasjon  55  L =  2.4259526468026515e-05 \n",
      "Iterasjon  56  L =  2.3296119750309785e-05 \n",
      "Iterasjon  57  L =  2.238727267408029e-05 \n",
      "Iterasjon  58  L =  2.152892407405374e-05 \n",
      "Iterasjon  59  L =  2.071740051311186e-05 \n",
      "Iterasjon  60  L =  1.9949359403895704e-05 \n",
      "Iterasjon  61  L =  1.9221752253641477e-05 \n",
      "Iterasjon  62  L =  1.8531818903818548e-05 \n",
      "Iterasjon  63  L =  1.787741572098313e-05 \n",
      "Iterasjon  64  L =  1.7256163338746952e-05 \n",
      "Iterasjon  65  L =  1.666601411819797e-05 \n",
      "Iterasjon  66  L =  1.6104472261151755e-05 \n",
      "Iterasjon  67  L =  1.5569636535751483e-05 \n",
      "Iterasjon  68  L =  1.5059853124360184e-05 \n",
      "Iterasjon  69  L =  1.457355068741347e-05 \n",
      "Iterasjon  70  L =  1.4109337949859252e-05 \n",
      "Iterasjon  71  L =  1.36658980430951e-05 \n",
      "Iterasjon  72  L =  1.324200947523272e-05 \n",
      "Iterasjon  73  L =  1.283651591672862e-05 \n",
      "Iterasjon  74  L =  1.2448422091530466e-05 \n",
      "Iterasjon  75  L =  1.2076732047304466e-05 \n",
      "Iterasjon  76  L =  1.1720563522190169e-05 \n",
      "Iterasjon  77  L =  1.1379038713751227e-05 \n",
      "Iterasjon  78  L =  1.1051369284694344e-05 \n",
      "Iterasjon  79  L =  1.0736834087144167e-05 \n",
      "Iterasjon  80  L =  1.0434775350378477e-05 \n",
      "Iterasjon  81  L =  1.0144541921915266e-05 \n",
      "Iterasjon  82  L =  9.865516196106878e-06 \n",
      "Iterasjon  83  L =  9.59713388820163e-06 \n",
      "Iterasjon  84  L =  9.338865775979687e-06 \n",
      "Iterasjon  85  L =  9.090221307696735e-06 \n",
      "Iterasjon  86  L =  8.851172427452777e-06 \n",
      "Iterasjon  87  L =  8.62108033562573e-06 \n",
      "Iterasjon  88  L =  8.39926401145997e-06 \n",
      "Iterasjon  89  L =  8.185313335893693e-06 \n",
      "Iterasjon  90  L =  7.97885077491802e-06 \n",
      "Iterasjon  91  L =  7.779544932468e-06 \n",
      "Iterasjon  92  L =  7.5870657235407204e-06 \n",
      "Iterasjon  93  L =  7.401110263641424e-06 \n",
      "Iterasjon  94  L =  7.2214049975908515e-06 \n",
      "Iterasjon  95  L =  7.047674202671597e-06 \n",
      "Iterasjon  96  L =  6.879651683812637e-06 \n",
      "Iterasjon  97  L =  6.717092839537963e-06 \n",
      "Iterasjon  98  L =  6.559767080643841e-06 \n",
      "Iterasjon  99  L =  6.40745600478505e-06 \n",
      "Iterasjon  100  L =  6.259952512631113e-06 \n"
     ]
    }
   ],
   "source": [
    "losses = test_Adam(nn, data['x_train'], data['y_train'], 100, 0.001, m, 4, 9)"
   ]
  },
  {
   "cell_type": "markdown",
   "metadata": {},
   "source": [
    "Og så kan vi plotte hvordan lossfunksjonen har endret seg gjennom iterasjonene"
   ]
  },
  {
   "cell_type": "code",
   "execution_count": 9,
   "metadata": {},
   "outputs": [
    {
     "data": {
      "image/png": "[encoded data removed]",
      "text/plain": [
       "<Figure size 432x288 with 1 Axes>"
      ]
     },
     "metadata": {
      "needs_background": "light"
     },
     "output_type": "display_data"
    }
   ],
   "source": [
    "plt.plot(np.arange(0,100), np.log(losses))\n",
    "plt.xlabel(\"Iterasjonnummer\")\n",
    "plt.ylabel(\"Logaritmen av loss-funksjon\")\n",
    "plt.title(\"Minimering ved antall iterasjoner\")\n",
    "plt.show()"
   ]
  },
  {
   "cell_type": "markdown",
   "metadata": {},
   "source": [
    "#### Tester for én iterasjon for å se om den greier å predikere neste verdi"
   ]
  },
  {
   "cell_type": "code",
   "execution_count": 10,
   "metadata": {},
   "outputs": [
    {
     "name": "stdout",
     "output_type": "stream",
     "text": [
      "[[1 0 0 1 0]]\n"
     ]
    }
   ],
   "source": [
    "x = np.array([[1, 0 ,0, 1, 0]])\n",
    "X = onehot(x, m)\n",
    "\n",
    "#forward pass\n",
    "Z = nn.forward(X)\n",
    "z_hat = np.argmax(Z, axis=1)\n",
    "\n",
    "print(z_hat)"
   ]
  },
  {
   "cell_type": "markdown",
   "metadata": {},
   "source": [
    "Når vi sender inn arrayet [1, 0, 0, 1, 1], vil vi ved å sende det gjennom algoritmen få predikert den første predikerte verdien som det siste elementet i det returnerte arrayet, som beskrevet i avsnitt 1.2. Siden algoritmen sorterer verdiene i arrayet bestående av 0 og 1, forventer vi at det første sifferet i det sorterte arrayet blir 0. Deretter, for å predikere resten av sekvensen, mater vi inn det siste elementet i det predikerte arrayet tilbake inn i arrayet vi sender gjennom 'forward'-steget, og fortsetter prediksjonen derfra."
   ]
  },
  {
   "cell_type": "markdown",
   "metadata": {},
   "source": [
    "Videre er det nyttig med en funksjon som kan gir inn testdataen til nettverket vårt, og så en funksjon som teller antall riktige prediksjoner."
   ]
  },
  {
   "cell_type": "code",
   "execution_count": 11,
   "metadata": {},
   "outputs": [],
   "source": [
    "#funksjon for å predikere data\n",
    "def predict(nn: NeuralNetwork, x_test, m, r):\n",
    "    predictions = []\n",
    "    for i in range(x_test.shape[0]):\n",
    "        x = x_test[i]\n",
    "        for n in range(r):\n",
    "            X = onehot(x, m)\n",
    "            Z = nn.forward(X)\n",
    "            z = np.argmax(Z, axis=1)\n",
    "            x = np.append(x, z[:,-1:], axis=1)\n",
    "        predictions.append(x[:,-r:])\n",
    "    return np.array(predictions)\n",
    "\n",
    "def countCorrect(y_hat, y):\n",
    "    batches = y_hat.shape[0]\n",
    "    samples = y_hat[0].shape[0]\n",
    "\n",
    "    counter = 0\n",
    "    total = samples*batches\n",
    "\n",
    "    for b in range(batches):\n",
    "        for i in range(samples):\n",
    "            if np.sum(y_hat[b,i] - y[b,i]) == 0:\n",
    "                counter += 1\n",
    "\n",
    "    return counter, total, (counter/total)*100\n"
   ]
  },
  {
   "cell_type": "markdown",
   "metadata": {},
   "source": [
    "Så kan vi se hvorvidt nettverket vårt klarer å sortere eller ikke."
   ]
  },
  {
   "cell_type": "code",
   "execution_count": 12,
   "metadata": {},
   "outputs": [
    {
     "name": "stdout",
     "output_type": "stream",
     "text": [
      "Antall rette prediksjoner: 1000\n",
      "Totalt antall prediksjoner: 1000\n",
      "Prosentvis riktige predikasjoner: 100.0 %\n"
     ]
    }
   ],
   "source": [
    "\n",
    "y_hats = predict(nn, x_test, 2, 5)\n",
    "\n",
    "\n",
    "corr, total, percent = countCorrect(y_hats, y_test)\n",
    "\n",
    "print(\"Antall rette prediksjoner:\", corr)\n",
    "print(\"Totalt antall prediksjoner:\", total)\n",
    "print(\"Prosentvis riktige predikasjoner:\", percent, \"%\")\n"
   ]
  },
  {
   "cell_type": "markdown",
   "metadata": {},
   "source": [
    "Når to forskjellige verdier kan forekomme på fem ulike steder, resulterer dette i totalt $32$ mulige kombinasjoner ($2^5 = 32$). Denne mangfoldigheten gjør det praktisk talt umulig å teste algoritmen vår med nye sekvenser. Ideelt sett ville tapet tendert mot null, og prediksjonene ville vært korrekte hver gang, siden algoritmen burde gjenkjenne det riktige svaret ($y$) i stedet for å forutsi neste sekvens. Dette antyder at vektene våre kanskje ikke er optimalt tilpasset."
   ]
  },
  {
   "cell_type": "code",
   "execution_count": 13,
   "metadata": {},
   "outputs": [],
   "source": [
    "#definerer variabler\n",
    "r = 7\n",
    "m = 5\n",
    "n_max = 2*r-1\n",
    "\n",
    "d = 20\n",
    "k = 10\n",
    "p = 25\n",
    "L = 2\n",
    "\n",
    "embed = EmbedPosition(n_max,m,d)\n",
    "att1 = Attention(d,k)\n",
    "att2 = Attention(d,k)\n",
    "\n",
    "ff1 = FeedForward(d,p)\n",
    "ff2 = FeedForward(d,p)\n",
    "\n",
    "un_embed = LinearLayer(d,m)\n",
    "softmax = Softmax()\n",
    "loss = CrossEntropy()\n",
    "\n",
    "nn = NeuralNetwork([embed, att1, ff1, att2, ff2, un_embed, softmax])\n",
    "\n",
    "data = get_train_test_sorting(r, m, samples_per_batch=250,n_batches_train=10, n_batches_test=4)\n",
    "\n",
    "x_train = data['x_train']\n",
    "y_train = data['y_train']\n",
    "x_test = data['x_test']\n",
    "y_test = data['y_test']\n"
   ]
  },
  {
   "cell_type": "code",
   "execution_count": 14,
   "metadata": {},
   "outputs": [
    {
     "name": "stdout",
     "output_type": "stream",
     "text": [
      "Iterasjon  1  L =  1.6086556548421371 \n",
      "Iterasjon  2  L =  1.5740633479933888 \n",
      "Iterasjon  3  L =  1.5321831592673547 \n",
      "Iterasjon  4  L =  1.4725124911817329 \n",
      "Iterasjon  5  L =  1.3755517019173826 \n",
      "Iterasjon  6  L =  1.2165036305506487 \n",
      "Iterasjon  7  L =  1.0070487958926242 \n",
      "Iterasjon  8  L =  0.8460237878731471 \n",
      "Iterasjon  9  L =  0.7374831914298507 \n",
      "Iterasjon  10  L =  0.6795970105372987 \n",
      "Iterasjon  11  L =  0.6565311399447781 \n",
      "Iterasjon  12  L =  0.6428733921942702 \n",
      "Iterasjon  13  L =  0.6359218744930247 \n",
      "Iterasjon  14  L =  0.6144899299511906 \n",
      "Iterasjon  15  L =  0.6013543961317085 \n",
      "Iterasjon  16  L =  0.5776307414988789 \n",
      "Iterasjon  17  L =  0.5616713116532164 \n",
      "Iterasjon  18  L =  0.541887645923291 \n",
      "Iterasjon  19  L =  0.5300440505020145 \n",
      "Iterasjon  20  L =  0.5142414736737712 \n",
      "Iterasjon  21  L =  0.5070335192136122 \n",
      "Iterasjon  22  L =  0.49537949702825024 \n",
      "Iterasjon  23  L =  0.4832325996430103 \n",
      "Iterasjon  24  L =  0.471284658275912 \n",
      "Iterasjon  25  L =  0.45400983221978397 \n",
      "Iterasjon  26  L =  0.437156802483681 \n",
      "Iterasjon  27  L =  0.42834934383263273 \n",
      "Iterasjon  28  L =  0.41122211819903687 \n",
      "Iterasjon  29  L =  0.41146871336322144 \n",
      "Iterasjon  30  L =  0.4302352069084098 \n",
      "Iterasjon  31  L =  0.43411999261657613 \n",
      "Iterasjon  32  L =  0.4330824745410893 \n",
      "Iterasjon  33  L =  0.4109345964965039 \n",
      "Iterasjon  34  L =  0.39665815102214036 \n",
      "Iterasjon  35  L =  0.3696083777955669 \n",
      "Iterasjon  36  L =  0.33804482822191273 \n",
      "Iterasjon  37  L =  0.31049678752194937 \n",
      "Iterasjon  38  L =  0.2969630750081639 \n",
      "Iterasjon  39  L =  0.290527563935295 \n",
      "Iterasjon  40  L =  0.2900339287680377 \n",
      "Iterasjon  41  L =  0.2924438908201751 \n",
      "Iterasjon  42  L =  0.28053149629461804 \n",
      "Iterasjon  43  L =  0.27137767787112416 \n",
      "Iterasjon  44  L =  0.25097838413914386 \n",
      "Iterasjon  45  L =  0.2368122220592613 \n",
      "Iterasjon  46  L =  0.22131027508672924 \n",
      "Iterasjon  47  L =  0.20140084647033976 \n",
      "Iterasjon  48  L =  0.18549052949592199 \n",
      "Iterasjon  49  L =  0.17361814514330665 \n",
      "Iterasjon  50  L =  0.16828617323481526 \n",
      "Iterasjon  51  L =  0.16493470836583532 \n",
      "Iterasjon  52  L =  0.16530266164264393 \n",
      "Iterasjon  53  L =  0.16670713537089052 \n",
      "Iterasjon  54  L =  0.16809146518324264 \n",
      "Iterasjon  55  L =  0.17911915519709112 \n",
      "Iterasjon  56  L =  0.1767067932462301 \n",
      "Iterasjon  57  L =  0.17400411050923853 \n",
      "Iterasjon  58  L =  0.16648334036353196 \n",
      "Iterasjon  59  L =  0.17084319729956243 \n",
      "Iterasjon  60  L =  0.2093415873005003 \n",
      "Iterasjon  61  L =  0.24752076323557742 \n",
      "Iterasjon  62  L =  0.28905952274229274 \n",
      "Iterasjon  63  L =  0.30480563166397584 \n",
      "Iterasjon  64  L =  0.2924862516971447 \n",
      "Iterasjon  65  L =  0.25781392785153606 \n",
      "Iterasjon  66  L =  0.191257114919927 \n",
      "Iterasjon  67  L =  0.16527599197434026 \n",
      "Iterasjon  68  L =  0.13900059733192396 \n",
      "Iterasjon  69  L =  0.1058768951628826 \n",
      "Iterasjon  70  L =  0.08375460339978137 \n",
      "Iterasjon  71  L =  0.06870731583255128 \n",
      "Iterasjon  72  L =  0.05618919766464037 \n",
      "Iterasjon  73  L =  0.05031318727972657 \n",
      "Iterasjon  74  L =  0.04336348971825278 \n",
      "Iterasjon  75  L =  0.037751210172859276 \n",
      "Iterasjon  76  L =  0.03315044566833786 \n",
      "Iterasjon  77  L =  0.03061502368595559 \n",
      "Iterasjon  78  L =  0.02720555862136112 \n",
      "Iterasjon  79  L =  0.025217589361337528 \n",
      "Iterasjon  80  L =  0.022531510134888653 \n",
      "Iterasjon  81  L =  0.02129458598648167 \n",
      "Iterasjon  82  L =  0.019035313593805586 \n",
      "Iterasjon  83  L =  0.018140853822493835 \n",
      "Iterasjon  84  L =  0.016285595096387554 \n",
      "Iterasjon  85  L =  0.01555686235593588 \n",
      "Iterasjon  86  L =  0.014078616943985692 \n",
      "Iterasjon  87  L =  0.013336531192791962 \n",
      "Iterasjon  88  L =  0.01221589154113634 \n",
      "Iterasjon  89  L =  0.011453533881768091 \n",
      "Iterasjon  90  L =  0.0106445231902331 \n",
      "Iterasjon  91  L =  0.009877605155802579 \n",
      "Iterasjon  92  L =  0.00934525133323375 \n",
      "Iterasjon  93  L =  0.008666312750286915 \n",
      "Iterasjon  94  L =  0.008285427950312927 \n",
      "Iterasjon  95  L =  0.007750705070600642 \n",
      "Iterasjon  96  L =  0.007383925107705356 \n",
      "Iterasjon  97  L =  0.006980404549280475 \n",
      "Iterasjon  98  L =  0.00660562319912472 \n",
      "Iterasjon  99  L =  0.006301035413927579 \n",
      "Iterasjon  100  L =  0.005968544294690632 \n"
     ]
    }
   ],
   "source": [
    "losses = test_Adam(nn, data['x_train'], data['y_train'], 300, 0.001, m, 6, 13)"
   ]
  },
  {
   "cell_type": "code",
   "execution_count": 15,
   "metadata": {},
   "outputs": [
    {
     "data": {
      "image/png": "[encoded data removed]",
      "text/plain": [
       "<Figure size 432x288 with 1 Axes>"
      ]
     },
     "metadata": {
      "needs_background": "light"
     },
     "output_type": "display_data"
    }
   ],
   "source": [
    "#Plotter loss-funksjonen per itterasjon\n",
    "plt.plot(np.arange(0,300), np.log(losses))\n",
    "plt.xlabel(\"Iterasjonnummer\")\n",
    "plt.ylabel(\"Logaritmen av loss-funksjon\")\n",
    "plt.title(\"Minimering ved antall iterasjoner\")\n",
    "plt.show()"
   ]
  },
  {
   "cell_type": "code",
   "execution_count": 16,
   "metadata": {},
   "outputs": [
    {
     "name": "stdout",
     "output_type": "stream",
     "text": [
      "Antall rette prediksjoner: 994\n",
      "Totalt antall prediksjoner: 1000\n",
      "Prosentvis riktige predikasjoner: 99.4 %\n"
     ]
    }
   ],
   "source": [
    "#Henter prediksjonsfunksjonen\n",
    "y_hats = predict(nn, x_test, 5, 7)\n",
    "\n",
    "corr, total, percent = countCorrect(y_hats, y_test)\n",
    "#Printer andel riktige prediksjoner\n",
    "print(\"Antall rette prediksjoner:\", corr)\n",
    "print(\"Totalt antall prediksjoner:\", total)\n",
    "print(\"Prosentvis riktige predikasjoner:\", percent, \"%\")\n"
   ]
  },
  {
   "cell_type": "code",
   "execution_count": 17,
   "metadata": {},
   "outputs": [],
   "source": [
    "from data_generators import get_train_test_addition\n",
    "#definerer variabler\n",
    "r = 4\n",
    "m = 10\n",
    "n_max = 3*r\n",
    "\n",
    "d = 30\n",
    "k = 20\n",
    "p = 40\n",
    "L = 3\n",
    "\n",
    "#Lager 3 lag til nn\n",
    "att1 = Attention(d,k)\n",
    "att2 = Attention(d,k)\n",
    "att3 = Attention(d,k)\n",
    "\n",
    "ff1 = FeedForward(d,p)\n",
    "ff2 = FeedForward(d,p)\n",
    "ff3 = FeedForward(d,p)\n",
    "\n",
    "embed = EmbedPosition(n_max,m,d)\n",
    "un_embed = LinearLayer(d,m)\n",
    "softmax = Softmax()\n",
    "loss = CrossEntropy()\n",
    "\n",
    "#Lager det nevrale nettverket på nytt\n",
    "nn = NeuralNetwork([embed, att1, ff1, att2, ff2, att3, ff3, un_embed, softmax])\n",
    "#implementerer trenignsdata. 2 siffer i tallene vi adderer, 20 batches med 250 samples per batch, og 4 batches vi kan teste med\n",
    "data = get_train_test_addition(2, samples_per_batch=250,n_batches_train=20, n_batches_test=4)\n",
    "#Henter ut data\n",
    "x_train = data['x_train']\n",
    "y_train = data['y_train']\n",
    "x_test = data['x_test']\n",
    "y_test = data['y_test']"
   ]
  },
  {
   "cell_type": "code",
   "execution_count": 18,
   "metadata": {},
   "outputs": [
    {
     "name": "stdout",
     "output_type": "stream",
     "text": [
      "Iterasjon  1  L =  2.2275235703211944 \n",
      "Iterasjon  2  L =  1.991173445256369 \n",
      "Iterasjon  3  L =  1.7863721535727553 \n",
      "Iterasjon  4  L =  1.748036343729926 \n",
      "Iterasjon  5  L =  1.690365816151104 \n",
      "Iterasjon  6  L =  1.606819634930826 \n",
      "Iterasjon  7  L =  1.556696193075413 \n",
      "Iterasjon  8  L =  1.539576070895879 \n",
      "Iterasjon  9  L =  1.5316870534791531 \n",
      "Iterasjon  10  L =  1.5235830168409146 \n",
      "Iterasjon  11  L =  1.5091678400958441 \n",
      "Iterasjon  12  L =  1.4847962644796435 \n",
      "Iterasjon  13  L =  1.4384382638602355 \n",
      "Iterasjon  14  L =  1.3806292223390861 \n",
      "Iterasjon  15  L =  1.3372754438316 \n",
      "Iterasjon  16  L =  1.273581978167332 \n",
      "Iterasjon  17  L =  1.197032322410726 \n",
      "Iterasjon  18  L =  1.1622755011360817 \n",
      "Iterasjon  19  L =  1.1707600934609013 \n",
      "Iterasjon  20  L =  1.129476948624754 \n",
      "Iterasjon  21  L =  1.0743211669224002 \n",
      "Iterasjon  22  L =  1.0375394553712662 \n",
      "Iterasjon  23  L =  1.1148072036793928 \n",
      "Iterasjon  24  L =  1.0415652945616354 \n",
      "Iterasjon  25  L =  0.9847494888738376 \n",
      "Iterasjon  26  L =  0.9563345979989109 \n",
      "Iterasjon  27  L =  0.9728860945910816 \n",
      "Iterasjon  28  L =  1.0106376965289403 \n",
      "Iterasjon  29  L =  0.9757224668740594 \n",
      "Iterasjon  30  L =  0.921286108184848 \n",
      "Iterasjon  31  L =  0.8827453470332947 \n",
      "Iterasjon  32  L =  0.8558816851052266 \n",
      "Iterasjon  33  L =  0.9619393377528732 \n",
      "Iterasjon  34  L =  0.9430931503567874 \n",
      "Iterasjon  35  L =  0.9632873210024927 \n",
      "Iterasjon  36  L =  0.9409205298286075 \n",
      "Iterasjon  37  L =  0.9015857859127339 \n",
      "Iterasjon  38  L =  0.9021824850314321 \n",
      "Iterasjon  39  L =  0.9399575518592806 \n",
      "Iterasjon  40  L =  0.8744470591755412 \n",
      "Iterasjon  41  L =  0.834401734143688 \n",
      "Iterasjon  42  L =  0.8117910666013642 \n",
      "Iterasjon  43  L =  0.7991090302915369 \n",
      "Iterasjon  44  L =  0.791882148141257 \n",
      "Iterasjon  45  L =  0.7881486875592648 \n",
      "Iterasjon  46  L =  0.7853631499710343 \n",
      "Iterasjon  47  L =  0.7839827630269046 \n",
      "Iterasjon  48  L =  0.782904647928023 \n",
      "Iterasjon  49  L =  0.7827821872720638 \n",
      "Iterasjon  50  L =  0.7813821972303717 \n",
      "Iterasjon  51  L =  0.7816833749355319 \n",
      "Iterasjon  52  L =  0.781575428663928 \n",
      "Iterasjon  53  L =  0.7802662201863739 \n",
      "Iterasjon  54  L =  0.7784665112682887 \n",
      "Iterasjon  55  L =  0.7757179208081453 \n",
      "Iterasjon  56  L =  0.772863085315364 \n",
      "Iterasjon  57  L =  0.7715187798830521 \n",
      "Iterasjon  58  L =  0.7712493692371283 \n",
      "Iterasjon  59  L =  0.7711611777044045 \n",
      "Iterasjon  60  L =  0.7710784628092959 \n",
      "Iterasjon  61  L =  0.771209399725634 \n",
      "Iterasjon  62  L =  0.771440620574511 \n",
      "Iterasjon  63  L =  0.7715214925749185 \n",
      "Iterasjon  64  L =  0.7713844992573002 \n",
      "Iterasjon  65  L =  0.7711161324687978 \n",
      "Iterasjon  66  L =  0.7707712170010257 \n",
      "Iterasjon  67  L =  0.7704335464664982 \n",
      "Iterasjon  68  L =  0.7701275499328336 \n",
      "Iterasjon  69  L =  0.7698034199319695 \n",
      "Iterasjon  70  L =  0.7695095112863601 \n",
      "Iterasjon  71  L =  0.769396831069764 \n",
      "Iterasjon  72  L =  0.7693183775205771 \n",
      "Iterasjon  73  L =  0.7692682507872459 \n",
      "Iterasjon  74  L =  0.7693330565863656 \n",
      "Iterasjon  75  L =  0.7694167863111947 \n",
      "Iterasjon  76  L =  0.7695925922037279 \n",
      "Iterasjon  77  L =  0.7698148145930803 \n",
      "Iterasjon  78  L =  0.7703434896806286 \n",
      "Iterasjon  79  L =  0.7723021796112872 \n",
      "Iterasjon  80  L =  0.7723233386140991 \n",
      "Iterasjon  81  L =  0.7718548865960168 \n",
      "Iterasjon  82  L =  0.7716533943355914 \n",
      "Iterasjon  83  L =  0.7713655274456171 \n",
      "Iterasjon  84  L =  0.7705517415367686 \n",
      "Iterasjon  85  L =  0.7694148767051584 \n",
      "Iterasjon  86  L =  0.7688846357599046 \n",
      "Iterasjon  87  L =  0.7684305897690665 \n",
      "Iterasjon  88  L =  0.768078368184826 \n",
      "Iterasjon  89  L =  0.7680996605961858 \n",
      "Iterasjon  90  L =  0.7682570812986185 \n",
      "Iterasjon  91  L =  0.7682762673717435 \n",
      "Iterasjon  92  L =  0.7682709306595954 \n",
      "Iterasjon  93  L =  0.768358120325475 \n",
      "Iterasjon  94  L =  0.7684887782764209 \n",
      "Iterasjon  95  L =  0.7685301960707267 \n",
      "Iterasjon  96  L =  0.7685476366314917 \n",
      "Iterasjon  97  L =  0.7685577568441698 \n",
      "Iterasjon  98  L =  0.7683831622407078 \n",
      "Iterasjon  99  L =  0.7682418193585865 \n",
      "Iterasjon  100  L =  0.7681318836574385 \n",
      "Iterasjon  101  L =  0.7679372275128528 \n",
      "Iterasjon  102  L =  0.7678357282728111 \n",
      "Iterasjon  103  L =  0.767751865903912 \n",
      "Iterasjon  104  L =  0.7676942949980474 \n",
      "Iterasjon  105  L =  0.7677420689072827 \n",
      "Iterasjon  106  L =  0.7677413801244546 \n",
      "Iterasjon  107  L =  0.7676575248539441 \n",
      "Iterasjon  108  L =  0.7676141325470516 \n",
      "Iterasjon  109  L =  0.7677655494851459 \n",
      "Iterasjon  110  L =  0.7678901178702016 \n",
      "Iterasjon  111  L =  0.7678581439773973 \n",
      "Iterasjon  112  L =  0.7681234546222078 \n",
      "Iterasjon  113  L =  0.7682999117963213 \n",
      "Iterasjon  114  L =  0.7683533118563476 \n",
      "Iterasjon  115  L =  0.768886688977072 \n",
      "Iterasjon  116  L =  0.7687418077831734 \n",
      "Iterasjon  117  L =  0.7685691045863627 \n",
      "Iterasjon  118  L =  0.7683888462492569 \n",
      "Iterasjon  119  L =  0.7682386869389727 \n",
      "Iterasjon  120  L =  0.7680585216129137 \n",
      "Iterasjon  121  L =  0.7679495245798996 \n",
      "Iterasjon  122  L =  0.7674324150361314 \n",
      "Iterasjon  123  L =  0.7673862971553872 \n",
      "Iterasjon  124  L =  0.7674734541046828 \n",
      "Iterasjon  125  L =  0.767328192074149 \n",
      "Iterasjon  126  L =  0.7672375081786857 \n"
     ]
    },
    {
     "ename": "KeyboardInterrupt",
     "evalue": "",
     "output_type": "error",
     "traceback": [
      "\u001b[1;31m---------------------------------------------------------------------------\u001b[0m",
      "\u001b[1;31mKeyboardInterrupt\u001b[0m                         Traceback (most recent call last)",
      "Input \u001b[1;32mIn [18]\u001b[0m, in \u001b[0;36m<cell line: 2>\u001b[1;34m()\u001b[0m\n\u001b[0;32m      1\u001b[0m \u001b[38;5;66;03m#Beregner og skriver ut loss for hver itterasjon\u001b[39;00m\n\u001b[1;32m----> 2\u001b[0m losses \u001b[38;5;241m=\u001b[39m \u001b[43mtest_Adam\u001b[49m\u001b[43m(\u001b[49m\u001b[43mnn\u001b[49m\u001b[43m,\u001b[49m\u001b[43m \u001b[49m\u001b[43mdata\u001b[49m\u001b[43m[\u001b[49m\u001b[38;5;124;43m'\u001b[39;49m\u001b[38;5;124;43mx_train\u001b[39;49m\u001b[38;5;124;43m'\u001b[39;49m\u001b[43m]\u001b[49m\u001b[43m,\u001b[49m\u001b[43m \u001b[49m\u001b[43mdata\u001b[49m\u001b[43m[\u001b[49m\u001b[38;5;124;43m'\u001b[39;49m\u001b[38;5;124;43my_train\u001b[39;49m\u001b[38;5;124;43m'\u001b[39;49m\u001b[43m]\u001b[49m\u001b[43m,\u001b[49m\u001b[43m \u001b[49m\u001b[38;5;241;43m150\u001b[39;49m\u001b[43m,\u001b[49m\u001b[43m \u001b[49m\u001b[38;5;241;43m0.001\u001b[39;49m\u001b[43m,\u001b[49m\u001b[43m \u001b[49m\u001b[43mm\u001b[49m\u001b[43m,\u001b[49m\u001b[43m \u001b[49m\u001b[38;5;241;43m3\u001b[39;49m\u001b[43m,\u001b[49m\u001b[43m \u001b[49m\u001b[38;5;241;43m6\u001b[39;49m\u001b[43m)\u001b[49m\n",
      "Input \u001b[1;32mIn [6]\u001b[0m, in \u001b[0;36mtest_Adam\u001b[1;34m(nn, x_data, y_data, n_iters, step_size, m, start, stop)\u001b[0m\n\u001b[0;32m     13\u001b[0m     losses\u001b[38;5;241m.\u001b[39mappend(loss\u001b[38;5;241m.\u001b[39mforward(Z,y))\n\u001b[0;32m     14\u001b[0m     dLdZ \u001b[38;5;241m=\u001b[39m loss\u001b[38;5;241m.\u001b[39mbackward()\n\u001b[1;32m---> 15\u001b[0m     \u001b[43mnn\u001b[49m\u001b[38;5;241;43m.\u001b[39;49m\u001b[43mbackward\u001b[49m\u001b[43m(\u001b[49m\u001b[43mdLdZ\u001b[49m\u001b[43m)\u001b[49m\n\u001b[0;32m     16\u001b[0m     nn\u001b[38;5;241m.\u001b[39mstep_Adam(step_size)\n\u001b[0;32m     17\u001b[0m mean_loss \u001b[38;5;241m=\u001b[39m np\u001b[38;5;241m.\u001b[39mmean(losses)\n",
      "File \u001b[1;32mc:\\Vitber\\P2\\TMA4320-Prosjekt-2\\neural_network.py:29\u001b[0m, in \u001b[0;36mNeuralNetwork.backward\u001b[1;34m(self, grad)\u001b[0m\n\u001b[0;32m     27\u001b[0m \u001b[38;5;66;03m#reversed yields the layers in reversed order\u001b[39;00m\n\u001b[0;32m     28\u001b[0m \u001b[38;5;28;01mfor\u001b[39;00m layer \u001b[38;5;129;01min\u001b[39;00m \u001b[38;5;28mreversed\u001b[39m(\u001b[38;5;28mself\u001b[39m\u001b[38;5;241m.\u001b[39mlayers):\n\u001b[1;32m---> 29\u001b[0m     grad \u001b[38;5;241m=\u001b[39m \u001b[43mlayer\u001b[49m\u001b[38;5;241;43m.\u001b[39;49m\u001b[43mbackward\u001b[49m\u001b[43m(\u001b[49m\u001b[43mgrad\u001b[49m\u001b[43m)\u001b[49m\n\u001b[0;32m     30\u001b[0m \u001b[38;5;28;01mreturn\u001b[39;00m grad\n",
      "File \u001b[1;32mc:\\Vitber\\P2\\TMA4320-Prosjekt-2\\layers.py:121\u001b[0m, in \u001b[0;36mAttention.backward\u001b[1;34m(self, grad)\u001b[0m\n\u001b[0;32m    118\u001b[0m \u001b[38;5;66;03m#oppdaterer gradient for parameterene ifølge ligninger 22-25 \u001b[39;00m\n\u001b[0;32m    119\u001b[0m \u001b[38;5;66;03m#tar snittet av de ulike batchene\u001b[39;00m\n\u001b[0;32m    120\u001b[0m \u001b[38;5;28mself\u001b[39m\u001b[38;5;241m.\u001b[39mWo\u001b[38;5;241m.\u001b[39mparams[\u001b[38;5;124m'\u001b[39m\u001b[38;5;124mw\u001b[39m\u001b[38;5;124m'\u001b[39m][\u001b[38;5;124m'\u001b[39m\u001b[38;5;124md\u001b[39m\u001b[38;5;124m'\u001b[39m] \u001b[38;5;241m=\u001b[39m (np\u001b[38;5;241m.\u001b[39meinsum(\u001b[38;5;124m'\u001b[39m\u001b[38;5;124mij,bjk,bkl,bml->im\u001b[39m\u001b[38;5;124m'\u001b[39m, \u001b[38;5;28mself\u001b[39m\u001b[38;5;241m.\u001b[39mWvw, \u001b[38;5;28mself\u001b[39m\u001b[38;5;241m.\u001b[39mz, \u001b[38;5;28mself\u001b[39m\u001b[38;5;241m.\u001b[39mA, \u001b[38;5;28mself\u001b[39m\u001b[38;5;241m.\u001b[39mgrad, optimize\u001b[38;5;241m=\u001b[39m\u001b[38;5;28;01mTrue\u001b[39;00m)\u001b[38;5;241m/\u001b[39mb)\u001b[38;5;241m.\u001b[39mT\n\u001b[1;32m--> 121\u001b[0m \u001b[38;5;28mself\u001b[39m\u001b[38;5;241m.\u001b[39mWv\u001b[38;5;241m.\u001b[39mparams[\u001b[38;5;124m'\u001b[39m\u001b[38;5;124mw\u001b[39m\u001b[38;5;124m'\u001b[39m][\u001b[38;5;124m'\u001b[39m\u001b[38;5;124md\u001b[39m\u001b[38;5;124m'\u001b[39m] \u001b[38;5;241m=\u001b[39m \u001b[43mnp\u001b[49m\u001b[38;5;241;43m.\u001b[39;49m\u001b[43meinsum\u001b[49m\u001b[43m(\u001b[49m\u001b[38;5;124;43m'\u001b[39;49m\u001b[38;5;124;43mij,bjk,blk,bml->im\u001b[39;49m\u001b[38;5;124;43m'\u001b[39;49m\u001b[43m,\u001b[49m\u001b[43m \u001b[49m\u001b[38;5;28;43mself\u001b[39;49m\u001b[38;5;241;43m.\u001b[39;49m\u001b[43mWow\u001b[49m\u001b[38;5;241;43m.\u001b[39;49m\u001b[43mT\u001b[49m\u001b[43m,\u001b[49m\u001b[43m \u001b[49m\u001b[38;5;28;43mself\u001b[39;49m\u001b[38;5;241;43m.\u001b[39;49m\u001b[43mgrad\u001b[49m\u001b[43m,\u001b[49m\u001b[43m \u001b[49m\u001b[38;5;28;43mself\u001b[39;49m\u001b[38;5;241;43m.\u001b[39;49m\u001b[43mA\u001b[49m\u001b[43m,\u001b[49m\u001b[43m \u001b[49m\u001b[38;5;28;43mself\u001b[39;49m\u001b[38;5;241;43m.\u001b[39;49m\u001b[43mz\u001b[49m\u001b[43m,\u001b[49m\u001b[43m \u001b[49m\u001b[43moptimize\u001b[49m\u001b[38;5;241;43m=\u001b[39;49m\u001b[38;5;28;43;01mTrue\u001b[39;49;00m\u001b[43m)\u001b[49m\u001b[38;5;241m/\u001b[39mb\n\u001b[0;32m    122\u001b[0m \u001b[38;5;28mself\u001b[39m\u001b[38;5;241m.\u001b[39mparams[\u001b[38;5;124m'\u001b[39m\u001b[38;5;124mwk\u001b[39m\u001b[38;5;124m'\u001b[39m][\u001b[38;5;124m'\u001b[39m\u001b[38;5;124md\u001b[39m\u001b[38;5;124m'\u001b[39m] \u001b[38;5;241m=\u001b[39m np\u001b[38;5;241m.\u001b[39meinsum(\u001b[38;5;124m'\u001b[39m\u001b[38;5;124mij,bjk,bkl,bml->im\u001b[39m\u001b[38;5;124m'\u001b[39m, \u001b[38;5;28mself\u001b[39m\u001b[38;5;241m.\u001b[39mWq, \u001b[38;5;28mself\u001b[39m\u001b[38;5;241m.\u001b[39mz,g_s,\u001b[38;5;28mself\u001b[39m\u001b[38;5;241m.\u001b[39mz, optimize\u001b[38;5;241m=\u001b[39m\u001b[38;5;28;01mTrue\u001b[39;00m)\u001b[38;5;241m/\u001b[39mb\n\u001b[0;32m    123\u001b[0m \u001b[38;5;28mself\u001b[39m\u001b[38;5;241m.\u001b[39mparams[\u001b[38;5;124m'\u001b[39m\u001b[38;5;124mwq\u001b[39m\u001b[38;5;124m'\u001b[39m][\u001b[38;5;124m'\u001b[39m\u001b[38;5;124md\u001b[39m\u001b[38;5;124m'\u001b[39m] \u001b[38;5;241m=\u001b[39m np\u001b[38;5;241m.\u001b[39meinsum(\u001b[38;5;124m'\u001b[39m\u001b[38;5;124mij,bjk,blk,bml->im\u001b[39m\u001b[38;5;124m'\u001b[39m, \u001b[38;5;28mself\u001b[39m\u001b[38;5;241m.\u001b[39mWk, \u001b[38;5;28mself\u001b[39m\u001b[38;5;241m.\u001b[39mz,g_s,\u001b[38;5;28mself\u001b[39m\u001b[38;5;241m.\u001b[39mz, optimize\u001b[38;5;241m=\u001b[39m\u001b[38;5;28;01mTrue\u001b[39;00m)\u001b[38;5;241m/\u001b[39mb\n",
      "File \u001b[1;32m<__array_function__ internals>:5\u001b[0m, in \u001b[0;36meinsum\u001b[1;34m(*args, **kwargs)\u001b[0m\n",
      "File \u001b[1;32mc:\\Users\\Andre\\anaconda3\\lib\\site-packages\\numpy\\core\\einsumfunc.py:1407\u001b[0m, in \u001b[0;36meinsum\u001b[1;34m(out, optimize, *operands, **kwargs)\u001b[0m\n\u001b[0;32m   1404\u001b[0m     right_pos\u001b[38;5;241m.\u001b[39mappend(input_right\u001b[38;5;241m.\u001b[39mfind(s))\n\u001b[0;32m   1406\u001b[0m \u001b[38;5;66;03m# Contract!\u001b[39;00m\n\u001b[1;32m-> 1407\u001b[0m new_view \u001b[38;5;241m=\u001b[39m \u001b[43mtensordot\u001b[49m\u001b[43m(\u001b[49m\u001b[38;5;241;43m*\u001b[39;49m\u001b[43mtmp_operands\u001b[49m\u001b[43m,\u001b[49m\u001b[43m \u001b[49m\u001b[43maxes\u001b[49m\u001b[38;5;241;43m=\u001b[39;49m\u001b[43m(\u001b[49m\u001b[38;5;28;43mtuple\u001b[39;49m\u001b[43m(\u001b[49m\u001b[43mleft_pos\u001b[49m\u001b[43m)\u001b[49m\u001b[43m,\u001b[49m\u001b[43m \u001b[49m\u001b[38;5;28;43mtuple\u001b[39;49m\u001b[43m(\u001b[49m\u001b[43mright_pos\u001b[49m\u001b[43m)\u001b[49m\u001b[43m)\u001b[49m\u001b[43m)\u001b[49m\n\u001b[0;32m   1409\u001b[0m \u001b[38;5;66;03m# Build a new view if needed\u001b[39;00m\n\u001b[0;32m   1410\u001b[0m \u001b[38;5;28;01mif\u001b[39;00m (tensor_result \u001b[38;5;241m!=\u001b[39m results_index) \u001b[38;5;129;01mor\u001b[39;00m handle_out:\n",
      "File \u001b[1;32m<__array_function__ internals>:5\u001b[0m, in \u001b[0;36mtensordot\u001b[1;34m(*args, **kwargs)\u001b[0m\n",
      "File \u001b[1;32mc:\\Users\\Andre\\anaconda3\\lib\\site-packages\\numpy\\core\\numeric.py:1132\u001b[0m, in \u001b[0;36mtensordot\u001b[1;34m(a, b, axes)\u001b[0m\n\u001b[0;32m   1130\u001b[0m at \u001b[38;5;241m=\u001b[39m a\u001b[38;5;241m.\u001b[39mtranspose(newaxes_a)\u001b[38;5;241m.\u001b[39mreshape(newshape_a)\n\u001b[0;32m   1131\u001b[0m bt \u001b[38;5;241m=\u001b[39m b\u001b[38;5;241m.\u001b[39mtranspose(newaxes_b)\u001b[38;5;241m.\u001b[39mreshape(newshape_b)\n\u001b[1;32m-> 1132\u001b[0m res \u001b[38;5;241m=\u001b[39m \u001b[43mdot\u001b[49m\u001b[43m(\u001b[49m\u001b[43mat\u001b[49m\u001b[43m,\u001b[49m\u001b[43m \u001b[49m\u001b[43mbt\u001b[49m\u001b[43m)\u001b[49m\n\u001b[0;32m   1133\u001b[0m \u001b[38;5;28;01mreturn\u001b[39;00m res\u001b[38;5;241m.\u001b[39mreshape(olda \u001b[38;5;241m+\u001b[39m oldb)\n",
      "File \u001b[1;32m<__array_function__ internals>:5\u001b[0m, in \u001b[0;36mdot\u001b[1;34m(*args, **kwargs)\u001b[0m\n",
      "\u001b[1;31mKeyboardInterrupt\u001b[0m: "
     ]
    }
   ],
   "source": [
    "#Beregner og skriver ut loss for hver itterasjon\n",
    "losses = test_Adam(nn, data['x_train'], data['y_train'], 150, 0.001, m, 3, 6)"
   ]
  },
  {
   "cell_type": "markdown",
   "metadata": {},
   "source": [
    "Plotter $\\mathcal{L}^{i}$ for $i = 0,\\dots , n_{iter} − 1$ med logaritmisk skala på y-aksen.\n"
   ]
  },
  {
   "cell_type": "code",
   "execution_count": null,
   "metadata": {},
   "outputs": [
    {
     "data": {
      "image/png": "[encoded data removed]",
      "text/plain": [
       "<Figure size 432x288 with 1 Axes>"
      ]
     },
     "metadata": {
      "needs_background": "light"
     },
     "output_type": "display_data"
    }
   ],
   "source": [
    "#Plotter loss-funksjonen per itterasjon i en logaritmisk skala\n",
    "plt.plot(np.arange(0,150), np.log(losses))\n",
    "plt.xlabel(\"Iterasjonnummer\")\n",
    "plt.ylabel(\"Logaritmen av loss-funksjon\")\n",
    "plt.title(\"Minimering ved antall iterasjoner\")\n",
    "plt.show()"
   ]
  },
  {
   "cell_type": "markdown",
   "metadata": {},
   "source": [
    "Som vi ser fra figuren minimerer vi objektfunksjonen ved flere itterasjoner. "
   ]
  },
  {
   "cell_type": "code",
   "execution_count": null,
   "metadata": {},
   "outputs": [],
   "source": [
    "\n",
    "def countCorrect(y_hat, y):\n",
    "    batches = y_hat.shape[0]\n",
    "    samples = y_hat[0].shape[0]\n",
    "\n",
    "    counter = 0\n",
    "    total = samples*batches\n",
    "    #Ittererer gjennom prediksjoner og forventede svar og teller antall rette prediksjoner\n",
    "    for b in range(batches):\n",
    "        for i in range(samples):\n",
    "            #Tar ut og sammenlikner koresponderende siffer i prediksjon og treningsdata\n",
    "            if np.sum(y_hat[b,i] - np.flip(y[b,i])) == 0:\n",
    "                counter += 1\n",
    "\n",
    "    return counter, total, (counter/total)*100\n"
   ]
  },
  {
   "cell_type": "code",
   "execution_count": null,
   "metadata": {},
   "outputs": [
    {
     "name": "stdout",
     "output_type": "stream",
     "text": [
      "Antall rette prediksjoner: 999\n",
      "Totalt antall prediksjoner: 1000\n",
      "Prosentvis riktige predikasjoner: 99.9 %\n"
     ]
    }
   ],
   "source": [
    "#Beregner antall riktige prediksjoner av testdataen opp mot testdataen\n",
    "y_hats = predict(nn, x_test, 10, 3)\n",
    "\n",
    "corr, total, percent = countCorrect(y_hats, y_test)\n",
    "\n",
    "print(\"Antall rette prediksjoner:\", corr)\n",
    "print(\"Totalt antall prediksjoner:\", total)\n",
    "print(\"Prosentvis riktige predikasjoner:\", percent, \"%\")\n"
   ]
  }
 ],
 "metadata": {
  "kernelspec": {
   "display_name": "Python 3",
   "language": "python",
   "name": "python3"
  },
  "language_info": {
   "codemirror_mode": {
    "name": "ipython",
    "version": 3
   },
   "file_extension": ".py",
   "mimetype": "text/x-python",
   "name": "python",
   "nbconvert_exporter": "python",
   "pygments_lexer": "ipython3",
   "version": "3.9.12"
  }
 },
 "nbformat": 4,
 "nbformat_minor": 2
}
