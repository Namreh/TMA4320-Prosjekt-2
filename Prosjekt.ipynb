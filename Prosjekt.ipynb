{
 "cells": [
  {
   "cell_type": "markdown",
   "metadata": {},
   "source": [
    "# Indmat prosjekt\n",
    "###### Liva Berge Flo, André Pettersen-Dahl, Herman Neple\n",
    "\n",
    "#### Oppgave 1"
   ]
  },
  {
   "cell_type": "markdown",
   "metadata": {},
   "source": [
    "1.1"
   ]
  },
  {
   "cell_type": "markdown",
   "metadata": {},
   "source": [
    "En transformermodell skal trenes opp til å forsøke å predikere et heltall $d$, hvor $d = a \\cdot b + c$, hvor $a$ og $c$ er tosifrede heltall og $b$ er et ettsifret heltall. Vi kan se på et eksempel på et datasett som kan brukes for å trene opp modellen."
   ]
  },
  {
   "cell_type": "markdown",
   "metadata": {},
   "source": [
    "Vi kan la\n",
    "\\begin{align*}\n",
    "    r &= 2,   a = 28,  \n",
    " b = 4,   c = 18,   d = 130, \\\\\n",
    "\\end{align*}\n",
    "Input $x$ vil være tallene $a$, $b$ og $c$. I tillegg vil de første sifferne i $d$ være inkludert i input, fordi vi ønsker at transformermodellen skal trenes opp til å finne det siste sifferet i $d$. Output $y$ vil være tallet $d$ som man ønsker å predikere. Dermed har vi altså\n",
    "\n",
    "\\begin{align*}\n",
    "    x &= [2,8,4,1,8,1,3] \\quad \\text{og} \\quad y = [1,3,0], \\\\\n",
    "\\end{align*}"
   ]
  },
  {
   "cell_type": "markdown",
   "metadata": {},
   "source": [
    "1.2"
   ]
  },
  {
   "cell_type": "markdown",
   "metadata": {},
   "source": [
    "Vi ser videre på et eksempel på hvordan transformermodellen $f_{\\theta}$ kan predikere tallet $d$ for samme type problem.\n",
    "\n",
    "Transformermodellen vil utføre følgende operasjon\n",
    "\\begin{align*}\n",
    "    \\hat{z} &= [\\hat{z}_0, \\ldots, \\hat{z}_6] = f_{\\theta}([2,8,4,1,8,1,3]), \\\\\n",
    "\\end{align*}\n",
    "hvor det er ønskelig å finne en $\\theta$ slik at \n",
    "\\begin{align*}\n",
    "    \\hat{y} &= [\\hat{z}_{4}, \\hat{z}_{5}, \\hat{z}_{6}] = [0,3,1].\\\\\n",
    "\\end{align*}\n",
    "Transformermodellen vil ved addisjon beregne siste siffer først og tallet $d$ vil dermed være $\\hat{z}_{6}\\hat{z}_{5}\\hat{z}_{4} = 130$"
   ]
  },
  {
   "cell_type": "markdown",
   "metadata": {},
   "source": [
    "Vi lar igjen $r = 2, a = 18, b = 3, c = 22$.\n",
    "Et nytt siffer vil predikeres for hvert lag i transformermodellen. Prosessen vil dermed se slik ut:\n",
    "\\begin{align*}\n",
    "    x^{(0)} &= [1,8,3,2,2], & [\\hat{z}_{0}^{(0)},\\hat{z}_{1}^{(0)},\\hat{z}_{2}^{(0)},\\hat{z}_{3}^{(0)},\\hat{z}_{4}^{(0)},\\textcolor{red}{\\hat{z}_{5}^{(0)}}] = f_\\theta(x^{(0)}), \\\\\n",
    "    x^{(1)} &= [1,8,3,2,2,\\textcolor{red}{\\hat{z}_{5}^{(0)}}], & [\\hat{z}_{0}^{(1)},\\ldots, \\textcolor{blue}{\\hat{z}_{6}^{(1)}}] = f_\\theta(x^{(1)}), \\\\ \n",
    "    x^{(2)} &= [1,8,3,2,2,\\textcolor{red}{\\hat{z}_{5}^{(0)}},\\textcolor{blue}{\\hat{z}_{6}^{(1)}}], & [\\hat{z}_{0}^{(1)},\\ldots, \\textcolor{gold}{\\hat{z}_{7}^{(2)}}] = f_\\theta(x^{(2)}), \\\\\n",
    "    x^{(3)} &= [1,8,3,2,2,\\textcolor{red}{\\hat{z}_{5}^{(0)}},\\textcolor{blue}{\\hat{z}_{6}^{(1)}},\\textcolor{gold}{\\hat{z}_{7}^{(2)}}] \\\\\n",
    "    \\hat{y} &= [\\textcolor{red}{\\hat{z}_{5}^{(0)}},\\textcolor{blue}{\\hat{z}_{6}^{(1)}},\\textcolor{gold}{\\hat{z}_{7}^{(2)}}]. \\\\\n",
    "\\end{align*}"
   ]
  },
  {
   "cell_type": "markdown",
   "metadata": {},
   "source": [
    "Her ønsker vi altså at $d = \\textcolor{gold}{\\hat{z}_{7}^{(2)}}\\textcolor{blue}{\\hat{z}_{6}^{(1)}}\\textcolor{red}{\\hat{z}_{5}^{(0)}} = 130$"
   ]
  },
  {
   "cell_type": "markdown",
   "metadata": {},
   "source": [
    "1.3"
   ]
  },
  {
   "cell_type": "markdown",
   "metadata": {},
   "source": [
    "La $m = 5$ og $y = [4,3,2,1]$. Vi bruker cross-entropy som objektfunksjon $\\mathcal{L}$, og ønsker å finne en sannsynlighetsfordeling $\\hat Y$ som gir $\\mathcal{L}(\\theta, \\mathcal{D}) = 0$."
   ]
  },
  {
   "cell_type": "markdown",
   "metadata": {},
   "source": [
    "Ved å gjøre operasjonen $\\text{onehot}(y)$, får vi representert $y$ som en matrise Y\n",
    "\n",
    "$$Y = \\left[\n",
    "\\begin{array}{cccc}\n",
    "0 & 0 & 0 & 0 \\\\\n",
    "0 & 0 & 0 & 1 \\\\\n",
    "0 & 0 & 1 & 0 \\\\\n",
    "0 & 1 & 0 & 0 \\\\\n",
    "1 & 0 & 0 & 0 \n",
    "\\end{array}\n",
    "\\right]$$\n"
   ]
  },
  {
   "cell_type": "markdown",
   "metadata": {},
   "source": [
    "Objektfunksjonen cross-entropy vil i vårt tilfelle se slik ut:\n",
    "\n",
    "\n",
    "\\begin{align*}\n",
    "\\mathcal{L}(\\theta, \\mathcal{D}) &= -\\frac{1}{4} \\sum_{i=0}^{0} \\sum_{j=0}^{4} \\log Y_{kj}^{(i)}\n",
    "\\end{align*}\n",
    "\n",
    "hvor det i ytre løkke kun summeres opp til $D = 0$, siden vi kun har ett datasett. I indre løkke summeres det opp til $n = 4$, fordi vi har fire elementer i $y$."
   ]
  },
  {
   "cell_type": "markdown",
   "metadata": {},
   "source": [
    "Siden vi ønsker at $\\mathcal{L}(\\theta, \\mathcal{D}) = 0$, vil vi at alle $Y_{kj}^{(i)} = 1$, slik at logaritmen blir $0$."
   ]
  },
  {
   "cell_type": "markdown",
   "metadata": {},
   "source": [
    "\n",
    "\n",
    "$$\\hat Y = \\left[\n",
    "\\begin{array}{cccc}\n",
    "0 & 0 & 0 & 0 \\\\\n",
    "0 & 0 & 0 & 1 \\\\\n",
    "0 & 0 & 1 & 0 \\\\\n",
    "0 & 1 & 0 & 0 \\\\\n",
    "1 & 0 & 0 & 0 \n",
    "\\end{array}\n",
    "\\right]$$\n",
    "\n",
    "Altså har vi at:\n",
    "\n",
    "\n",
    "\\begin{align*}\n",
    "Y_{4,0} &= 1 \\\\\n",
    "Y_{3,1} &= 1 \\\\\n",
    "Y_{2,2} &= 1 \\\\\n",
    "Y_{1,3} &= 1 \\\\\n",
    "\\end{align*}\n",
    "\n",
    "Alle andre elementer i matrisen er $0$. Vi kan videre forenkle uttrykket for kryssentropien:\n",
    "\n",
    "$$\\mathcal{L}(\\theta, \\mathcal{D}) = -\\frac{1}{4} \\left( \\log Y_{4,0} + \\log Y_{3,1} + \\log Y_{2,2} + \\log Y_{1,3} \\right) \\\\$$\n",
    "$$= -\\frac{1}{4} \\left( \\log 1 + \\log 1 + \\log 1 + \\log 1 \\right) = -\\frac{1}{4} \\cdot 4 \\cdot \\log 1 \\\\$$\n",
    "$$= -\\frac{4}{4} \\cdot 0 = 0$$\n",
    "\n",
    "\n",
    "Altså har vi at $ \\mathcal{L}(\\theta, \\mathcal{D}) = 0 $."
   ]
  },
  {
   "cell_type": "markdown",
   "metadata": {},
   "source": [
    "Vi må i dette tilfellet ha at $\\hat y = y = [4,3,2,1]$. Dette kan man se dersom man utfører operasjonen $\\text{argmax}_{\\text{col}}(\\hat Y)$. Det kan også lett observeres ut fra at $\\hat Y = Y$."
   ]
  },
  {
   "cell_type": "markdown",
   "metadata": {},
   "source": [
    "1.4"
   ]
  },
  {
   "cell_type": "markdown",
   "metadata": {},
   "source": [
    "Det kan beregnes hvor mange enkeltparametre som inkluderes i transformermodellen. Vi kan begynne med å se på settet av parametere\n",
    "\\begin{align*}\n",
    "\\theta = \\{ W_E, W_P, W_U, \\{W_O^{(l)}, W_V^{(l)}, W_Q^{(l)}, W_K^{(l)}, W_1^{(l)}, W_2^{(l)}\\}_{l=0}^{L-1} \\}\n",
    "\\end{align*}\n",
    "Med $L$ lag, og dimensjoner $d$, $m$, $n_{max}$, $k$ og $p$, vil antallet enkeltparametere $w$, som må bestemmes ved optimering, bli\n",
    "\n",
    "\\begin{align*}\n",
    "w &=  d \\cdot m + d \\cdot n_{\\text{max}} + d \\cdot m + L\\cdot \\{ 4 ( k \\cdot d ) + 2 (p\\cdot d)\\} \\\\\n",
    "&= 2(d\\cdot m) + d\\cdot n_{\\text{max}} + L\\cdot \\{ 4 ( k \\cdot d ) + 2 (p\\cdot d)\\}\n",
    "\\end{align*}"
   ]
  },
  {
   "cell_type": "markdown",
   "metadata": {},
   "source": [
    "1.5"
   ]
  },
  {
   "cell_type": "markdown",
   "metadata": {},
   "source": [
    "Vi ønsker å vise at man må ha $\\alpha > 1$ for å få $\\hat{z} = [1]$ når input er $x = [1]$ og $n = n_{max} = 1, m = d = k = p = 2$ og $L = 1$. Vi kan starte med å gå manuelt gjennom hele transformeralgoritmen med de gitte verdiene. De første stegene gjøres i embedding."
   ]
  },
  {
   "cell_type": "markdown",
   "metadata": {},
   "source": [
    "$$x = [1], \\quad m = 2 \\\\\n",
    "X = \\text{onehot}(x) = \n",
    "\\begin{bmatrix}\n",
    "0 \\\\\n",
    "1 \\\\\n",
    "\\end{bmatrix} \\\\$$\n",
    "\n",
    "$$W_{E} = \\begin{bmatrix}\n",
    "    1 & 0 \\\\\n",
    "    0 & \\alpha \\\\\n",
    "\\end{bmatrix}\n",
    "W_{P} = \\begin{bmatrix}\n",
    "    1  \\\\\n",
    "    0  \\\\\n",
    "\\end{bmatrix} \\\\$$\n",
    "$$z_{0} = \\begin{bmatrix}\n",
    "    1 & 0 \\\\\n",
    "    0 & \\alpha \\\\\n",
    "\\end{bmatrix}\n",
    "\\begin{bmatrix}\n",
    "    0 \\\\\n",
    "    1 \\\\\n",
    "\\end{bmatrix} + \\begin{bmatrix}\n",
    "    1 \\\\\n",
    "    0 \\\\\n",
    "\\end{bmatrix}\n",
    "= \\begin{bmatrix}\n",
    "    0 \\\\\n",
    "    \\alpha \\\\\n",
    "\\end{bmatrix}\n",
    "+ \\begin{bmatrix}\n",
    "    1 \\\\\n",
    "    0 \\\\\n",
    "\\end{bmatrix}\n",
    "= \\begin{bmatrix}\n",
    "    1 \\\\\n",
    "    \\alpha \\\\\n",
    "\\end{bmatrix} \\\\$$\n"
   ]
  },
  {
   "cell_type": "markdown",
   "metadata": {},
   "source": [
    "Videre utføres attention-laget."
   ]
  },
  {
   "cell_type": "markdown",
   "metadata": {},
   "source": [
    "$$z_{\\frac{1}{2}} = z_0 + W_{O}^{T}W_{V}z_{0}A(z_{0})$$\n",
    "$$ = z_{0} + W_{O}^{T}W_{V}z_{0}\\text{ softmax}_{\\text{col }}(z_{0}^{T}W_{Q}^{T}W_{K}z_{0} + D)$$\n",
    "$$= \\begin{bmatrix}\n",
    "    0 \\\\\n",
    "    1 \\\\\n",
    "\\end{bmatrix} + \\begin{bmatrix}\n",
    "    1 & 0 \\\\\n",
    "    0 & 1 \\\\\n",
    "\\end{bmatrix} \\begin{bmatrix}\n",
    "    1 & 0 \\\\\n",
    "    1 & 1 \\\\\n",
    "\\end{bmatrix} \\begin{bmatrix}\n",
    "    1 \\\\\n",
    "    \\alpha \\\\\n",
    "\\end{bmatrix} \\text{softmax}_{\\text{col } }(\\begin{bmatrix}\n",
    "    1 & \\alpha\n",
    "\\end{bmatrix}\\begin{bmatrix}\n",
    "    1 & 0 \\\\\n",
    "    0 & 1 \\\\\n",
    "\\end{bmatrix}\\begin{bmatrix}\n",
    "    1 & 0 \\\\\n",
    "    0 & 1 \\\\\n",
    "\\end{bmatrix}\\begin{bmatrix}\n",
    "    1 \\\\\n",
    "    \\alpha \\\\\n",
    "\\end{bmatrix} + 0) \\\\$$\n",
    "\n",
    "$$= \\begin{bmatrix}\n",
    "    1 \\\\\n",
    "    \\alpha \\\\\n",
    "\\end{bmatrix}+\\begin{bmatrix}\n",
    "    1 \\\\\n",
    "    \\alpha \\\\\n",
    "\\end{bmatrix}\\text{softmax}_{\\text{col }}(1+\\alpha^2)\n",
    "= 2 \\begin{bmatrix}\n",
    "    1 \\\\\n",
    "    \\alpha \\\\\n",
    "\\end{bmatrix}$$"
   ]
  },
  {
   "cell_type": "markdown",
   "metadata": {},
   "source": [
    "Deretter utføres feed-forward-laget."
   ]
  },
  {
   "cell_type": "markdown",
   "metadata": {},
   "source": [
    "$$z_1 = z_{\\frac{1}{2}} + W_{2}^{T}\\sigma(W_1 z_{\\frac{1}{2}})\\\\$$\n",
    "$$= 2\\begin{bmatrix}\n",
    "    1 \\\\\n",
    "    \\alpha \\\\\n",
    "\\end{bmatrix} + W_{2}^{T}\\text{max}(0,W_1 z_{\\frac{1}{2}})\\\\$$\n",
    "$$= 2\\begin{bmatrix}\n",
    "    1 \\\\\n",
    "    \\alpha \\\\\n",
    "\\end{bmatrix}+\\begin{bmatrix}\n",
    "    1 & 0 \\\\\n",
    "    0 & 1 \\\\\n",
    "\\end{bmatrix}\\text{max}\\Bigg(0, \\begin{bmatrix}\n",
    "    1 & 0 \\\\\n",
    "    0 & 1 \\\\\n",
    "\\end{bmatrix}2\\begin{bmatrix}\n",
    "    1 \\\\\n",
    "    \\alpha \\\\\n",
    "\\end{bmatrix}\\Bigg)\\\\$$\n",
    "$$= 4\\begin{bmatrix}\n",
    "    1\\\\\n",
    "    \\alpha \\\\\n",
    "\\end{bmatrix}$$"
   ]
  },
  {
   "cell_type": "markdown",
   "metadata": {},
   "source": [
    "Deretter benyttes $\\text{softmax}_{\\text{col}}$ for å finne sannsynlighetsfordelingen."
   ]
  },
  {
   "cell_type": "markdown",
   "metadata": {},
   "source": [
    "$$Z = \\text{softmax}_{\\text{col}}(W_{U}^{T}z_{1})\\\\$$\n",
    "$$= \\text{softmax}_{\\text{col}}\\bigg(4\\begin{bmatrix}\n",
    "        1 \\\\\n",
    "        \\alpha \\\\\n",
    "    \\end{bmatrix}\\bigg)\\\\$$\n",
    "$$= \\frac{1}{e^{4}+e^{4\\alpha}}\\begin{bmatrix}\n",
    "        e^{4} \\\\\n",
    "        e^{4\\alpha} \\\\\n",
    "    \\end{bmatrix}$$"
   ]
  },
  {
   "cell_type": "markdown",
   "metadata": {},
   "source": [
    "Det kan observeres at $\\text{argmax}_{\\text{col}}(Z)$ vil returnere $\\hat{z} = [1]$ dersom $Z_{10}$ er størst. Vi må altså ha at\n",
    "\\begin{align*}\n",
    "e^{4\\alpha} > e^{4} \\implies \\alpha > 1\\\\\n",
    "\\Box\n",
    "\\end{align*}"
   ]
  },
  {
   "cell_type": "markdown",
   "metadata": {},
   "source": [
    "#### Oppgave 2"
   ]
  },
  {
   "cell_type": "markdown",
   "metadata": {},
   "source": [
    "#### Oppgave 3.1"
   ]
  },
  {
   "cell_type": "code",
   "execution_count": 1,
   "metadata": {},
   "outputs": [],
   "source": [
    "#Importerer nødvendige bibliotek\n",
    "from layers import *\n",
    "from neural_network import NeuralNetwork\n",
    "from utils import *\n",
    "import numpy as np\n",
    "from data_generators import get_train_test_sorting\n",
    "import matplotlib.pyplot as plt"
   ]
  },
  {
   "cell_type": "markdown",
   "metadata": {},
   "source": [
    "For å teste om lagene vi har implementert fungerer, kan vi manuelt kjøre gjennom algoritmen. Vi starter med å initalisere lagene til det nevrale nettverk."
   ]
  },
  {
   "cell_type": "code",
   "execution_count": 2,
   "metadata": {},
   "outputs": [],
   "source": [
    "#definerer variabler\n",
    "r = 4\n",
    "m = 4\n",
    "\n",
    "d = 10\n",
    "k = 5\n",
    "p = 15\n",
    "L = 2\n",
    "\n",
    "embed = EmbedPosition(9,m,d)\n",
    "att1 = Attention(d,k)\n",
    "ff1 = FeedForward(d,p)\n",
    "un_embed = LinearLayer(d,m)\n",
    "softmax = Softmax()\n",
    "loss = CrossEntropy()"
   ]
  },
  {
   "cell_type": "markdown",
   "metadata": {},
   "source": [
    "Vi kan videre gi nettverket vårt en input, la oss f.eks late som vi prøver å få modellen til å sortere tallene."
   ]
  },
  {
   "cell_type": "code",
   "execution_count": 3,
   "metadata": {},
   "outputs": [],
   "source": [
    "x = np.array([[0,1,2]])\n",
    "X = onehot(x, m)\n",
    "\n",
    "z0 = embed.forward(X)\n",
    "z11 = att1.forward(z0)\n",
    "z12 = ff1.forward(z11)\n",
    "z2 = un_embed.forward(z12)\n",
    "Z = softmax.forward(z2)"
   ]
  },
  {
   "cell_type": "markdown",
   "metadata": {},
   "source": [
    "Vi kan så teste om vi fikk riktig output, som i dette tilfelle burde være at det er $0$ på siste element. Om vi har riktig output skulle loss funksjonen vårt bli 0."
   ]
  },
  {
   "cell_type": "code",
   "execution_count": 4,
   "metadata": {},
   "outputs": [
    {
     "name": "stdout",
     "output_type": "stream",
     "text": [
      "1.375685105785586\n"
     ]
    }
   ],
   "source": [
    "y = np.array([[0]])\n",
    "L = loss.forward(Z,y)\n",
    "\n",
    "print(L)"
   ]
  },
  {
   "cell_type": "markdown",
   "metadata": {},
   "source": [
    "Dette fungerte åpenbart ikke enda. Etter å ha kjørt en forward pass, er det fint å teste backwardfunksjonen til lagene. Vi starter da med å beregne den deriverte av loss funksjonen"
   ]
  },
  {
   "cell_type": "code",
   "execution_count": 5,
   "metadata": {},
   "outputs": [],
   "source": [
    "dLdz = loss.backward()\n",
    "d0 = softmax.backward(dLdz)\n",
    "d1 = un_embed.backward(d0)\n",
    "d21 = ff1.backward(d1)\n",
    "d22 = att1.backward(d21)\n",
    "d3 = embed.backward(d22)"
   ]
  },
  {
   "cell_type": "markdown",
   "metadata": {},
   "source": [
    "#### Oppgave 3.2\n",
    "\n",
    "Vi lager en generell funksjon som vil trene nettverket vårt. Denne funksjonen tar inn datasettet i batcher og gjennomfører Adam-steg for å optimalisere parametrene. Vi plotter også $\\mathcal{L}^{i}$ for $i = 0,\\dots , n_{iter} − 1$ med logaritmisk skala på y-aksen.\n"
   ]
  },
  {
   "cell_type": "code",
   "execution_count": null,
   "metadata": {},
   "outputs": [],
   "source": [
    "def test_Adam(nn: NeuralNetwork, loss, x_data, y_data, n_iters, step_size, m, start, stop):\n",
    "    n_batches = x_data.shape[0]\n",
    "    mean_losses = np.zeros(n_iters)\n",
    "    for j in range(n_iters):\n",
    "        losses = []\n",
    "        for i in range(n_batches):\n",
    "            x = x_data[i]\n",
    "            y = y_data[i][:,start:stop]\n",
    "            #Forward pass\n",
    "            X = onehot(x,m)\n",
    "            Z = nn.forward(X)\n",
    "            #Backward pass\n",
    "            losses.append(loss.forward(Z,y))\n",
    "            dLdZ = loss.backward()\n",
    "            nn.backward(dLdZ)\n",
    "            nn.step_Adam(step_size)\n",
    "        mean_loss = np.mean(losses)\n",
    "        print(\"Iterasjon \", str(j+1), \" L = \",mean_loss, \"\")\n",
    "        mean_losses[j] = mean_loss\n",
    "    #Plotter loss-funksjonen per itterasjon i en logaritmisk skala\n",
    "    plt.plot(np.arange(0,n_iters), np.log(mean_losses))\n",
    "    plt.xlabel(\"Iterasjonnummer\")\n",
    "    plt.ylabel(\"Logaritmen av loss-funksjon\")\n",
    "    plt.title(\"Minimering ved antall iterasjoner\")\n",
    "    plt.show()\n",
    "    #Returnerer gjennomsnittet over objektfunksjonen over batchene\n",
    "    return mean_losses"
   ]
  },
  {
   "cell_type": "markdown",
   "metadata": {},
   "source": [
    "#### Oppgave 3.3"
   ]
  },
  {
   "cell_type": "markdown",
   "metadata": {},
   "source": [
    "Nå som vi har implementert treningsalgoritmen vår og testet at lagene er riktig implementert, er vi klare til å trene nettverket vårt på et enkelt sorteringsproblem. Vi ønsker å trene nettverket ved å gi det usorterte tallsekvenser bestående av 5 sifre med verdi 0 eller 1, sammen med tilhørende sorterte datasett. Med korrekt konfigurert nettverk vil det kunne analysere treningsdataene og søke etter mønstre som det deretter kan bruke til å forutsi hvordan en usortert sekvens vil se ut når den er ferdig sortert."
   ]
  },
  {
   "cell_type": "code",
   "execution_count": 6,
   "metadata": {},
   "outputs": [],
   "source": [
    "#definerer variabler\n",
    "r = 5\n",
    "m = 2\n",
    "\n",
    "d = 10\n",
    "k = 5\n",
    "p = 15\n",
    "L = 2\n",
    "#Implementerer 2 lag \n",
    "embed = EmbedPosition(9,m,d)\n",
    "att1 = Attention(d,k)\n",
    "att2 = Attention(d,k)\n",
    "ff1 = FeedForward(d,p)\n",
    "ff2 = FeedForward(d,p)\n",
    "un_embed = LinearLayer(d,m)\n",
    "softmax = Softmax()\n",
    "loss = CrossEntropy()\n",
    "\n",
    "nn = NeuralNetwork([embed, att1, ff1, att2, ff2, un_embed, softmax])\n",
    "\n",
    "data = get_train_test_sorting(r, m, samples_per_batch=250,n_batches_train=20, n_batches_test=4)\n",
    "\n",
    "x_train = data['x_train']\n",
    "y_train = data['y_train']\n",
    "x_test = data['x_test']\n",
    "y_test = data['y_test']"
   ]
  },
  {
   "cell_type": "markdown",
   "metadata": {},
   "source": [
    "Med lagene initialisert og treningsdataene innhentet, er det nå på tide å starte treningen av nettverket. Vi kjører nå treningsalgoritmen som beskrevet tidligere på treningsdataene vi har hentet fra get_train_test_sorting-funksjonen. Deretter plotter vi og skriver ut tapet til objektsfunksjonen underveis."
   ]
  },
  {
   "cell_type": "code",
   "execution_count": 7,
   "metadata": {},
   "outputs": [
    {
     "ename": "NameError",
     "evalue": "name 'LinearLayer' is not defined",
     "output_type": "error",
     "traceback": [
      "\u001b[0;31m---------------------------------------------------------------------------\u001b[0m",
      "\u001b[0;31mNameError\u001b[0m                                 Traceback (most recent call last)",
      "Cell \u001b[0;32mIn[7], line 1\u001b[0m\n\u001b[0;32m----> 1\u001b[0m losses \u001b[38;5;241m=\u001b[39m \u001b[43mtest_Adam\u001b[49m\u001b[43m(\u001b[49m\u001b[43mnn\u001b[49m\u001b[43m,\u001b[49m\u001b[43m \u001b[49m\u001b[43mloss\u001b[49m\u001b[43m,\u001b[49m\u001b[43m \u001b[49m\u001b[43mdata\u001b[49m\u001b[43m[\u001b[49m\u001b[38;5;124;43m'\u001b[39;49m\u001b[38;5;124;43mx_train\u001b[39;49m\u001b[38;5;124;43m'\u001b[39;49m\u001b[43m]\u001b[49m\u001b[43m,\u001b[49m\u001b[43m \u001b[49m\u001b[43mdata\u001b[49m\u001b[43m[\u001b[49m\u001b[38;5;124;43m'\u001b[39;49m\u001b[38;5;124;43my_train\u001b[39;49m\u001b[38;5;124;43m'\u001b[39;49m\u001b[43m]\u001b[49m\u001b[43m,\u001b[49m\u001b[43m \u001b[49m\u001b[38;5;241;43m100\u001b[39;49m\u001b[43m,\u001b[49m\u001b[43m \u001b[49m\u001b[38;5;241;43m0.001\u001b[39;49m\u001b[43m,\u001b[49m\u001b[43m \u001b[49m\u001b[43mm\u001b[49m\u001b[43m,\u001b[49m\u001b[43m \u001b[49m\u001b[38;5;241;43m4\u001b[39;49m\u001b[43m,\u001b[49m\u001b[43m \u001b[49m\u001b[38;5;241;43m9\u001b[39;49m\u001b[43m)\u001b[49m\n",
      "File \u001b[0;32m~/Documents/Fag/Vitber/TMA4320-Prosjekt-2/utils.py:72\u001b[0m, in \u001b[0;36mtest_Adam\u001b[0;34m(nn, loss, x_data, y_data, n_iters, step_size, m, start, stop)\u001b[0m\n\u001b[1;32m     70\u001b[0m     dLdZ \u001b[38;5;241m=\u001b[39m loss\u001b[38;5;241m.\u001b[39mbackward()\n\u001b[1;32m     71\u001b[0m     nn\u001b[38;5;241m.\u001b[39mbackward(dLdZ)\n\u001b[0;32m---> 72\u001b[0m     \u001b[43mnn\u001b[49m\u001b[38;5;241;43m.\u001b[39;49m\u001b[43mstep_Adam\u001b[49m\u001b[43m(\u001b[49m\u001b[43mstep_size\u001b[49m\u001b[43m)\u001b[49m\n\u001b[1;32m     73\u001b[0m mean_loss \u001b[38;5;241m=\u001b[39m np\u001b[38;5;241m.\u001b[39mmean(losses)\n\u001b[1;32m     74\u001b[0m \u001b[38;5;28mprint\u001b[39m(\u001b[38;5;124m\"\u001b[39m\u001b[38;5;124mIterasjon \u001b[39m\u001b[38;5;124m\"\u001b[39m, \u001b[38;5;28mstr\u001b[39m(j\u001b[38;5;241m+\u001b[39m\u001b[38;5;241m1\u001b[39m), \u001b[38;5;124m\"\u001b[39m\u001b[38;5;124m L = \u001b[39m\u001b[38;5;124m\"\u001b[39m,mean_loss, \u001b[38;5;124m\"\u001b[39m\u001b[38;5;124m\"\u001b[39m)\n",
      "File \u001b[0;32m~/Documents/Fag/Vitber/TMA4320-Prosjekt-2/neural_network.py:50\u001b[0m, in \u001b[0;36mNeuralNetwork.step_Adam\u001b[0;34m(self, alpha, beta1, beta2, epsilon)\u001b[0m\n\u001b[1;32m     44\u001b[0m \u001b[38;5;250m\u001b[39m\u001b[38;5;124;03m\"\"\"\u001b[39;00m\n\u001b[1;32m     45\u001b[0m \u001b[38;5;124;03mPerform a gradient descent step for each layer,\u001b[39;00m\n\u001b[1;32m     46\u001b[0m \u001b[38;5;124;03mbut only if it is of the class LinearLayer.\u001b[39;00m\n\u001b[1;32m     47\u001b[0m \u001b[38;5;124;03m\"\"\"\u001b[39;00m\n\u001b[1;32m     48\u001b[0m \u001b[38;5;28;01mfor\u001b[39;00m layer \u001b[38;5;129;01min\u001b[39;00m \u001b[38;5;28mself\u001b[39m\u001b[38;5;241m.\u001b[39mlayers:\n\u001b[1;32m     49\u001b[0m     \u001b[38;5;66;03m#Check if layer is of class a class that has parameters\u001b[39;00m\n\u001b[0;32m---> 50\u001b[0m     \u001b[38;5;28;01mif\u001b[39;00m \u001b[38;5;28misinstance\u001b[39m(layer,(\u001b[43mLinearLayer\u001b[49m,EmbedPosition,FeedForward,Attention)):\n\u001b[1;32m     51\u001b[0m         layer\u001b[38;5;241m.\u001b[39mstep_Adam(alpha, beta1, beta2, epsilon)\n\u001b[1;32m     52\u001b[0m \u001b[38;5;28;01mreturn\u001b[39;00m\n",
      "\u001b[0;31mNameError\u001b[0m: name 'LinearLayer' is not defined"
     ]
    }
   ],
   "source": [
    "losses = test_Adam(nn, loss, data['x_train'], data['y_train'], 100, 0.001, m, 4, 9)"
   ]
  },
  {
   "cell_type": "markdown",
   "metadata": {},
   "source": [
    "Som vi ser optimerer vi objektfunksjonen gjennom treningen."
   ]
  },
  {
   "cell_type": "markdown",
   "metadata": {},
   "source": [
    "#### Tester for én iterasjon for å se om den greier å predikere neste verdi"
   ]
  },
  {
   "cell_type": "code",
   "execution_count": null,
   "metadata": {},
   "outputs": [
    {
     "name": "stdout",
     "output_type": "stream",
     "text": [
      "[[1 1 1 1 0]]\n"
     ]
    }
   ],
   "source": [
    "x = np.array([[1, 0 ,0, 1, 0]])\n",
    "X = onehot(x, m)\n",
    "\n",
    "#forward pass\n",
    "Z = nn.forward(X)\n",
    "z_hat = np.argmax(Z, axis=1)\n",
    "\n",
    "print(z_hat)"
   ]
  },
  {
   "cell_type": "markdown",
   "metadata": {},
   "source": [
    "Når vi sender inn arrayet [1, 0, 0, 1, 1], vil vi ved å sende det gjennom algoritmen få predikert den første predikerte verdien som det siste elementet i det returnerte arrayet, som beskrevet i avsnitt 1.2. Siden algoritmen sorterer verdiene i arrayet bestående av 0 og 1, forventer vi at det første sifferet i det sorterte arrayet blir 0. Deretter, for å predikere resten av sekvensen, mater vi inn det siste elementet i det predikerte arrayet tilbake inn i arrayet vi sender gjennom 'forward'-steget, og fortsetter prediksjonen derfra."
   ]
  },
  {
   "cell_type": "markdown",
   "metadata": {},
   "source": [
    "Videre har vi definert funksjonene predict i neural_network og countCorrect i utils.py som tar inn testdataen til det nevrale nettverket vårt, predikerer svarene ut ifra dataen, for så å sjekke hvor stor andel av prediksjonene som var riktige. Dermed kan vi se hvorvidt nettverket vårt klarer å sortere eller ikke."
   ]
  },
  {
   "cell_type": "code",
   "execution_count": null,
   "metadata": {},
   "outputs": [
    {
     "name": "stdout",
     "output_type": "stream",
     "text": [
      "Antall rette prediksjoner: 1000\n",
      "Totalt antall prediksjoner: 1000\n",
      "Prosentvis riktige predikasjoner: 100.0 %\n"
     ]
    }
   ],
   "source": [
    "#Kaller på prediksjonsfunksjonen\n",
    "y_hats = nn.predict(x_test, 2, 5)\n",
    "#Teller antall rette prediksjoner\n",
    "tell = countCorrect_sort(y_hats, y_test)"
   ]
  },
  {
   "cell_type": "markdown",
   "metadata": {},
   "source": [
    "Når to forskjellige verdier kan forekomme på fem ulike steder, resulterer dette i totalt $32$ mulige kombinasjoner $(2^5 = 32)$. Denne variasjonen gjør det praktisk talt umulig å teste algoritmen vår med nye sekvenser. Ideelt sett ville tapet ha tendert mot null, og prediksjonene ville vært korrekte hver gang, siden algoritmen burde gjenkjenne det riktige svaret $(y)$ i stedet for å forutsi neste sekvens. Hvis dette ikke skjer, kan det tyde på feil i det nevrale nettverket eller treningsdataen."
   ]
  },
  {
   "cell_type": "markdown",
   "metadata": {},
   "source": [
    "Nå som vi ser at det nevrale nettverket blir trent riktig, kan vi prøve å løse det samme problemet med tallsekvenser på lengde $7$ og tall fra $0$ til $4$."
   ]
  },
  {
   "cell_type": "code",
   "execution_count": null,
   "metadata": {},
   "outputs": [],
   "source": [
    "#Initialiserer to lag og henter ny treningsdata likt som tidligere\n",
    "#definerer variabler\n",
    "r = 7\n",
    "m = 5\n",
    "n_max = 2*r-1\n",
    "\n",
    "d = 20\n",
    "k = 10\n",
    "p = 25\n",
    "L = 2\n",
    "\n",
    "embed = EmbedPosition(n_max,m,d)\n",
    "att1 = Attention(d,k)\n",
    "att2 = Attention(d,k)\n",
    "\n",
    "ff1 = FeedForward(d,p)\n",
    "ff2 = FeedForward(d,p)\n",
    "\n",
    "un_embed = LinearLayer(d,m)\n",
    "softmax = Softmax()\n",
    "loss = CrossEntropy()\n",
    "\n",
    "nn = NeuralNetwork([embed, att1, ff1, att2, ff2, un_embed, softmax])\n",
    "\n",
    "data = get_train_test_sorting(r, m, samples_per_batch=250,n_batches_train=10, n_batches_test=4)\n",
    "\n",
    "x_train = data['x_train']\n",
    "y_train = data['y_train']\n",
    "x_test = data['x_test']\n",
    "y_test = data['y_test']\n"
   ]
  },
  {
   "cell_type": "markdown",
   "metadata": {},
   "source": [
    "Trener modellen på den nye dataen for å optimere prediksjonene."
   ]
  },
  {
   "cell_type": "code",
   "execution_count": null,
   "metadata": {},
   "outputs": [
    {
     "name": "stdout",
     "output_type": "stream",
     "text": [
      "Iterasjon  1  L =  1.6245770985313612 \n",
      "Iterasjon  2  L =  1.5913996761523581 \n",
      "Iterasjon  3  L =  1.553197595417506 \n",
      "Iterasjon  4  L =  1.5004498324524 \n",
      "Iterasjon  5  L =  1.4146173147274594 \n",
      "Iterasjon  6  L =  1.280067495144595 \n",
      "Iterasjon  7  L =  1.124871934481124 \n",
      "Iterasjon  8  L =  0.9939006434469789 \n",
      "Iterasjon  9  L =  0.8926396900029694 \n",
      "Iterasjon  10  L =  0.8133188839347646 \n",
      "Iterasjon  11  L =  0.7649828298554373 \n",
      "Iterasjon  12  L =  0.7251105581915667 \n",
      "Iterasjon  13  L =  0.6985330193730983 \n",
      "Iterasjon  14  L =  0.6805318506661574 \n",
      "Iterasjon  15  L =  0.6930123694344583 \n",
      "Iterasjon  16  L =  0.6591416220199532 \n",
      "Iterasjon  17  L =  0.6372355196430309 \n",
      "Iterasjon  18  L =  0.6011432540728882 \n",
      "Iterasjon  19  L =  0.5605862671120757 \n",
      "Iterasjon  20  L =  0.5423990829923178 \n",
      "Iterasjon  21  L =  0.5198268661980078 \n",
      "Iterasjon  22  L =  0.5028012720002629 \n",
      "Iterasjon  23  L =  0.5004772523341381 \n",
      "Iterasjon  24  L =  0.4959203275064291 \n",
      "Iterasjon  25  L =  0.4866633067193601 \n",
      "Iterasjon  26  L =  0.4703458880075785 \n",
      "Iterasjon  27  L =  0.4531952384634031 \n",
      "Iterasjon  28  L =  0.4235817502316534 \n",
      "Iterasjon  29  L =  0.4093329540999564 \n",
      "Iterasjon  30  L =  0.39263120072039814 \n",
      "Iterasjon  31  L =  0.3861741759516715 \n",
      "Iterasjon  32  L =  0.3757720793125284 \n",
      "Iterasjon  33  L =  0.38025422873673 \n",
      "Iterasjon  34  L =  0.37784326018307635 \n",
      "Iterasjon  35  L =  0.38730541534170576 \n",
      "Iterasjon  36  L =  0.38440436711325576 \n",
      "Iterasjon  37  L =  0.38456245465861416 \n",
      "Iterasjon  38  L =  0.3778186070799867 \n",
      "Iterasjon  39  L =  0.36261908652483704 \n",
      "Iterasjon  40  L =  0.35284980234825536 \n",
      "Iterasjon  41  L =  0.3301602792454984 \n",
      "Iterasjon  42  L =  0.3137654793230362 \n",
      "Iterasjon  43  L =  0.2981957078684453 \n",
      "Iterasjon  44  L =  0.28601444724243696 \n",
      "Iterasjon  45  L =  0.2744588290674882 \n",
      "Iterasjon  46  L =  0.2612710810318696 \n",
      "Iterasjon  47  L =  0.2548557241786525 \n",
      "Iterasjon  48  L =  0.24628847032132 \n",
      "Iterasjon  49  L =  0.2436959240999334 \n",
      "Iterasjon  50  L =  0.24208405282572948 \n",
      "Iterasjon  51  L =  0.2395280218914575 \n",
      "Iterasjon  52  L =  0.24650327475525788 \n",
      "Iterasjon  53  L =  0.2561373752736201 \n",
      "Iterasjon  54  L =  0.26346932584985094 \n",
      "Iterasjon  55  L =  0.25772477415353 \n",
      "Iterasjon  56  L =  0.24309909922337541 \n",
      "Iterasjon  57  L =  0.22691263223431274 \n",
      "Iterasjon  58  L =  0.20903090478730824 \n",
      "Iterasjon  59  L =  0.19202467280402802 \n",
      "Iterasjon  60  L =  0.18624248626146533 \n",
      "Iterasjon  61  L =  0.1770902132922047 \n",
      "Iterasjon  62  L =  0.17377306449571522 \n",
      "Iterasjon  63  L =  0.1631562422740931 \n",
      "Iterasjon  64  L =  0.17231167781712625 \n",
      "Iterasjon  65  L =  0.16612124090984937 \n",
      "Iterasjon  66  L =  0.17750149460527115 \n",
      "Iterasjon  67  L =  0.17398993734636709 \n",
      "Iterasjon  68  L =  0.1775399871606686 \n",
      "Iterasjon  69  L =  0.1654191567964299 \n",
      "Iterasjon  70  L =  0.15828472311381195 \n",
      "Iterasjon  71  L =  0.15214885583588533 \n",
      "Iterasjon  72  L =  0.14974516296521764 \n",
      "Iterasjon  73  L =  0.15269175307862753 \n",
      "Iterasjon  74  L =  0.14054788231396595 \n",
      "Iterasjon  75  L =  0.14075770782256256 \n",
      "Iterasjon  76  L =  0.12076113190154614 \n",
      "Iterasjon  77  L =  0.10796391080520966 \n",
      "Iterasjon  78  L =  0.10465155981009233 \n",
      "Iterasjon  79  L =  0.10637975868090137 \n",
      "Iterasjon  80  L =  0.09943327614163587 \n",
      "Iterasjon  81  L =  0.09401964566168099 \n",
      "Iterasjon  82  L =  0.09251826338563279 \n",
      "Iterasjon  83  L =  0.08948198127067013 \n",
      "Iterasjon  84  L =  0.08705019077919726 \n",
      "Iterasjon  85  L =  0.08448375673671596 \n",
      "Iterasjon  86  L =  0.08250577746029585 \n",
      "Iterasjon  87  L =  0.07826576662339611 \n",
      "Iterasjon  88  L =  0.07767378429831134 \n",
      "Iterasjon  89  L =  0.07234946493910789 \n",
      "Iterasjon  90  L =  0.0748178360234308 \n",
      "Iterasjon  91  L =  0.06441157008999499 \n",
      "Iterasjon  92  L =  0.05996331245242394 \n",
      "Iterasjon  93  L =  0.04996860256523496 \n",
      "Iterasjon  94  L =  0.04345934584832487 \n",
      "Iterasjon  95  L =  0.04114357805682216 \n",
      "Iterasjon  96  L =  0.036213416501902206 \n",
      "Iterasjon  97  L =  0.03463860770954038 \n",
      "Iterasjon  98  L =  0.03123046738628585 \n",
      "Iterasjon  99  L =  0.027513385649687083 \n",
      "Iterasjon  100  L =  0.024193523427167452 \n",
      "Iterasjon  101  L =  0.01848751983428105 \n",
      "Iterasjon  102  L =  0.01661998539064371 \n",
      "Iterasjon  103  L =  0.015454811312760313 \n",
      "Iterasjon  104  L =  0.0123432319885156 \n",
      "Iterasjon  105  L =  0.010788423261083434 \n",
      "Iterasjon  106  L =  0.009980611534649717 \n",
      "Iterasjon  107  L =  0.008805750077613963 \n",
      "Iterasjon  108  L =  0.008544295630703927 \n",
      "Iterasjon  109  L =  0.007997836005273672 \n",
      "Iterasjon  110  L =  0.00753709638037349 \n",
      "Iterasjon  111  L =  0.007257951420781441 \n",
      "Iterasjon  112  L =  0.0069308456525982625 \n",
      "Iterasjon  113  L =  0.006631940300970815 \n",
      "Iterasjon  114  L =  0.006378395511453043 \n",
      "Iterasjon  115  L =  0.006127226921556473 \n",
      "Iterasjon  116  L =  0.00589252704832808 \n",
      "Iterasjon  117  L =  0.005674097368328133 \n",
      "Iterasjon  118  L =  0.005466017799668072 \n",
      "Iterasjon  119  L =  0.005270200933471035 \n",
      "Iterasjon  120  L =  0.005083024324057866 \n",
      "Iterasjon  121  L =  0.004904958362999713 \n",
      "Iterasjon  122  L =  0.00473720286956876 \n",
      "Iterasjon  123  L =  0.004576608842705205 \n",
      "Iterasjon  124  L =  0.004423085449200744 \n",
      "Iterasjon  125  L =  0.004277462028307251 \n",
      "Iterasjon  126  L =  0.004138164053830361 \n",
      "Iterasjon  127  L =  0.004004652679906345 \n",
      "Iterasjon  128  L =  0.00387752620755457 \n",
      "Iterasjon  129  L =  0.00375606261921243 \n",
      "Iterasjon  130  L =  0.0036389941108738782 \n",
      "Iterasjon  131  L =  0.003526695165113209 \n",
      "Iterasjon  132  L =  0.003419144659923652 \n",
      "Iterasjon  133  L =  0.0033154818959890294 \n",
      "Iterasjon  134  L =  0.003216051382285974 \n",
      "Iterasjon  135  L =  0.0031209044179018068 \n",
      "Iterasjon  136  L =  0.003029703077587195 \n",
      "Iterasjon  137  L =  0.0029423274013207724 \n",
      "Iterasjon  138  L =  0.002858263903506444 \n",
      "Iterasjon  139  L =  0.0027772841542027383 \n",
      "Iterasjon  140  L =  0.00269919994741713 \n",
      "Iterasjon  141  L =  0.002623743933743425 \n",
      "Iterasjon  142  L =  0.002551790016453205 \n",
      "Iterasjon  143  L =  0.0024822322950197504 \n",
      "Iterasjon  144  L =  0.002415337133877749 \n",
      "Iterasjon  145  L =  0.0023510489241763575 \n",
      "Iterasjon  146  L =  0.002288975431450365 \n",
      "Iterasjon  147  L =  0.0022290292805616833 \n",
      "Iterasjon  148  L =  0.002170838903504368 \n",
      "Iterasjon  149  L =  0.0021131429459876607 \n",
      "Iterasjon  150  L =  0.002057873223026173 \n",
      "Iterasjon  151  L =  0.0020036222346191037 \n",
      "Iterasjon  152  L =  0.0019516324633942282 \n",
      "Iterasjon  153  L =  0.0019014785320888219 \n",
      "Iterasjon  154  L =  0.0018533320752529923 \n",
      "Iterasjon  155  L =  0.0018069919601102838 \n",
      "Iterasjon  156  L =  0.0017623855346028602 \n",
      "Iterasjon  157  L =  0.0017193898343724628 \n",
      "Iterasjon  158  L =  0.001677911730674849 \n",
      "Iterasjon  159  L =  0.001637809612472918 \n",
      "Iterasjon  160  L =  0.0015990639932218856 \n",
      "Iterasjon  161  L =  0.0015616866512876948 \n",
      "Iterasjon  162  L =  0.0015255371205112659 \n",
      "Iterasjon  163  L =  0.0014906567357281391 \n",
      "Iterasjon  164  L =  0.0014569072060283818 \n",
      "Iterasjon  165  L =  0.0014243352458170881 \n",
      "Iterasjon  166  L =  0.0013928379062543125 \n",
      "Iterasjon  167  L =  0.0013623821504808466 \n",
      "Iterasjon  168  L =  0.0013328907701205385 \n",
      "Iterasjon  169  L =  0.0013043051153652746 \n",
      "Iterasjon  170  L =  0.001276555223470396 \n",
      "Iterasjon  171  L =  0.0012495962257813938 \n",
      "Iterasjon  172  L =  0.0012234053769931649 \n",
      "Iterasjon  173  L =  0.0011980342076032865 \n",
      "Iterasjon  174  L =  0.001173385590968933 \n",
      "Iterasjon  175  L =  0.0011494211088367197 \n",
      "Iterasjon  176  L =  0.0011261045129581759 \n",
      "Iterasjon  177  L =  0.0011034367255551378 \n",
      "Iterasjon  178  L =  0.001081430809986696 \n",
      "Iterasjon  179  L =  0.0010600439109274087 \n",
      "Iterasjon  180  L =  0.001039231024838758 \n",
      "Iterasjon  181  L =  0.0010189884282061962 \n",
      "Iterasjon  182  L =  0.0009993063927447212 \n",
      "Iterasjon  183  L =  0.0009801566582369843 \n",
      "Iterasjon  184  L =  0.0009615204616668871 \n",
      "Iterasjon  185  L =  0.00094337868156241 \n",
      "Iterasjon  186  L =  0.0009256805233007084 \n",
      "Iterasjon  187  L =  0.0009084263079809226 \n",
      "Iterasjon  188  L =  0.0008916736752757531 \n",
      "Iterasjon  189  L =  0.0008753620369444557 \n",
      "Iterasjon  190  L =  0.0008593506764049137 \n",
      "Iterasjon  191  L =  0.0008439053491547247 \n",
      "Iterasjon  192  L =  0.0008287291602359163 \n",
      "Iterasjon  193  L =  0.0008139524603503143 \n",
      "Iterasjon  194  L =  0.0007995835556267164 \n",
      "Iterasjon  195  L =  0.0007855672671787904 \n",
      "Iterasjon  196  L =  0.0007718945758227349 \n",
      "Iterasjon  197  L =  0.000758508644232959 \n",
      "Iterasjon  198  L =  0.00074540333461939 \n",
      "Iterasjon  199  L =  0.0007326247966100679 \n",
      "Iterasjon  200  L =  0.0007201562451050325 \n",
      "Iterasjon  201  L =  0.0007079726184448052 \n",
      "Iterasjon  202  L =  0.0006960700793689573 \n",
      "Iterasjon  203  L =  0.0006844431740728834 \n",
      "Iterasjon  204  L =  0.0006729050595646473 \n",
      "Iterasjon  205  L =  0.0006620131525333072 \n",
      "Iterasjon  206  L =  0.0006512869840484823 \n",
      "Iterasjon  207  L =  0.0006404632754395786 \n",
      "Iterasjon  208  L =  0.0006302853451738338 \n",
      "Iterasjon  209  L =  0.0006202102684436169 \n",
      "Iterasjon  210  L =  0.0006102055169826721 \n",
      "Iterasjon  211  L =  0.0006004633336750129 \n",
      "Iterasjon  212  L =  0.000591262769394253 \n",
      "Iterasjon  213  L =  0.0005818563015299978 \n",
      "Iterasjon  214  L =  0.0005726957461467357 \n",
      "Iterasjon  215  L =  0.0005640949836311027 \n",
      "Iterasjon  216  L =  0.0005553941023507171 \n",
      "Iterasjon  217  L =  0.0005468363686033848 \n",
      "Iterasjon  218  L =  0.0005385315454511186 \n",
      "Iterasjon  219  L =  0.0005304617879594401 \n",
      "Iterasjon  220  L =  0.0005225693107257234 \n",
      "Iterasjon  221  L =  0.0005148394818014319 \n",
      "Iterasjon  222  L =  0.0005072484472982714 \n",
      "Iterasjon  223  L =  0.0004998067818654618 \n",
      "Iterasjon  224  L =  0.0004925174853242988 \n",
      "Iterasjon  225  L =  0.000485370784091468 \n",
      "Iterasjon  226  L =  0.0004783557563318063 \n",
      "Iterasjon  227  L =  0.00047147334957709744 \n",
      "Iterasjon  228  L =  0.0004647208995501922 \n",
      "Iterasjon  229  L =  0.0004581045035350487 \n",
      "Iterasjon  230  L =  0.000451612549925107 \n",
      "Iterasjon  231  L =  0.00044523853491608087 \n",
      "Iterasjon  232  L =  0.00043898866980610453 \n",
      "Iterasjon  233  L =  0.0004328611140110722 \n",
      "Iterasjon  234  L =  0.0004268421069913681 \n",
      "Iterasjon  235  L =  0.00042093663589522846 \n",
      "Iterasjon  236  L =  0.00041514032929051357 \n",
      "Iterasjon  237  L =  0.0004094487587488839 \n",
      "Iterasjon  238  L =  0.0004038633201467556 \n",
      "Iterasjon  239  L =  0.0003983839235157235 \n",
      "Iterasjon  240  L =  0.0003929981825638404 \n",
      "Iterasjon  241  L =  0.0003877093605124669 \n",
      "Iterasjon  242  L =  0.00038251294555142513 \n",
      "Iterasjon  243  L =  0.0003774122725030868 \n",
      "Iterasjon  244  L =  0.0003724044346227065 \n",
      "Iterasjon  245  L =  0.00036748113853753546 \n",
      "Iterasjon  246  L =  0.0003626459390672275 \n",
      "Iterasjon  247  L =  0.0003578988357222948 \n",
      "Iterasjon  248  L =  0.00035322412682551403 \n",
      "Iterasjon  249  L =  0.0003486213330413032 \n",
      "Iterasjon  250  L =  0.0003440977304497436 \n",
      "Iterasjon  251  L =  0.0003396486267287915 \n",
      "Iterasjon  252  L =  0.0003352780213935572 \n",
      "Iterasjon  253  L =  0.0003309810121101779 \n",
      "Iterasjon  254  L =  0.00032675405148391816 \n",
      "Iterasjon  255  L =  0.00032259934848661534 \n",
      "Iterasjon  256  L =  0.00031851095133626534 \n",
      "Iterasjon  257  L =  0.00031449612363687043 \n",
      "Iterasjon  258  L =  0.0003105464183046234 \n",
      "Iterasjon  259  L =  0.0003066615051076736 \n",
      "Iterasjon  260  L =  0.0003028397972682226 \n",
      "Iterasjon  261  L =  0.0002990816522964705 \n",
      "Iterasjon  262  L =  0.00029537946745419104 \n",
      "Iterasjon  263  L =  0.00029173720166830887 \n",
      "Iterasjon  264  L =  0.00028815577605581077 \n",
      "Iterasjon  265  L =  0.00028463491760415203 \n",
      "Iterasjon  266  L =  0.00028116661569687175 \n",
      "Iterasjon  267  L =  0.0002777530998369552 \n",
      "Iterasjon  268  L =  0.0002743938892775789 \n",
      "Iterasjon  269  L =  0.00027105461508688264 \n",
      "Iterasjon  270  L =  0.00026782830181996974 \n",
      "Iterasjon  271  L =  0.0002646539841060534 \n",
      "Iterasjon  272  L =  0.0002614771942806165 \n",
      "Iterasjon  273  L =  0.00025840198047635045 \n",
      "Iterasjon  274  L =  0.00025532768610568845 \n",
      "Iterasjon  275  L =  0.0002523637032372455 \n",
      "Iterasjon  276  L =  0.00024939009311654805 \n",
      "Iterasjon  277  L =  0.00024650406167192195 \n",
      "Iterasjon  278  L =  0.00024362934803707006 \n",
      "Iterasjon  279  L =  0.0002407893368197502 \n",
      "Iterasjon  280  L =  0.00023804815122537205 \n",
      "Iterasjon  281  L =  0.00023530396861791317 \n",
      "Iterasjon  282  L =  0.00023259432132784053 \n",
      "Iterasjon  283  L =  0.00022993052082829275 \n",
      "Iterasjon  284  L =  0.00022735570733428847 \n",
      "Iterasjon  285  L =  0.000224773747920501 \n",
      "Iterasjon  286  L =  0.00022221809825023674 \n",
      "Iterasjon  287  L =  0.00021970558837526994 \n",
      "Iterasjon  288  L =  0.00021724023612962597 \n",
      "Iterasjon  289  L =  0.00021481771806718233 \n",
      "Iterasjon  290  L =  0.0002124327372910492 \n",
      "Iterasjon  291  L =  0.00021007809802224857 \n",
      "Iterasjon  292  L =  0.00020775505876471332 \n",
      "Iterasjon  293  L =  0.000205465217577451 \n",
      "Iterasjon  294  L =  0.00020320869390939544 \n",
      "Iterasjon  295  L =  0.0002009834267300158 \n",
      "Iterasjon  296  L =  0.0001987892362610995 \n",
      "Iterasjon  297  L =  0.00019662725552861202 \n",
      "Iterasjon  298  L =  0.00019449208879770004 \n",
      "Iterasjon  299  L =  0.0001923858039696826 \n",
      "Iterasjon  300  L =  0.00019030769095598938 \n"
     ]
    },
    {
     "data": {
      "image/png": "[encoded data removed]",
      "text/plain": [
       "<Figure size 432x288 with 1 Axes>"
      ]
     },
     "metadata": {
      "needs_background": "light"
     },
     "output_type": "display_data"
    }
   ],
   "source": [
    "losses = test_Adam(nn, loss, data['x_train'], data['y_train'], 300, 0.001, m, 6, 13)"
   ]
  },
  {
   "cell_type": "markdown",
   "metadata": {},
   "source": [
    "Som vi ser går også loss-funksjonen her mot 0, men i en lavere grad enn tidligere. Dette kan indikere at nettverket vårt sliter litt mer med å stadfeste klare mønster og sammenhenger, men verdien er likevel lav nok til at vi burde forvente riktig prediksjon store deler av tiden. "
   ]
  },
  {
   "cell_type": "markdown",
   "metadata": {},
   "source": [
    "Vi kan derfor teste med noen enkle tilfeller for å bekrefte at vi får riktig prediksjon."
   ]
  },
  {
   "cell_type": "code",
   "execution_count": null,
   "metadata": {},
   "outputs": [
    {
     "name": "stdout",
     "output_type": "stream",
     "text": [
      "[3 0 4 1 4 3 2] -> [0 1 2 3 3 4 4]\n",
      "[4 2 2 1 0 2 4] -> [0 1 2 2 2 4 4]\n",
      "[1 2 0 1 3 0 4] -> [0 0 1 1 2 3 4]\n"
     ]
    }
   ],
   "source": [
    "x = np.array([[[3, 0, 4, 1, 4, 3, 2]]])\n",
    "print(x[0,0], \"->\",(nn.predict(x, 5, 7))[0,0])\n",
    "x = np.array([[[4, 2, 2, 1, 0, 2, 4]]])\n",
    "print(x[0,0], \"->\",(nn.predict(x, 5, 7))[0,0])\n",
    "x = np.array([[[1, 2, 0, 1, 3, 0, 4]]])\n",
    "print(x[0,0], \"->\",(nn.predict(x, 5, 7))[0,0])"
   ]
  },
  {
   "cell_type": "markdown",
   "metadata": {},
   "source": [
    "Vi ser at nettverket vårt klarer å predikere riktig for disse tilfellene. Likevel kan det være fordelaktig å teste det med et større datasett for å få en dypere forståelse av nettverkets treningsnivå."
   ]
  },
  {
   "cell_type": "markdown",
   "metadata": {},
   "source": [
    "get_train_test_sorting-funksjonen leverer ikke bare treningsdata for nettverket vårt, men også testdata som nettverket ikke har blitt eksponert for under treningen. Dette lar oss evaluere hvor godt nettverket vårt kan forutsi sortering av tall, da det blir testet på prediksjonsevnen, ikke bare på gjenkjennelse av treningsdataen."
   ]
  },
  {
   "cell_type": "code",
   "execution_count": null,
   "metadata": {},
   "outputs": [
    {
     "name": "stdout",
     "output_type": "stream",
     "text": [
      "Antall rette prediksjoner: 996\n",
      "Totalt antall prediksjoner: 1000\n",
      "Prosentvis riktige predikasjoner: 99.6 %\n"
     ]
    }
   ],
   "source": [
    "#Henter prediksjonsfunksjonen\n",
    "y_hats = nn.predict(x_test, 5, 7)\n",
    "#Finner andelen av riktige prediksjoner\n",
    "tell = countCorrect_sort(y_hats, y_test)"
   ]
  },
  {
   "cell_type": "markdown",
   "metadata": {},
   "source": [
    "Også her ser vi at modellen vår er godt trent på å sortere riktig, selv med ny data og flere mulige kombinasjoner."
   ]
  },
  {
   "cell_type": "markdown",
   "metadata": {},
   "source": [
    "#### Oppgave 3.4"
   ]
  },
  {
   "cell_type": "markdown",
   "metadata": {},
   "source": [
    "Nå som vi har demonstrert muligheten til å trene det nevrale nettverket til å sortere tall, ønsker vi å utforske om det kan lære enkel addisjon. Denne tilnærmingen ligner på sorteringen, men her øker vi mengden treningsdata i håp om å oppnå en godt trent modell som kan forutsi riktig resultat store deler av tiden."
   ]
  },
  {
   "cell_type": "markdown",
   "metadata": {},
   "source": [
    "Vi starter med å initialisere 3 lag, definere nødvendige variabler og hente ut treningsdata."
   ]
  },
  {
   "cell_type": "code",
   "execution_count": null,
   "metadata": {},
   "outputs": [],
   "source": [
    "from data_generators import get_train_test_addition\n",
    "#definerer variabler\n",
    "r = 4\n",
    "m = 10\n",
    "n_max = 3*r\n",
    "\n",
    "d = 30\n",
    "k = 20\n",
    "p = 40\n",
    "L = 3\n",
    "\n",
    "#Lager 3 lag til nn\n",
    "att1 = Attention(d,k)\n",
    "att2 = Attention(d,k)\n",
    "att3 = Attention(d,k)\n",
    "\n",
    "ff1 = FeedForward(d,p)\n",
    "ff2 = FeedForward(d,p)\n",
    "ff3 = FeedForward(d,p)\n",
    "\n",
    "embed = EmbedPosition(n_max,m,d)\n",
    "un_embed = LinearLayer(d,m)\n",
    "softmax = Softmax()\n",
    "loss = CrossEntropy()\n",
    "\n",
    "#Lager det nevrale nettverket på nytt\n",
    "nn = NeuralNetwork([embed, att1, ff1, att2, ff2, att3, ff3, un_embed, softmax])\n",
    "#implementerer trenignsdata. 2 siffer i tallene vi adderer, 20 batches med 250 samples per batch, og 4 batches vi kan teste med\n",
    "data = get_train_test_addition(2, samples_per_batch=250,n_batches_train=20, n_batches_test=20)\n",
    "#Henter ut data\n",
    "x_train = data['x_train']\n",
    "y_train = data['y_train']\n",
    "x_test = data['x_test']\n",
    "y_test = data['y_test']"
   ]
  },
  {
   "cell_type": "markdown",
   "metadata": {},
   "source": [
    "Nå kan vi beregne, plotte og skrive ut tapet til objektsfunksjonen ved hver iterasjon ved hjelp av den samme funksjonen som tidligere."
   ]
  },
  {
   "cell_type": "code",
   "execution_count": null,
   "metadata": {},
   "outputs": [
    {
     "name": "stdout",
     "output_type": "stream",
     "text": [
      "Iterasjon  1  L =  0.04970892901148065 \n",
      "Iterasjon  2  L =  0.041850564340573375 \n",
      "Iterasjon  3  L =  0.03498739088913018 \n",
      "Iterasjon  4  L =  0.029691071925303077 \n",
      "Iterasjon  5  L =  0.026330458113428896 \n",
      "Iterasjon  6  L =  0.02325449025957194 \n",
      "Iterasjon  7  L =  0.019958151416149403 \n",
      "Iterasjon  8  L =  0.017599261662449565 \n",
      "Iterasjon  9  L =  0.01679893344022996 \n",
      "Iterasjon  10  L =  0.01640285150327481 \n",
      "Iterasjon  11  L =  0.015614390640195711 \n",
      "Iterasjon  12  L =  0.014381098338374403 \n",
      "Iterasjon  13  L =  0.018720072573518702 \n",
      "Iterasjon  14  L =  0.0182093467016048 \n",
      "Iterasjon  15  L =  0.014203452725830925 \n",
      "Iterasjon  16  L =  0.011010712719091266 \n",
      "Iterasjon  17  L =  0.008705712972002764 \n",
      "Iterasjon  18  L =  0.00801485837952513 \n",
      "Iterasjon  19  L =  0.007644911017748659 \n",
      "Iterasjon  20  L =  0.007279979055003769 \n",
      "Iterasjon  21  L =  0.006153221928776975 \n",
      "Iterasjon  22  L =  0.005548553490911281 \n",
      "Iterasjon  23  L =  0.004990096484271985 \n",
      "Iterasjon  24  L =  0.004638429367313722 \n",
      "Iterasjon  25  L =  0.00432380015109105 \n",
      "Iterasjon  26  L =  0.004015582043689679 \n",
      "Iterasjon  27  L =  0.003753763419782375 \n",
      "Iterasjon  28  L =  0.003521237690290955 \n",
      "Iterasjon  29  L =  0.0033267479181910984 \n",
      "Iterasjon  30  L =  0.0031410607439971094 \n",
      "Iterasjon  31  L =  0.002967813427508119 \n",
      "Iterasjon  32  L =  0.0028106684385704366 \n",
      "Iterasjon  33  L =  0.0026691134006650748 \n",
      "Iterasjon  34  L =  0.002536009918073492 \n",
      "Iterasjon  35  L =  0.0024150326360378796 \n",
      "Iterasjon  36  L =  0.0023011405875926587 \n",
      "Iterasjon  37  L =  0.00219526658763933 \n",
      "Iterasjon  38  L =  0.002096855678287177 \n",
      "Iterasjon  39  L =  0.0020061164427447307 \n",
      "Iterasjon  40  L =  0.0019202350991093266 \n",
      "Iterasjon  41  L =  0.001839144606002185 \n",
      "Iterasjon  42  L =  0.0017627901993451695 \n",
      "Iterasjon  43  L =  0.0016915376224200872 \n",
      "Iterasjon  44  L =  0.0016234067258170213 \n",
      "Iterasjon  45  L =  0.0015590736085700214 \n",
      "Iterasjon  46  L =  0.0014989069426533297 \n",
      "Iterasjon  47  L =  0.001442395153736307 \n",
      "Iterasjon  48  L =  0.0013876739121212714 \n",
      "Iterasjon  49  L =  0.001336493241439618 \n",
      "Iterasjon  50  L =  0.0012874947899511415 \n",
      "Iterasjon  51  L =  0.0012415441885917987 \n",
      "Iterasjon  52  L =  0.001197900137214935 \n",
      "Iterasjon  53  L =  0.0011562497043017214 \n",
      "Iterasjon  54  L =  0.0011164868605004728 \n",
      "Iterasjon  55  L =  0.0010788603373262358 \n",
      "Iterasjon  56  L =  0.0010430956158494062 \n",
      "Iterasjon  57  L =  0.0010085976597126638 \n",
      "Iterasjon  58  L =  0.0009763682124020463 \n",
      "Iterasjon  59  L =  0.0009447105318138562 \n",
      "Iterasjon  60  L =  0.0009147358571528553 \n",
      "Iterasjon  61  L =  0.0008865295188732055 \n",
      "Iterasjon  62  L =  0.0008591475112784417 \n",
      "Iterasjon  63  L =  0.0008326354482513492 \n",
      "Iterasjon  64  L =  0.0008076854741521077 \n",
      "Iterasjon  65  L =  0.0007837294978214002 \n",
      "Iterasjon  66  L =  0.0007605248602936567 \n",
      "Iterasjon  67  L =  0.0007384546228349358 \n",
      "Iterasjon  68  L =  0.0007173816424156653 \n",
      "Iterasjon  69  L =  0.0006969433237249633 \n",
      "Iterasjon  70  L =  0.000677400213288155 \n",
      "Iterasjon  71  L =  0.0006584393013997017 \n",
      "Iterasjon  72  L =  0.000640356986859484 \n",
      "Iterasjon  73  L =  0.0006229548291042414 \n",
      "Iterasjon  74  L =  0.0006060418642753593 \n",
      "Iterasjon  75  L =  0.0005899185901279661 \n",
      "Iterasjon  76  L =  0.0005743248360084922 \n",
      "Iterasjon  77  L =  0.0005593324629546289 \n",
      "Iterasjon  78  L =  0.0005444909685955261 \n",
      "Iterasjon  79  L =  0.0005304676269277371 \n",
      "Iterasjon  80  L =  0.0005171006322930978 \n",
      "Iterasjon  81  L =  0.0005039183729292312 \n",
      "Iterasjon  82  L =  0.0004913023051237395 \n",
      "Iterasjon  83  L =  0.0004790451039466785 \n",
      "Iterasjon  84  L =  0.0004671703890608654 \n",
      "Iterasjon  85  L =  0.0004557970167492753 \n",
      "Iterasjon  86  L =  0.00044481986946224623 \n",
      "Iterasjon  87  L =  0.00043414536335703753 \n",
      "Iterasjon  88  L =  0.00042394680763598486 \n",
      "Iterasjon  89  L =  0.00041404302644446934 \n",
      "Iterasjon  90  L =  0.0004042046549967951 \n",
      "Iterasjon  91  L =  0.0003948689578742694 \n",
      "Iterasjon  92  L =  0.0003859035898691417 \n",
      "Iterasjon  93  L =  0.0003769538822489986 \n",
      "Iterasjon  94  L =  0.000368258680438336 \n",
      "Iterasjon  95  L =  0.0003599133229734694 \n",
      "Iterasjon  96  L =  0.00035176832026334706 \n",
      "Iterasjon  97  L =  0.00034383395903653306 \n",
      "Iterasjon  98  L =  0.00033625463781722836 \n",
      "Iterasjon  99  L =  0.00032872784707375295 \n",
      "Iterasjon  100  L =  0.00032147708341932865 \n",
      "Iterasjon  101  L =  0.00031447595313641966 \n",
      "Iterasjon  102  L =  0.00030758356215745297 \n",
      "Iterasjon  103  L =  0.00030101460890418245 \n",
      "Iterasjon  104  L =  0.0002945564577403014 \n",
      "Iterasjon  105  L =  0.00028834195783215605 \n",
      "Iterasjon  106  L =  0.0002821798906133578 \n",
      "Iterasjon  107  L =  0.000276294758476983 \n",
      "Iterasjon  108  L =  0.00027058443577120735 \n",
      "Iterasjon  109  L =  0.00026492707101853787 \n",
      "Iterasjon  110  L =  0.0002594859060194464 \n",
      "Iterasjon  111  L =  0.00025422526867850567 \n",
      "Iterasjon  112  L =  0.0002489550685119964 \n",
      "Iterasjon  113  L =  0.00024395641182742671 \n",
      "Iterasjon  114  L =  0.00023900955609849195 \n",
      "Iterasjon  115  L =  0.00023420473386985877 \n",
      "Iterasjon  116  L =  0.00022956770757393414 \n",
      "Iterasjon  117  L =  0.00022504882829871482 \n",
      "Iterasjon  118  L =  0.00022060451656953254 \n",
      "Iterasjon  119  L =  0.00021634417151088401 \n",
      "Iterasjon  120  L =  0.0002120504507970514 \n",
      "Iterasjon  121  L =  0.0002079783141782752 \n",
      "Iterasjon  122  L =  0.00020396005722484752 \n",
      "Iterasjon  123  L =  0.00020000277861705854 \n",
      "Iterasjon  124  L =  0.00019622223160335224 \n",
      "Iterasjon  125  L =  0.0001924909439130703 \n",
      "Iterasjon  126  L =  0.0001888369128027133 \n",
      "Iterasjon  127  L =  0.00018535319275439713 \n",
      "Iterasjon  128  L =  0.0001818339337982741 \n",
      "Iterasjon  129  L =  0.00017848038382564725 \n",
      "Iterasjon  130  L =  0.0001751281359887164 \n",
      "Iterasjon  131  L =  0.0001719105994515816 \n",
      "Iterasjon  132  L =  0.00016876475351714274 \n",
      "Iterasjon  133  L =  0.00016564236826656963 \n",
      "Iterasjon  134  L =  0.0001626627243023917 \n",
      "Iterasjon  135  L =  0.00015965018267176585 \n",
      "Iterasjon  136  L =  0.000156764577236834 \n",
      "Iterasjon  137  L =  0.0001539737436519934 \n",
      "Iterasjon  138  L =  0.00015118612864356893 \n",
      "Iterasjon  139  L =  0.00014848992063913206 \n",
      "Iterasjon  140  L =  0.00014586179201968308 \n",
      "Iterasjon  141  L =  0.00014326688951778427 \n",
      "Iterasjon  142  L =  0.0001407566245479134 \n",
      "Iterasjon  143  L =  0.00013825818915279414 \n",
      "Iterasjon  144  L =  0.00013586230981756504 \n",
      "Iterasjon  145  L =  0.00013349549281371708 \n",
      "Iterasjon  146  L =  0.00013119538332603952 \n",
      "Iterasjon  147  L =  0.00012889777137679867 \n",
      "Iterasjon  148  L =  0.00012670008980231428 \n",
      "Iterasjon  149  L =  0.0001245440572245865 \n",
      "Iterasjon  150  L =  0.00012240834212254962 \n"
     ]
    },
    {
     "data": {
      "image/png": "[encoded data removed]",
      "text/plain": [
       "<Figure size 432x288 with 1 Axes>"
      ]
     },
     "metadata": {
      "needs_background": "light"
     },
     "output_type": "display_data"
    }
   ],
   "source": [
    "#Beregner og skriver ut loss for hver itterasjon\n",
    "losses = test_Adam(nn, loss, data['x_train'], data['y_train'], 150, 0.001, m, 3, 6)"
   ]
  },
  {
   "cell_type": "markdown",
   "metadata": {},
   "source": [
    "Som vi ser fra figuren, blir tapet i objektsfunksjonen minsket over flere iterasjoner."
   ]
  },
  {
   "cell_type": "markdown",
   "metadata": {},
   "source": [
    "Vi kan nå evaluere vårt nevrale nettverk ved å mate det med enkelttilfeller og deretter observere om det faktisk klarer å forutsi riktig addisjon."
   ]
  },
  {
   "cell_type": "code",
   "execution_count": null,
   "metadata": {},
   "outputs": [
    {
     "name": "stdout",
     "output_type": "stream",
     "text": [
      "[3 0] + [4 1] = [0 7 1]\n",
      "[4 2] + [9 1] = [1 3 3]\n",
      "[7 2] + [0 1] = [0 7 3]\n"
     ]
    }
   ],
   "source": [
    "#Gir eksempler på prediksjoner\n",
    "x = np.array([[[3, 0, 4, 1]]])\n",
    "print(x[0,0][:2], \"+\" ,x[0,0][2:], \"=\",np.flip(nn.predict(x, m, 3))[0,0])\n",
    "x = np.array([[[4, 2, 9, 1]]])\n",
    "print(x[0,0][:2], \"+\" ,x[0,0][2:], \"=\",np.flip(nn.predict(x, m, 3))[0,0])\n",
    "x = np.array([[[7, 2, 0, 1]]])\n",
    "print(x[0,0][:2], \"+\" ,x[0,0][2:], \"=\",np.flip(nn.predict(x, m, 3))[0,0])"
   ]
  },
  {
   "cell_type": "markdown",
   "metadata": {},
   "source": [
    "Vi kan også utføre testing av nettverket vårt på testdataen vi uttrakk samtidig med treningsdataen. I dette tilfellet vil vi gjennomføre 5000 tester på dataene som modellen vår ikke har blitt trent på tidligere."
   ]
  },
  {
   "cell_type": "code",
   "execution_count": null,
   "metadata": {},
   "outputs": [
    {
     "name": "stdout",
     "output_type": "stream",
     "text": [
      "Antall rette prediksjoner: 4998\n",
      "Totalt antall prediksjoner: 5000\n",
      "Prosentvis riktige predikasjoner: 99.96 %\n"
     ]
    }
   ],
   "source": [
    "#Beregner antall riktige prediksjoner av testdataen opp mot testdataen\n",
    "y_hats = nn.predict(x_test, 10, 3)\n",
    "#Teller hvor mange prediksjoner som var riktig\n",
    "Tell = countCorrect_add(y_hats, y_test)"
   ]
  },
  {
   "cell_type": "markdown",
   "metadata": {},
   "source": [
    "Som vi observerer, vil modellen vår gjøre korrekte addisjonsprediksjoner mesteparten av tiden. For å vurdere nøyaktigheten grundig, kan vi teste hvor mange korrekte prediksjoner den gir for alle de 10 000 mulige tallparene av tosifrede tall."
   ]
  },
  {
   "cell_type": "code",
   "execution_count": null,
   "metadata": {},
   "outputs": [
    {
     "name": "stdout",
     "output_type": "stream",
     "text": [
      "Antall rette prediksjoner: 9998\n",
      "Totalt antall prediksjoner: 10000\n",
      "Prosentvis riktige predikasjoner: 99.98 %\n"
     ]
    }
   ],
   "source": [
    "#Lager x og y arrays med dimensjon (100, 100, 4) og (100, 100, 3) med alle de mulige tallparene\n",
    "x_values = np.zeros((100, 100, 4), dtype=int)\n",
    "y_values = np.zeros((100, 100, 3), dtype=int)\n",
    "\n",
    "for i in range(100):\n",
    "    for j in range(100):\n",
    "        x_values[i, j] = [i // 10, i % 10, j // 10, j % 10]  \n",
    "        sum_tall = i + j\n",
    "        if sum_tall < 100: #legger til 0 før summen for å sikre en lengde på 3\n",
    "            y_values[i, j] = [0, sum_tall // 10, sum_tall % 10]  \n",
    "        else:\n",
    "            y_values[i, j] = [sum_tall // 100, sum_tall // 10 % 10, sum_tall % 10] \n",
    "#Ser hvor mange riktige av de 10 000 mulige kombinasjonene vi greier å predikere\n",
    "y_hats = nn.predict(x_values, 10, 3)\n",
    "\n",
    "Tell = countCorrect_add(y_hats, y_values)\n"
   ]
  },
  {
   "cell_type": "markdown",
   "metadata": {},
   "source": [
    "Som vi ser greier vi å predikere riktig for opp imot alle mulige kombinasjoner for addisjon mellom to tosifrede tall."
   ]
  }
 ],
 "metadata": {
  "kernelspec": {
   "display_name": "Python 3",
   "language": "python",
   "name": "python3"
  },
  "language_info": {
   "codemirror_mode": {
    "name": "ipython",
    "version": 3
   },
   "file_extension": ".py",
   "mimetype": "text/x-python",
   "name": "python",
   "nbconvert_exporter": "python",
   "pygments_lexer": "ipython3",
   "version": "3.11.1"
  }
 },
 "nbformat": 4,
 "nbformat_minor": 2
}
