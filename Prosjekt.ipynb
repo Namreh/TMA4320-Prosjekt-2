{
 "cells": [
  {
   "cell_type": "markdown",
   "metadata": {},
   "source": [
    "# Indmat prosjekt\n",
    "###### Liva Berge Flo, André Pettersen-Dahl, Herman Neple\n",
    "\n",
    "#### Oppgave 1"
   ]
  },
  {
   "cell_type": "markdown",
   "metadata": {},
   "source": [
    "#### Oppgave 3"
   ]
  },
  {
   "cell_type": "markdown",
   "metadata": {},
   "source": [
    "Vi begynner med å importere alle bibliotek vi trenger"
   ]
  },
  {
   "cell_type": "code",
   "execution_count": 1,
   "metadata": {},
   "outputs": [],
   "source": [
    "from layers import *\n",
    "from neural_network import NeuralNetwork\n",
    "from utils import onehot\n",
    "import numpy as np\n",
    "from data_generators import get_train_test_sorting"
   ]
  },
  {
   "cell_type": "code",
   "execution_count": 13,
   "metadata": {},
   "outputs": [
    {
     "name": "stdout",
     "output_type": "stream",
     "text": [
      "Iterasjon 0 L = 0.6787757717797118\n",
      "Iterasjon 1 L = 0.5932622062438606\n",
      "Iterasjon 2 L = 0.49316525545713874\n",
      "Iterasjon 3 L = 0.4296231648022152\n",
      "Iterasjon 4 L = 0.41298370917212396\n",
      "Iterasjon 5 L = 0.42361285520350345\n",
      "Iterasjon 6 L = 0.4273918446238524\n",
      "Iterasjon 7 L = 0.4030138198422872\n",
      "Iterasjon 8 L = 0.39548984166230233\n",
      "Iterasjon 9 L = 0.38907205200523454\n",
      "Iterasjon 10 L = 0.35513256103956914\n",
      "Iterasjon 11 L = 0.33770758503073595\n",
      "Iterasjon 12 L = 0.3292865298470031\n",
      "Iterasjon 13 L = 0.3036124651486691\n",
      "Iterasjon 14 L = 0.31247154065890803\n",
      "Iterasjon 15 L = 0.34544068206104966\n",
      "Iterasjon 16 L = 0.3721613906255545\n",
      "Iterasjon 17 L = 0.4375538813024608\n",
      "Iterasjon 18 L = 0.40552830832555936\n",
      "Iterasjon 19 L = 0.37050402832921375\n",
      "Iterasjon 20 L = 0.3169985159340846\n",
      "Iterasjon 21 L = 0.30216575641827303\n",
      "Iterasjon 22 L = 0.2903403607675081\n",
      "Iterasjon 23 L = 0.2858681670007307\n",
      "Iterasjon 24 L = 0.28316623349054326\n",
      "Iterasjon 25 L = 0.2827593831271095\n",
      "Iterasjon 26 L = 0.28377031877931713\n",
      "Iterasjon 27 L = 0.28210935313382546\n",
      "Iterasjon 28 L = 0.2804297250392248\n",
      "Iterasjon 29 L = 0.2793180821751388\n",
      "Iterasjon 30 L = 0.27913673001223255\n",
      "Iterasjon 31 L = 0.2780506859108856\n",
      "Iterasjon 32 L = 0.27855187483787874\n",
      "Iterasjon 33 L = 0.27814404618766564\n",
      "Iterasjon 34 L = 0.27808068117628626\n",
      "Iterasjon 35 L = 0.2774403730020444\n",
      "Iterasjon 36 L = 0.2778383354501114\n",
      "Iterasjon 37 L = 0.27937552024442247\n",
      "Iterasjon 38 L = 0.2792945405979304\n",
      "Iterasjon 39 L = 0.2788200263989313\n",
      "Iterasjon 40 L = 0.2778490650984401\n",
      "Iterasjon 41 L = 0.2773855350283455\n",
      "Iterasjon 42 L = 0.2772783406913377\n",
      "Iterasjon 43 L = 0.27678376195901544\n",
      "Iterasjon 44 L = 0.27661280840068936\n",
      "Iterasjon 45 L = 0.27598251718412037\n",
      "Iterasjon 46 L = 0.2757087228814276\n",
      "Iterasjon 47 L = 0.27588451219534743\n",
      "Iterasjon 48 L = 0.27658861019780656\n",
      "Iterasjon 49 L = 0.27701190094207934\n",
      "\n"
     ]
    }
   ],
   "source": [
    "#definerer variabler\n",
    "r = 5\n",
    "m = 2\n",
    "\n",
    "d = 10\n",
    "k = 5\n",
    "p = 15\n",
    "L = 2\n",
    "\n",
    "embed = EmbedPosition(9,m,d)\n",
    "att1 = Attention(d,k)\n",
    "ff1 = FeedForward(d,p)\n",
    "un_embed = LinearLayer(d,m)\n",
    "softmax = Softmax()\n",
    "loss = CrossEntropy()\n",
    "\n",
    "nn = NeuralNetwork([embed, att1, ff1, un_embed, softmax])\n",
    "\n",
    "data = get_train_test_sorting(r, m, samples_per_batch=250,n_batches_train=10, n_batches_test=4)\n",
    "\n",
    "x_train = data['x_train']\n",
    "y_train = data['y_train']\n",
    "\n",
    "for j in range(50):\n",
    "    losses = []\n",
    "    for i in range(10):\n",
    "        X = onehot(x_train[i], m)\n",
    "        Z = nn.forward(X)\n",
    "\n",
    "        losses.append(loss.forward(Z,y_train[i]))\n",
    "        dLdZ = loss.backward()\n",
    "        nn.backward(dLdZ)\n",
    "        nn.step_Adam()\n",
    "    mean_loss = np.mean(losses)\n",
    "    print(f'Iterasjon {j} L = {mean_loss}')\n",
    "\n",
    "print()"
   ]
  },
  {
   "cell_type": "code",
   "execution_count": 14,
   "metadata": {},
   "outputs": [
    {
     "name": "stdout",
     "output_type": "stream",
     "text": [
      "Iterasjon 0 L = 0.27845014337759755\n",
      "Iterasjon 1 L = 0.27839109602308104\n",
      "Iterasjon 2 L = 0.27881457669775483\n",
      "Iterasjon 3 L = 0.2805350875476408\n",
      "Iterasjon 4 L = 0.28107260748446883\n",
      "Iterasjon 5 L = 0.28271137300064086\n",
      "Iterasjon 6 L = 0.280553740420599\n",
      "Iterasjon 7 L = 0.2805931628770747\n",
      "Iterasjon 8 L = 0.278835438816442\n",
      "Iterasjon 9 L = 0.2781063545256889\n",
      "Iterasjon 10 L = 0.27761818813151623\n",
      "Iterasjon 11 L = 0.27782997176638063\n",
      "Iterasjon 12 L = 0.27698394582095787\n",
      "Iterasjon 13 L = 0.2775253162759326\n",
      "Iterasjon 14 L = 0.276451015435799\n",
      "Iterasjon 15 L = 0.27673866365765654\n",
      "Iterasjon 16 L = 0.2759591250940643\n",
      "Iterasjon 17 L = 0.2762780235337985\n",
      "Iterasjon 18 L = 0.2777416392714727\n",
      "Iterasjon 19 L = 0.276466353726886\n",
      "Iterasjon 20 L = 0.2774564240898313\n",
      "Iterasjon 21 L = 0.27698769697867254\n",
      "Iterasjon 22 L = 0.2773126565135799\n",
      "Iterasjon 23 L = 0.2782033686471612\n",
      "Iterasjon 24 L = 0.27732078841364277\n",
      "Iterasjon 25 L = 0.278501282099973\n",
      "Iterasjon 26 L = 0.2774253513802297\n",
      "Iterasjon 27 L = 0.2789022140596396\n",
      "Iterasjon 28 L = 0.2777695463925834\n",
      "Iterasjon 29 L = 0.27880202407243365\n",
      "Iterasjon 30 L = 0.2786417077190111\n",
      "Iterasjon 31 L = 0.27836265746260136\n",
      "Iterasjon 32 L = 0.27749090998412185\n",
      "Iterasjon 33 L = 0.27699907523838474\n",
      "Iterasjon 34 L = 0.2751428239407853\n",
      "Iterasjon 35 L = 0.27511169149137704\n",
      "Iterasjon 36 L = 0.27487041835620935\n",
      "Iterasjon 37 L = 0.27671852165096583\n",
      "Iterasjon 38 L = 0.27708476477096167\n",
      "Iterasjon 39 L = 0.276754284640377\n",
      "Iterasjon 40 L = 0.2763845100166369\n",
      "Iterasjon 41 L = 0.27695705576074675\n",
      "Iterasjon 42 L = 0.2776242724530019\n",
      "Iterasjon 43 L = 0.2780348488899681\n",
      "Iterasjon 44 L = 0.28011410684944543\n",
      "Iterasjon 45 L = 0.2780071425857429\n",
      "Iterasjon 46 L = 0.27923826894368864\n",
      "Iterasjon 47 L = 0.27789646068036516\n",
      "Iterasjon 48 L = 0.27683346898810607\n",
      "Iterasjon 49 L = 0.27563109237084626\n"
     ]
    }
   ],
   "source": [
    "for j in range(50):\n",
    "    losses = []\n",
    "    for i in range(10):\n",
    "        X = onehot(x_train[i], m)\n",
    "        Z = nn.forward(X)\n",
    "\n",
    "        losses.append(loss.forward(Z,y_train[i]))\n",
    "        dLdZ = loss.backward()\n",
    "        nn.backward(dLdZ)\n",
    "        nn.step_Adam()\n",
    "    mean_loss = np.mean(losses)\n",
    "    print(f'Iterasjon {j} L = {mean_loss}')"
   ]
  },
  {
   "cell_type": "code",
   "execution_count": 26,
   "metadata": {},
   "outputs": [
    {
     "name": "stdout",
     "output_type": "stream",
     "text": [
      "[[1 1 0 0 0]]\n"
     ]
    }
   ],
   "source": [
    "print(np.argmax(nn.forward(onehot(np.array([[1, 0 ,0, 0, 1]]), m)),axis=1))"
   ]
  }
 ],
 "metadata": {
  "kernelspec": {
   "display_name": "Python 3",
   "language": "python",
   "name": "python3"
  },
  "language_info": {
   "codemirror_mode": {
    "name": "ipython",
    "version": 3
   },
   "file_extension": ".py",
   "mimetype": "text/x-python",
   "name": "python",
   "nbconvert_exporter": "python",
   "pygments_lexer": "ipython3",
   "version": "3.11.1"
  }
 },
 "nbformat": 4,
 "nbformat_minor": 2
}
