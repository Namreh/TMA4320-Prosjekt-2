{
 "cells": [
  {
   "cell_type": "markdown",
   "metadata": {},
   "source": [
    "# Indmat prosjekt\n",
    "###### Liva Berge Flo, André Pettersen-Dahl, Herman Neple\n",
    "\n",
    "#### Oppgave 1"
   ]
  },
  {
   "cell_type": "markdown",
   "metadata": {},
   "source": [
    "#### Oppgave 3"
   ]
  },
  {
   "cell_type": "markdown",
   "metadata": {},
   "source": [
    "Vi begynner med å importere alle bibliotek vi trenger"
   ]
  },
  {
   "cell_type": "code",
   "execution_count": 1,
   "metadata": {},
   "outputs": [],
   "source": [
    "from layers import *\n",
    "from neural_network import NeuralNetwork\n",
    "from utils import onehot\n",
    "import numpy as np\n",
    "from data_generators import get_train_test_sorting"
   ]
  },
  {
   "cell_type": "code",
   "execution_count": 2,
   "metadata": {},
   "outputs": [
    {
     "name": "stdout",
     "output_type": "stream",
     "text": [
      "Iterasjon 0 L = 1.0854877401461895\n",
      "Iterasjon 1 L = 1.0088304017198098\n",
      "Iterasjon 2 L = 0.8523722619472835\n",
      "Iterasjon 3 L = 0.7989251954796636\n",
      "Iterasjon 4 L = 0.7748145438086735\n",
      "Iterasjon 5 L = 0.7438832858140444\n",
      "Iterasjon 6 L = 0.6947095006727674\n",
      "Iterasjon 7 L = 0.6791151887480064\n",
      "Iterasjon 8 L = 0.6874744608628821\n",
      "Iterasjon 9 L = 0.6770777656117064\n",
      "Iterasjon 10 L = 0.6722209272740945\n",
      "Iterasjon 11 L = 0.6823515699606263\n",
      "Iterasjon 12 L = 0.6535973759590389\n",
      "Iterasjon 13 L = 0.6332892385571685\n",
      "Iterasjon 14 L = 0.6198212533883021\n",
      "Iterasjon 15 L = 0.5871969267195624\n",
      "Iterasjon 16 L = 0.596255054279862\n",
      "Iterasjon 17 L = 0.6049216357573903\n",
      "Iterasjon 18 L = 0.6167192313864459\n",
      "Iterasjon 19 L = 0.6003533240548657\n",
      "Iterasjon 20 L = 0.5933310986626605\n",
      "Iterasjon 21 L = 0.5630373718878814\n",
      "Iterasjon 22 L = 0.5510000110236902\n",
      "Iterasjon 23 L = 0.5458669657795037\n",
      "Iterasjon 24 L = 0.5398130911362814\n",
      "Iterasjon 25 L = 0.5393073525944099\n",
      "Iterasjon 26 L = 0.5341201513595133\n",
      "Iterasjon 27 L = 0.5320323642910381\n",
      "Iterasjon 28 L = 0.5314149979521999\n",
      "Iterasjon 29 L = 0.5455042138983275\n",
      "Iterasjon 30 L = 0.5890621858412972\n",
      "Iterasjon 31 L = 0.6380616260063742\n",
      "Iterasjon 32 L = 0.6048541549685813\n",
      "Iterasjon 33 L = 0.585886096441349\n",
      "Iterasjon 34 L = 0.5684474699605476\n",
      "Iterasjon 35 L = 0.5535166070489279\n",
      "Iterasjon 36 L = 0.5213686828042188\n",
      "Iterasjon 37 L = 0.49903345344560834\n",
      "Iterasjon 38 L = 0.4836031438380797\n",
      "Iterasjon 39 L = 0.4751990425305996\n",
      "Iterasjon 40 L = 0.4645956124222773\n",
      "Iterasjon 41 L = 0.45929614638797417\n",
      "Iterasjon 42 L = 0.45166616198121207\n",
      "Iterasjon 43 L = 0.4492829230112842\n",
      "Iterasjon 44 L = 0.4476359861985829\n",
      "Iterasjon 45 L = 0.4465994219599113\n",
      "Iterasjon 46 L = 0.4508114958165514\n",
      "Iterasjon 47 L = 0.4635918713988871\n",
      "Iterasjon 48 L = 0.4905918960385739\n",
      "Iterasjon 49 L = 0.49883441686387126\n",
      "\n"
     ]
    }
   ],
   "source": [
    "#definerer variabler\n",
    "r = 5\n",
    "m = 3\n",
    "\n",
    "d = 10\n",
    "k = 5\n",
    "p = 15\n",
    "L = 2\n",
    "\n",
    "embed = EmbedPosition(9,m,d)\n",
    "att1 = Attention(d,k)\n",
    "ff1 = FeedForward(d,p)\n",
    "un_embed = LinearLayer(d,m)\n",
    "softmax = Softmax()\n",
    "loss = CrossEntropy()\n",
    "\n",
    "nn = NeuralNetwork([embed, att1, ff1, un_embed, softmax])\n",
    "\n",
    "data = get_train_test_sorting(r, m, samples_per_batch=250,n_batches_train=10, n_batches_test=4)\n",
    "\n",
    "x_train = data['x_train']\n",
    "y_train = data['y_train']\n",
    "\n",
    "for j in range(50):\n",
    "    losses = []\n",
    "    for i in range(10):\n",
    "        X = onehot(x_train[i], m)\n",
    "        Z = nn.forward(X)\n",
    "\n",
    "        losses.append(loss.forward(Z,y_train[i]))\n",
    "        dLdZ = loss.backward()\n",
    "        nn.backward(dLdZ)\n",
    "        nn.step_Adam()\n",
    "    mean_loss = np.mean(losses)\n",
    "    print(f'Iterasjon {j} L = {mean_loss}')\n",
    "\n",
    "print()"
   ]
  },
  {
   "cell_type": "code",
   "execution_count": 3,
   "metadata": {},
   "outputs": [
    {
     "name": "stdout",
     "output_type": "stream",
     "text": [
      "[[2 2 2 1 0]]\n"
     ]
    }
   ],
   "source": [
    "print(np.argmax(nn.forward(onehot(np.array([[2, 1 ,1 ,1, 0]]), m)),axis=1))"
   ]
  }
 ],
 "metadata": {
  "kernelspec": {
   "display_name": "Python 3",
   "language": "python",
   "name": "python3"
  },
  "language_info": {
   "codemirror_mode": {
    "name": "ipython",
    "version": 3
   },
   "file_extension": ".py",
   "mimetype": "text/x-python",
   "name": "python",
   "nbconvert_exporter": "python",
   "pygments_lexer": "ipython3",
   "version": "3.11.1"
  }
 },
 "nbformat": 4,
 "nbformat_minor": 2
}
