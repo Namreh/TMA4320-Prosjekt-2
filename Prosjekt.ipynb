{
 "cells": [
  {
   "cell_type": "markdown",
   "metadata": {},
   "source": [
    "# Indmat prosjekt\n",
    "###### Liva Berge Flo, André Pettersen-Dahl, Herman Neple\n",
    "\n",
    "#### Oppgave 1"
   ]
  },
  {
   "cell_type": "markdown",
   "metadata": {},
   "source": [
    "1.1"
   ]
  },
  {
   "cell_type": "markdown",
   "metadata": {},
   "source": [
    "En transformermodell skal trenes opp til å forsøke å predikere et heltall $d$, hvor $d = a \\cdot b + c$, hvor $a$ og $c$ er tosifrede heltall og $b$ er et ettsifret heltall. Vi kan se på et eksempel på et datasett som kan brukes for å trene opp modellen."
   ]
  },
  {
   "cell_type": "markdown",
   "metadata": {},
   "source": [
    "Vi kan la\n",
    "\\begin{align*}\n",
    "       a = 28,  \n",
    " b = 4,   c = 18,   d = 130, \\\\\n",
    "\\end{align*}\n",
    "Input $x$ vil være tallene $a$, $b$ og $c$. I tillegg vil de to første sifrene i $d$ være inkludert i input, fordi vi ønsker at transformermodellen skal trenes opp til å finne det siste sifferet i $d$. Output $y$ vil være tallet $d$ som man ønsker å predikere. Dermed har vi altså\n",
    "\n",
    "\\begin{align*}\n",
    "    x &= [2,8,4,1,8,1,3] \\quad \\text{og} \\quad y = [1,3,0] \\\\\n",
    "\\end{align*}"
   ]
  },
  {
   "cell_type": "markdown",
   "metadata": {},
   "source": [
    "1.2"
   ]
  },
  {
   "cell_type": "markdown",
   "metadata": {},
   "source": [
    "Videre ser vi på et eksempel på hvordan transformermodellen $f_{\\theta}$ kan predikere tallet $d$ for samme type problem."
   ]
  },
  {
   "cell_type": "markdown",
   "metadata": {},
   "source": [
    "Vi setter $a = 18, b = 3, c = 22.\\\\$\n",
    "Et nytt siffer vil predikeres for hver gang vi sender $x$ inn i transformermodellen. Siste element i prediksjonen vil så bli lagt til i $x$, hvor de andre elementene i prediksjonen blir forkastet. Deretter sender vi $x$-en med det nye elementet inn i modellen på nytt. \n",
    "\n",
    "Prosessen vil dermed se slik ut:\n",
    "\\begin{align*}\n",
    "    x^{(0)} &= [1,8,3,2,2], & [\\hat{z}_{0}^{(0)},\\hat{z}_{1}^{(0)},\\hat{z}_{2}^{(0)},\\hat{z}_{3}^{(0)},\\hat{z}_{4}^{(0)},\\textcolor{red}{\\hat{z}_{5}^{(0)}}] = f_\\theta(x^{(0)}), \\\\\n",
    "    x^{(1)} &= [1,8,3,2,2,\\textcolor{red}{\\hat{z}_{5}^{(0)}}], & [\\hat{z}_{0}^{(1)},\\ldots, \\textcolor{blue}{\\hat{z}_{6}^{(1)}}] = f_\\theta(x^{(1)}), \\\\ \n",
    "    x^{(2)} &= [1,8,3,2,2,\\textcolor{red}{\\hat{z}_{5}^{(0)}},\\textcolor{blue}{\\hat{z}_{6}^{(1)}}], & [\\hat{z}_{0}^{(1)},\\ldots, \\textcolor{gold}{\\hat{z}_{7}^{(2)}}] = f_\\theta(x^{(2)}), \\\\\n",
    "    x^{(3)} &= [1,8,3,2,2,\\textcolor{red}{\\hat{z}_{5}^{(0)}},\\textcolor{blue}{\\hat{z}_{6}^{(1)}},\\textcolor{gold}{\\hat{z}_{7}^{(2)}}] \\\\\n",
    "    \\hat{y} &= [\\textcolor{red}{\\hat{z}_{5}^{(0)}},\\textcolor{blue}{\\hat{z}_{6}^{(1)}},\\textcolor{gold}{\\hat{z}_{7}^{(2)}}]. \\\\\n",
    "\\end{align*}"
   ]
  },
  {
   "cell_type": "markdown",
   "metadata": {},
   "source": [
    "Om parameterne $\\theta$ er riktig optimert, ønsker vi altså at rekkefølgen $\\textcolor{red}{\\hat{z}_{5}^{(0)}}\\textcolor{blue}{\\hat{z}_{6}^{(1)}}\\textcolor{gold}{\\hat{z}_{7}^{(2)}} = 076 = d$"
   ]
  },
  {
   "cell_type": "markdown",
   "metadata": {},
   "source": [
    "1.3"
   ]
  },
  {
   "cell_type": "markdown",
   "metadata": {},
   "source": [
    "La $m = 5$ og $y = [4,3,2,1]$. Vi bruker cross-entropy som objektfunksjon $\\mathcal{L}$, og ønsker å finne en sannsynlighetsfordeling $\\hat Y$ som gir $\\mathcal{L}(\\theta, \\mathcal{D}) = 0$."
   ]
  },
  {
   "cell_type": "markdown",
   "metadata": {},
   "source": [
    "I vårt tilfelle vil dette se slik ut:\n",
    "\n",
    "\n",
    "\\begin{align*}\n",
    "\\mathcal{L}(\\theta, \\mathcal{D}) &= -\\frac{1}{4} \\sum_{i=0}^{0} \\sum_{j=0}^{4} \\log \\hat Y_{kj}^{(i)}\n",
    "\\end{align*}\n",
    "\n",
    "hvor det i ytre løkke kun summeres opp til $D = 0$, siden vi kun har ett datasett. I indre løkke summeres det opp til $n = 4$, fordi vi har 4 kolonner i $y$. For hver kolonne er indeksen $k$ gitt av hvilken rad som er «riktig» ifølge $y$."
   ]
  },
  {
   "cell_type": "markdown",
   "metadata": {},
   "source": [
    "Siden vi ønsker at $\\mathcal{L}(\\theta, \\mathcal{D}) = 0$, vil vi at alle $Y_{kj}^{(i)} = 1$, slik at logaritmen av dette blir $0$. Vi velger altså en sannsynelighetsfordeling $\\hat Y$ der elementene er $1$ i rad $k$ for hver kolonne.\n",
    "\n",
    "Vi får altså:"
   ]
  },
  {
   "cell_type": "markdown",
   "metadata": {},
   "source": [
    "\n",
    "\n",
    "$$\\hat Y = \\left[\n",
    "\\begin{array}{cccc}\n",
    "0 & 0 & 0 & 0 \\\\\n",
    "0 & 0 & 0 & 1 \\\\\n",
    "0 & 0 & 1 & 0 \\\\\n",
    "0 & 1 & 0 & 0 \\\\\n",
    "1 & 0 & 0 & 0 \n",
    "\\end{array}\n",
    "\\right]$$\n",
    "\n",
    "Dette gjør at:\n",
    "\n",
    "\n",
    "\\begin{align*}\n",
    "Y_{4,0} &= 1 \\\\\n",
    "Y_{3,1} &= 1 \\\\\n",
    "Y_{2,2} &= 1 \\\\\n",
    "Y_{1,3} &= 1 \\\\\n",
    "\\end{align*}\n",
    "\n",
    "Vi kan videre forenkle uttrykket for objektfunksjonen:\n",
    "\n",
    "$$\\mathcal{L}(\\theta, \\mathcal{D}) = -\\frac{1}{4} \\left( \\log Y_{4,0} + \\log Y_{3,1} + \\log Y_{2,2} + \\log Y_{1,3} \\right) \\\\$$\n",
    "$$= -\\frac{1}{4} \\left( \\log 1 + \\log 1 + \\log 1 + \\log 1 \\right) = -\\frac{1}{4} \\cdot 4 \\cdot \\log 1 \\\\$$\n",
    "$$= -\\frac{4}{4} \\cdot 0 = 0$$\n",
    "\n",
    "\n",
    "Altså har vi at $ \\mathcal{L}(\\theta, \\mathcal{D}) = 0 $."
   ]
  },
  {
   "cell_type": "markdown",
   "metadata": {},
   "source": [
    "Vi må i dette tilfellet ha at $\\hat y = y = [4,3,2,1]$. Dette kan man se dersom man utfører operasjonen $\\text{argmax}_{\\text{col}}(\\hat Y)$. Det kan også lett observeres ut fra at $\\hat Y = Y$."
   ]
  },
  {
   "cell_type": "markdown",
   "metadata": {},
   "source": [
    "1.4"
   ]
  },
  {
   "cell_type": "markdown",
   "metadata": {},
   "source": [
    "Det kan beregnes hvor mange enkeltparametre som inkluderes i transformermodellen. Vi kan begynne med å se på settet av parametere\n",
    "\\begin{align*}\n",
    "\\theta = \\{ W_E, W_P, W_U, \\{W_O^{(l)}, W_V^{(l)}, W_Q^{(l)}, W_K^{(l)}, W_1^{(l)}, W_2^{(l)}\\}_{l=0}^{L-1} \\}\n",
    "\\end{align*}\n",
    "Med $L$ lag, og dimensjoner $d$, $m$, $n_{max}$, $k$ og $p$, vil antallet enkeltparametere $w$, som må bestemmes ved optimering, bli\n",
    "\n",
    "\\begin{align*}\n",
    "w &=  d \\cdot m + d \\cdot n_{\\text{max}} + d \\cdot m + L\\cdot \\{ 4 ( k \\cdot d ) + 2 (p\\cdot d)\\} \\\\\n",
    "&= 2(d\\cdot m) + d\\cdot n_{\\text{max}} + L\\cdot \\{ 4 ( k \\cdot d ) + 2 (p\\cdot d)\\}\n",
    "\\end{align*}"
   ]
  },
  {
   "cell_type": "markdown",
   "metadata": {},
   "source": [
    "1.5"
   ]
  },
  {
   "cell_type": "markdown",
   "metadata": {},
   "source": [
    "Vi ønsker å vise at man må ha $\\alpha > 1$ for å få $\\hat{z} = [1]$ når input er $x = [1]$ og $n = n_{max} = 1, m = d = k = p = 2$ og $L = 1$. Vi kan starte med å gå manuelt gjennom hele transformeralgoritmen med de gitte verdiene. De første stegene gjøres i embedding."
   ]
  },
  {
   "cell_type": "markdown",
   "metadata": {},
   "source": [
    "$$x = [1], \\quad m = 2 \\\\\n",
    "X = \\text{onehot}(x) = \n",
    "\\begin{bmatrix}\n",
    "0 \\\\\n",
    "1 \\\\\n",
    "\\end{bmatrix} \\\\$$\n",
    "\n",
    "$$W_{E} = \\begin{bmatrix}\n",
    "    1 & 0 \\\\\n",
    "    0 & \\alpha \\\\\n",
    "\\end{bmatrix}\n",
    "W_{P} = \\begin{bmatrix}\n",
    "    1  \\\\\n",
    "    0  \\\\\n",
    "\\end{bmatrix} \\\\$$\n",
    "$$z_{0} = \\begin{bmatrix}\n",
    "    1 & 0 \\\\\n",
    "    0 & \\alpha \\\\\n",
    "\\end{bmatrix}\n",
    "\\begin{bmatrix}\n",
    "    0 \\\\\n",
    "    1 \\\\\n",
    "\\end{bmatrix} + \\begin{bmatrix}\n",
    "    1 \\\\\n",
    "    0 \\\\\n",
    "\\end{bmatrix}\n",
    "= \\begin{bmatrix}\n",
    "    0 \\\\\n",
    "    \\alpha \\\\\n",
    "\\end{bmatrix}\n",
    "+ \\begin{bmatrix}\n",
    "    1 \\\\\n",
    "    0 \\\\\n",
    "\\end{bmatrix}\n",
    "= \\begin{bmatrix}\n",
    "    1 \\\\\n",
    "    \\alpha \\\\\n",
    "\\end{bmatrix} \\\\$$\n"
   ]
  },
  {
   "cell_type": "markdown",
   "metadata": {},
   "source": [
    "Videre utføres attention-laget."
   ]
  },
  {
   "cell_type": "markdown",
   "metadata": {},
   "source": [
    "$$z_{\\frac{1}{2}} = z_0 + W_{O}^{T}W_{V}z_{0}A(z_{0})$$\n",
    "$$ = z_{0} + W_{O}^{T}W_{V}z_{0}\\text{ softmax}_{\\text{col }}(z_{0}^{T}W_{Q}^{T}W_{K}z_{0} + D)$$\n",
    "$$= \\begin{bmatrix}\n",
    "    0 \\\\\n",
    "    1 \\\\\n",
    "\\end{bmatrix} + \\begin{bmatrix}\n",
    "    1 & 0 \\\\\n",
    "    0 & 1 \\\\\n",
    "\\end{bmatrix} \\begin{bmatrix}\n",
    "    1 & 0 \\\\\n",
    "    1 & 1 \\\\\n",
    "\\end{bmatrix} \\begin{bmatrix}\n",
    "    1 \\\\\n",
    "    \\alpha \\\\\n",
    "\\end{bmatrix} \\text{softmax}_{\\text{col } }(\\begin{bmatrix}\n",
    "    1 & \\alpha\n",
    "\\end{bmatrix}\\begin{bmatrix}\n",
    "    1 & 0 \\\\\n",
    "    0 & 1 \\\\\n",
    "\\end{bmatrix}\\begin{bmatrix}\n",
    "    1 & 0 \\\\\n",
    "    0 & 1 \\\\\n",
    "\\end{bmatrix}\\begin{bmatrix}\n",
    "    1 \\\\\n",
    "    \\alpha \\\\\n",
    "\\end{bmatrix} + 0) \\\\$$\n",
    "\n",
    "$$= \\begin{bmatrix}\n",
    "    1 \\\\\n",
    "    \\alpha \\\\\n",
    "\\end{bmatrix}+\\begin{bmatrix}\n",
    "    1 \\\\\n",
    "    \\alpha \\\\\n",
    "\\end{bmatrix}\\text{softmax}_{\\text{col }}(1+\\alpha^2)\n",
    "= 2 \\begin{bmatrix}\n",
    "    1 \\\\\n",
    "    \\alpha \\\\\n",
    "\\end{bmatrix}$$"
   ]
  },
  {
   "cell_type": "markdown",
   "metadata": {},
   "source": [
    "Deretter utføres feed-forward-laget."
   ]
  },
  {
   "cell_type": "markdown",
   "metadata": {},
   "source": [
    "$$z_1 = z_{\\frac{1}{2}} + W_{2}^{T}\\sigma(W_1 z_{\\frac{1}{2}})\\\\$$\n",
    "$$= 2\\begin{bmatrix}\n",
    "    1 \\\\\n",
    "    \\alpha \\\\\n",
    "\\end{bmatrix} + W_{2}^{T}\\text{max}(0,W_1 z_{\\frac{1}{2}})\\\\$$\n",
    "$$= 2\\begin{bmatrix}\n",
    "    1 \\\\\n",
    "    \\alpha \\\\\n",
    "\\end{bmatrix}+\\begin{bmatrix}\n",
    "    1 & 0 \\\\\n",
    "    0 & 1 \\\\\n",
    "\\end{bmatrix}\\text{max}\\Bigg(0, \\begin{bmatrix}\n",
    "    1 & 0 \\\\\n",
    "    0 & 1 \\\\\n",
    "\\end{bmatrix}2\\begin{bmatrix}\n",
    "    1 \\\\\n",
    "    \\alpha \\\\\n",
    "\\end{bmatrix}\\Bigg)\\\\$$\n",
    "$$= 4\\begin{bmatrix}\n",
    "    1\\\\\n",
    "    \\alpha \\\\\n",
    "\\end{bmatrix}$$"
   ]
  },
  {
   "cell_type": "markdown",
   "metadata": {},
   "source": [
    "Deretter benyttes $\\text{softmax}_{\\text{col}}$ for å finne sannsynlighetsfordelingen."
   ]
  },
  {
   "cell_type": "markdown",
   "metadata": {},
   "source": [
    "$$Z = \\text{softmax}_{\\text{col}}(W_{U}^{T}z_{1})\\\\$$\n",
    "$$= \\text{softmax}_{\\text{col}}\\bigg(4\\begin{bmatrix}\n",
    "        1 \\\\\n",
    "        \\alpha \\\\\n",
    "    \\end{bmatrix}\\bigg)\\\\$$\n",
    "$$= \\frac{1}{e^{4}+e^{4\\alpha}}\\begin{bmatrix}\n",
    "        e^{4} \\\\\n",
    "        e^{4\\alpha} \\\\\n",
    "    \\end{bmatrix}$$"
   ]
  },
  {
   "cell_type": "markdown",
   "metadata": {},
   "source": [
    "Det kan observeres at $\\text{argmax}_{\\text{col}}(Z)$ vil returnere $\\hat{z} = [1]$ dersom $Z_{10}$ er størst. Vi må altså ha at\n",
    "\\begin{align*}\n",
    "e^{4\\alpha} > e^{4} \\implies \\alpha > 1\\\\\n",
    "\\Box\n",
    "\\end{align*}"
   ]
  },
  {
   "cell_type": "markdown",
   "metadata": {},
   "source": [
    "#### Oppgave 2"
   ]
  },
  {
   "cell_type": "markdown",
   "metadata": {},
   "source": [
    "2.1\n",
    "\n",
    "$\\texttt{NeuralNetwork}$ utnytter arven som er mellom $\\texttt{Layers}$ og dens underklasser. Ved at alle lag i det nevrale nettverket er underklasser av $\\texttt{Layers}$, kan vi behandle alle lag «likt». Her utnyttes altså det faktumet at hvert lag har mye av de samme funksjonalitetene. Dette kalles polymorfisme. Dette forenkler og generaliserer nettverket vårt, og gjør at vi enkelt kan bruke samme kode for å lage nettverk som er strukturert ulikt og bygd opp med ulike typer lag. \n",
    "\n",
    "$ \\texttt{step\\_gd} $ funksjonen i $\\texttt{NeuralNetwork}$ bruker funksjonen $\\texttt{isinstance}$ for å kun utføre gradient descent på de underklassene av $\\texttt{Layers}$ som faktisk har parametere vi ønsker å oppdatere. Et annet alternativ ville da vært å holde en liste på hvilke lag som vi ønsker å oppdatere parametere på, men dette hadde vært mer krunglete, siden vi da må vite noe om strukturen til det spesifikke nettverket."
   ]
  },
  {
   "cell_type": "markdown",
   "metadata": {},
   "source": [
    "2.3\n",
    "\n",
    "Implementeringen av ADAM gjøres ved at matrisene $M$ og $V$ lagres sammen med paramterene og $G$ i params ordboken innad i lagene."
   ]
  },
  {
   "cell_type": "markdown",
   "metadata": {},
   "source": [
    "#### Oppgave 3.1"
   ]
  },
  {
   "cell_type": "code",
   "execution_count": 45,
   "metadata": {},
   "outputs": [],
   "source": [
    "#Importerer nødvendige bibliotek\n",
    "from layers import *\n",
    "from neural_network import NeuralNetwork\n",
    "from utils import *\n",
    "import numpy as np\n",
    "from data_generators import get_train_test_sorting\n",
    "import matplotlib.pyplot as plt"
   ]
  },
  {
   "cell_type": "markdown",
   "metadata": {},
   "source": [
    "For å teste om lagene vi har implementert fungerer, kan vi manuelt kjøre gjennom algoritmen. Vi starter med å initalisere lagene til det nevrale nettverk."
   ]
  },
  {
   "cell_type": "code",
   "execution_count": 46,
   "metadata": {},
   "outputs": [],
   "source": [
    "#definerer variabler\n",
    "r = 4\n",
    "m = 4\n",
    "n = 3\n",
    "\n",
    "d = 10\n",
    "k = 5\n",
    "p = 15\n",
    "L = 2\n",
    "\n",
    "embed = EmbedPosition(9,m,d)\n",
    "att1 = Attention(d,k)\n",
    "ff1 = FeedForward(d,p)\n",
    "un_embed = LinearLayer(d,m)\n",
    "softmax = Softmax()\n",
    "loss = CrossEntropy()"
   ]
  },
  {
   "cell_type": "markdown",
   "metadata": {},
   "source": [
    "Vi kan videre gi nettverket vårt en input, la oss f.eks late som vi prøver å få modellen til å sortere tallene."
   ]
  },
  {
   "cell_type": "code",
   "execution_count": 47,
   "metadata": {},
   "outputs": [],
   "source": [
    "x = np.array([[0,1,2]])\n",
    "X = onehot(x, m)\n",
    "\n",
    "z0 = embed.forward(X)\n",
    "z11 = att1.forward(z0)\n",
    "z12 = ff1.forward(z11)\n",
    "z2 = un_embed.forward(z12)\n",
    "Z = softmax.forward(z2)"
   ]
  },
  {
   "cell_type": "markdown",
   "metadata": {},
   "source": [
    "Det kan være nå nyttig å se om størrelsene og stegene er som forventet."
   ]
  },
  {
   "cell_type": "code",
   "execution_count": 48,
   "metadata": {},
   "outputs": [
    {
     "name": "stdout",
     "output_type": "stream",
     "text": [
      "Burde være i onehot-format:\n",
      " X:\n",
      " [[[1. 0. 0.]\n",
      "  [0. 1. 0.]\n",
      "  [0. 0. 1.]\n",
      "  [0. 0. 0.]]]\n",
      "Formen på hvert steg:\n",
      " z0: burde ha shape (b, 10, 3). Den har shape: (1, 10, 3) \n",
      " z11: burde ha shape (b, 10, 3). Den har shape: (1, 10, 3) \n",
      " z12: burde ha shape (b, 10, 3). Den har shape: (1, 10, 3) \n",
      " z2: burde ha shape (b, 4, 3). Den har shape: (1, 4, 3)\n",
      "Z: \n",
      " [[[0.25014236 0.24876166 0.23958236]\n",
      "  [0.25990476 0.25259668 0.25828318]\n",
      "  [0.25130581 0.24766834 0.24910834]\n",
      "  [0.23864704 0.25097328 0.25302609]]]\n",
      "Kolonnene i Z summert: [[1. 1. 1.]]\n"
     ]
    }
   ],
   "source": [
    "#Er X i onehot format?\n",
    "print(f\"Burde være i onehot-format:\\n X:\\n {X}\")\n",
    "\n",
    "#Sjekker shape av alle stegene.\n",
    "print(f\"Formen på hvert steg:\\n z0: burde ha shape (b, {d}, {n}). Den har shape: {z0.shape} \\n z11: burde ha shape (b, {d}, {n}). Den har shape: {z11.shape} \\n z12: burde ha shape (b, {d}, {n}). Den har shape: {z12.shape} \\n z2: burde ha shape (b, {m}, {n}). Den har shape: {z2.shape}\")\n",
    "\n",
    "#Ser at ingen av elementene i Z er negative:\n",
    "print(f\"Z: \\n {Z}\")\n",
    "\n",
    "#Sjekker om summen av kolonnene i Z er ca 1\n",
    "print(f\"Kolonnene i Z summert: {np.round(np.sum(Z, axis=1))}\")\n"
   ]
  },
  {
   "cell_type": "markdown",
   "metadata": {},
   "source": [
    "Vi kan så teste om vi fikk riktig output, som i dette tilfelle burde være at det er $0$ på siste element. Om vi har riktig output skulle loss funksjonen vårt bli 0."
   ]
  },
  {
   "cell_type": "code",
   "execution_count": 49,
   "metadata": {},
   "outputs": [
    {
     "name": "stdout",
     "output_type": "stream",
     "text": [
      "1.4288580361617111\n"
     ]
    }
   ],
   "source": [
    "y = np.array([[0]])\n",
    "L = loss.forward(Z,y)\n",
    "\n",
    "print(L)"
   ]
  },
  {
   "cell_type": "markdown",
   "metadata": {},
   "source": [
    "Dette fungerte åpenbart ikke enda. Etter å ha kjørt en forward pass, er det fint å teste backwardfunksjonen til lagene. Vi starter da med å beregne den deriverte av loss funksjonen"
   ]
  },
  {
   "cell_type": "code",
   "execution_count": 50,
   "metadata": {},
   "outputs": [
    {
     "ename": "TypeError",
     "evalue": "Attention.step_Adam() missing 4 required positional arguments: 'alpha', 'beta1', 'beta2', and 'epsilon'",
     "output_type": "error",
     "traceback": [
      "\u001b[0;31m---------------------------------------------------------------------------\u001b[0m",
      "\u001b[0;31mTypeError\u001b[0m                                 Traceback (most recent call last)",
      "Cell \u001b[0;32mIn[50], line 9\u001b[0m\n\u001b[1;32m      6\u001b[0m d3 \u001b[38;5;241m=\u001b[39m embed\u001b[38;5;241m.\u001b[39mbackward(d22)\n\u001b[1;32m      8\u001b[0m z0 \u001b[38;5;241m=\u001b[39m embed\u001b[38;5;241m.\u001b[39mstep_Adam()\n\u001b[0;32m----> 9\u001b[0m z11 \u001b[38;5;241m=\u001b[39m \u001b[43matt1\u001b[49m\u001b[38;5;241;43m.\u001b[39;49m\u001b[43mstep_Adam\u001b[49m\u001b[43m(\u001b[49m\u001b[43m)\u001b[49m\n\u001b[1;32m     10\u001b[0m z12 \u001b[38;5;241m=\u001b[39m ff1\u001b[38;5;241m.\u001b[39mstep_Adam()\n\u001b[1;32m     11\u001b[0m z2 \u001b[38;5;241m=\u001b[39m un_embed\u001b[38;5;241m.\u001b[39mstep_Adam()\n",
      "\u001b[0;31mTypeError\u001b[0m: Attention.step_Adam() missing 4 required positional arguments: 'alpha', 'beta1', 'beta2', and 'epsilon'"
     ]
    }
   ],
   "source": [
    "dLdz = loss.backward()\n",
    "d0 = softmax.backward(dLdz)\n",
    "d1 = un_embed.backward(d0)\n",
    "d21 = ff1.backward(d1)\n",
    "d22 = att1.backward(d21)\n",
    "d3 = embed.backward(d22)\n",
    "\n",
    "z0 = embed.step_Adam()\n",
    "z11 = att1.step_Adam(0.001)\n",
    "z12 = ff1.step_Adam()\n",
    "z2 = un_embed.step_Adam()\n"
   ]
  },
  {
   "cell_type": "markdown",
   "metadata": {},
   "source": [
    "Vi kan nå se om backward har fungert"
   ]
  },
  {
   "cell_type": "markdown",
   "metadata": {},
   "source": [
    "#### Oppgave 3.2\n",
    "\n",
    "Vi lager en generell funksjon som vil trene nettverket vårt. Denne funksjonen tar inn datasettet i batcher og gjennomfører Adam-steg for å optimalisere parametrene. Vi plotter også $\\mathcal{L}^{i}$ for $i = 0,\\dots , n_{iter} − 1$ med logaritmisk skala på y-aksen.\n"
   ]
  },
  {
   "cell_type": "code",
   "execution_count": 6,
   "metadata": {},
   "outputs": [],
   "source": [
    "def test_Adam(nn: NeuralNetwork, loss, x_data, y_data, n_iters, step_size, m, start, stop):\n",
    "    n_batches = x_data.shape[0]\n",
    "    mean_losses = np.zeros(n_iters)\n",
    "    for j in range(n_iters):\n",
    "        losses = []\n",
    "        for i in range(n_batches):\n",
    "            x = x_data[i]\n",
    "            y = y_data[i][:,start:stop]\n",
    "            #Forward pass\n",
    "            X = onehot(x,m)\n",
    "            Z = nn.forward(X)\n",
    "            #Backward pass\n",
    "            losses.append(loss.forward(Z,y))\n",
    "            dLdZ = loss.backward()\n",
    "            nn.backward(dLdZ)\n",
    "            nn.step_Adam(step_size)\n",
    "        mean_loss = np.mean(losses)\n",
    "        print(\"Iterasjon \", str(j+1), \" L = \",mean_loss, \"\")\n",
    "        mean_losses[j] = mean_loss\n",
    "    #Plotter loss-funksjonen per itterasjon i en logaritmisk skala\n",
    "    plt.plot(np.arange(0,n_iters), np.log10(mean_losses))\n",
    "    plt.xlabel(\"Iterasjonnummer\")\n",
    "    plt.ylabel(\"Logaritmen av loss-funksjon\")\n",
    "    plt.title(\"Minimering ved antall iterasjoner\")\n",
    "    plt.show()\n",
    "    #Returnerer gjennomsnittet over objektfunksjonen over batchene\n",
    "    return mean_losses"
   ]
  },
  {
   "cell_type": "markdown",
   "metadata": {},
   "source": [
    "#### Oppgave 3.3"
   ]
  },
  {
   "cell_type": "markdown",
   "metadata": {},
   "source": [
    "Nå som vi har implementert treningsalgoritmen vår og testet at lagene er riktig implementert, er vi klare til å trene nettverket vårt på et enkelt sorteringsproblem. Vi ønsker å trene nettverket ved å gi det usorterte tallsekvenser bestående av 5 sifre med verdi 0 eller 1, sammen med tilhørende sorterte datasett. Med korrekt konfigurert nettverk vil det kunne analysere treningsdataene og søke etter mønstre som det deretter kan bruke til å forutsi hvordan en usortert sekvens vil se ut når den er ferdig sortert."
   ]
  },
  {
   "cell_type": "code",
   "execution_count": 7,
   "metadata": {},
   "outputs": [],
   "source": [
    "#definerer variabler\n",
    "r = 5\n",
    "m = 2\n",
    "\n",
    "d = 10\n",
    "k = 5\n",
    "p = 15\n",
    "L = 2\n",
    "#Implementerer 2 lag \n",
    "embed = EmbedPosition(9,m,d)\n",
    "att1 = Attention(d,k)\n",
    "att2 = Attention(d,k)\n",
    "ff1 = FeedForward(d,p)\n",
    "ff2 = FeedForward(d,p)\n",
    "un_embed = LinearLayer(d,m)\n",
    "softmax = Softmax()\n",
    "loss = CrossEntropy()\n",
    "\n",
    "nn = NeuralNetwork([embed, att1, ff1, att2, ff2, un_embed, softmax])\n",
    "\n",
    "data = get_train_test_sorting(r, m, samples_per_batch=250,n_batches_train=20, n_batches_test=4)\n",
    "\n",
    "x_train = data['x_train']\n",
    "y_train = data['y_train']\n",
    "x_test = data['x_test']\n",
    "y_test = data['y_test']"
   ]
  },
  {
   "cell_type": "markdown",
   "metadata": {},
   "source": [
    "Med lagene initialisert og treningsdataene innhentet, er det nå på tide å starte treningen av nettverket. Vi kjører nå treningsalgoritmen som beskrevet tidligere på treningsdataene vi har hentet fra $\\texttt{get\\_train\\_test\\_sorting}$-funksjonen. Deretter plotter vi og skriver ut tapet til objektsfunksjonen underveis."
   ]
  },
  {
   "cell_type": "code",
   "execution_count": 8,
   "metadata": {},
   "outputs": [
    {
     "name": "stdout",
     "output_type": "stream",
     "text": [
      "Iterasjon  1  L =  0.2942393585324728 \n",
      "Iterasjon  2  L =  0.2804435029798522 \n",
      "Iterasjon  3  L =  0.2536535010231091 \n",
      "Iterasjon  4  L =  0.20342407260671558 \n",
      "Iterasjon  5  L =  0.14293694194345277 \n",
      "Iterasjon  6  L =  0.09275509572166775 \n",
      "Iterasjon  7  L =  0.05528538056826674 \n",
      "Iterasjon  8  L =  0.04324548502158172 \n",
      "Iterasjon  9  L =  0.0344295496962095 \n",
      "Iterasjon  10  L =  0.02014560932722738 \n",
      "Iterasjon  11  L =  0.012246703277280545 \n",
      "Iterasjon  12  L =  0.005666041945524701 \n",
      "Iterasjon  13  L =  0.0028109884761483048 \n",
      "Iterasjon  14  L =  0.001433007082171443 \n",
      "Iterasjon  15  L =  0.0008674704444175672 \n",
      "Iterasjon  16  L =  0.0006052124385022218 \n",
      "Iterasjon  17  L =  0.00045608918960044956 \n",
      "Iterasjon  18  L =  0.0003562415082565189 \n",
      "Iterasjon  19  L =  0.0002846572944086026 \n",
      "Iterasjon  20  L =  0.00023140759668331543 \n",
      "Iterasjon  21  L =  0.0001910727605246037 \n",
      "Iterasjon  22  L =  0.00015998873363494285 \n",
      "Iterasjon  23  L =  0.00013558921679132267 \n",
      "Iterasjon  24  L =  0.00011605257965084857 \n",
      "Iterasjon  25  L =  9.971095922455641e-05 \n",
      "Iterasjon  26  L =  8.625228735477576e-05 \n",
      "Iterasjon  27  L =  7.525974791131402e-05 \n",
      "Iterasjon  28  L =  6.620386651506976e-05 \n",
      "Iterasjon  29  L =  5.8663636234747663e-05 \n",
      "Iterasjon  30  L =  5.232564808195547e-05 \n",
      "Iterasjon  31  L =  4.6952324598108314e-05 \n",
      "Iterasjon  32  L =  4.2359935156871976e-05 \n",
      "Iterasjon  33  L =  3.840463256824548e-05 \n",
      "Iterasjon  34  L =  3.4975298079352355e-05 \n",
      "Iterasjon  35  L =  3.198628897744621e-05 \n",
      "Iterasjon  36  L =  2.937173660574361e-05 \n",
      "Iterasjon  37  L =  2.7064838024158873e-05 \n",
      "Iterasjon  38  L =  2.5017334785977676e-05 \n",
      "Iterasjon  39  L =  2.319138904491768e-05 \n",
      "Iterasjon  40  L =  2.1556154849950193e-05 \n",
      "Iterasjon  41  L =  2.008623932697899e-05 \n",
      "Iterasjon  42  L =  1.876015433235783e-05 \n",
      "Iterasjon  43  L =  1.755975659536865e-05 \n",
      "Iterasjon  44  L =  1.646967175585794e-05 \n",
      "Iterasjon  45  L =  1.5476798750270013e-05 \n",
      "Iterasjon  46  L =  1.4569921633391343e-05 \n",
      "Iterasjon  47  L =  1.3739395045061974e-05 \n",
      "Iterasjon  48  L =  1.29768888888195e-05 \n",
      "Iterasjon  49  L =  1.2275178295026348e-05 \n",
      "Iterasjon  50  L =  1.1627968896983355e-05 \n",
      "Iterasjon  51  L =  1.102976301738125e-05 \n",
      "Iterasjon  52  L =  1.0475742260739195e-05 \n",
      "Iterasjon  53  L =  9.961658659995048e-06 \n",
      "Iterasjon  54  L =  9.48376473671407e-06 \n",
      "Iterasjon  55  L =  9.03874383257583e-06 \n",
      "Iterasjon  56  L =  8.623650987017346e-06 \n",
      "Iterasjon  57  L =  8.236062821823971e-06 \n",
      "Iterasjon  58  L =  7.873513867783808e-06 \n",
      "Iterasjon  59  L =  7.5336103356241854e-06 \n",
      "Iterasjon  60  L =  7.214872593992508e-06 \n",
      "Iterasjon  61  L =  6.915455893454947e-06 \n",
      "Iterasjon  62  L =  6.633570998473565e-06 \n",
      "Iterasjon  63  L =  6.368228579730325e-06 \n",
      "Iterasjon  64  L =  6.118048274710892e-06 \n",
      "Iterasjon  65  L =  5.882015556432094e-06 \n",
      "Iterasjon  66  L =  5.658664660489217e-06 \n",
      "Iterasjon  67  L =  5.447662230157835e-06 \n",
      "Iterasjon  68  L =  5.247569297829381e-06 \n",
      "Iterasjon  69  L =  5.0581248378714285e-06 \n",
      "Iterasjon  70  L =  4.878195463779562e-06 \n",
      "Iterasjon  71  L =  4.707546394331125e-06 \n",
      "Iterasjon  72  L =  4.545171886704363e-06 \n",
      "Iterasjon  73  L =  4.3908802315209834e-06 \n",
      "Iterasjon  74  L =  4.243780918568457e-06 \n",
      "Iterasjon  75  L =  4.10382045895479e-06 \n",
      "Iterasjon  76  L =  3.970220571135803e-06 \n",
      "Iterasjon  77  L =  3.8428920240161215e-06 \n",
      "Iterasjon  78  L =  3.7211859502621488e-06 \n",
      "Iterasjon  79  L =  3.6050744523474475e-06 \n",
      "Iterasjon  80  L =  3.4939043772270927e-06 \n",
      "Iterasjon  81  L =  3.3876476720734273e-06 \n",
      "Iterasjon  82  L =  3.285849353529079e-06 \n",
      "Iterasjon  83  L =  3.188429770959441e-06 \n",
      "Iterasjon  84  L =  3.0949916512568817e-06 \n",
      "Iterasjon  85  L =  3.005420241818792e-06 \n",
      "Iterasjon  86  L =  2.9195100377116555e-06 \n",
      "Iterasjon  87  L =  2.8369765972795503e-06 \n",
      "Iterasjon  88  L =  2.7577242273713386e-06 \n",
      "Iterasjon  89  L =  2.681603060269966e-06 \n",
      "Iterasjon  90  L =  2.6083421579377303e-06 \n",
      "Iterasjon  91  L =  2.537947954764491e-06 \n",
      "Iterasjon  92  L =  2.47011559361204e-06 \n",
      "Iterasjon  93  L =  2.404873093856635e-06 \n",
      "Iterasjon  94  L =  2.3419523714341665e-06 \n",
      "Iterasjon  95  L =  2.2813826060687783e-06 \n",
      "Iterasjon  96  L =  2.222880440570422e-06 \n",
      "Iterasjon  97  L =  2.1665271533630905e-06 \n",
      "Iterasjon  98  L =  2.1120894154264403e-06 \n",
      "Iterasjon  99  L =  2.059600717347149e-06 \n",
      "Iterasjon  100  L =  2.0088574097386855e-06 \n"
     ]
    },
    {
     "data": {
      "image/png": "[encoded data removed]",
      "text/plain": [
       "<Figure size 432x288 with 1 Axes>"
      ]
     },
     "metadata": {
      "needs_background": "light"
     },
     "output_type": "display_data"
    }
   ],
   "source": [
    "losses = test_Adam(nn, loss, data['x_train'], data['y_train'], 100, 0.001, m, 4, 9)"
   ]
  },
  {
   "cell_type": "markdown",
   "metadata": {},
   "source": [
    "Som vi ser optimerer vi objektfunksjonen gjennom treningen."
   ]
  },
  {
   "cell_type": "markdown",
   "metadata": {},
   "source": [
    "#### Tester for én iterasjon for å se om den greier å predikere neste verdi"
   ]
  },
  {
   "cell_type": "code",
   "execution_count": 9,
   "metadata": {},
   "outputs": [
    {
     "name": "stdout",
     "output_type": "stream",
     "text": [
      "[[1 1 0 1 0]]\n"
     ]
    }
   ],
   "source": [
    "x = np.array([[1, 0 ,0, 1, 0]])\n",
    "X = onehot(x, m)\n",
    "\n",
    "#forward pass\n",
    "Z = nn.forward(X)\n",
    "z_hat = np.argmax(Z, axis=1)\n",
    "\n",
    "print(z_hat)"
   ]
  },
  {
   "cell_type": "markdown",
   "metadata": {},
   "source": [
    "Når vi sender inn arrayet [1, 0, 0, 1, 1], vil vi ved å sende det gjennom algoritmen få predikert den første predikerte verdien som det siste elementet i det returnerte arrayet, som beskrevet i avsnitt 1.2. Siden algoritmen sorterer verdiene i arrayet bestående av 0 og 1, forventer vi at det første sifferet i det sorterte arrayet blir 0. Deretter, for å predikere resten av sekvensen, mater vi inn det siste elementet i det predikerte arrayet tilbake inn i arrayet vi sender gjennom 'forward'-steget, og fortsetter prediksjonen derfra."
   ]
  },
  {
   "cell_type": "markdown",
   "metadata": {},
   "source": [
    "Videre har vi definert funksjonene predict i $\\texttt{neural\\_network}$ og $\\texttt{countCorrect}$ i $\\texttt{utils.py}$ som tar inn testdataen til det nevrale nettverket vårt, predikerer svarene ut ifra dataen, for så å sjekke hvor stor andel av prediksjonene som var riktige. Dermed kan vi se hvorvidt nettverket vårt klarer å sortere eller ikke."
   ]
  },
  {
   "cell_type": "code",
   "execution_count": 10,
   "metadata": {},
   "outputs": [
    {
     "name": "stdout",
     "output_type": "stream",
     "text": [
      "Antall rette prediksjoner: 1000\n",
      "Totalt antall prediksjoner: 1000\n",
      "Prosentvis riktige predikasjoner: 100.0 %\n"
     ]
    }
   ],
   "source": [
    "#Kaller på prediksjonsfunksjonen\n",
    "y_hats = nn.predict(x_test, 2, 5)\n",
    "#Teller antall rette prediksjoner\n",
    "tell = countCorrect_sort(y_hats, y_test)"
   ]
  },
  {
   "cell_type": "markdown",
   "metadata": {},
   "source": [
    "Når to forskjellige verdier kan forekomme på fem ulike steder, resulterer dette i totalt $32$ mulige kombinasjoner $(2^5 = 32)$. Denne variasjonen gjør det praktisk talt umulig å teste algoritmen vår med nye sekvenser. Ideelt sett ville tapet ha tendert mot null, og prediksjonene ville vært korrekte hver gang, siden algoritmen burde gjenkjenne det riktige svaret $(y)$ i stedet for å forutsi neste sekvens. Hvis dette ikke skjer, kan det tyde på feil i det nevrale nettverket eller treningsdataen."
   ]
  },
  {
   "cell_type": "markdown",
   "metadata": {},
   "source": [
    "Nå som vi ser at det nevrale nettverket blir trent riktig, kan vi prøve å løse det samme problemet med tallsekvenser på lengde $7$ og tall fra $0$ til $4$."
   ]
  },
  {
   "cell_type": "code",
   "execution_count": 11,
   "metadata": {},
   "outputs": [],
   "source": [
    "#Initialiserer to lag og henter ny treningsdata likt som tidligere\n",
    "#definerer variabler\n",
    "r = 7\n",
    "m = 5\n",
    "n_max = 2*r-1\n",
    "\n",
    "d = 20\n",
    "k = 10\n",
    "p = 25\n",
    "L = 2\n",
    "\n",
    "embed = EmbedPosition(n_max,m,d)\n",
    "att1 = Attention(d,k)\n",
    "att2 = Attention(d,k)\n",
    "\n",
    "ff1 = FeedForward(d,p)\n",
    "ff2 = FeedForward(d,p)\n",
    "\n",
    "un_embed = LinearLayer(d,m)\n",
    "softmax = Softmax()\n",
    "loss = CrossEntropy()\n",
    "\n",
    "nn = NeuralNetwork([embed, att1, ff1, att2, ff2, un_embed, softmax])\n",
    "\n",
    "data = get_train_test_sorting(r, m, samples_per_batch=250,n_batches_train=10, n_batches_test=4)\n",
    "\n",
    "x_train = data['x_train']\n",
    "y_train = data['y_train']\n",
    "x_test = data['x_test']\n",
    "y_test = data['y_test']\n"
   ]
  },
  {
   "cell_type": "markdown",
   "metadata": {},
   "source": [
    "Trener modellen på den nye dataen for å optimere prediksjonene."
   ]
  },
  {
   "cell_type": "code",
   "execution_count": 12,
   "metadata": {},
   "outputs": [
    {
     "name": "stdout",
     "output_type": "stream",
     "text": [
      "Iterasjon  1  L =  0.6966235196958397 \n",
      "Iterasjon  2  L =  0.6821015283316549 \n",
      "Iterasjon  3  L =  0.6654814415336265 \n",
      "Iterasjon  4  L =  0.6440225289405761 \n",
      "Iterasjon  5  L =  0.6130987606621001 \n",
      "Iterasjon  6  L =  0.5667615330060645 \n",
      "Iterasjon  7  L =  0.5031094654844239 \n",
      "Iterasjon  8  L =  0.42779745971275374 \n",
      "Iterasjon  9  L =  0.3644944047190727 \n",
      "Iterasjon  10  L =  0.3253085048141944 \n",
      "Iterasjon  11  L =  0.2938898531351451 \n",
      "Iterasjon  12  L =  0.27867758428212674 \n",
      "Iterasjon  13  L =  0.27453302203420005 \n",
      "Iterasjon  14  L =  0.2780767013956218 \n",
      "Iterasjon  15  L =  0.277882106694749 \n",
      "Iterasjon  16  L =  0.2591067845960894 \n",
      "Iterasjon  17  L =  0.24847435982161975 \n",
      "Iterasjon  18  L =  0.23157312865135862 \n",
      "Iterasjon  19  L =  0.217806066616602 \n",
      "Iterasjon  20  L =  0.20741855197939912 \n",
      "Iterasjon  21  L =  0.20283369614627364 \n",
      "Iterasjon  22  L =  0.20138069512340712 \n",
      "Iterasjon  23  L =  0.20314418239991455 \n",
      "Iterasjon  24  L =  0.19783939567046777 \n",
      "Iterasjon  25  L =  0.19505504532884646 \n",
      "Iterasjon  26  L =  0.18695969844685023 \n",
      "Iterasjon  27  L =  0.17951796696988948 \n",
      "Iterasjon  28  L =  0.17026197216332495 \n",
      "Iterasjon  29  L =  0.16233610732735432 \n",
      "Iterasjon  30  L =  0.1542673340301248 \n",
      "Iterasjon  31  L =  0.15029358520085048 \n",
      "Iterasjon  32  L =  0.14486561823225821 \n",
      "Iterasjon  33  L =  0.1410029133389548 \n",
      "Iterasjon  34  L =  0.13742632314524075 \n",
      "Iterasjon  35  L =  0.13639072911450364 \n",
      "Iterasjon  36  L =  0.14039316758922618 \n",
      "Iterasjon  37  L =  0.1453971013005388 \n",
      "Iterasjon  38  L =  0.14178967877160406 \n",
      "Iterasjon  39  L =  0.13983090996460087 \n",
      "Iterasjon  40  L =  0.14053505171961678 \n",
      "Iterasjon  41  L =  0.13311037597541725 \n",
      "Iterasjon  42  L =  0.12422888121334644 \n",
      "Iterasjon  43  L =  0.11629354952807684 \n",
      "Iterasjon  44  L =  0.11200695856853135 \n",
      "Iterasjon  45  L =  0.10671418073850772 \n",
      "Iterasjon  46  L =  0.10323362868733095 \n",
      "Iterasjon  47  L =  0.10552761216527798 \n",
      "Iterasjon  48  L =  0.10546144619610061 \n",
      "Iterasjon  49  L =  0.11291351815380483 \n",
      "Iterasjon  50  L =  0.1064213952800686 \n",
      "Iterasjon  51  L =  0.11171189852508441 \n",
      "Iterasjon  52  L =  0.10427314619137933 \n",
      "Iterasjon  53  L =  0.10465015533705171 \n",
      "Iterasjon  54  L =  0.09664410332039104 \n",
      "Iterasjon  55  L =  0.09470475184455814 \n",
      "Iterasjon  56  L =  0.08883299048767392 \n",
      "Iterasjon  57  L =  0.08508897224862064 \n",
      "Iterasjon  58  L =  0.08107387512118974 \n",
      "Iterasjon  59  L =  0.07737248572815639 \n",
      "Iterasjon  60  L =  0.0736184173338234 \n",
      "Iterasjon  61  L =  0.07089164218866915 \n",
      "Iterasjon  62  L =  0.06778664568414623 \n",
      "Iterasjon  63  L =  0.06573172785564689 \n",
      "Iterasjon  64  L =  0.06307797357198211 \n",
      "Iterasjon  65  L =  0.06187621777659512 \n",
      "Iterasjon  66  L =  0.058900991829524664 \n",
      "Iterasjon  67  L =  0.058144200874038335 \n",
      "Iterasjon  68  L =  0.054593538950027574 \n",
      "Iterasjon  69  L =  0.055043575393044275 \n",
      "Iterasjon  70  L =  0.054579847069326906 \n",
      "Iterasjon  71  L =  0.06170008596247343 \n",
      "Iterasjon  72  L =  0.062106596388227985 \n",
      "Iterasjon  73  L =  0.06655199032103823 \n",
      "Iterasjon  74  L =  0.06017185111072425 \n",
      "Iterasjon  75  L =  0.06071185679939378 \n",
      "Iterasjon  76  L =  0.0533548507410629 \n",
      "Iterasjon  77  L =  0.05270275281565846 \n",
      "Iterasjon  78  L =  0.056061412213699605 \n",
      "Iterasjon  79  L =  0.0666860491067018 \n",
      "Iterasjon  80  L =  0.07624662418109471 \n",
      "Iterasjon  81  L =  0.08687736084195345 \n",
      "Iterasjon  82  L =  0.08717158644945903 \n",
      "Iterasjon  83  L =  0.0865026173832637 \n",
      "Iterasjon  84  L =  0.07664504495789597 \n",
      "Iterasjon  85  L =  0.06956207742795337 \n",
      "Iterasjon  86  L =  0.0611432764385346 \n",
      "Iterasjon  87  L =  0.05749922927677409 \n",
      "Iterasjon  88  L =  0.04785672414186898 \n",
      "Iterasjon  89  L =  0.03868315403149991 \n",
      "Iterasjon  90  L =  0.0309616229021973 \n",
      "Iterasjon  91  L =  0.0272724278960497 \n",
      "Iterasjon  92  L =  0.02526062110934063 \n",
      "Iterasjon  93  L =  0.021906405860961934 \n",
      "Iterasjon  94  L =  0.020175782324491253 \n",
      "Iterasjon  95  L =  0.01823165702291204 \n",
      "Iterasjon  96  L =  0.017217935985945038 \n",
      "Iterasjon  97  L =  0.01644552318294569 \n",
      "Iterasjon  98  L =  0.015583826231074942 \n",
      "Iterasjon  99  L =  0.014854477641669073 \n",
      "Iterasjon  100  L =  0.014014767954324686 \n",
      "Iterasjon  101  L =  0.013438486755020462 \n",
      "Iterasjon  102  L =  0.012705127487353075 \n",
      "Iterasjon  103  L =  0.012241324159153842 \n",
      "Iterasjon  104  L =  0.011642521527336431 \n",
      "Iterasjon  105  L =  0.011275248069148846 \n",
      "Iterasjon  106  L =  0.010816149642606332 \n",
      "Iterasjon  107  L =  0.010464109252904284 \n",
      "Iterasjon  108  L =  0.010081209019347937 \n",
      "Iterasjon  109  L =  0.009718773887634277 \n",
      "Iterasjon  110  L =  0.009398890909034232 \n",
      "Iterasjon  111  L =  0.009033888826038073 \n",
      "Iterasjon  112  L =  0.00874830094587327 \n",
      "Iterasjon  113  L =  0.008400011221635337 \n",
      "Iterasjon  114  L =  0.008135018534226598 \n",
      "Iterasjon  115  L =  0.007823500575607148 \n",
      "Iterasjon  116  L =  0.00756418872355539 \n",
      "Iterasjon  117  L =  0.00728585354779876 \n",
      "Iterasjon  118  L =  0.007028061021847848 \n",
      "Iterasjon  119  L =  0.006785298812195151 \n",
      "Iterasjon  120  L =  0.00654349463166057 \n",
      "Iterasjon  121  L =  0.006329883061138637 \n",
      "Iterasjon  122  L =  0.006109432608082996 \n",
      "Iterasjon  123  L =  0.005916024207230565 \n",
      "Iterasjon  124  L =  0.005720470186578185 \n",
      "Iterasjon  125  L =  0.005542661824634027 \n",
      "Iterasjon  126  L =  0.005371019020507805 \n",
      "Iterasjon  127  L =  0.00520759192739103 \n",
      "Iterasjon  128  L =  0.00505306530354381 \n",
      "Iterasjon  129  L =  0.004902042785724095 \n",
      "Iterasjon  130  L =  0.00476063583419031 \n",
      "Iterasjon  131  L =  0.004622469963326216 \n",
      "Iterasjon  132  L =  0.004492760007139112 \n",
      "Iterasjon  133  L =  0.004367421104075862 \n",
      "Iterasjon  134  L =  0.004248250534283138 \n",
      "Iterasjon  135  L =  0.004133865525744152 \n",
      "Iterasjon  136  L =  0.004024381136057753 \n",
      "Iterasjon  137  L =  0.0039192799639070795 \n",
      "Iterasjon  138  L =  0.003817721930795683 \n",
      "Iterasjon  139  L =  0.003720462799890232 \n",
      "Iterasjon  140  L =  0.0036266767928018135 \n",
      "Iterasjon  141  L =  0.0035352210944801315 \n",
      "Iterasjon  142  L =  0.003447158507605768 \n",
      "Iterasjon  143  L =  0.0033620821042481966 \n",
      "Iterasjon  144  L =  0.00327990444244418 \n",
      "Iterasjon  145  L =  0.0032006038029385813 \n",
      "Iterasjon  146  L =  0.0031239744689842666 \n",
      "Iterasjon  147  L =  0.003050120919902301 \n",
      "Iterasjon  148  L =  0.0029785201950694785 \n",
      "Iterasjon  149  L =  0.0029095811649626825 \n",
      "Iterasjon  150  L =  0.002842657545332615 \n",
      "Iterasjon  151  L =  0.00277779096460276 \n",
      "Iterasjon  152  L =  0.0027149237204746077 \n",
      "Iterasjon  153  L =  0.002653670826267931 \n",
      "Iterasjon  154  L =  0.0025942868728100225 \n",
      "Iterasjon  155  L =  0.002536277803424821 \n",
      "Iterasjon  156  L =  0.002480161437301062 \n",
      "Iterasjon  157  L =  0.0024257026972459073 \n",
      "Iterasjon  158  L =  0.0023723892822718196 \n",
      "Iterasjon  159  L =  0.0023211468586223664 \n",
      "Iterasjon  160  L =  0.002270551126219895 \n",
      "Iterasjon  161  L =  0.0022212041738253877 \n",
      "Iterasjon  162  L =  0.002173801687229364 \n",
      "Iterasjon  163  L =  0.002127227166300494 \n",
      "Iterasjon  164  L =  0.002081764527578237 \n",
      "Iterasjon  165  L =  0.00203792313894136 \n",
      "Iterasjon  166  L =  0.0019945990337940232 \n",
      "Iterasjon  167  L =  0.001953282523253206 \n",
      "Iterasjon  168  L =  0.0019124388815144916 \n",
      "Iterasjon  169  L =  0.0018722091281654662 \n",
      "Iterasjon  170  L =  0.0018339605011211055 \n",
      "Iterasjon  171  L =  0.0017956140328277605 \n",
      "Iterasjon  172  L =  0.0017589245252856555 \n",
      "Iterasjon  173  L =  0.0017217222894087962 \n",
      "Iterasjon  174  L =  0.001685243725551239 \n",
      "Iterasjon  175  L =  0.0016502667509946545 \n",
      "Iterasjon  176  L =  0.0016154263808376046 \n",
      "Iterasjon  177  L =  0.0015829962722842023 \n",
      "Iterasjon  178  L =  0.0015503443006102025 \n",
      "Iterasjon  179  L =  0.0015192625728822537 \n",
      "Iterasjon  180  L =  0.0014883230111306398 \n",
      "Iterasjon  181  L =  0.0014579011841429988 \n",
      "Iterasjon  182  L =  0.0014285613956435124 \n",
      "Iterasjon  183  L =  0.0013998236465081007 \n",
      "Iterasjon  184  L =  0.0013711669429864325 \n",
      "Iterasjon  185  L =  0.0013435929061998023 \n",
      "Iterasjon  186  L =  0.001316136947841378 \n",
      "Iterasjon  187  L =  0.0012889677700221045 \n",
      "Iterasjon  188  L =  0.0012628512594612907 \n",
      "Iterasjon  189  L =  0.0012371192810507288 \n",
      "Iterasjon  190  L =  0.0012121305087685074 \n",
      "Iterasjon  191  L =  0.0011872454979797544 \n",
      "Iterasjon  192  L =  0.001163511297860256 \n",
      "Iterasjon  193  L =  0.0011398862943576853 \n",
      "Iterasjon  194  L =  0.0011162860762093574 \n",
      "Iterasjon  195  L =  0.0010937552615006838 \n",
      "Iterasjon  196  L =  0.001071162878742701 \n",
      "Iterasjon  197  L =  0.0010490382259027077 \n",
      "Iterasjon  198  L =  0.001027253750296161 \n",
      "Iterasjon  199  L =  0.0010058340919270202 \n",
      "Iterasjon  200  L =  0.0009850003152144442 \n",
      "Iterasjon  201  L =  0.0009645869274780329 \n",
      "Iterasjon  202  L =  0.0009448488935373239 \n",
      "Iterasjon  203  L =  0.0009254147663098579 \n",
      "Iterasjon  204  L =  0.000906186723471215 \n",
      "Iterasjon  205  L =  0.0008869161818703761 \n",
      "Iterasjon  206  L =  0.0008686326219015137 \n",
      "Iterasjon  207  L =  0.0008504441731743346 \n",
      "Iterasjon  208  L =  0.0008328062748495454 \n",
      "Iterasjon  209  L =  0.0008154617237210903 \n",
      "Iterasjon  210  L =  0.0007985140719440761 \n",
      "Iterasjon  211  L =  0.0007820997124223985 \n",
      "Iterasjon  212  L =  0.0007659106057901322 \n",
      "Iterasjon  213  L =  0.0007500698840444666 \n",
      "Iterasjon  214  L =  0.0007346103160682761 \n",
      "Iterasjon  215  L =  0.0007194803770746694 \n",
      "Iterasjon  216  L =  0.0007045402426142913 \n",
      "Iterasjon  217  L =  0.0006899770532648693 \n",
      "Iterasjon  218  L =  0.0006757478526914228 \n",
      "Iterasjon  219  L =  0.000661864317296898 \n",
      "Iterasjon  220  L =  0.0006483735335701666 \n",
      "Iterasjon  221  L =  0.0006351789201512654 \n",
      "Iterasjon  222  L =  0.0006223293717363586 \n",
      "Iterasjon  223  L =  0.0006098103117486754 \n",
      "Iterasjon  224  L =  0.0005976455265938147 \n",
      "Iterasjon  225  L =  0.000585712774414718 \n",
      "Iterasjon  226  L =  0.0005741093725599669 \n",
      "Iterasjon  227  L =  0.0005627967617173879 \n",
      "Iterasjon  228  L =  0.0005516177726772944 \n",
      "Iterasjon  229  L =  0.000540696968044292 \n",
      "Iterasjon  230  L =  0.0005300134639477434 \n",
      "Iterasjon  231  L =  0.0005196662660054455 \n",
      "Iterasjon  232  L =  0.00050947742699037 \n",
      "Iterasjon  233  L =  0.0004996851269929553 \n",
      "Iterasjon  234  L =  0.0004900619714859436 \n",
      "Iterasjon  235  L =  0.0004807669439726821 \n",
      "Iterasjon  236  L =  0.0004716350352682812 \n",
      "Iterasjon  237  L =  0.00046264753148518784 \n",
      "Iterasjon  238  L =  0.0004540370298799041 \n",
      "Iterasjon  239  L =  0.0004455265424585015 \n",
      "Iterasjon  240  L =  0.00043717594499265286 \n",
      "Iterasjon  241  L =  0.0004290971456746292 \n",
      "Iterasjon  242  L =  0.0004213058890067097 \n",
      "Iterasjon  243  L =  0.00041358995494993517 \n",
      "Iterasjon  244  L =  0.0004060666962599739 \n",
      "Iterasjon  245  L =  0.00039871309767008505 \n",
      "Iterasjon  246  L =  0.00039152283359434177 \n",
      "Iterasjon  247  L =  0.00038457675950110103 \n",
      "Iterasjon  248  L =  0.0003777486006303313 \n",
      "Iterasjon  249  L =  0.0003710070966975581 \n",
      "Iterasjon  250  L =  0.0003644767071177327 \n",
      "Iterasjon  251  L =  0.0003581280543403614 \n",
      "Iterasjon  252  L =  0.00035187611000464845 \n",
      "Iterasjon  253  L =  0.0003458032056520256 \n",
      "Iterasjon  254  L =  0.0003398328212219898 \n",
      "Iterasjon  255  L =  0.0003340474812596495 \n",
      "Iterasjon  256  L =  0.00032829231690519934 \n",
      "Iterasjon  257  L =  0.0003226153567744563 \n",
      "Iterasjon  258  L =  0.00031713701179912114 \n",
      "Iterasjon  259  L =  0.0003117928819669968 \n",
      "Iterasjon  260  L =  0.00030653731965891155 \n",
      "Iterasjon  261  L =  0.0003013921236470012 \n",
      "Iterasjon  262  L =  0.00029637080624482547 \n",
      "Iterasjon  263  L =  0.000291465095577131 \n",
      "Iterasjon  264  L =  0.00028664898100370803 \n",
      "Iterasjon  265  L =  0.0002819676101147244 \n",
      "Iterasjon  266  L =  0.0002773920926652495 \n",
      "Iterasjon  267  L =  0.00027290995645664056 \n",
      "Iterasjon  268  L =  0.0002685167701634206 \n",
      "Iterasjon  269  L =  0.00026422553625528734 \n",
      "Iterasjon  270  L =  0.00026002666397126285 \n",
      "Iterasjon  271  L =  0.0002558689318312005 \n",
      "Iterasjon  272  L =  0.00025181619643354356 \n",
      "Iterasjon  273  L =  0.0002478713750454141 \n",
      "Iterasjon  274  L =  0.0002439930793749617 \n",
      "Iterasjon  275  L =  0.00024016068458678695 \n",
      "Iterasjon  276  L =  0.0002364293478914997 \n",
      "Iterasjon  277  L =  0.00023279381019459663 \n",
      "Iterasjon  278  L =  0.00022925088878746636 \n",
      "Iterasjon  279  L =  0.00022574782585226897 \n",
      "Iterasjon  280  L =  0.00022231193581112775 \n",
      "Iterasjon  281  L =  0.00021893766255538642 \n",
      "Iterasjon  282  L =  0.00021560794647215075 \n",
      "Iterasjon  283  L =  0.00021237204154853111 \n",
      "Iterasjon  284  L =  0.00020919102505904697 \n",
      "Iterasjon  285  L =  0.0002060732818338747 \n",
      "Iterasjon  286  L =  0.0002030121588984009 \n",
      "Iterasjon  287  L =  0.00020001204799230616 \n",
      "Iterasjon  288  L =  0.0001970724533686634 \n",
      "Iterasjon  289  L =  0.00019419093055514787 \n",
      "Iterasjon  290  L =  0.00019136204466606576 \n",
      "Iterasjon  291  L =  0.00018858672931038953 \n",
      "Iterasjon  292  L =  0.00018586195030501497 \n",
      "Iterasjon  293  L =  0.0001831838707005772 \n",
      "Iterasjon  294  L =  0.00018055276617475827 \n",
      "Iterasjon  295  L =  0.00017796570533199619 \n",
      "Iterasjon  296  L =  0.0001754270307328337 \n",
      "Iterasjon  297  L =  0.00017295017975704703 \n",
      "Iterasjon  298  L =  0.00017055777848119593 \n",
      "Iterasjon  299  L =  0.00016813451213292124 \n",
      "Iterasjon  300  L =  0.00016578164429052224 \n"
     ]
    },
    {
     "data": {
      "image/png": "[encoded data removed]",
      "text/plain": [
       "<Figure size 432x288 with 1 Axes>"
      ]
     },
     "metadata": {
      "needs_background": "light"
     },
     "output_type": "display_data"
    }
   ],
   "source": [
    "losses = test_Adam(nn, loss, data['x_train'], data['y_train'], 300, 0.001, m, 6, 13)"
   ]
  },
  {
   "cell_type": "markdown",
   "metadata": {},
   "source": [
    "Som vi ser går også loss-funksjonen her mot 0, men i en lavere grad enn tidligere. Dette kan indikere at nettverket vårt sliter litt mer med å stadfeste klare mønster og sammenhenger, men verdien er likevel lav nok til at vi burde forvente riktig prediksjon store deler av tiden. "
   ]
  },
  {
   "cell_type": "markdown",
   "metadata": {},
   "source": [
    "Vi kan derfor teste med noen enkle tilfeller for å bekrefte at vi får riktig prediksjon."
   ]
  },
  {
   "cell_type": "code",
   "execution_count": 13,
   "metadata": {},
   "outputs": [
    {
     "name": "stdout",
     "output_type": "stream",
     "text": [
      "[3 0 4 1 4 3 2] -> [0 1 2 3 3 4 4]\n",
      "[4 2 2 1 0 2 4] -> [0 1 2 2 2 4 4]\n",
      "[1 2 0 1 3 0 4] -> [0 0 1 1 2 3 4]\n"
     ]
    }
   ],
   "source": [
    "x_1 = np.array([[[3, 0, 4, 1, 4, 3, 2]]]) #Arrayet vi vil prøve å sortere\n",
    "x_2 = np.array([[[1, 2, 2, 1, 0, 2, 4]]])\n",
    "x_3 = np.array([[[1, 2, 0, 1, 3, 0, 4]]])\n",
    "#Printer opprinnelig array og modellens prediksjon av det samme sorterte arrayet\n",
    "print(x_1[0,0], \"->\",(nn.predict(x_1, 5, 7))[0,0])\n",
    "print(x_2[0,0], \"->\",(nn.predict(x_2, 5, 7))[0,0])\n",
    "print(x_3[0,0], \"->\",(nn.predict(x_3, 5, 7))[0,0])"
   ]
  },
  {
   "cell_type": "markdown",
   "metadata": {},
   "source": [
    "Vi ser at nettverket vårt klarer å predikere riktig for disse tilfellene. Likevel kan det være fordelaktig å teste det med et større datasett for å få en dypere forståelse av nettverkets treningsnivå."
   ]
  },
  {
   "cell_type": "markdown",
   "metadata": {},
   "source": [
    "$\\texttt{get\\_train\\_test\\_sorting}$-funksjonen leverer ikke bare treningsdata for nettverket vårt, men også testdata som nettverket ikke har blitt eksponert for under treningen. Dette lar oss evaluere hvor godt nettverket vårt kan forutsi sortering av tall, da det blir testet på prediksjonsevnen, ikke bare på gjenkjennelse av treningsdataen."
   ]
  },
  {
   "cell_type": "code",
   "execution_count": 14,
   "metadata": {},
   "outputs": [
    {
     "name": "stdout",
     "output_type": "stream",
     "text": [
      "Antall rette prediksjoner: 997\n",
      "Totalt antall prediksjoner: 1000\n",
      "Prosentvis riktige predikasjoner: 99.7 %\n"
     ]
    }
   ],
   "source": [
    "#Henter prediksjonsfunksjonen\n",
    "y_hats = nn.predict(x_test, 5, 7)\n",
    "#Finner andelen av riktige prediksjoner\n",
    "tell = countCorrect_sort(y_hats, y_test)"
   ]
  },
  {
   "cell_type": "markdown",
   "metadata": {},
   "source": [
    "Også her ser vi at modellen vår er godt trent på å sortere riktig, selv med ny data og flere mulige kombinasjoner."
   ]
  },
  {
   "cell_type": "markdown",
   "metadata": {},
   "source": [
    "#### Oppgave 3.4"
   ]
  },
  {
   "cell_type": "markdown",
   "metadata": {},
   "source": [
    "Nå som vi har demonstrert muligheten til å trene det nevrale nettverket til å sortere tall, ønsker vi å utforske om det kan lære enkel addisjon. Denne tilnærmingen ligner på sorteringen, men her øker vi mengden treningsdata i håp om å oppnå en godt trent modell som kan forutsi riktig resultat store deler av tiden."
   ]
  },
  {
   "cell_type": "markdown",
   "metadata": {},
   "source": [
    "Vi starter med å initialisere 3 lag, definere nødvendige variabler og hente ut treningsdata."
   ]
  },
  {
   "cell_type": "code",
   "execution_count": 15,
   "metadata": {},
   "outputs": [],
   "source": [
    "from data_generators import get_train_test_addition\n",
    "#definerer variabler\n",
    "r = 4\n",
    "m = 10\n",
    "n_max = 3*r\n",
    "\n",
    "d = 30\n",
    "k = 20\n",
    "p = 40\n",
    "L = 3\n",
    "\n",
    "#Lager 3 lag til nn\n",
    "att1 = Attention(d,k)\n",
    "att2 = Attention(d,k)\n",
    "att3 = Attention(d,k)\n",
    "\n",
    "ff1 = FeedForward(d,p)\n",
    "ff2 = FeedForward(d,p)\n",
    "ff3 = FeedForward(d,p)\n",
    "\n",
    "embed = EmbedPosition(n_max,m,d)\n",
    "un_embed = LinearLayer(d,m)\n",
    "softmax = Softmax()\n",
    "loss = CrossEntropy()\n",
    "\n",
    "#Lager det nevrale nettverket på nytt\n",
    "nn = NeuralNetwork([embed, att1, ff1, att2, ff2, att3, ff3, un_embed, softmax])\n",
    "#implementerer trenignsdata. 2 siffer i tallene vi adderer, 20 batches med 250 samples per batch, og 4 batches vi kan teste med\n",
    "data = get_train_test_addition(2, samples_per_batch=250,n_batches_train=20, n_batches_test=20)\n",
    "#Henter ut data\n",
    "x_train = data['x_train']\n",
    "y_train = data['y_train']\n",
    "x_test = data['x_test']\n",
    "y_test = data['y_test']"
   ]
  },
  {
   "cell_type": "markdown",
   "metadata": {},
   "source": [
    "Nå kan vi beregne, plotte og skrive ut tapet til objektsfunksjonen ved hver iterasjon ved hjelp av den samme funksjonen som tidligere."
   ]
  },
  {
   "cell_type": "code",
   "execution_count": 16,
   "metadata": {},
   "outputs": [
    {
     "name": "stdout",
     "output_type": "stream",
     "text": [
      "Iterasjon  1  L =  0.9659027605525757 \n",
      "Iterasjon  2  L =  0.843303339203791 \n",
      "Iterasjon  3  L =  0.7678378311182101 \n",
      "Iterasjon  4  L =  0.7693850785696903 \n",
      "Iterasjon  5  L =  0.7495976864718797 \n",
      "Iterasjon  6  L =  0.7076445268500551 \n",
      "Iterasjon  7  L =  0.6769503331692066 \n",
      "Iterasjon  8  L =  0.6681478365286152 \n",
      "Iterasjon  9  L =  0.6647795519615365 \n",
      "Iterasjon  10  L =  0.6613156808760492 \n",
      "Iterasjon  11  L =  0.6551256330122462 \n",
      "Iterasjon  12  L =  0.6465781976014158 \n",
      "Iterasjon  13  L =  0.6428252038603525 \n",
      "Iterasjon  14  L =  0.6235811780900422 \n",
      "Iterasjon  15  L =  0.6006815268466331 \n",
      "Iterasjon  16  L =  0.5934304025377621 \n",
      "Iterasjon  17  L =  0.557327303793847 \n",
      "Iterasjon  18  L =  0.530290561361646 \n",
      "Iterasjon  19  L =  0.49708060768675405 \n",
      "Iterasjon  20  L =  0.4425149656117081 \n",
      "Iterasjon  21  L =  0.4222755065360756 \n",
      "Iterasjon  22  L =  0.3738507801026853 \n",
      "Iterasjon  23  L =  0.3324911381986626 \n",
      "Iterasjon  24  L =  0.33830275680095606 \n",
      "Iterasjon  25  L =  0.33495963210865176 \n",
      "Iterasjon  26  L =  0.2895139764673583 \n",
      "Iterasjon  27  L =  0.24583285831257168 \n",
      "Iterasjon  28  L =  0.22741535513702343 \n",
      "Iterasjon  29  L =  0.19371907927154836 \n",
      "Iterasjon  30  L =  0.17434791702174962 \n",
      "Iterasjon  31  L =  0.17313363238047647 \n",
      "Iterasjon  32  L =  0.22127856893273834 \n",
      "Iterasjon  33  L =  0.2471899742568071 \n",
      "Iterasjon  34  L =  0.26529698452684497 \n",
      "Iterasjon  35  L =  0.20759604856503047 \n",
      "Iterasjon  36  L =  0.1516960213542106 \n",
      "Iterasjon  37  L =  0.12985441651637603 \n",
      "Iterasjon  38  L =  0.12391904443206085 \n",
      "Iterasjon  39  L =  0.11596369497030343 \n",
      "Iterasjon  40  L =  0.10912708438920946 \n",
      "Iterasjon  41  L =  0.1032659458252034 \n",
      "Iterasjon  42  L =  0.09385260709410673 \n",
      "Iterasjon  43  L =  0.08192944667019957 \n",
      "Iterasjon  44  L =  0.06460759397731844 \n",
      "Iterasjon  45  L =  0.04743846866624784 \n",
      "Iterasjon  46  L =  0.038873983053839975 \n",
      "Iterasjon  47  L =  0.03817804219722205 \n",
      "Iterasjon  48  L =  0.044380543178369855 \n",
      "Iterasjon  49  L =  0.14728782161963994 \n",
      "Iterasjon  50  L =  0.498730035554372 \n",
      "Iterasjon  51  L =  0.4625474989719011 \n",
      "Iterasjon  52  L =  0.23239445027094555 \n",
      "Iterasjon  53  L =  0.14222174187853948 \n",
      "Iterasjon  54  L =  0.08887143344488133 \n",
      "Iterasjon  55  L =  0.05805878321113259 \n",
      "Iterasjon  56  L =  0.040591938875218676 \n",
      "Iterasjon  57  L =  0.029573612374511137 \n",
      "Iterasjon  58  L =  0.022505876899130473 \n",
      "Iterasjon  59  L =  0.017313759056598023 \n",
      "Iterasjon  60  L =  0.013548961696999743 \n",
      "Iterasjon  61  L =  0.011036121676982574 \n",
      "Iterasjon  62  L =  0.009353066790882332 \n",
      "Iterasjon  63  L =  0.008049863009495308 \n",
      "Iterasjon  64  L =  0.006757138014443645 \n",
      "Iterasjon  65  L =  0.005658031113705794 \n",
      "Iterasjon  66  L =  0.004880079108502624 \n",
      "Iterasjon  67  L =  0.004255303417477014 \n",
      "Iterasjon  68  L =  0.00380062870392317 \n",
      "Iterasjon  69  L =  0.003364234387399575 \n",
      "Iterasjon  70  L =  0.002981367492477468 \n",
      "Iterasjon  71  L =  0.002675203314014196 \n",
      "Iterasjon  72  L =  0.0024272072272095435 \n",
      "Iterasjon  73  L =  0.002202006126510942 \n",
      "Iterasjon  74  L =  0.0020042725415395863 \n",
      "Iterasjon  75  L =  0.0018388346753006744 \n",
      "Iterasjon  76  L =  0.0016933488017568978 \n",
      "Iterasjon  77  L =  0.0015602990561195973 \n",
      "Iterasjon  78  L =  0.0014452535066523157 \n",
      "Iterasjon  79  L =  0.0013429993875539285 \n",
      "Iterasjon  80  L =  0.001249733048418446 \n",
      "Iterasjon  81  L =  0.001166410432622762 \n",
      "Iterasjon  82  L =  0.0010918207345462668 \n",
      "Iterasjon  83  L =  0.0010236564035917448 \n",
      "Iterasjon  84  L =  0.0009615328249493657 \n",
      "Iterasjon  85  L =  0.0009052508016170505 \n",
      "Iterasjon  86  L =  0.0008537188576856541 \n",
      "Iterasjon  87  L =  0.0008063792466331237 \n",
      "Iterasjon  88  L =  0.000762854932244597 \n",
      "Iterasjon  89  L =  0.000722702703585284 \n",
      "Iterasjon  90  L =  0.0006856846628942366 \n",
      "Iterasjon  91  L =  0.0006513241668020558 \n",
      "Iterasjon  92  L =  0.0006194685304098816 \n",
      "Iterasjon  93  L =  0.0005898986463492405 \n",
      "Iterasjon  94  L =  0.0005623812674142882 \n",
      "Iterasjon  95  L =  0.0005366722275143188 \n",
      "Iterasjon  96  L =  0.0005126212664019441 \n",
      "Iterasjon  97  L =  0.0004901836426869666 \n",
      "Iterasjon  98  L =  0.0004691836337569674 \n",
      "Iterasjon  99  L =  0.00044945187583182104 \n",
      "Iterasjon  100  L =  0.0004309493154373002 \n",
      "Iterasjon  101  L =  0.0004135131779292274 \n",
      "Iterasjon  102  L =  0.00039709095772513467 \n",
      "Iterasjon  103  L =  0.0003815991181735242 \n",
      "Iterasjon  104  L =  0.0003669640218083168 \n",
      "Iterasjon  105  L =  0.00035312299400641037 \n",
      "Iterasjon  106  L =  0.0003400227053659641 \n",
      "Iterasjon  107  L =  0.00032762752160034753 \n",
      "Iterasjon  108  L =  0.0003158521939395563 \n",
      "Iterasjon  109  L =  0.00030467016713889755 \n",
      "Iterasjon  110  L =  0.0002940573987362044 \n",
      "Iterasjon  111  L =  0.0002839592647884402 \n",
      "Iterasjon  112  L =  0.0002743505070656405 \n",
      "Iterasjon  113  L =  0.00026518722725017956 \n",
      "Iterasjon  114  L =  0.00025645682763082787 \n",
      "Iterasjon  115  L =  0.00024811311665168587 \n",
      "Iterasjon  116  L =  0.0002401554852908126 \n",
      "Iterasjon  117  L =  0.00023254650528390964 \n",
      "Iterasjon  118  L =  0.00022528444515581845 \n",
      "Iterasjon  119  L =  0.00021832580187272632 \n",
      "Iterasjon  120  L =  0.00021167420093853246 \n",
      "Iterasjon  121  L =  0.00020530026585588592 \n",
      "Iterasjon  122  L =  0.0001991866173160734 \n",
      "Iterasjon  123  L =  0.00019332416772404004 \n",
      "Iterasjon  124  L =  0.00018768966591445243 \n",
      "Iterasjon  125  L =  0.0001822856354368975 \n",
      "Iterasjon  126  L =  0.00017708649278938923 \n",
      "Iterasjon  127  L =  0.0001721008974608158 \n",
      "Iterasjon  128  L =  0.0001673050518589448 \n",
      "Iterasjon  129  L =  0.00016269521439318626 \n",
      "Iterasjon  130  L =  0.00015825444081567276 \n",
      "Iterasjon  131  L =  0.00015397440865053596 \n",
      "Iterasjon  132  L =  0.00014984959910838003 \n",
      "Iterasjon  133  L =  0.00014587233878435033 \n",
      "Iterasjon  134  L =  0.00014203209797480166 \n",
      "Iterasjon  135  L =  0.00013833118588521017 \n",
      "Iterasjon  136  L =  0.00013475799289694432 \n",
      "Iterasjon  137  L =  0.00013131004540587292 \n",
      "Iterasjon  138  L =  0.00012797808478289736 \n",
      "Iterasjon  139  L =  0.0001247607428799408 \n",
      "Iterasjon  140  L =  0.00012164788261255181 \n",
      "Iterasjon  141  L =  0.00011863807990507684 \n",
      "Iterasjon  142  L =  0.0001157299757423643 \n",
      "Iterasjon  143  L =  0.00011291777744762493 \n",
      "Iterasjon  144  L =  0.00011019078689366899 \n",
      "Iterasjon  145  L =  0.00010755564202937977 \n",
      "Iterasjon  146  L =  0.0001050061609331903 \n",
      "Iterasjon  147  L =  0.00010253184166336613 \n",
      "Iterasjon  148  L =  0.00010013682924563607 \n",
      "Iterasjon  149  L =  9.780982753976311e-05 \n",
      "Iterasjon  150  L =  9.555724041374145e-05 \n"
     ]
    },
    {
     "data": {
      "image/png": "[encoded data removed]",
      "text/plain": [
       "<Figure size 432x288 with 1 Axes>"
      ]
     },
     "metadata": {
      "needs_background": "light"
     },
     "output_type": "display_data"
    }
   ],
   "source": [
    "#Beregner og skriver ut loss for hver itterasjon\n",
    "losses = test_Adam(nn, loss, data['x_train'], data['y_train'], 150, 0.001, m, 3, 6)"
   ]
  },
  {
   "cell_type": "markdown",
   "metadata": {},
   "source": [
    "Som vi ser fra figuren, blir tapet i objektsfunksjonen minsket over flere iterasjoner. Vi ser også noen ganger hvordan Adam-funksjonen kommer seg ut av lokale minima for å komme ned til en enda lavere tilstand."
   ]
  },
  {
   "cell_type": "markdown",
   "metadata": {},
   "source": [
    "Vi kan nå evaluere vårt nevrale nettverk ved å mate det med enkelttilfeller og deretter observere om det faktisk klarer å forutsi riktig addisjon."
   ]
  },
  {
   "cell_type": "code",
   "execution_count": 17,
   "metadata": {},
   "outputs": [
    {
     "name": "stdout",
     "output_type": "stream",
     "text": [
      "[3 0] + [4 1] = [0 7 1]\n",
      "[4 2] + [9 1] = [1 3 3]\n",
      "[7 2] + [0 1] = [0 7 3]\n"
     ]
    }
   ],
   "source": [
    "#Gir eksempler på prediksjoner\n",
    "x = np.array([[[3, 0, 4, 1]]])\n",
    "print(x[0,0][:2], \"+\" ,x[0,0][2:], \"=\",np.flip(nn.predict(x, m, 3))[0,0])\n",
    "x = np.array([[[4, 2, 9, 1]]])\n",
    "print(x[0,0][:2], \"+\" ,x[0,0][2:], \"=\",np.flip(nn.predict(x, m, 3))[0,0])\n",
    "x = np.array([[[7, 2, 0, 1]]])\n",
    "print(x[0,0][:2], \"+\" ,x[0,0][2:], \"=\",np.flip(nn.predict(x, m, 3))[0,0])"
   ]
  },
  {
   "cell_type": "markdown",
   "metadata": {},
   "source": [
    "Vi kan også utføre testing av nettverket vårt på testdataen vi uttrakk samtidig med treningsdataen. I dette tilfellet vil vi gjennomføre 5000 tester på dataene som modellen vår ikke har blitt trent på tidligere."
   ]
  },
  {
   "cell_type": "code",
   "execution_count": 18,
   "metadata": {},
   "outputs": [
    {
     "name": "stdout",
     "output_type": "stream",
     "text": [
      "Antall rette prediksjoner: 4999\n",
      "Totalt antall prediksjoner: 5000\n",
      "Prosentvis riktige predikasjoner: 99.98 %\n"
     ]
    }
   ],
   "source": [
    "#Beregner antall riktige prediksjoner av testdataen opp mot testdataen\n",
    "y_hats = nn.predict(x_test, 10, 3)\n",
    "#Teller hvor mange prediksjoner som var riktig\n",
    "Tell = countCorrect_add(y_hats, y_test)"
   ]
  },
  {
   "cell_type": "markdown",
   "metadata": {},
   "source": [
    "Som vi observerer, vil modellen vår gjøre korrekte addisjonsprediksjoner mesteparten av tiden. For å vurdere nøyaktigheten grundig, kan vi teste hvor mange korrekte prediksjoner den gir for alle de 10 000 mulige tallparene av tosifrede tall. Disse genererer vi ved $\\texttt{createAllSamples}$ i $\\texttt{utils.py}$, for så å teste disse som før. Eneste forskjellen er at vi har definert en ny $\\texttt{countCorrect\\_add}$ som også tar hensyn til det reverserte formatet av prediksjonen som kommer via treningsalgoritmen."
   ]
  },
  {
   "cell_type": "code",
   "execution_count": 19,
   "metadata": {},
   "outputs": [
    {
     "name": "stdout",
     "output_type": "stream",
     "text": [
      "Antall rette prediksjoner: 9999\n",
      "Totalt antall prediksjoner: 10000\n",
      "Prosentvis riktige predikasjoner: 99.99 %\n"
     ]
    }
   ],
   "source": [
    "#Lager x og y arrays med dimensjon (100, 100, 4) og (100, 100, 3) med alle de mulige tallparene\n",
    "x_values, y_values = createAllSamples()\n",
    "#Ser hvor mange riktige av de 10 000 mulige kombinasjonene vi greier å predikere\n",
    "y_hats = nn.predict(x_values, 10, 3)\n",
    "#Finner andelen riktige prediksjoner\n",
    "Tell = countCorrect_add(y_hats, y_values)\n"
   ]
  },
  {
   "cell_type": "markdown",
   "metadata": {},
   "source": [
    "Som vi ser greier vi å predikere riktig for opp imot alle mulige kombinasjoner for addisjon mellom to tosifrede tall."
   ]
  }
 ],
 "metadata": {
  "kernelspec": {
   "display_name": "Python 3",
   "language": "python",
   "name": "python3"
  },
  "language_info": {
   "codemirror_mode": {
    "name": "ipython",
    "version": 3
   },
   "file_extension": ".py",
   "mimetype": "text/x-python",
   "name": "python",
   "nbconvert_exporter": "python",
   "pygments_lexer": "ipython3",
   "version": "3.11.1"
  }
 },
 "nbformat": 4,
 "nbformat_minor": 2
}
