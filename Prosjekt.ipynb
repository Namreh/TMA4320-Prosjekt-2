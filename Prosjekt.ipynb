{
 "cells": [
  {
   "cell_type": "markdown",
   "metadata": {},
   "source": [
    "# Indmat prosjekt\n",
    "###### Liva Berge Flo, André Pettersen-Dahl, Herman Neple\n",
    "\n",
    "#### Oppgave 1"
   ]
  },
  {
   "cell_type": "markdown",
   "metadata": {},
   "source": [
    "1.1"
   ]
  },
  {
   "cell_type": "markdown",
   "metadata": {},
   "source": [
    "En transformermodell skal trenes opp til å forsøke å predikere et heltall $d$, hvor $d = a \\cdot b + c$, hvor $a$ og $c$ er tosifrede heltall og $b$ er et ettsifret heltall. Vi kan se på et eksempel på et datasett som kan brukes for å trene opp modellen."
   ]
  },
  {
   "cell_type": "markdown",
   "metadata": {},
   "source": [
    "Vi kan la\n",
    "\\begin{align*}\n",
    "    r &= 2,   a = 28,  \n",
    " b = 4,   c = 18,   d = 130, \\\\\n",
    "\\end{align*}\n",
    "Input $x$ vil være tallene $a$, $b$ og $c$. I tillegg vil de første sifferne i $d$ være inkludert i input, fordi vi ønsker at transformermodellen skal trenes opp til å finne det siste sifferet i $d$. Output $y$ vil være tallet $d$ som man ønsker å predikere. Dermed har vi altså\n",
    "\n",
    "\\begin{align*}\n",
    "    x &= [2,8,4,1,8,1,3] \\quad \\text{og} \\quad y = [1,3,0], \\\\\n",
    "\\end{align*}"
   ]
  },
  {
   "cell_type": "markdown",
   "metadata": {},
   "source": [
    "1.2"
   ]
  },
  {
   "cell_type": "markdown",
   "metadata": {},
   "source": [
    "Vi ser videre på et eksempel på hvordan transformermodellen $f_{\\theta}$ kan predikere tallet $d$ for samme type problem.\n",
    "\n",
    "Transformermodellen vil utføre følgende operasjon\n",
    "\\begin{align*}\n",
    "    \\hat{z} &= [\\hat{z}_0, \\ldots, \\hat{z}_6] = f_{\\theta}([2,8,4,1,8,1,3]), \\\\\n",
    "\\end{align*}\n",
    "hvor det er ønskelig å finne en $\\theta$ slik at \n",
    "\\begin{align*}\n",
    "    \\hat{y} &= [\\hat{z}_{4}, \\hat{z}_{5}, \\hat{z}_{6}] = [0,3,1].\\\\\n",
    "\\end{align*}\n",
    "Transformermodellen vil ved addisjon beregne siste siffer først og tallet $d$ vil dermed være $\\hat{z}_{6}\\hat{z}_{5}\\hat{z}_{4} = 130$"
   ]
  },
  {
   "cell_type": "markdown",
   "metadata": {},
   "source": [
    "Vi lar igjen $r = 2, a = 18, b = 3, c = 22$.\n",
    "Et nytt siffer vil predikeres for hvert lag i transformermodellen. Prosessen vil dermed se slik ut:\n",
    "\\begin{align*}\n",
    "    x^{(0)} &= [1,8,3,2,2], & [\\hat{z}_{0}^{(0)},\\hat{z}_{1}^{(0)},\\hat{z}_{2}^{(0)},\\hat{z}_{3}^{(0)},\\hat{z}_{4}^{(0)},\\textcolor{red}{\\hat{z}_{5}^{(0)}}] = f_\\theta(x^{(0)}), \\\\\n",
    "    x^{(1)} &= [1,8,3,2,2,\\textcolor{red}{\\hat{z}_{5}^{(0)}}], & [\\hat{z}_{0}^{(1)},\\ldots, \\textcolor{blue}{\\hat{z}_{6}^{(1)}}] = f_\\theta(x^{(1)}), \\\\ \n",
    "    x^{(2)} &= [1,8,3,2,2,\\textcolor{red}{\\hat{z}_{5}^{(0)}},\\textcolor{blue}{\\hat{z}_{6}^{(1)}}], & [\\hat{z}_{0}^{(1)},\\ldots, \\textcolor{gold}{\\hat{z}_{7}^{(2)}}] = f_\\theta(x^{(2)}), \\\\\n",
    "    x^{(3)} &= [1,8,3,2,2,\\textcolor{red}{\\hat{z}_{5}^{(0)}},\\textcolor{blue}{\\hat{z}_{6}^{(1)}},\\textcolor{gold}{\\hat{z}_{7}^{(2)}}] \\\\\n",
    "    \\hat{y} &= [\\textcolor{red}{\\hat{z}_{5}^{(0)}},\\textcolor{blue}{\\hat{z}_{6}^{(1)}},\\textcolor{gold}{\\hat{z}_{7}^{(2)}}]. \\\\\n",
    "\\end{align*}"
   ]
  },
  {
   "cell_type": "markdown",
   "metadata": {},
   "source": [
    "Her ønsker vi altså at $d = \\textcolor{gold}{\\hat{z}_{7}^{(2)}}\\textcolor{blue}{\\hat{z}_{6}^{(1)}}\\textcolor{red}{\\hat{z}_{5}^{(0)}} = 130$"
   ]
  },
  {
   "cell_type": "markdown",
   "metadata": {},
   "source": [
    "1.3"
   ]
  },
  {
   "cell_type": "markdown",
   "metadata": {},
   "source": [
    "La $m = 5$ og $y = [4,3,2,1]$. Vi bruker cross-entropy som objektfunksjon $\\mathcal{L}$, og ønsker å finne en sannsynlighetsfordeling $\\hat Y$ som gir $\\mathcal{L}(\\theta, \\mathcal{D}) = 0$."
   ]
  },
  {
   "cell_type": "markdown",
   "metadata": {},
   "source": [
    "Ved å gjøre operasjonen $\\text{onehot}(y)$, får vi representert $y$ som en matrise Y\n",
    "\n",
    "$$Y = \\left[\n",
    "\\begin{array}{cccc}\n",
    "0 & 0 & 0 & 0 \\\\\n",
    "0 & 0 & 0 & 1 \\\\\n",
    "0 & 0 & 1 & 0 \\\\\n",
    "0 & 1 & 0 & 0 \\\\\n",
    "1 & 0 & 0 & 0 \n",
    "\\end{array}\n",
    "\\right]$$\n"
   ]
  },
  {
   "cell_type": "markdown",
   "metadata": {},
   "source": [
    "Objektfunksjonen cross-entropy vil i vårt tilfelle se slik ut:\n",
    "\n",
    "\n",
    "\\begin{align*}\n",
    "\\mathcal{L}(\\theta, \\mathcal{D}) &= -\\frac{1}{4} \\sum_{i=0}^{0} \\sum_{j=0}^{4} \\log Y_{kj}^{(i)}\n",
    "\\end{align*}\n",
    "\n",
    "hvor det i ytre løkke kun summeres opp til $D = 0$, siden vi kun har ett datasett. I indre løkke summeres det opp til $n = 4$, fordi vi har fire elementer i $y$."
   ]
  },
  {
   "cell_type": "markdown",
   "metadata": {},
   "source": [
    "Siden vi ønsker at $\\mathcal{L}(\\theta, \\mathcal{D}) = 0$, vil vi at alle $Y_{kj}^{(i)} = 1$, slik at logaritmen blir $0$."
   ]
  },
  {
   "cell_type": "markdown",
   "metadata": {},
   "source": [
    "\n",
    "\n",
    "$$\\hat Y = \\left[\n",
    "\\begin{array}{cccc}\n",
    "0 & 0 & 0 & 0 \\\\\n",
    "0 & 0 & 0 & 1 \\\\\n",
    "0 & 0 & 1 & 0 \\\\\n",
    "0 & 1 & 0 & 0 \\\\\n",
    "1 & 0 & 0 & 0 \n",
    "\\end{array}\n",
    "\\right]$$\n",
    "\n",
    "Altså har vi at:\n",
    "\n",
    "\n",
    "\\begin{align*}\n",
    "Y_{4,0} &= 1 \\\\\n",
    "Y_{3,1} &= 1 \\\\\n",
    "Y_{2,2} &= 1 \\\\\n",
    "Y_{1,3} &= 1 \\\\\n",
    "\\end{align*}\n",
    "\n",
    "Alle andre elementer i matrisen er $0$. Vi kan videre forenkle uttrykket for kryssentropien:\n",
    "\n",
    "$$\\mathcal{L}(\\theta, \\mathcal{D}) = -\\frac{1}{4} \\left( \\log Y_{4,0} + \\log Y_{3,1} + \\log Y_{2,2} + \\log Y_{1,3} \\right) \\\\$$\n",
    "$$= -\\frac{1}{4} \\left( \\log 1 + \\log 1 + \\log 1 + \\log 1 \\right) = -\\frac{1}{4} \\cdot 4 \\cdot \\log 1 \\\\$$\n",
    "$$= -\\frac{4}{4} \\cdot 0 = 0$$\n",
    "\n",
    "\n",
    "Altså har vi at $ \\mathcal{L}(\\theta, \\mathcal{D}) = 0 $."
   ]
  },
  {
   "cell_type": "markdown",
   "metadata": {},
   "source": [
    "Vi må i dette tilfellet ha at $\\hat y = y = [4,3,2,1]$. Dette kan man se dersom man utfører operasjonen $\\text{argmax}_{\\text{col}}(\\hat Y)$. Det kan også lett observeres ut fra at $\\hat Y = Y$."
   ]
  },
  {
   "cell_type": "markdown",
   "metadata": {},
   "source": [
    "1.4"
   ]
  },
  {
   "cell_type": "markdown",
   "metadata": {},
   "source": [
    "Det kan beregnes hvor mange enkeltparametre som inkluderes i transformermodellen. Vi kan begynne med å se på settet av parametere\n",
    "\\begin{align*}\n",
    "\\theta = \\{ W_E, W_P, W_U, \\{W_O^{(l)}, W_V^{(l)}, W_Q^{(l)}, W_K^{(l)}, W_1^{(l)}, W_2^{(l)}\\}_{l=0}^{L-1} \\}\n",
    "\\end{align*}\n",
    "Med $L$ lag, og dimensjoner $d$, $m$, $n_{max}$, $k$ og $p$, vil antallet enkeltparametere $w$, som må bestemmes ved optimering, bli\n",
    "\n",
    "\\begin{align*}\n",
    "w &=  d \\cdot m + d \\cdot n_{\\text{max}} + d \\cdot m + L\\cdot \\{ 4 ( k \\cdot d ) + 2 (p\\cdot d)\\} \\\\\n",
    "&= 2(d\\cdot m) + d\\cdot n_{\\text{max}} + L\\cdot \\{ 4 ( k \\cdot d ) + 2 (p\\cdot d)\\}\n",
    "\\end{align*}"
   ]
  },
  {
   "cell_type": "markdown",
   "metadata": {},
   "source": [
    "1.5"
   ]
  },
  {
   "cell_type": "markdown",
   "metadata": {},
   "source": [
    "Vi ønsker å vise at man må ha $\\alpha > 1$ for å få $\\hat{z} = [1]$ når input er $x = [1]$ og $n = n_{max} = 1, m = d = k = p = 2$ og $L = 1$. Vi kan starte med å gå manuelt gjennom hele transformeralgoritmen med de gitte verdiene. De første stegene gjøres i embedding."
   ]
  },
  {
   "cell_type": "markdown",
   "metadata": {},
   "source": [
    "$$x = [1], \\quad m = 2 \\\\\n",
    "X = \\text{onehot}(x) = \n",
    "\\begin{bmatrix}\n",
    "0 \\\\\n",
    "1 \\\\\n",
    "\\end{bmatrix} \\\\$$\n",
    "\n",
    "$$W_{E} = \\begin{bmatrix}\n",
    "    1 & 0 \\\\\n",
    "    0 & \\alpha \\\\\n",
    "\\end{bmatrix}\n",
    "W_{P} = \\begin{bmatrix}\n",
    "    1  \\\\\n",
    "    0  \\\\\n",
    "\\end{bmatrix} \\\\$$\n",
    "$$z_{0} = \\begin{bmatrix}\n",
    "    1 & 0 \\\\\n",
    "    0 & \\alpha \\\\\n",
    "\\end{bmatrix}\n",
    "\\begin{bmatrix}\n",
    "    0 \\\\\n",
    "    1 \\\\\n",
    "\\end{bmatrix} + \\begin{bmatrix}\n",
    "    1 \\\\\n",
    "    0 \\\\\n",
    "\\end{bmatrix}\n",
    "= \\begin{bmatrix}\n",
    "    0 \\\\\n",
    "    \\alpha \\\\\n",
    "\\end{bmatrix}\n",
    "+ \\begin{bmatrix}\n",
    "    1 \\\\\n",
    "    0 \\\\\n",
    "\\end{bmatrix}\n",
    "= \\begin{bmatrix}\n",
    "    1 \\\\\n",
    "    \\alpha \\\\\n",
    "\\end{bmatrix} \\\\$$\n"
   ]
  },
  {
   "cell_type": "markdown",
   "metadata": {},
   "source": [
    "Videre utføres attention-laget."
   ]
  },
  {
   "cell_type": "markdown",
   "metadata": {},
   "source": [
    "$$z_{\\frac{1}{2}} = z_0 + W_{O}^{T}W_{V}z_{0}A(z_{0})$$\n",
    "$$ = z_{0} + W_{O}^{T}W_{V}z_{0}\\text{ softmax}_{\\text{col }}(z_{0}^{T}W_{Q}^{T}W_{K}z_{0} + D)$$\n",
    "$$= \\begin{bmatrix}\n",
    "    0 \\\\\n",
    "    1 \\\\\n",
    "\\end{bmatrix} + \\begin{bmatrix}\n",
    "    1 & 0 \\\\\n",
    "    0 & 1 \\\\\n",
    "\\end{bmatrix} \\begin{bmatrix}\n",
    "    1 & 0 \\\\\n",
    "    1 & 1 \\\\\n",
    "\\end{bmatrix} \\begin{bmatrix}\n",
    "    1 \\\\\n",
    "    \\alpha \\\\\n",
    "\\end{bmatrix} \\text{softmax}_{\\text{col } }(\\begin{bmatrix}\n",
    "    1 & \\alpha\n",
    "\\end{bmatrix}\\begin{bmatrix}\n",
    "    1 & 0 \\\\\n",
    "    0 & 1 \\\\\n",
    "\\end{bmatrix}\\begin{bmatrix}\n",
    "    1 & 0 \\\\\n",
    "    0 & 1 \\\\\n",
    "\\end{bmatrix}\\begin{bmatrix}\n",
    "    1 \\\\\n",
    "    \\alpha \\\\\n",
    "\\end{bmatrix} + 0) \\\\$$\n",
    "\n",
    "$$= \\begin{bmatrix}\n",
    "    1 \\\\\n",
    "    \\alpha \\\\\n",
    "\\end{bmatrix}+\\begin{bmatrix}\n",
    "    1 \\\\\n",
    "    \\alpha \\\\\n",
    "\\end{bmatrix}\\text{softmax}_{\\text{col }}(1+\\alpha^2)\n",
    "= 2 \\begin{bmatrix}\n",
    "    1 \\\\\n",
    "    \\alpha \\\\\n",
    "\\end{bmatrix}$$"
   ]
  },
  {
   "cell_type": "markdown",
   "metadata": {},
   "source": [
    "Deretter utføres feed-forward-laget."
   ]
  },
  {
   "cell_type": "markdown",
   "metadata": {},
   "source": [
    "$$z_1 = z_{\\frac{1}{2}} + W_{2}^{T}\\sigma(W_1 z_{\\frac{1}{2}})\\\\$$\n",
    "$$= 2\\begin{bmatrix}\n",
    "    1 \\\\\n",
    "    \\alpha \\\\\n",
    "\\end{bmatrix} + W_{2}^{T}\\text{max}(0,W_1 z_{\\frac{1}{2}})\\\\$$\n",
    "$$= 2\\begin{bmatrix}\n",
    "    1 \\\\\n",
    "    \\alpha \\\\\n",
    "\\end{bmatrix}+\\begin{bmatrix}\n",
    "    1 & 0 \\\\\n",
    "    0 & 1 \\\\\n",
    "\\end{bmatrix}\\text{max}\\Bigg(0, \\begin{bmatrix}\n",
    "    1 & 0 \\\\\n",
    "    0 & 1 \\\\\n",
    "\\end{bmatrix}2\\begin{bmatrix}\n",
    "    1 \\\\\n",
    "    \\alpha \\\\\n",
    "\\end{bmatrix}\\Bigg)\\\\$$\n",
    "$$= 4\\begin{bmatrix}\n",
    "    1\\\\\n",
    "    \\alpha \\\\\n",
    "\\end{bmatrix}$$"
   ]
  },
  {
   "cell_type": "markdown",
   "metadata": {},
   "source": [
    "Deretter benyttes $\\text{softmax}_{\\text{col}}$ for å finne sannsynlighetsfordelingen."
   ]
  },
  {
   "cell_type": "markdown",
   "metadata": {},
   "source": [
    "$$Z = \\text{softmax}_{\\text{col}}(W_{U}^{T}z_{1})\\\\$$\n",
    "$$= \\text{softmax}_{\\text{col}}\\bigg(4\\begin{bmatrix}\n",
    "        1 \\\\\n",
    "        \\alpha \\\\\n",
    "    \\end{bmatrix}\\bigg)\\\\$$\n",
    "$$= \\frac{1}{e^{4}+e^{4\\alpha}}\\begin{bmatrix}\n",
    "        e^{4} \\\\\n",
    "        e^{4\\alpha} \\\\\n",
    "    \\end{bmatrix}$$"
   ]
  },
  {
   "cell_type": "markdown",
   "metadata": {},
   "source": [
    "Det kan observeres at $\\text{argmax}_{\\text{col}}(Z)$ vil returnere $\\hat{z} = [1]$ dersom $Z_{10}$ er størst. Vi må altså ha at\n",
    "\\begin{align*}\n",
    "e^{4\\alpha} > e^{4} \\implies \\alpha > 1\\\\\n",
    "\\Box\n",
    "\\end{align*}"
   ]
  },
  {
   "cell_type": "markdown",
   "metadata": {},
   "source": [
    "#### Oppgave 2"
   ]
  },
  {
   "cell_type": "markdown",
   "metadata": {},
   "source": [
    "#### Oppgave 3.1"
   ]
  },
  {
   "cell_type": "code",
   "execution_count": 1,
   "metadata": {},
   "outputs": [],
   "source": [
    "#Importerer nødvendige bibliotek\n",
    "from layers import *\n",
    "from neural_network import NeuralNetwork\n",
    "from utils import onehot\n",
    "import numpy as np\n",
    "from data_generators import get_train_test_sorting\n",
    "import matplotlib.pyplot as plt"
   ]
  },
  {
   "cell_type": "markdown",
   "metadata": {},
   "source": [
    "For å teste om lagene vi har implementert fungerer, kan vi manuelt kjøre gjennom algoritmen. Vi starter med å initalisere lagene til det nevrale nettverk."
   ]
  },
  {
   "cell_type": "code",
   "execution_count": 2,
   "metadata": {},
   "outputs": [],
   "source": [
    "#definerer variabler\n",
    "r = 4\n",
    "m = 4\n",
    "\n",
    "d = 10\n",
    "k = 5\n",
    "p = 15\n",
    "L = 2\n",
    "\n",
    "embed = EmbedPosition(9,m,d)\n",
    "att1 = Attention(d,k)\n",
    "ff1 = FeedForward(d,p)\n",
    "un_embed = LinearLayer(d,m)\n",
    "softmax = Softmax()\n",
    "loss = CrossEntropy()"
   ]
  },
  {
   "cell_type": "markdown",
   "metadata": {},
   "source": [
    "Vi kan videre gi nettverket vårt en input, la oss f.eks late som vi prøver å få modellen til å sortere tallene."
   ]
  },
  {
   "cell_type": "code",
   "execution_count": 3,
   "metadata": {},
   "outputs": [],
   "source": [
    "x = np.array([[0,1,2]])\n",
    "X = onehot(x, m)\n",
    "\n",
    "z0 = embed.forward(X)\n",
    "z11 = att1.forward(z0)\n",
    "z12 = ff1.forward(z11)\n",
    "z2 = un_embed.forward(z12)\n",
    "Z = softmax.forward(z2)"
   ]
  },
  {
   "cell_type": "markdown",
   "metadata": {},
   "source": [
    "Vi kan så teste om vi fikk riktig output, som i dette tilfelle burde være at det er $0$ på siste element. Om vi har riktig output skulle loss funksjonen vårt bli 0."
   ]
  },
  {
   "cell_type": "code",
   "execution_count": 4,
   "metadata": {},
   "outputs": [
    {
     "name": "stdout",
     "output_type": "stream",
     "text": [
      "1.3588498665771647\n"
     ]
    }
   ],
   "source": [
    "y = np.array([[0]])\n",
    "L = loss.forward(Z,y)\n",
    "\n",
    "print(L)"
   ]
  },
  {
   "cell_type": "markdown",
   "metadata": {},
   "source": [
    "Dette fungerte åpenbart ikke enda. Etter å ha kjørt en forward pass, er det fint å teste backwardfunksjonen til lagene. Vi starter da med å beregne den deriverte av loss funksjonen"
   ]
  },
  {
   "cell_type": "code",
   "execution_count": 5,
   "metadata": {},
   "outputs": [],
   "source": [
    "dLdz = loss.backward()\n",
    "d0 = softmax.backward(dLdz)\n",
    "d1 = un_embed.backward(d0)\n",
    "d21 = ff1.backward(d1)\n",
    "d22 = att1.backward(d21)\n",
    "d3 = embed.backward(d22)"
   ]
  },
  {
   "cell_type": "markdown",
   "metadata": {},
   "source": [
    "#### Oppgave 3.2\n",
    "\n",
    "Vi lager en generell funksjon som vil trene nettverket vårt. Denne funksjonen tar inn datasettet i batcher og gjennomfører Adam-steg for å optimalisere parametrene. Vi plotter også $\\mathcal{L}^{i}$ for $i = 0,\\dots , n_{iter} − 1$ med logaritmisk skala på y-aksen.\n"
   ]
  },
  {
   "cell_type": "code",
   "execution_count": 6,
   "metadata": {},
   "outputs": [],
   "source": [
    "def test_Adam(nn: NeuralNetwork, x_data, y_data, n_iters, step_size, m, start, stop):\n",
    "    n_batches = x_data.shape[0]\n",
    "    mean_losses = np.zeros(n_iters)\n",
    "    for j in range(n_iters):\n",
    "        losses = []\n",
    "        for i in range(n_batches):\n",
    "            x = x_data[i]\n",
    "            y = y_data[i][:,start:stop]\n",
    "            #Forward pass\n",
    "            X = onehot(x,m)\n",
    "            Z = nn.forward(X)\n",
    "            #Backward pass\n",
    "            losses.append(loss.forward(Z,y))\n",
    "            dLdZ = loss.backward()\n",
    "            nn.backward(dLdZ)\n",
    "            nn.step_Adam(step_size)\n",
    "        mean_loss = np.mean(losses)\n",
    "        print(\"Iterasjon \", str(j+1), \" L = \",mean_loss, \"\")\n",
    "        mean_losses[j] = mean_loss\n",
    "    #Plotter loss-funksjonen per itterasjon i en logaritmisk skala\n",
    "    plt.plot(np.arange(0,n_iters), np.log(mean_losses))\n",
    "    plt.xlabel(\"Iterasjonnummer\")\n",
    "    plt.ylabel(\"Logaritmen av loss-funksjon\")\n",
    "    plt.title(\"Minimering ved antall iterasjoner\")\n",
    "    plt.show()\n",
    "    #Returnerer gjennomsnittet over objektfunksjonen over batchene\n",
    "    return mean_losses\n"
   ]
  },
  {
   "cell_type": "markdown",
   "metadata": {},
   "source": [
    "#### Oppgave 3.3"
   ]
  },
  {
   "cell_type": "markdown",
   "metadata": {},
   "source": [
    "For oppgaven med sortering av 0 og 1"
   ]
  },
  {
   "cell_type": "code",
   "execution_count": 7,
   "metadata": {},
   "outputs": [],
   "source": [
    "#definerer variabler\n",
    "r = 5\n",
    "m = 2\n",
    "\n",
    "d = 10\n",
    "k = 5\n",
    "p = 15\n",
    "L = 2\n",
    "#Implementerer 2 lag \n",
    "embed = EmbedPosition(9,m,d)\n",
    "att1 = Attention(d,k)\n",
    "att2 = Attention(d,k)\n",
    "ff1 = FeedForward(d,p)\n",
    "ff2 = FeedForward(d,p)\n",
    "un_embed = LinearLayer(d,m)\n",
    "softmax = Softmax()\n",
    "loss = CrossEntropy()\n",
    "\n",
    "nn = NeuralNetwork([embed, att1, ff1, att2, ff2, un_embed, softmax])\n",
    "\n",
    "data = get_train_test_sorting(r, m, samples_per_batch=250,n_batches_train=20, n_batches_test=4)\n",
    "\n",
    "x_train = data['x_train']\n",
    "y_train = data['y_train']\n",
    "x_test = data['x_test']\n",
    "y_test = data['y_test']"
   ]
  },
  {
   "cell_type": "markdown",
   "metadata": {},
   "source": [
    "La oss prøve å trene!"
   ]
  },
  {
   "cell_type": "code",
   "execution_count": 8,
   "metadata": {},
   "outputs": [
    {
     "name": "stdout",
     "output_type": "stream",
     "text": [
      "Iterasjon  1  L =  0.688864502640623 \n",
      "Iterasjon  2  L =  0.6596632358697397 \n",
      "Iterasjon  3  L =  0.6080869689184213 \n",
      "Iterasjon  4  L =  0.5056445073677648 \n",
      "Iterasjon  5  L =  0.3548198373015003 \n",
      "Iterasjon  6  L =  0.23520392591199152 \n",
      "Iterasjon  7  L =  0.16278321246403768 \n",
      "Iterasjon  8  L =  0.14682192603128125 \n",
      "Iterasjon  9  L =  0.12569402774335395 \n",
      "Iterasjon  10  L =  0.085195011877062 \n",
      "Iterasjon  11  L =  0.04422442741212444 \n",
      "Iterasjon  12  L =  0.02674360683756416 \n",
      "Iterasjon  13  L =  0.015806647548237622 \n",
      "Iterasjon  14  L =  0.012306654195746562 \n",
      "Iterasjon  15  L =  0.008626133172023756 \n",
      "Iterasjon  16  L =  0.005956122459869602 \n",
      "Iterasjon  17  L =  0.004115886800761346 \n",
      "Iterasjon  18  L =  0.0029814715248944455 \n",
      "Iterasjon  19  L =  0.002267117816911886 \n",
      "Iterasjon  20  L =  0.0017722452067658184 \n",
      "Iterasjon  21  L =  0.0014387751747297881 \n",
      "Iterasjon  22  L =  0.0011852853862997135 \n",
      "Iterasjon  23  L =  0.0009886064548040728 \n",
      "Iterasjon  24  L =  0.0008334656949065854 \n",
      "Iterasjon  25  L =  0.000709625127545847 \n",
      "Iterasjon  26  L =  0.0006097860061193757 \n",
      "Iterasjon  27  L =  0.0005285636609007432 \n",
      "Iterasjon  28  L =  0.0004616991881184355 \n",
      "Iterasjon  29  L =  0.0004066747298059432 \n",
      "Iterasjon  30  L =  0.00036054137384735057 \n",
      "Iterasjon  31  L =  0.0003216953341253303 \n",
      "Iterasjon  32  L =  0.00028860470166320045 \n",
      "Iterasjon  33  L =  0.0002603070613032151 \n",
      "Iterasjon  34  L =  0.00023584344447637415 \n",
      "Iterasjon  35  L =  0.00021469361026972214 \n",
      "Iterasjon  36  L =  0.00019616770841888155 \n",
      "Iterasjon  37  L =  0.00017995954788887857 \n",
      "Iterasjon  38  L =  0.0001656230415389177 \n",
      "Iterasjon  39  L =  0.0001529453934725532 \n",
      "Iterasjon  40  L =  0.00014163609199388188 \n",
      "Iterasjon  41  L =  0.0001315523843837207 \n",
      "Iterasjon  42  L =  0.00012247832543396756 \n",
      "Iterasjon  43  L =  0.00011432495079540179 \n",
      "Iterasjon  44  L =  0.00010690645592137976 \n",
      "Iterasjon  45  L =  0.00010013370308671808 \n",
      "Iterasjon  46  L =  9.396517343242266e-05 \n",
      "Iterasjon  47  L =  8.836045823814972e-05 \n",
      "Iterasjon  48  L =  8.323393443052782e-05 \n",
      "Iterasjon  49  L =  7.855371112387751e-05 \n",
      "Iterasjon  50  L =  7.425020155978014e-05 \n",
      "Iterasjon  51  L =  7.02978380808103e-05 \n",
      "Iterasjon  52  L =  6.664828514935354e-05 \n",
      "Iterasjon  53  L =  6.327612390071423e-05 \n",
      "Iterasjon  54  L =  6.014782320933305e-05 \n",
      "Iterasjon  55  L =  5.724666103995612e-05 \n",
      "Iterasjon  56  L =  5.4549625214782665e-05 \n",
      "Iterasjon  57  L =  5.203749826678197e-05 \n",
      "Iterasjon  58  L =  4.9694998017277126e-05 \n",
      "Iterasjon  59  L =  4.750848022904555e-05 \n",
      "Iterasjon  60  L =  4.545712069347548e-05 \n",
      "Iterasjon  61  L =  4.3538713635976256e-05 \n",
      "Iterasjon  62  L =  4.173431185994403e-05 \n",
      "Iterasjon  63  L =  4.0042471623887154e-05 \n",
      "Iterasjon  64  L =  3.844668697396639e-05 \n",
      "Iterasjon  65  L =  3.694502876993802e-05 \n",
      "Iterasjon  66  L =  3.5527614267901254e-05 \n",
      "Iterasjon  67  L =  3.418884013902279e-05 \n",
      "Iterasjon  68  L =  3.2924021358560874e-05 \n",
      "Iterasjon  69  L =  3.1739549002994855e-05 \n",
      "Iterasjon  70  L =  3.061817656497141e-05 \n",
      "Iterasjon  71  L =  2.955483103449724e-05 \n",
      "Iterasjon  72  L =  2.8545708158971874e-05 \n",
      "Iterasjon  73  L =  2.7586415532075525e-05 \n",
      "Iterasjon  74  L =  2.667300377417761e-05 \n",
      "Iterasjon  75  L =  2.5803133857946435e-05 \n",
      "Iterasjon  76  L =  2.4974090003550177e-05 \n",
      "Iterasjon  77  L =  2.418345847541418e-05 \n",
      "Iterasjon  78  L =  2.342761284016068e-05 \n",
      "Iterasjon  79  L =  2.270737053940342e-05 \n",
      "Iterasjon  80  L =  2.201615643095041e-05 \n",
      "Iterasjon  81  L =  2.135640287518146e-05 \n",
      "Iterasjon  82  L =  2.0723885593575345e-05 \n",
      "Iterasjon  83  L =  2.0118988057629464e-05 \n",
      "Iterasjon  84  L =  1.953760237518043e-05 \n",
      "Iterasjon  85  L =  1.898074897705762e-05 \n",
      "Iterasjon  86  L =  1.8446109258654606e-05 \n",
      "Iterasjon  87  L =  1.7932905264543398e-05 \n",
      "Iterasjon  88  L =  1.743980682516605e-05 \n",
      "Iterasjon  89  L =  1.6965615516344857e-05 \n",
      "Iterasjon  90  L =  1.651262581020422e-05 \n",
      "Iterasjon  91  L =  1.6076209358503017e-05 \n",
      "Iterasjon  92  L =  1.5656830202935925e-05 \n",
      "Iterasjon  93  L =  1.525181745504192e-05 \n",
      "Iterasjon  94  L =  1.4862060697964078e-05 \n",
      "Iterasjon  95  L =  1.4485110244437019e-05 \n",
      "Iterasjon  96  L =  1.412235833231921e-05 \n",
      "Iterasjon  97  L =  1.377177153274331e-05 \n",
      "Iterasjon  98  L =  1.34329416556099e-05 \n",
      "Iterasjon  99  L =  1.3105718526459725e-05 \n",
      "Iterasjon  100  L =  1.2788995080718612e-05 \n"
     ]
    },
    {
     "data": {
      "image/png": "[encoded data removed]",
      "text/plain": [
       "<Figure size 432x288 with 1 Axes>"
      ]
     },
     "metadata": {
      "needs_background": "light"
     },
     "output_type": "display_data"
    }
   ],
   "source": [
    "losses = test_Adam(nn, data['x_train'], data['y_train'], 100, 0.001, m, 4, 9)"
   ]
  },
  {
   "cell_type": "markdown",
   "metadata": {},
   "source": [
    "Som vi ser optimerer vi objektfunksjonen gjennom treningen."
   ]
  },
  {
   "cell_type": "markdown",
   "metadata": {},
   "source": [
    "#### Tester for én iterasjon for å se om den greier å predikere neste verdi"
   ]
  },
  {
   "cell_type": "code",
   "execution_count": 9,
   "metadata": {},
   "outputs": [
    {
     "name": "stdout",
     "output_type": "stream",
     "text": [
      "[[1 1 1 1 0]]\n"
     ]
    }
   ],
   "source": [
    "x = np.array([[1, 0 ,0, 1, 0]])\n",
    "X = onehot(x, m)\n",
    "\n",
    "#forward pass\n",
    "Z = nn.forward(X)\n",
    "z_hat = np.argmax(Z, axis=1)\n",
    "\n",
    "print(z_hat)"
   ]
  },
  {
   "cell_type": "markdown",
   "metadata": {},
   "source": [
    "Når vi sender inn arrayet [1, 0, 0, 1, 1], vil vi ved å sende det gjennom algoritmen få predikert den første predikerte verdien som det siste elementet i det returnerte arrayet, som beskrevet i avsnitt 1.2. Siden algoritmen sorterer verdiene i arrayet bestående av 0 og 1, forventer vi at det første sifferet i det sorterte arrayet blir 0. Deretter, for å predikere resten av sekvensen, mater vi inn det siste elementet i det predikerte arrayet tilbake inn i arrayet vi sender gjennom 'forward'-steget, og fortsetter prediksjonen derfra."
   ]
  },
  {
   "cell_type": "markdown",
   "metadata": {},
   "source": [
    "Videre har vi definert funksjonene predict og countCorrect i neural_network som tar inn testdataen til det nevrale nettverket vårt, predikerer svarene ut ifra dataen, for så å sjekke hvor stor andel av prediksjonene som var riktige. Dermed kan vi se hvorvidt nettverket vårt klarer å sortere eller ikke."
   ]
  },
  {
   "cell_type": "code",
   "execution_count": 10,
   "metadata": {},
   "outputs": [
    {
     "name": "stdout",
     "output_type": "stream",
     "text": [
      "Antall rette prediksjoner: 1000\n",
      "Totalt antall prediksjoner: 1000\n",
      "Prosentvis riktige predikasjoner: 100.0 %\n"
     ]
    }
   ],
   "source": [
    "#Kaller på prediksjonsfunksjonen\n",
    "y_hats = nn.predict(x_test, 2, 5)\n",
    "#Teller antall rette prediksjoner\n",
    "tell = nn.countCorrect_sort(y_hats, y_test)"
   ]
  },
  {
   "cell_type": "markdown",
   "metadata": {},
   "source": [
    "Når to forskjellige verdier kan forekomme på fem ulike steder, resulterer dette i totalt $32$ mulige kombinasjoner $(2^5 = 32)$. Denne variasjonen gjør det praktisk talt umulig å teste algoritmen vår med nye sekvenser. Ideelt sett ville tapet ha tendert mot null, og prediksjonene ville vært korrekte hver gang, siden algoritmen burde gjenkjenne det riktige svaret $(y)$ i stedet for å forutsi neste sekvens. Hvis dette ikke skjer, kan det tyde på feil i det nevrale nettverket eller treningsdataen."
   ]
  },
  {
   "cell_type": "markdown",
   "metadata": {},
   "source": [
    "Nå som vi ser at det nevrale nettverket blir trent riktig, kan vi prøve å løse det samme problemet med tallsekvenser på lengde $7$ og tall fra $0$ til $4$."
   ]
  },
  {
   "cell_type": "code",
   "execution_count": 21,
   "metadata": {},
   "outputs": [],
   "source": [
    "#Initialiserer to lag og henter ny treningsdata likt som tidligere\n",
    "#definerer variabler\n",
    "r = 7\n",
    "m = 5\n",
    "n_max = 2*r-1\n",
    "\n",
    "d = 20\n",
    "k = 10\n",
    "p = 25\n",
    "L = 2\n",
    "\n",
    "embed = EmbedPosition(n_max,m,d)\n",
    "att1 = Attention(d,k)\n",
    "att2 = Attention(d,k)\n",
    "\n",
    "ff1 = FeedForward(d,p)\n",
    "ff2 = FeedForward(d,p)\n",
    "\n",
    "un_embed = LinearLayer(d,m)\n",
    "softmax = Softmax()\n",
    "loss = CrossEntropy()\n",
    "\n",
    "nn = NeuralNetwork([embed, att1, ff1, att2, ff2, un_embed, softmax])\n",
    "\n",
    "data = get_train_test_sorting(r, m, samples_per_batch=250,n_batches_train=10, n_batches_test=4)\n",
    "\n",
    "x_train = data['x_train']\n",
    "y_train = data['y_train']\n",
    "x_test = data['x_test']\n",
    "y_test = data['y_test']\n"
   ]
  },
  {
   "cell_type": "markdown",
   "metadata": {},
   "source": [
    "Trener modellen på den nye dataen for å optimere prediksjonene."
   ]
  },
  {
   "cell_type": "code",
   "execution_count": 12,
   "metadata": {},
   "outputs": [
    {
     "name": "stdout",
     "output_type": "stream",
     "text": [
      "Iterasjon  1  L =  1.6064231766843093 \n",
      "Iterasjon  2  L =  1.5762403413372403 \n",
      "Iterasjon  3  L =  1.5385405901334703 \n",
      "Iterasjon  4  L =  1.4831244098602514 \n",
      "Iterasjon  5  L =  1.3892827764800533 \n",
      "Iterasjon  6  L =  1.249770500800361 \n",
      "Iterasjon  7  L =  1.0913671012356325 \n",
      "Iterasjon  8  L =  0.927274291124017 \n",
      "Iterasjon  9  L =  0.8194504074182067 \n",
      "Iterasjon  10  L =  0.7503245287216022 \n",
      "Iterasjon  11  L =  0.7160789616237595 \n",
      "Iterasjon  12  L =  0.7137143770189575 \n",
      "Iterasjon  13  L =  0.7465096470422041 \n",
      "Iterasjon  14  L =  0.7242682318167886 \n",
      "Iterasjon  15  L =  0.7021268554582735 \n",
      "Iterasjon  16  L =  0.6938852939032072 \n",
      "Iterasjon  17  L =  0.6554397317075338 \n",
      "Iterasjon  18  L =  0.6307927407963105 \n",
      "Iterasjon  19  L =  0.6105051025699856 \n",
      "Iterasjon  20  L =  0.5945321734559179 \n",
      "Iterasjon  21  L =  0.5795031604511363 \n",
      "Iterasjon  22  L =  0.5671666656036287 \n",
      "Iterasjon  23  L =  0.5647256627627026 \n",
      "Iterasjon  24  L =  0.5733715498384417 \n",
      "Iterasjon  25  L =  0.5852057575838928 \n",
      "Iterasjon  26  L =  0.5857230942218343 \n",
      "Iterasjon  27  L =  0.6225193763656799 \n",
      "Iterasjon  28  L =  0.5920409482215677 \n",
      "Iterasjon  29  L =  0.5844619415593758 \n",
      "Iterasjon  30  L =  0.5394112999647159 \n",
      "Iterasjon  31  L =  0.5162486008452496 \n",
      "Iterasjon  32  L =  0.49644559673936417 \n",
      "Iterasjon  33  L =  0.4747570302663937 \n",
      "Iterasjon  34  L =  0.4579599727115703 \n",
      "Iterasjon  35  L =  0.43600506720746174 \n",
      "Iterasjon  36  L =  0.42521678173156774 \n",
      "Iterasjon  37  L =  0.4077980731148096 \n",
      "Iterasjon  38  L =  0.41581333958039934 \n",
      "Iterasjon  39  L =  0.4889691104838798 \n",
      "Iterasjon  40  L =  0.5091903557595234 \n",
      "Iterasjon  41  L =  0.5177420927061684 \n",
      "Iterasjon  42  L =  0.49213629681482446 \n",
      "Iterasjon  43  L =  0.4595983439251685 \n",
      "Iterasjon  44  L =  0.4200643850032348 \n",
      "Iterasjon  45  L =  0.4007207831082297 \n",
      "Iterasjon  46  L =  0.3767666403179042 \n",
      "Iterasjon  47  L =  0.36669704130638625 \n",
      "Iterasjon  48  L =  0.3481179746225606 \n",
      "Iterasjon  49  L =  0.3470755762782599 \n",
      "Iterasjon  50  L =  0.3355472784439212 \n",
      "Iterasjon  51  L =  0.33748316604117906 \n",
      "Iterasjon  52  L =  0.3246013499869682 \n",
      "Iterasjon  53  L =  0.3255006774357866 \n",
      "Iterasjon  54  L =  0.31142271799881993 \n",
      "Iterasjon  55  L =  0.3111422544861616 \n",
      "Iterasjon  56  L =  0.2976880182488083 \n",
      "Iterasjon  57  L =  0.30083061973783465 \n",
      "Iterasjon  58  L =  0.29350124688135065 \n",
      "Iterasjon  59  L =  0.3087718606072435 \n",
      "Iterasjon  60  L =  0.31793050868363026 \n",
      "Iterasjon  61  L =  0.3283072659028168 \n",
      "Iterasjon  62  L =  0.3175522798353352 \n",
      "Iterasjon  63  L =  0.33227774108899444 \n",
      "Iterasjon  64  L =  0.2785453131004016 \n",
      "Iterasjon  65  L =  0.2646196221788636 \n",
      "Iterasjon  66  L =  0.222591031540268 \n",
      "Iterasjon  67  L =  0.2114038230326798 \n",
      "Iterasjon  68  L =  0.19738819653088507 \n",
      "Iterasjon  69  L =  0.18831978649579256 \n",
      "Iterasjon  70  L =  0.18224975794457704 \n",
      "Iterasjon  71  L =  0.17781896799193425 \n",
      "Iterasjon  72  L =  0.17898724534955673 \n",
      "Iterasjon  73  L =  0.17342538079060346 \n",
      "Iterasjon  74  L =  0.18513460731119746 \n",
      "Iterasjon  75  L =  0.1775769344166784 \n",
      "Iterasjon  76  L =  0.2155840842950223 \n",
      "Iterasjon  77  L =  0.21603188335691587 \n",
      "Iterasjon  78  L =  0.2639723636288618 \n",
      "Iterasjon  79  L =  0.24012773617802638 \n",
      "Iterasjon  80  L =  0.2585276154702968 \n",
      "Iterasjon  81  L =  0.2234690461673435 \n",
      "Iterasjon  82  L =  0.20915814261323457 \n",
      "Iterasjon  83  L =  0.1986908687222285 \n",
      "Iterasjon  84  L =  0.18272967575884452 \n",
      "Iterasjon  85  L =  0.16002944733413188 \n",
      "Iterasjon  86  L =  0.1271298069516131 \n",
      "Iterasjon  87  L =  0.11169304458341389 \n",
      "Iterasjon  88  L =  0.08707505272273758 \n",
      "Iterasjon  89  L =  0.07281792640262139 \n",
      "Iterasjon  90  L =  0.0676559073820082 \n",
      "Iterasjon  91  L =  0.057487819592203226 \n",
      "Iterasjon  92  L =  0.0510394182293266 \n",
      "Iterasjon  93  L =  0.04567394562924569 \n",
      "Iterasjon  94  L =  0.04283232064714032 \n",
      "Iterasjon  95  L =  0.039518899444110835 \n",
      "Iterasjon  96  L =  0.036759900005658576 \n",
      "Iterasjon  97  L =  0.03449715475719963 \n",
      "Iterasjon  98  L =  0.032446688877325165 \n",
      "Iterasjon  99  L =  0.0306018167333355 \n",
      "Iterasjon  100  L =  0.028866107960542696 \n",
      "Iterasjon  101  L =  0.027487774791195806 \n",
      "Iterasjon  102  L =  0.025835962096469177 \n",
      "Iterasjon  103  L =  0.02490175229592747 \n",
      "Iterasjon  104  L =  0.02356299425637354 \n",
      "Iterasjon  105  L =  0.022673865688466483 \n",
      "Iterasjon  106  L =  0.02167917354147901 \n",
      "Iterasjon  107  L =  0.020811086129155682 \n",
      "Iterasjon  108  L =  0.020025221618212095 \n",
      "Iterasjon  109  L =  0.019192088261731917 \n",
      "Iterasjon  110  L =  0.01856281160620433 \n",
      "Iterasjon  111  L =  0.01779883437876732 \n",
      "Iterasjon  112  L =  0.0172291133221023 \n",
      "Iterasjon  113  L =  0.01657042838256926 \n",
      "Iterasjon  114  L =  0.016010451222763754 \n",
      "Iterasjon  115  L =  0.015459994637781912 \n",
      "Iterasjon  116  L =  0.014921491103058945 \n",
      "Iterasjon  117  L =  0.01444352097122174 \n",
      "Iterasjon  118  L =  0.013939089420127018 \n",
      "Iterasjon  119  L =  0.013504608488530644 \n",
      "Iterasjon  120  L =  0.013049509551046926 \n",
      "Iterasjon  121  L =  0.012641283692674237 \n",
      "Iterasjon  122  L =  0.012235342523820714 \n",
      "Iterasjon  123  L =  0.011848933565069317 \n",
      "Iterasjon  124  L =  0.011487411749119122 \n",
      "Iterasjon  125  L =  0.0111269926251535 \n",
      "Iterasjon  126  L =  0.010792701349296791 \n",
      "Iterasjon  127  L =  0.010461497585231403 \n",
      "Iterasjon  128  L =  0.01014987105442169 \n",
      "Iterasjon  129  L =  0.009846937144041962 \n",
      "Iterasjon  130  L =  0.009555272140322096 \n",
      "Iterasjon  131  L =  0.009277223536726947 \n",
      "Iterasjon  132  L =  0.00900474625543819 \n",
      "Iterasjon  133  L =  0.008746769356301363 \n",
      "Iterasjon  134  L =  0.00849605974177967 \n",
      "Iterasjon  135  L =  0.008255792812412932 \n",
      "Iterasjon  136  L =  0.008025276565463734 \n",
      "Iterasjon  137  L =  0.007800699260581035 \n",
      "Iterasjon  138  L =  0.007586400645721266 \n",
      "Iterasjon  139  L =  0.007379452880547805 \n",
      "Iterasjon  140  L =  0.007180224298913025 \n",
      "Iterasjon  141  L =  0.006987255335885452 \n",
      "Iterasjon  142  L =  0.006799862670366638 \n",
      "Iterasjon  143  L =  0.006619341431192735 \n",
      "Iterasjon  144  L =  0.006444672137682473 \n",
      "Iterasjon  145  L =  0.0062768464733554755 \n",
      "Iterasjon  146  L =  0.006113431822912893 \n",
      "Iterasjon  147  L =  0.005955951335480063 \n",
      "Iterasjon  148  L =  0.0058037917205333535 \n",
      "Iterasjon  149  L =  0.0056560994103923195 \n",
      "Iterasjon  150  L =  0.005513455083048185 \n",
      "Iterasjon  151  L =  0.005375273783805602 \n",
      "Iterasjon  152  L =  0.005241291488760957 \n",
      "Iterasjon  153  L =  0.005111758710346638 \n",
      "Iterasjon  154  L =  0.004985010833669267 \n",
      "Iterasjon  155  L =  0.0048616803579391715 \n",
      "Iterasjon  156  L =  0.004741738755725704 \n",
      "Iterasjon  157  L =  0.004625277246785597 \n",
      "Iterasjon  158  L =  0.0045124748983489 \n",
      "Iterasjon  159  L =  0.004402016277173263 \n",
      "Iterasjon  160  L =  0.004295153256592489 \n",
      "Iterasjon  161  L =  0.004191007930156712 \n",
      "Iterasjon  162  L =  0.0040895223683882235 \n",
      "Iterasjon  163  L =  0.003990855353387155 \n",
      "Iterasjon  164  L =  0.003894455929709695 \n",
      "Iterasjon  165  L =  0.003800301792994892 \n",
      "Iterasjon  166  L =  0.0037081600841232997 \n",
      "Iterasjon  167  L =  0.0036180303864834034 \n",
      "Iterasjon  168  L =  0.0035300641569659453 \n",
      "Iterasjon  169  L =  0.00344472327036539 \n",
      "Iterasjon  170  L =  0.003360723110771402 \n",
      "Iterasjon  171  L =  0.0032765307803590215 \n",
      "Iterasjon  172  L =  0.0031939301500092825 \n",
      "Iterasjon  173  L =  0.003113158239811213 \n",
      "Iterasjon  174  L =  0.0030340268808672346 \n",
      "Iterasjon  175  L =  0.0029567961827360626 \n",
      "Iterasjon  176  L =  0.002881303060438938 \n",
      "Iterasjon  177  L =  0.002807410759574742 \n",
      "Iterasjon  178  L =  0.002735137092140474 \n",
      "Iterasjon  179  L =  0.0026646217526626733 \n",
      "Iterasjon  180  L =  0.0025963631257609966 \n",
      "Iterasjon  181  L =  0.002531263699286765 \n",
      "Iterasjon  182  L =  0.0024673098554175788 \n",
      "Iterasjon  183  L =  0.0024040044397030196 \n",
      "Iterasjon  184  L =  0.002342552265444574 \n",
      "Iterasjon  185  L =  0.0022823398983750167 \n",
      "Iterasjon  186  L =  0.002222607201756095 \n",
      "Iterasjon  187  L =  0.0021643025630613726 \n",
      "Iterasjon  188  L =  0.0021081640745773374 \n",
      "Iterasjon  189  L =  0.002054207187115081 \n",
      "Iterasjon  190  L =  0.0020018387836918715 \n",
      "Iterasjon  191  L =  0.0019510268183414018 \n",
      "Iterasjon  192  L =  0.001901941347327582 \n",
      "Iterasjon  193  L =  0.0018541029229594177 \n",
      "Iterasjon  194  L =  0.0018079633654961337 \n",
      "Iterasjon  195  L =  0.0017627893900054516 \n",
      "Iterasjon  196  L =  0.0017192201210272707 \n",
      "Iterasjon  197  L =  0.0016767214435116386 \n",
      "Iterasjon  198  L =  0.0016356676238652632 \n",
      "Iterasjon  199  L =  0.001595821197751987 \n",
      "Iterasjon  200  L =  0.001557864260452381 \n",
      "Iterasjon  201  L =  0.0015208958350453221 \n",
      "Iterasjon  202  L =  0.0014858345371587748 \n",
      "Iterasjon  203  L =  0.001451528616973247 \n",
      "Iterasjon  204  L =  0.0014182089844180987 \n",
      "Iterasjon  205  L =  0.0013859564768201361 \n",
      "Iterasjon  206  L =  0.0013547335236002388 \n",
      "Iterasjon  207  L =  0.0013242910440788307 \n",
      "Iterasjon  208  L =  0.0012947886113255402 \n",
      "Iterasjon  209  L =  0.0012661168183330863 \n",
      "Iterasjon  210  L =  0.0012382788181784018 \n",
      "Iterasjon  211  L =  0.0012112687003882293 \n",
      "Iterasjon  212  L =  0.0011851241612106608 \n",
      "Iterasjon  213  L =  0.0011596863493632005 \n",
      "Iterasjon  214  L =  0.0011350970639112674 \n",
      "Iterasjon  215  L =  0.001111222904429927 \n",
      "Iterasjon  216  L =  0.001088051796490565 \n",
      "Iterasjon  217  L =  0.001065564554817417 \n",
      "Iterasjon  218  L =  0.0010437487280914497 \n",
      "Iterasjon  219  L =  0.0010225922102549277 \n",
      "Iterasjon  220  L =  0.0010020645941311032 \n",
      "Iterasjon  221  L =  0.0009821389715260877 \n",
      "Iterasjon  222  L =  0.0009627802778220529 \n",
      "Iterasjon  223  L =  0.0009439938072211089 \n",
      "Iterasjon  224  L =  0.0009257467653269099 \n",
      "Iterasjon  225  L =  0.0009080199824841588 \n",
      "Iterasjon  226  L =  0.0008908113851123882 \n",
      "Iterasjon  227  L =  0.0008740769803413743 \n",
      "Iterasjon  228  L =  0.0008577913748716583 \n",
      "Iterasjon  229  L =  0.0008419858656057393 \n",
      "Iterasjon  230  L =  0.000826588574181051 \n",
      "Iterasjon  231  L =  0.0008115719307099473 \n",
      "Iterasjon  232  L =  0.0007970026239835143 \n",
      "Iterasjon  233  L =  0.000782800922409216 \n",
      "Iterasjon  234  L =  0.000768969619581804 \n",
      "Iterasjon  235  L =  0.0007554821104914201 \n",
      "Iterasjon  236  L =  0.0007423083066927657 \n",
      "Iterasjon  237  L =  0.000729513947151544 \n",
      "Iterasjon  238  L =  0.0007170509045430027 \n",
      "Iterasjon  239  L =  0.0007048757944705558 \n",
      "Iterasjon  240  L =  0.0006930266987219526 \n",
      "Iterasjon  241  L =  0.0006814380393164598 \n",
      "Iterasjon  242  L =  0.0006701341683720321 \n",
      "Iterasjon  243  L =  0.0006591096135278185 \n",
      "Iterasjon  244  L =  0.0006483417800764227 \n",
      "Iterasjon  245  L =  0.0006378154507055294 \n",
      "Iterasjon  246  L =  0.0006275724688188508 \n",
      "Iterasjon  247  L =  0.0006175423965029093 \n",
      "Iterasjon  248  L =  0.0006077485540951165 \n",
      "Iterasjon  249  L =  0.0005981821618136686 \n",
      "Iterasjon  250  L =  0.0005888300181491527 \n",
      "Iterasjon  251  L =  0.0005796934795768652 \n",
      "Iterasjon  252  L =  0.0005707506881919289 \n",
      "Iterasjon  253  L =  0.0005620388615476639 \n",
      "Iterasjon  254  L =  0.0005535039331641526 \n",
      "Iterasjon  255  L =  0.0005451655916295855 \n",
      "Iterasjon  256  L =  0.0005369872249484366 \n",
      "Iterasjon  257  L =  0.0005289872903214458 \n",
      "Iterasjon  258  L =  0.000521158378138136 \n",
      "Iterasjon  259  L =  0.0005134945767095248 \n",
      "Iterasjon  260  L =  0.0005060023459691817 \n",
      "Iterasjon  261  L =  0.0004986534036912635 \n",
      "Iterasjon  262  L =  0.0004914707508885923 \n",
      "Iterasjon  263  L =  0.00048442063401348613 \n",
      "Iterasjon  264  L =  0.0004775207178537739 \n",
      "Iterasjon  265  L =  0.0004707720327197581 \n",
      "Iterasjon  266  L =  0.00046415236614053435 \n",
      "Iterasjon  267  L =  0.0004576688043270544 \n",
      "Iterasjon  268  L =  0.00045131502595301853 \n",
      "Iterasjon  269  L =  0.00044529175715973997 \n",
      "Iterasjon  270  L =  0.00043855464884249277 \n",
      "Iterasjon  271  L =  0.0004317739030207567 \n",
      "Iterasjon  272  L =  0.00042526306445230075 \n",
      "Iterasjon  273  L =  0.0004190010313705903 \n",
      "Iterasjon  274  L =  0.0004128900453321408 \n",
      "Iterasjon  275  L =  0.00040691734041881306 \n",
      "Iterasjon  276  L =  0.0004011013498288206 \n",
      "Iterasjon  277  L =  0.0003954339993386635 \n",
      "Iterasjon  278  L =  0.00038989395074601966 \n",
      "Iterasjon  279  L =  0.00038447953320597337 \n",
      "Iterasjon  280  L =  0.0003791921468034473 \n",
      "Iterasjon  281  L =  0.00037400538343067784 \n",
      "Iterasjon  282  L =  0.0003689380036473914 \n",
      "Iterasjon  283  L =  0.0003639892589092439 \n",
      "Iterasjon  284  L =  0.0003591262590248111 \n",
      "Iterasjon  285  L =  0.0003543584207125293 \n",
      "Iterasjon  286  L =  0.0003497073012697599 \n",
      "Iterasjon  287  L =  0.00034514458130691203 \n",
      "Iterasjon  288  L =  0.0003406447053313243 \n",
      "Iterasjon  289  L =  0.0003362481044701162 \n",
      "Iterasjon  290  L =  0.0003319583024247796 \n",
      "Iterasjon  291  L =  0.0003277434889059331 \n",
      "Iterasjon  292  L =  0.0003236053679922693 \n",
      "Iterasjon  293  L =  0.0003195506195486296 \n",
      "Iterasjon  294  L =  0.00031557874579173507 \n",
      "Iterasjon  295  L =  0.00031166603990758277 \n",
      "Iterasjon  296  L =  0.00030782638905525056 \n",
      "Iterasjon  297  L =  0.0003040656829389485 \n",
      "Iterasjon  298  L =  0.000300374602933939 \n",
      "Iterasjon  299  L =  0.0002967357816110786 \n",
      "Iterasjon  300  L =  0.0002931629270355705 \n"
     ]
    },
    {
     "data": {
      "image/png": "[encoded data removed]",
      "text/plain": [
       "<Figure size 432x288 with 1 Axes>"
      ]
     },
     "metadata": {
      "needs_background": "light"
     },
     "output_type": "display_data"
    }
   ],
   "source": [
    "losses = test_Adam(nn, data['x_train'], data['y_train'], 300, 0.001, m, 6, 13)"
   ]
  },
  {
   "cell_type": "markdown",
   "metadata": {},
   "source": [
    "Som vi ser går også loss-funksjonen her mot 0, men i en lavere grad enn tidligere. Dette kan indikere at nettverket vårt sliter litt mer med å stadfeste klare mønster og sammenhenger, men verdien er likevel lav nok til at vi burde forvente riktig prediksjon store deler av tiden. "
   ]
  },
  {
   "cell_type": "code",
   "execution_count": null,
   "metadata": {},
   "outputs": [],
   "source": [
    "x = np.array([[[3, 0, 4, 1, 4]]])\n",
    "print(x[0,0][:2], \"+\" ,x[0,0], \"=\",np.flip(nn.predict(x, m, 7))[0,0])\n",
    "x = np.array([[[4, 2, 2, 1, 0]]])\n",
    "print(x[0,0][:2], \"+\" ,x[0,0], \"=\",np.flip(nn.predict(x, m, 7))[0,0])\n",
    "x = np.array([[[1, 2, 0, 1, 3]]])\n",
    "print(x[0,0][:2], \"+\" ,x[0,0], \"=\",np.flip(nn.predict(x, m, 7))[0,0])"
   ]
  },
  {
   "cell_type": "markdown",
   "metadata": {},
   "source": [
    "get_train_test_sorting-funksjonen leverer ikke bare treningsdata for nettverket vårt, men også testdata som nettverket ikke har blitt eksponert for under treningen. Dette lar oss evaluere hvor godt nettverket vårt kan forutsi sortering av tall, da det blir testet på prediksjonsevnen, ikke bare på gjenkjennelse av treningsdataen."
   ]
  },
  {
   "cell_type": "code",
   "execution_count": null,
   "metadata": {},
   "outputs": [
    {
     "name": "stdout",
     "output_type": "stream",
     "text": [
      "Antall rette prediksjoner: 998\n",
      "Totalt antall prediksjoner: 1000\n",
      "Prosentvis riktige predikasjoner: 99.8 %\n"
     ]
    }
   ],
   "source": [
    "#Henter prediksjonsfunksjonen\n",
    "y_hats = nn.predict(x_test, 5, 7)\n",
    "\n",
    "tell = nn.countCorrect_sort(y_hats, y_test)"
   ]
  },
  {
   "cell_type": "markdown",
   "metadata": {},
   "source": [
    "Også her ser vi at modellen vår er godt trent på å sortere riktig, selv med ny data og flere mulige kombinasjoner."
   ]
  },
  {
   "cell_type": "markdown",
   "metadata": {},
   "source": [
    "#### Oppgave 3.4"
   ]
  },
  {
   "cell_type": "markdown",
   "metadata": {},
   "source": [
    "Nå som vi har demonstrert muligheten til å trene det nevrale nettverket til å sortere tall, ønsker vi å utforske om det kan lære enkel addisjon. Denne tilnærmingen ligner på sorteringen, men her øker vi mengden treningsdata i håp om å oppnå en godt trent modell som kan forutsi riktig resultat store deler av tiden."
   ]
  },
  {
   "cell_type": "markdown",
   "metadata": {},
   "source": [
    "Vi starter med å initialisere 3 lag, definere nødvendige variabler og hente ut treningsdata."
   ]
  },
  {
   "cell_type": "code",
   "execution_count": 14,
   "metadata": {},
   "outputs": [],
   "source": [
    "from data_generators import get_train_test_addition\n",
    "#definerer variabler\n",
    "r = 4\n",
    "m = 10\n",
    "n_max = 3*r\n",
    "\n",
    "d = 30\n",
    "k = 20\n",
    "p = 40\n",
    "L = 3\n",
    "\n",
    "#Lager 3 lag til nn\n",
    "att1 = Attention(d,k)\n",
    "att2 = Attention(d,k)\n",
    "att3 = Attention(d,k)\n",
    "\n",
    "ff1 = FeedForward(d,p)\n",
    "ff2 = FeedForward(d,p)\n",
    "ff3 = FeedForward(d,p)\n",
    "\n",
    "embed = EmbedPosition(n_max,m,d)\n",
    "un_embed = LinearLayer(d,m)\n",
    "softmax = Softmax()\n",
    "loss = CrossEntropy()\n",
    "\n",
    "#Lager det nevrale nettverket på nytt\n",
    "nn = NeuralNetwork([embed, att1, ff1, att2, ff2, att3, ff3, un_embed, softmax])\n",
    "#implementerer trenignsdata. 2 siffer i tallene vi adderer, 20 batches med 250 samples per batch, og 4 batches vi kan teste med\n",
    "data = get_train_test_addition(2, samples_per_batch=250,n_batches_train=20, n_batches_test=20)\n",
    "#Henter ut data\n",
    "x_train = data['x_train']\n",
    "y_train = data['y_train']\n",
    "x_test = data['x_test']\n",
    "y_test = data['y_test']"
   ]
  },
  {
   "cell_type": "markdown",
   "metadata": {},
   "source": [
    "Nå kan vi beregne, plotte og skrive ut tapet til objektsfunksjonen ved hver iterasjon ved hjelp av den samme funksjonen som tidligere."
   ]
  },
  {
   "cell_type": "code",
   "execution_count": 16,
   "metadata": {},
   "outputs": [
    {
     "name": "stdout",
     "output_type": "stream",
     "text": [
      "Iterasjon  1  L =  0.04970892901148065 \n",
      "Iterasjon  2  L =  0.041850564340573375 \n",
      "Iterasjon  3  L =  0.03498739088913018 \n",
      "Iterasjon  4  L =  0.029691071925303077 \n",
      "Iterasjon  5  L =  0.026330458113428896 \n",
      "Iterasjon  6  L =  0.02325449025957194 \n",
      "Iterasjon  7  L =  0.019958151416149403 \n",
      "Iterasjon  8  L =  0.017599261662449565 \n",
      "Iterasjon  9  L =  0.01679893344022996 \n",
      "Iterasjon  10  L =  0.01640285150327481 \n",
      "Iterasjon  11  L =  0.015614390640195711 \n",
      "Iterasjon  12  L =  0.014381098338374403 \n",
      "Iterasjon  13  L =  0.018720072573518702 \n",
      "Iterasjon  14  L =  0.0182093467016048 \n",
      "Iterasjon  15  L =  0.014203452725830925 \n",
      "Iterasjon  16  L =  0.011010712719091266 \n",
      "Iterasjon  17  L =  0.008705712972002764 \n",
      "Iterasjon  18  L =  0.00801485837952513 \n",
      "Iterasjon  19  L =  0.007644911017748659 \n",
      "Iterasjon  20  L =  0.007279979055003769 \n",
      "Iterasjon  21  L =  0.006153221928776975 \n",
      "Iterasjon  22  L =  0.005548553490911281 \n",
      "Iterasjon  23  L =  0.004990096484271985 \n",
      "Iterasjon  24  L =  0.004638429367313722 \n",
      "Iterasjon  25  L =  0.00432380015109105 \n",
      "Iterasjon  26  L =  0.004015582043689679 \n",
      "Iterasjon  27  L =  0.003753763419782375 \n",
      "Iterasjon  28  L =  0.003521237690290955 \n",
      "Iterasjon  29  L =  0.0033267479181910984 \n",
      "Iterasjon  30  L =  0.0031410607439971094 \n",
      "Iterasjon  31  L =  0.002967813427508119 \n",
      "Iterasjon  32  L =  0.0028106684385704366 \n",
      "Iterasjon  33  L =  0.0026691134006650748 \n",
      "Iterasjon  34  L =  0.002536009918073492 \n",
      "Iterasjon  35  L =  0.0024150326360378796 \n",
      "Iterasjon  36  L =  0.0023011405875926587 \n",
      "Iterasjon  37  L =  0.00219526658763933 \n",
      "Iterasjon  38  L =  0.002096855678287177 \n",
      "Iterasjon  39  L =  0.0020061164427447307 \n",
      "Iterasjon  40  L =  0.0019202350991093266 \n",
      "Iterasjon  41  L =  0.001839144606002185 \n",
      "Iterasjon  42  L =  0.0017627901993451695 \n",
      "Iterasjon  43  L =  0.0016915376224200872 \n",
      "Iterasjon  44  L =  0.0016234067258170213 \n",
      "Iterasjon  45  L =  0.0015590736085700214 \n",
      "Iterasjon  46  L =  0.0014989069426533297 \n",
      "Iterasjon  47  L =  0.001442395153736307 \n",
      "Iterasjon  48  L =  0.0013876739121212714 \n",
      "Iterasjon  49  L =  0.001336493241439618 \n",
      "Iterasjon  50  L =  0.0012874947899511415 \n",
      "Iterasjon  51  L =  0.0012415441885917987 \n",
      "Iterasjon  52  L =  0.001197900137214935 \n",
      "Iterasjon  53  L =  0.0011562497043017214 \n",
      "Iterasjon  54  L =  0.0011164868605004728 \n",
      "Iterasjon  55  L =  0.0010788603373262358 \n",
      "Iterasjon  56  L =  0.0010430956158494062 \n",
      "Iterasjon  57  L =  0.0010085976597126638 \n",
      "Iterasjon  58  L =  0.0009763682124020463 \n",
      "Iterasjon  59  L =  0.0009447105318138562 \n",
      "Iterasjon  60  L =  0.0009147358571528553 \n",
      "Iterasjon  61  L =  0.0008865295188732055 \n",
      "Iterasjon  62  L =  0.0008591475112784417 \n",
      "Iterasjon  63  L =  0.0008326354482513492 \n",
      "Iterasjon  64  L =  0.0008076854741521077 \n",
      "Iterasjon  65  L =  0.0007837294978214002 \n",
      "Iterasjon  66  L =  0.0007605248602936567 \n",
      "Iterasjon  67  L =  0.0007384546228349358 \n",
      "Iterasjon  68  L =  0.0007173816424156653 \n",
      "Iterasjon  69  L =  0.0006969433237249633 \n",
      "Iterasjon  70  L =  0.000677400213288155 \n",
      "Iterasjon  71  L =  0.0006584393013997017 \n",
      "Iterasjon  72  L =  0.000640356986859484 \n",
      "Iterasjon  73  L =  0.0006229548291042414 \n",
      "Iterasjon  74  L =  0.0006060418642753593 \n",
      "Iterasjon  75  L =  0.0005899185901279661 \n",
      "Iterasjon  76  L =  0.0005743248360084922 \n",
      "Iterasjon  77  L =  0.0005593324629546289 \n",
      "Iterasjon  78  L =  0.0005444909685955261 \n",
      "Iterasjon  79  L =  0.0005304676269277371 \n",
      "Iterasjon  80  L =  0.0005171006322930978 \n",
      "Iterasjon  81  L =  0.0005039183729292312 \n",
      "Iterasjon  82  L =  0.0004913023051237395 \n",
      "Iterasjon  83  L =  0.0004790451039466785 \n",
      "Iterasjon  84  L =  0.0004671703890608654 \n",
      "Iterasjon  85  L =  0.0004557970167492753 \n",
      "Iterasjon  86  L =  0.00044481986946224623 \n",
      "Iterasjon  87  L =  0.00043414536335703753 \n",
      "Iterasjon  88  L =  0.00042394680763598486 \n",
      "Iterasjon  89  L =  0.00041404302644446934 \n",
      "Iterasjon  90  L =  0.0004042046549967951 \n",
      "Iterasjon  91  L =  0.0003948689578742694 \n",
      "Iterasjon  92  L =  0.0003859035898691417 \n",
      "Iterasjon  93  L =  0.0003769538822489986 \n",
      "Iterasjon  94  L =  0.000368258680438336 \n",
      "Iterasjon  95  L =  0.0003599133229734694 \n",
      "Iterasjon  96  L =  0.00035176832026334706 \n",
      "Iterasjon  97  L =  0.00034383395903653306 \n",
      "Iterasjon  98  L =  0.00033625463781722836 \n",
      "Iterasjon  99  L =  0.00032872784707375295 \n",
      "Iterasjon  100  L =  0.00032147708341932865 \n",
      "Iterasjon  101  L =  0.00031447595313641966 \n",
      "Iterasjon  102  L =  0.00030758356215745297 \n",
      "Iterasjon  103  L =  0.00030101460890418245 \n",
      "Iterasjon  104  L =  0.0002945564577403014 \n",
      "Iterasjon  105  L =  0.00028834195783215605 \n",
      "Iterasjon  106  L =  0.0002821798906133578 \n",
      "Iterasjon  107  L =  0.000276294758476983 \n",
      "Iterasjon  108  L =  0.00027058443577120735 \n",
      "Iterasjon  109  L =  0.00026492707101853787 \n",
      "Iterasjon  110  L =  0.0002594859060194464 \n",
      "Iterasjon  111  L =  0.00025422526867850567 \n",
      "Iterasjon  112  L =  0.0002489550685119964 \n",
      "Iterasjon  113  L =  0.00024395641182742671 \n",
      "Iterasjon  114  L =  0.00023900955609849195 \n",
      "Iterasjon  115  L =  0.00023420473386985877 \n",
      "Iterasjon  116  L =  0.00022956770757393414 \n",
      "Iterasjon  117  L =  0.00022504882829871482 \n",
      "Iterasjon  118  L =  0.00022060451656953254 \n",
      "Iterasjon  119  L =  0.00021634417151088401 \n",
      "Iterasjon  120  L =  0.0002120504507970514 \n",
      "Iterasjon  121  L =  0.0002079783141782752 \n",
      "Iterasjon  122  L =  0.00020396005722484752 \n",
      "Iterasjon  123  L =  0.00020000277861705854 \n",
      "Iterasjon  124  L =  0.00019622223160335224 \n",
      "Iterasjon  125  L =  0.0001924909439130703 \n",
      "Iterasjon  126  L =  0.0001888369128027133 \n",
      "Iterasjon  127  L =  0.00018535319275439713 \n",
      "Iterasjon  128  L =  0.0001818339337982741 \n",
      "Iterasjon  129  L =  0.00017848038382564725 \n",
      "Iterasjon  130  L =  0.0001751281359887164 \n",
      "Iterasjon  131  L =  0.0001719105994515816 \n",
      "Iterasjon  132  L =  0.00016876475351714274 \n",
      "Iterasjon  133  L =  0.00016564236826656963 \n",
      "Iterasjon  134  L =  0.0001626627243023917 \n",
      "Iterasjon  135  L =  0.00015965018267176585 \n",
      "Iterasjon  136  L =  0.000156764577236834 \n",
      "Iterasjon  137  L =  0.0001539737436519934 \n",
      "Iterasjon  138  L =  0.00015118612864356893 \n",
      "Iterasjon  139  L =  0.00014848992063913206 \n",
      "Iterasjon  140  L =  0.00014586179201968308 \n",
      "Iterasjon  141  L =  0.00014326688951778427 \n",
      "Iterasjon  142  L =  0.0001407566245479134 \n",
      "Iterasjon  143  L =  0.00013825818915279414 \n",
      "Iterasjon  144  L =  0.00013586230981756504 \n",
      "Iterasjon  145  L =  0.00013349549281371708 \n",
      "Iterasjon  146  L =  0.00013119538332603952 \n",
      "Iterasjon  147  L =  0.00012889777137679867 \n",
      "Iterasjon  148  L =  0.00012670008980231428 \n",
      "Iterasjon  149  L =  0.0001245440572245865 \n",
      "Iterasjon  150  L =  0.00012240834212254962 \n"
     ]
    },
    {
     "data": {
      "image/png": "[encoded data removed]",
      "text/plain": [
       "<Figure size 432x288 with 1 Axes>"
      ]
     },
     "metadata": {
      "needs_background": "light"
     },
     "output_type": "display_data"
    }
   ],
   "source": [
    "#Beregner og skriver ut loss for hver itterasjon\n",
    "losses = test_Adam(nn, data['x_train'], data['y_train'], 150, 0.001, m, 3, 6)"
   ]
  },
  {
   "cell_type": "markdown",
   "metadata": {},
   "source": [
    "Som vi ser fra figuren, blir tapet i objektsfunksjonen minsket over flere iterasjoner."
   ]
  },
  {
   "cell_type": "markdown",
   "metadata": {},
   "source": [
    "Vi kan nå evaluere vårt nevrale nettverk ved å mate det med enkelttilfeller og deretter observere om det faktisk klarer å forutsi riktig addisjon."
   ]
  },
  {
   "cell_type": "code",
   "execution_count": 18,
   "metadata": {},
   "outputs": [
    {
     "name": "stdout",
     "output_type": "stream",
     "text": [
      "[3 0] + [4 1] = [0 7 1]\n",
      "[4 2] + [9 1] = [1 3 3]\n",
      "[7 2] + [0 1] = [0 7 3]\n"
     ]
    }
   ],
   "source": [
    "#Gir eksempler på prediksjoner\n",
    "x = np.array([[[3, 0, 4, 1]]])\n",
    "print(x[0,0][:2], \"+\" ,x[0,0][2:], \"=\",np.flip(nn.predict(x, m, 3))[0,0])\n",
    "x = np.array([[[4, 2, 9, 1]]])\n",
    "print(x[0,0][:2], \"+\" ,x[0,0][2:], \"=\",np.flip(nn.predict(x, m, 3))[0,0])\n",
    "x = np.array([[[7, 2, 0, 1]]])\n",
    "print(x[0,0][:2], \"+\" ,x[0,0][2:], \"=\",np.flip(nn.predict(x, m, 3))[0,0])"
   ]
  },
  {
   "cell_type": "markdown",
   "metadata": {},
   "source": [
    "Vi kan også utføre testing av nettverket vårt på testdataen vi uttrakk samtidig med treningsdataen. I dette tilfellet vil vi gjennomføre 5000 tester på dataene som modellen vår ikke har blitt trent på tidligere."
   ]
  },
  {
   "cell_type": "code",
   "execution_count": 19,
   "metadata": {},
   "outputs": [
    {
     "name": "stdout",
     "output_type": "stream",
     "text": [
      "Antall rette prediksjoner: 4998\n",
      "Totalt antall prediksjoner: 5000\n",
      "Prosentvis riktige predikasjoner: 99.96 %\n"
     ]
    }
   ],
   "source": [
    "#Beregner antall riktige prediksjoner av testdataen opp mot testdataen\n",
    "y_hats = nn.predict(x_test, 10, 3)\n",
    "#Teller hvor mange prediksjoner som var riktig\n",
    "Tell = nn.countCorrect_add(y_hats, y_test)"
   ]
  },
  {
   "cell_type": "markdown",
   "metadata": {},
   "source": [
    "Som vi observerer, vil modellen vår gjøre korrekte addisjonsprediksjoner mesteparten av tiden. For å vurdere nøyaktigheten grundig, kan vi teste hvor mange korrekte prediksjoner den gir for alle de 10 000 mulige tallparene av tosifrede tall."
   ]
  },
  {
   "cell_type": "code",
   "execution_count": 20,
   "metadata": {},
   "outputs": [
    {
     "name": "stdout",
     "output_type": "stream",
     "text": [
      "Antall rette prediksjoner: 9998\n",
      "Totalt antall prediksjoner: 10000\n",
      "Prosentvis riktige predikasjoner: 99.98 %\n"
     ]
    }
   ],
   "source": [
    "#Lager x og y arrays med dimensjon (100, 100, 4) og (100, 100, 3) med alle de mulige tallparene\n",
    "x_values = np.zeros((100, 100, 4), dtype=int)\n",
    "y_values = np.zeros((100, 100, 3), dtype=int)\n",
    "\n",
    "for i in range(100):\n",
    "    for j in range(100):\n",
    "        x_values[i, j] = [i // 10, i % 10, j // 10, j % 10]  \n",
    "        sum_tall = i + j\n",
    "        if sum_tall < 100: #legger til 0 før summen for å sikre en lengde på 3\n",
    "            y_values[i, j] = [0, sum_tall // 10, sum_tall % 10]  \n",
    "        else:\n",
    "            y_values[i, j] = [sum_tall // 100, sum_tall // 10 % 10, sum_tall % 10] \n",
    "#Ser hvor mange riktige av de 10 000 mulige kombinasjonene vi greier å predikere\n",
    "y_hats = nn.predict(x_values, 10, 3)\n",
    "\n",
    "Tell = nn.countCorrect_add(y_hats, y_values)\n"
   ]
  },
  {
   "cell_type": "markdown",
   "metadata": {},
   "source": [
    "Som vi ser greier vi å predikere riktig for opp imot alle mulige kombinasjoner for addisjon mellom to tosifrede tall."
   ]
  }
 ],
 "metadata": {
  "kernelspec": {
   "display_name": "Python 3",
   "language": "python",
   "name": "python3"
  },
  "language_info": {
   "codemirror_mode": {
    "name": "ipython",
    "version": 3
   },
   "file_extension": ".py",
   "mimetype": "text/x-python",
   "name": "python",
   "nbconvert_exporter": "python",
   "pygments_lexer": "ipython3",
   "version": "3.9.12"
  }
 },
 "nbformat": 4,
 "nbformat_minor": 2
}
