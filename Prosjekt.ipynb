{
 "cells": [
  {
   "cell_type": "markdown",
   "metadata": {},
   "source": [
    "# Indmat prosjekt\n",
    "###### Liva Berge Flo, André Pettersen-Dahl, Herman Neple\n",
    "\n",
    "#### Oppgave 1"
   ]
  },
  {
   "cell_type": "markdown",
   "metadata": {},
   "source": [
    "1.1"
   ]
  },
  {
   "cell_type": "markdown",
   "metadata": {},
   "source": [
    "En transformermodell skal trenes opp til å forsøke å predikere et heltall $d$, hvor $d = a \\cdot b + c$, hvor $a$ og $c$ er tosifrede heltall og $b$ er et ettsifret heltall. Vi kan se på et eksempel på et datasett som kan brukes for å trene opp modellen."
   ]
  },
  {
   "cell_type": "markdown",
   "metadata": {},
   "source": [
    "Vi kan la\n",
    "\\begin{align*}\n",
    "    r &= 2,   a = 28,  \n",
    " b = 4,   c = 18,   d = 130, \\\\\n",
    "\\end{align*}\n",
    "Input $x$ vil være tallene $a$, $b$ og $c$. I tillegg vil de første sifferne i $d$ være inkludert i input, fordi vi ønsker at transformermodellen skal trenes opp til å finne det siste sifferet i $d$. Output $y$ vil være tallet $d$ som man ønsker å predikere. Dermed har vi altså\n",
    "\n",
    "\\begin{align*}\n",
    "    x &= [2,8,4,1,8,1,3] \\quad \\text{og} \\quad y = [1,3,0], \\\\\n",
    "\\end{align*}"
   ]
  },
  {
   "cell_type": "markdown",
   "metadata": {},
   "source": [
    "1.2"
   ]
  },
  {
   "cell_type": "markdown",
   "metadata": {},
   "source": [
    "Vi ser videre på et eksempel på hvordan transformermodellen $f_{\\theta}$ kan predikere tallet $d$ for samme type problem.\n",
    "\n",
    "Transformermodellen vil utføre følgende operasjon\n",
    "\\begin{align*}\n",
    "    \\hat{z} &= [\\hat{z}_0, \\ldots, \\hat{z}_6] = f_{\\theta}([2,8,4,1,8,1,3]), \\\\\n",
    "\\end{align*}\n",
    "hvor det er ønskelig å finne en $\\theta$ slik at \n",
    "\\begin{align*}\n",
    "    \\hat{y} &= [\\hat{z}_{4}, \\hat{z}_{5}, \\hat{z}_{6}] = [0,3,1].\\\\\n",
    "\\end{align*}\n",
    "Transformermodellen vil ved addisjon beregne siste siffer først og tallet $d$ vil dermed være $\\hat{z}_{6}\\hat{z}_{5}\\hat{z}_{4} = 130$"
   ]
  },
  {
   "cell_type": "markdown",
   "metadata": {},
   "source": [
    "Vi lar igjen $r = 2, a = 18, b = 3, c = 22$.\n",
    "Et nytt siffer vil predikeres for hvert lag i transformermodellen. Prosessen vil dermed se slik ut:\n",
    "\\begin{align*}\n",
    "    x^{(0)} &= [1,8,3,2,2], & [\\hat{z}_{0}^{(0)},\\hat{z}_{1}^{(0)},\\hat{z}_{2}^{(0)},\\hat{z}_{3}^{(0)},\\hat{z}_{4}^{(0)},\\textcolor{red}{\\hat{z}_{5}^{(0)}}] = f_\\theta(x^{(0)}), \\\\\n",
    "    x^{(1)} &= [1,8,3,2,2,\\textcolor{red}{\\hat{z}_{5}^{(0)}}], & [\\hat{z}_{0}^{(1)},\\ldots, \\textcolor{blue}{\\hat{z}_{6}^{(1)}}] = f_\\theta(x^{(1)}), \\\\ \n",
    "    x^{(2)} &= [1,8,3,2,2,\\textcolor{red}{\\hat{z}_{5}^{(0)}},\\textcolor{blue}{\\hat{z}_{6}^{(1)}}], & [\\hat{z}_{0}^{(1)},\\ldots, \\textcolor{gold}{\\hat{z}_{7}^{(2)}}] = f_\\theta(x^{(2)}), \\\\\n",
    "    x^{(3)} &= [1,8,3,2,2,\\textcolor{red}{\\hat{z}_{5}^{(0)}},\\textcolor{blue}{\\hat{z}_{6}^{(1)}},\\textcolor{gold}{\\hat{z}_{7}^{(2)}}] \\\\\n",
    "    \\hat{y} &= [\\textcolor{red}{\\hat{z}_{5}^{(0)}},\\textcolor{blue}{\\hat{z}_{6}^{(1)}},\\textcolor{gold}{\\hat{z}_{7}^{(2)}}]. \\\\\n",
    "\\end{align*}"
   ]
  },
  {
   "cell_type": "markdown",
   "metadata": {},
   "source": [
    "Her ønsker vi altså at $d = \\textcolor{gold}{\\hat{z}_{7}^{(2)}}\\textcolor{blue}{\\hat{z}_{6}^{(1)}}\\textcolor{red}{\\hat{z}_{5}^{(0)}} = 130$"
   ]
  },
  {
   "cell_type": "markdown",
   "metadata": {},
   "source": [
    "1.3"
   ]
  },
  {
   "cell_type": "markdown",
   "metadata": {},
   "source": [
    "La $m = 5$ og $y = [4,3,2,1]$. Vi bruker cross-entropy som objektfunksjon $\\mathcal{L}$, og ønsker å finne en sannsynlighetsfordeling $\\hat Y$ som gir $\\mathcal{L}(\\theta, \\mathcal{D}) = 0$."
   ]
  },
  {
   "cell_type": "markdown",
   "metadata": {},
   "source": [
    "Ved å gjøre operasjonen $\\text{onehot}(y)$, får vi representert $y$ som en matrise Y\n",
    "\n",
    "$$Y = \\left[\n",
    "\\begin{array}{cccc}\n",
    "0 & 0 & 0 & 0 \\\\\n",
    "0 & 0 & 0 & 1 \\\\\n",
    "0 & 0 & 1 & 0 \\\\\n",
    "0 & 1 & 0 & 0 \\\\\n",
    "1 & 0 & 0 & 0 \n",
    "\\end{array}\n",
    "\\right]$$\n"
   ]
  },
  {
   "cell_type": "markdown",
   "metadata": {},
   "source": [
    "Objektfunksjonen cross-entropy vil i vårt tilfelle se slik ut:\n",
    "\n",
    "\n",
    "\\begin{align*}\n",
    "\\mathcal{L}(\\theta, \\mathcal{D}) &= -\\frac{1}{4} \\sum_{i=0}^{0} \\sum_{j=0}^{4} \\log Y_{kj}^{(i)}\n",
    "\\end{align*}\n",
    "\n",
    "hvor det i ytre løkke kun summeres opp til $D = 0$, siden vi kun har ett datasett. I indre løkke summeres det opp til $n = 4$, fordi vi har fire elementer i $y$."
   ]
  },
  {
   "cell_type": "markdown",
   "metadata": {},
   "source": [
    "Siden vi ønsker at $\\mathcal{L}(\\theta, \\mathcal{D}) = 0$, vil vi at alle $Y_{kj}^{(i)} = 1$, slik at logaritmen blir $0$."
   ]
  },
  {
   "cell_type": "markdown",
   "metadata": {},
   "source": [
    "\n",
    "\n",
    "$$\\hat Y = \\left[\n",
    "\\begin{array}{cccc}\n",
    "0 & 0 & 0 & 0 \\\\\n",
    "0 & 0 & 0 & 1 \\\\\n",
    "0 & 0 & 1 & 0 \\\\\n",
    "0 & 1 & 0 & 0 \\\\\n",
    "1 & 0 & 0 & 0 \n",
    "\\end{array}\n",
    "\\right]$$\n",
    "\n",
    "Altså har vi at:\n",
    "\n",
    "\n",
    "\\begin{align*}\n",
    "Y_{4,0} &= 1 \\\\\n",
    "Y_{3,1} &= 1 \\\\\n",
    "Y_{2,2} &= 1 \\\\\n",
    "Y_{1,3} &= 1 \\\\\n",
    "\\end{align*}\n",
    "\n",
    "Alle andre elementer i matrisen er $0$. Vi kan videre forenkle uttrykket for kryssentropien:\n",
    "\n",
    "\\begin{align*}\n",
    "\\mathcal{L}(\\theta, \\mathcal{D}) &= -\\frac{1}{4} \\left( \\log Y_{4,0} + \\log Y_{3,1} + \\log Y_{2,2} + \\log Y_{1,3} \\right) \\\\\n",
    "&= -\\frac{1}{4} \\left( \\log 1 + \\log 1 + \\log 1 + \\log 1 \\right) \\\\\n",
    "&= -\\frac{1}{4} \\cdot 4 \\cdot \\log 1 \\\\\n",
    "&= -\\frac{4}{4} \\cdot 0 \\\\\n",
    "&= 0\n",
    "\\end{align*}\n",
    "\n",
    "\n",
    "Altså har vi at $ \\mathcal{L}(\\theta, \\mathcal{D}) = 0 $."
   ]
  },
  {
   "cell_type": "markdown",
   "metadata": {},
   "source": [
    "Vi må i dette tilfellet ha at $\\hat y = y = [4,3,2,1]$. Dette kan man se dersom man utfører operasjonen $\\text{argmax}_{\\text{col}}(\\hat Y)$. Det kan også lett observeres ut fra at $\\hat Y = Y$."
   ]
  },
  {
   "cell_type": "markdown",
   "metadata": {},
   "source": [
    "1.4"
   ]
  },
  {
   "cell_type": "markdown",
   "metadata": {},
   "source": [
    "Det kan beregnes hvor mange enkeltparametre som inkluderes i transformermodellen. Vi kan begynne med å se på settet av parametere\n",
    "\\begin{align*}\n",
    "\\theta = \\{ W_E, W_P, W_U, \\{W_O^{(l)}, W_V^{(l)}, W_Q^{(l)}, W_K^{(l)}, W_1^{(l)}, W_2^{(l)}\\}_{l=0}^{L-1} \\}\n",
    "\\end{align*}\n",
    "Med $L$ lag, og dimensjoner $d$, $m$, $n_{max}$, $k$ og $p$, vil antallet enkeltparametere $w$, som må bestemmes ved optimering, bli\n",
    "\n",
    "\\begin{align*}\n",
    "w &=  d \\cdot m + d \\cdot n_{\\text{max}} + d \\cdot m + L\\cdot \\{ 4 ( k \\cdot d ) + 2 (p\\cdot d)\\} \\\\\n",
    "&= 2(d\\cdot m) + d\\cdot n_{\\text{max}} + L\\cdot \\{ 4 ( k \\cdot d ) + 2 (p\\cdot d)\\}\n",
    "\\end{align*}"
   ]
  },
  {
   "cell_type": "markdown",
   "metadata": {},
   "source": [
    "1.5"
   ]
  },
  {
   "cell_type": "markdown",
   "metadata": {},
   "source": [
    "Vi ønsker å vise at man må ha $\\alpha > 1$ for å få $\\hat{z} = [1]$ når input er $x = [1]$ og $n = n_{max} = 1, m = d = k = p = 2$ og $L = 1$. Vi kan starte med å gå manuelt gjennom hele transformeralgoritmen med de gitte verdiene. De første stegene gjøres i embedding."
   ]
  },
  {
   "cell_type": "markdown",
   "metadata": {},
   "source": [
    "$$x = [1], \\quad m = 2 \\\\\n",
    "X = \\text{onehot}(x) = \n",
    "\\begin{bmatrix}\n",
    "0 \\\\\n",
    "1 \\\\\n",
    "\\end{bmatrix} \\\\$$\n",
    "\n",
    "$$W_{E} = \\begin{bmatrix}\n",
    "    1 & 0 \\\\\n",
    "    0 & \\alpha \\\\\n",
    "\\end{bmatrix}\n",
    "W_{P} = \\begin{bmatrix}\n",
    "    1  \\\\\n",
    "    0  \\\\\n",
    "\\end{bmatrix} \\\\$$\n",
    "$$z_{0} = \\begin{bmatrix}\n",
    "    1 & 0 \\\\\n",
    "    0 & \\alpha \\\\\n",
    "\\end{bmatrix}\n",
    "\\begin{bmatrix}\n",
    "    0 \\\\\n",
    "    1 \\\\\n",
    "\\end{bmatrix} + \\begin{bmatrix}\n",
    "    1 \\\\\n",
    "    0 \\\\\n",
    "\\end{bmatrix}\n",
    "= \\begin{bmatrix}\n",
    "    0 \\\\\n",
    "    \\alpha \\\\\n",
    "\\end{bmatrix}\n",
    "+ \\begin{bmatrix}\n",
    "    1 \\\\\n",
    "    0 \\\\\n",
    "\\end{bmatrix}\n",
    "= \\begin{bmatrix}\n",
    "    1 \\\\\n",
    "    \\alpha \\\\\n",
    "\\end{bmatrix} \\\\$$\n"
   ]
  },
  {
   "cell_type": "markdown",
   "metadata": {},
   "source": [
    "Videre utføres attention-laget."
   ]
  },
  {
   "cell_type": "markdown",
   "metadata": {},
   "source": [
    "$$z_{\\frac{1}{2}} = z_0 + W_{O}^{T}W_{V}z_{0}A(z_{0})$$\n",
    "$$ = z_{0} + W_{O}^{T}W_{V}z_{0}\\text{ softmax}_{\\text{col }}(z_{0}^{T}W_{Q}^{T}W_{K}z_{0} + D)$$\n",
    "$$= \\begin{bmatrix}\n",
    "    0 \\\\\n",
    "    1 \\\\\n",
    "\\end{bmatrix} + \\begin{bmatrix}\n",
    "    1 & 0 \\\\\n",
    "    0 & 1 \\\\\n",
    "\\end{bmatrix} \\begin{bmatrix}\n",
    "    1 & 0 \\\\\n",
    "    1 & 1 \\\\\n",
    "\\end{bmatrix} \\begin{bmatrix}\n",
    "    1 \\\\\n",
    "    \\alpha \\\\\n",
    "\\end{bmatrix} \\text{softmax}_{\\text{col } }(\\begin{bmatrix}\n",
    "    1 & \\alpha\n",
    "\\end{bmatrix}\\begin{bmatrix}\n",
    "    1 & 0 \\\\\n",
    "    0 & 1 \\\\\n",
    "\\end{bmatrix}\\begin{bmatrix}\n",
    "    1 & 0 \\\\\n",
    "    0 & 1 \\\\\n",
    "\\end{bmatrix}\\begin{bmatrix}\n",
    "    1 \\\\\n",
    "    \\alpha \\\\\n",
    "\\end{bmatrix} + 0) \\\\$$\n",
    "\n",
    "$$= \\begin{bmatrix}\n",
    "    1 \\\\\n",
    "    \\alpha \\\\\n",
    "\\end{bmatrix}+\\begin{bmatrix}\n",
    "    1 \\\\\n",
    "    \\alpha \\\\\n",
    "\\end{bmatrix}\\text{softmax}_{\\text{col }}(1+\\alpha^2)\n",
    "= 2 \\begin{bmatrix}\n",
    "    1 \\\\\n",
    "    \\alpha \\\\\n",
    "\\end{bmatrix}$$"
   ]
  },
  {
   "cell_type": "markdown",
   "metadata": {},
   "source": [
    "Deretter utføres feed-forward-laget."
   ]
  },
  {
   "cell_type": "markdown",
   "metadata": {},
   "source": [
    "$$z_1 = z_{\\frac{1}{2}} + W_{2}^{T}\\sigma(W_1 z_{\\frac{1}{2}})\\\\$$\n",
    "$$= 2\\begin{bmatrix}\n",
    "    1 \\\\\n",
    "    \\alpha \\\\\n",
    "\\end{bmatrix} + W_{2}^{T}\\text{max}(0,W_1 z_{\\frac{1}{2}})\\\\$$\n",
    "$$= 2\\begin{bmatrix}\n",
    "    1 \\\\\n",
    "    \\alpha \\\\\n",
    "\\end{bmatrix}+\\begin{bmatrix}\n",
    "    1 & 0 \\\\\n",
    "    0 & 1 \\\\\n",
    "\\end{bmatrix}\\text{max}\\Bigg(0, \\begin{bmatrix}\n",
    "    1 & 0 \\\\\n",
    "    0 & 1 \\\\\n",
    "\\end{bmatrix}2\\begin{bmatrix}\n",
    "    1 \\\\\n",
    "    \\alpha \\\\\n",
    "\\end{bmatrix}\\Bigg)\\\\$$\n",
    "$$= 4\\begin{bmatrix}\n",
    "    1\\\\\n",
    "    \\alpha \\\\\n",
    "\\end{bmatrix}$$"
   ]
  },
  {
   "cell_type": "markdown",
   "metadata": {},
   "source": [
    "Deretter benyttes $\\text{softmax}_{\\text{col}}$ for å finne sannsynlighetsfordelingen."
   ]
  },
  {
   "cell_type": "markdown",
   "metadata": {},
   "source": [
    "$$Z = \\text{softmax}_{\\text{col}}(W_{U}^{T}z_{1})\\\\\n",
    "= \\text{softmax}_{\\text{col}}\\bigg(4\\begin{bmatrix}\n",
    "        1 \\\\\n",
    "        \\alpha \\\\\n",
    "    \\end{bmatrix}\\bigg)\\\\\n",
    "    = \\frac{1}{e^{4}+e^{4\\alpha}}\\begin{bmatrix}\n",
    "        e^{4} \\\\\n",
    "        e^{4\\alpha} \\\\\n",
    "    \\end{bmatrix}$$"
   ]
  },
  {
   "cell_type": "markdown",
   "metadata": {},
   "source": [
    "Det kan observeres at $\\text{argmax}_{\\text{col}}(Z)$ vil returnere $\\hat{z} = [1]$ dersom $Z_{10}$ er størst. Vi må altså ha at\n",
    "\\begin{align*}\n",
    "e^{4\\alpha} > e^{4} \\implies \\alpha > 1\\\\\n",
    "\\Box\n",
    "\\end{align*}"
   ]
  },
  {
   "cell_type": "markdown",
   "metadata": {},
   "source": [
    "#### Oppgave 2"
   ]
  },
  {
   "cell_type": "markdown",
   "metadata": {},
   "source": [
    "#### Oppgave 3.1"
   ]
  },
  {
   "cell_type": "code",
   "execution_count": 1,
   "metadata": {},
   "outputs": [],
   "source": [
    "#Importerer nødvendige bibliotek\n",
    "from layers import *\n",
    "from neural_network import NeuralNetwork\n",
    "from utils import onehot\n",
    "import numpy as np\n",
    "from data_generators import get_train_test_sorting\n",
    "import matplotlib.pyplot as plt"
   ]
  },
  {
   "cell_type": "markdown",
   "metadata": {},
   "source": [
    "For å teste om lagene vi har implementert fungerer, kan vi manuelt kjøre gjennom algoritmen. Vi starter med å initalisere lagene til det nevrale nettverk."
   ]
  },
  {
   "cell_type": "code",
   "execution_count": 2,
   "metadata": {},
   "outputs": [],
   "source": [
    "#definerer variabler\n",
    "r = 4\n",
    "m = 4\n",
    "\n",
    "d = 10\n",
    "k = 5\n",
    "p = 15\n",
    "L = 2\n",
    "\n",
    "embed = EmbedPosition(9,m,d)\n",
    "att1 = Attention(d,k)\n",
    "ff1 = FeedForward(d,p)\n",
    "un_embed = LinearLayer(d,m)\n",
    "softmax = Softmax()\n",
    "loss = CrossEntropy()"
   ]
  },
  {
   "cell_type": "markdown",
   "metadata": {},
   "source": [
    "Vi kan videre gi nettverket vårt en input, la oss f.eks late som vi prøver å få modellen til å sortere tallene."
   ]
  },
  {
   "cell_type": "code",
   "execution_count": 3,
   "metadata": {},
   "outputs": [],
   "source": [
    "x = np.array([[0,1,2]])\n",
    "X = onehot(x, m)\n",
    "\n",
    "z0 = embed.forward(X)\n",
    "z11 = att1.forward(z0)\n",
    "z12 = ff1.forward(z11)\n",
    "z2 = un_embed.forward(z12)\n",
    "Z = softmax.forward(z2)"
   ]
  },
  {
   "cell_type": "markdown",
   "metadata": {},
   "source": [
    "Vi kan så teste om vi fikk riktig output, som i dette tilfelle burde være at det er $0$ på siste element. Om vi har riktig output skulle loss funksjonen vårt bli 0."
   ]
  },
  {
   "cell_type": "code",
   "execution_count": 4,
   "metadata": {},
   "outputs": [
    {
     "name": "stdout",
     "output_type": "stream",
     "text": [
      "1.4047276054884315\n"
     ]
    }
   ],
   "source": [
    "y = np.array([[0]])\n",
    "L = loss.forward(Z,y)\n",
    "\n",
    "print(L)"
   ]
  },
  {
   "cell_type": "markdown",
   "metadata": {},
   "source": [
    "Dette fungerte åpenbart ikke enda. Etter å ha kjørt en forward pass, er det fint å teste backwardfunksjonen til lagene. Vi starter da med å beregne den deriverte av loss funksjonen"
   ]
  },
  {
   "cell_type": "code",
   "execution_count": 5,
   "metadata": {},
   "outputs": [],
   "source": [
    "dLdz = loss.backward()\n",
    "d0 = softmax.backward(dLdz)\n",
    "d1 = un_embed.backward(d0)\n",
    "d21 = ff1.backward(d1)\n",
    "d22 = att1.backward(d21)\n",
    "d3 = embed.backward(d22)"
   ]
  },
  {
   "cell_type": "markdown",
   "metadata": {},
   "source": [
    "#### Oppgave 3.2\n",
    "\n",
    "Vi lager en generell funksjon som vil trene nettverket vårt. Denne funksjonen tar inn datasettet i batcher og gjennomfører Adam-steg for å optimalisere parametrene."
   ]
  },
  {
   "cell_type": "code",
   "execution_count": 6,
   "metadata": {},
   "outputs": [],
   "source": [
    "def test_Adam(nn: NeuralNetwork, x_data, y_data, n_iters, step_size, m, start, stop):\n",
    "    n_batches = x_data.shape[0]\n",
    "    mean_losses = np.zeros(n_iters)\n",
    "    for j in range(n_iters):\n",
    "        losses = []\n",
    "        for i in range(n_batches):\n",
    "            x = x_data[i]\n",
    "            y = y_data[i][:,start:stop]\n",
    "            #Forward pass\n",
    "            X = onehot(x,m)\n",
    "            Z = nn.forward(X)\n",
    "            #Backward pass\n",
    "            losses.append(loss.forward(Z,y))\n",
    "            dLdZ = loss.backward()\n",
    "            nn.backward(dLdZ)\n",
    "            nn.step_Adam(step_size)\n",
    "        mean_loss = np.mean(losses)\n",
    "        print(\"Iterasjon \", str(j+1), \" L = \",mean_loss, \"\")\n",
    "        mean_losses[j] = mean_loss\n",
    "    #Returnerer gjennomsnittet over objektfunksjonen over batchene\n",
    "    return mean_losses\n",
    "#Kaller på funksjonen og plotter objektsfunksjonen senere når netverket trenes"
   ]
  },
  {
   "cell_type": "markdown",
   "metadata": {},
   "source": [
    "#### Oppgave 3.3"
   ]
  },
  {
   "cell_type": "markdown",
   "metadata": {},
   "source": [
    "For oppgaven med sortering av 0 og 1"
   ]
  },
  {
   "cell_type": "code",
   "execution_count": 7,
   "metadata": {},
   "outputs": [],
   "source": [
    "#definerer variabler\n",
    "r = 5\n",
    "m = 2\n",
    "\n",
    "d = 10\n",
    "k = 5\n",
    "p = 15\n",
    "L = 2\n",
    "\n",
    "embed = EmbedPosition(9,m,d)\n",
    "att1 = Attention(d,k)\n",
    "att2 = Attention(d,k)\n",
    "ff1 = FeedForward(d,p)\n",
    "ff2 = FeedForward(d,p)\n",
    "un_embed = LinearLayer(d,m)\n",
    "softmax = Softmax()\n",
    "loss = CrossEntropy()\n",
    "\n",
    "nn = NeuralNetwork([embed, att1, ff1, att2, ff2, un_embed, softmax])\n",
    "\n",
    "data = get_train_test_sorting(r, m, samples_per_batch=250,n_batches_train=20, n_batches_test=4)\n",
    "\n",
    "x_train = data['x_train']\n",
    "y_train = data['y_train']\n",
    "x_test = data['x_test']\n",
    "y_test = data['y_test']"
   ]
  },
  {
   "cell_type": "markdown",
   "metadata": {},
   "source": [
    "La oss prøve å trene!"
   ]
  },
  {
   "cell_type": "code",
   "execution_count": 8,
   "metadata": {},
   "outputs": [
    {
     "name": "stdout",
     "output_type": "stream",
     "text": [
      "Iterasjon  1  L =  0.6879727696071855 \n",
      "Iterasjon  2  L =  0.6656713989224554 \n",
      "Iterasjon  3  L =  0.6253954988513428 \n",
      "Iterasjon  4  L =  0.540271802343385 \n",
      "Iterasjon  5  L =  0.41254436077413426 \n",
      "Iterasjon  6  L =  0.28745454109137214 \n",
      "Iterasjon  7  L =  0.153001037001866 \n",
      "Iterasjon  8  L =  0.0816758065223496 \n",
      "Iterasjon  9  L =  0.07183291509900766 \n",
      "Iterasjon  10  L =  0.03833611304549353 \n",
      "Iterasjon  11  L =  0.011119019549302793 \n",
      "Iterasjon  12  L =  0.0019368251065567798 \n",
      "Iterasjon  13  L =  0.0008863885830070054 \n",
      "Iterasjon  14  L =  0.0005421029433023469 \n",
      "Iterasjon  15  L =  0.0004404804336966083 \n",
      "Iterasjon  16  L =  0.00037177630351985247 \n",
      "Iterasjon  17  L =  0.00032033591709025187 \n",
      "Iterasjon  18  L =  0.0002801381677159104 \n",
      "Iterasjon  19  L =  0.00024770725089659186 \n",
      "Iterasjon  20  L =  0.00022095575765923033 \n",
      "Iterasjon  21  L =  0.00019852682754172636 \n",
      "Iterasjon  22  L =  0.00017947878679620716 \n",
      "Iterasjon  23  L =  0.00016312966464584338 \n",
      "Iterasjon  24  L =  0.0001489703730550858 \n",
      "Iterasjon  25  L =  0.00013661346834350046 \n",
      "Iterasjon  26  L =  0.00012575441182938565 \n",
      "Iterasjon  27  L =  0.0001161604966897324 \n",
      "Iterasjon  28  L =  0.0001076361478581397 \n",
      "Iterasjon  29  L =  0.00010001931181573067 \n",
      "Iterasjon  30  L =  9.318328737008356e-05 \n",
      "Iterasjon  31  L =  8.702328908156481e-05 \n",
      "Iterasjon  32  L =  8.145183664109011e-05 \n",
      "Iterasjon  33  L =  7.639565917718532e-05 \n",
      "Iterasjon  34  L =  7.179366847235198e-05 \n",
      "Iterasjon  35  L =  6.759174998794182e-05 \n",
      "Iterasjon  36  L =  6.374391707615417e-05 \n",
      "Iterasjon  37  L =  6.0211154131945674e-05 \n",
      "Iterasjon  38  L =  5.695978941132902e-05 \n",
      "Iterasjon  39  L =  5.3960665196584296e-05 \n",
      "Iterasjon  40  L =  5.1188853406487485e-05 \n",
      "Iterasjon  41  L =  4.862288919596108e-05 \n",
      "Iterasjon  42  L =  4.6241555767486584e-05 \n",
      "Iterasjon  43  L =  4.402715423007035e-05 \n",
      "Iterasjon  44  L =  4.196435637155927e-05 \n",
      "Iterasjon  45  L =  4.003963323489693e-05 \n",
      "Iterasjon  46  L =  3.8240960403361405e-05 \n",
      "Iterasjon  47  L =  3.655794038727359e-05 \n",
      "Iterasjon  48  L =  3.4980622797234846e-05 \n",
      "Iterasjon  49  L =  3.350020347246597e-05 \n",
      "Iterasjon  50  L =  3.210888027808057e-05 \n",
      "Iterasjon  51  L =  3.079966147896693e-05 \n",
      "Iterasjon  52  L =  2.9566216989356836e-05 \n",
      "Iterasjon  53  L =  2.8402785063257855e-05 \n",
      "Iterasjon  54  L =  2.7304056907031186e-05 \n",
      "Iterasjon  55  L =  2.6265378399073574e-05 \n",
      "Iterasjon  56  L =  2.5282620969477837e-05 \n",
      "Iterasjon  57  L =  2.4351762833499772e-05 \n",
      "Iterasjon  58  L =  2.3469320643867765e-05 \n",
      "Iterasjon  59  L =  2.2631919429236448e-05 \n",
      "Iterasjon  60  L =  2.183663247501366e-05 \n",
      "Iterasjon  61  L =  2.1080646311467505e-05 \n",
      "Iterasjon  62  L =  2.0361479328882833e-05 \n",
      "Iterasjon  63  L =  1.9676720530812247e-05 \n",
      "Iterasjon  64  L =  1.9024275954873328e-05 \n",
      "Iterasjon  65  L =  1.8402159835176837e-05 \n",
      "Iterasjon  66  L =  1.7808580575857344e-05 \n",
      "Iterasjon  67  L =  1.7242035071140865e-05 \n",
      "Iterasjon  68  L =  1.6700721562061423e-05 \n",
      "Iterasjon  69  L =  1.6183100183032508e-05 \n",
      "Iterasjon  70  L =  1.568784807023453e-05 \n",
      "Iterasjon  71  L =  1.5213698028539065e-05 \n",
      "Iterasjon  72  L =  1.475948540734882e-05 \n",
      "Iterasjon  73  L =  1.4324097552271959e-05 \n",
      "Iterasjon  74  L =  1.3906536115479595e-05 \n",
      "Iterasjon  75  L =  1.3505850961690409e-05 \n",
      "Iterasjon  76  L =  1.3121143642785534e-05 \n",
      "Iterasjon  77  L =  1.2751597307980416e-05 \n",
      "Iterasjon  78  L =  1.239642553286151e-05 \n",
      "Iterasjon  79  L =  1.2054940706640912e-05 \n",
      "Iterasjon  80  L =  1.1726436975919702e-05 \n",
      "Iterasjon  81  L =  1.1410267507849377e-05 \n",
      "Iterasjon  82  L =  1.1105812354640305e-05 \n",
      "Iterasjon  83  L =  1.081252193202162e-05 \n",
      "Iterasjon  84  L =  1.0530095019002587e-05 \n",
      "Iterasjon  85  L =  1.0258021392050104e-05 \n",
      "Iterasjon  86  L =  9.995591366001842e-06 \n",
      "Iterasjon  87  L =  9.742337608062884e-06 \n",
      "Iterasjon  88  L =  9.497841231773879e-06 \n",
      "Iterasjon  89  L =  9.261709463614569e-06 \n",
      "Iterasjon  90  L =  9.033571581552249e-06 \n",
      "Iterasjon  91  L =  8.813077179029682e-06 \n",
      "Iterasjon  92  L =  8.599894807101618e-06 \n",
      "Iterasjon  93  L =  8.39371074959348e-06 \n",
      "Iterasjon  94  L =  8.194227893776397e-06 \n",
      "Iterasjon  95  L =  8.001164685214837e-06 \n",
      "Iterasjon  96  L =  7.814254557953457e-06 \n",
      "Iterasjon  97  L =  7.633248124800853e-06 \n",
      "Iterasjon  98  L =  7.457902383306226e-06 \n",
      "Iterasjon  99  L =  7.287986970251798e-06 \n",
      "Iterasjon  100  L =  7.1233339567861296e-06 \n"
     ]
    }
   ],
   "source": [
    "losses = test_Adam(nn, data['x_train'], data['y_train'], 100, 0.001, m, 4, 9)"
   ]
  },
  {
   "cell_type": "markdown",
   "metadata": {},
   "source": [
    "Og så kan vi plotte hvordan lossfunksjonen har endret seg gjennom iterasjonene"
   ]
  },
  {
   "cell_type": "code",
   "execution_count": 9,
   "metadata": {},
   "outputs": [
    {
     "data": {
      "image/png": "[encoded data removed]",
      "text/plain": [
       "<Figure size 432x288 with 1 Axes>"
      ]
     },
     "metadata": {
      "needs_background": "light"
     },
     "output_type": "display_data"
    }
   ],
   "source": [
    "plt.plot(np.arange(0,100), np.log(losses))\n",
    "plt.xlabel(\"Iterasjonnummer\")\n",
    "plt.ylabel(\"Logaritmen av loss-funksjon\")\n",
    "plt.title(\"Minimering ved antall iterasjoner\")\n",
    "plt.show()"
   ]
  },
  {
   "cell_type": "markdown",
   "metadata": {},
   "source": [
    "#### Tester for én iterasjon for å se om den greier å predikere neste verdi"
   ]
  },
  {
   "cell_type": "code",
   "execution_count": 10,
   "metadata": {},
   "outputs": [
    {
     "name": "stdout",
     "output_type": "stream",
     "text": [
      "[[1 0 0 1 0]]\n"
     ]
    }
   ],
   "source": [
    "x = np.array([[1, 0 ,0, 1, 0]])\n",
    "X = onehot(x, m)\n",
    "\n",
    "#forward pass\n",
    "Z = nn.forward(X)\n",
    "z_hat = np.argmax(Z, axis=1)\n",
    "\n",
    "print(z_hat)"
   ]
  },
  {
   "cell_type": "markdown",
   "metadata": {},
   "source": [
    "Når vi sender inn arrayet [1, 0, 0, 1, 1], vil vi ved å sende det gjennom algoritmen få predikert den første predikerte verdien som det siste elementet i det returnerte arrayet, som beskrevet i avsnitt 1.2. Siden algoritmen sorterer verdiene i arrayet bestående av 0 og 1, forventer vi at det første sifferet i det sorterte arrayet blir 0. Deretter, for å predikere resten av sekvensen, mater vi inn det siste elementet i det predikerte arrayet tilbake inn i arrayet vi sender gjennom 'forward'-steget, og fortsetter prediksjonen derfra."
   ]
  },
  {
   "cell_type": "markdown",
   "metadata": {},
   "source": [
    "Videre er det nyttig med en funksjon som kan gir inn testdataen til nettverket vårt, og så en funksjon som teller antall riktige prediksjoner."
   ]
  },
  {
   "cell_type": "code",
   "execution_count": 11,
   "metadata": {},
   "outputs": [],
   "source": [
    "def countCorrect(y_hat, y):\n",
    "    batches = y_hat.shape[0]\n",
    "    samples = y_hat[0].shape[0]\n",
    "\n",
    "    counter = 0\n",
    "    total = samples*batches\n",
    "\n",
    "    for b in range(batches):\n",
    "        for i in range(samples):\n",
    "            if np.sum(y_hat[b,i] - y[b,i]) == 0:\n",
    "                counter += 1\n",
    "\n",
    "    return counter, total, (counter/total)*100\n"
   ]
  },
  {
   "cell_type": "markdown",
   "metadata": {},
   "source": [
    "Så kan vi se hvorvidt nettverket vårt klarer å sortere eller ikke."
   ]
  },
  {
   "cell_type": "code",
   "execution_count": 12,
   "metadata": {},
   "outputs": [
    {
     "name": "stdout",
     "output_type": "stream",
     "text": [
      "Antall rette prediksjoner: 1000\n",
      "Totalt antall prediksjoner: 1000\n",
      "Prosentvis riktige predikasjoner: 100.0 %\n"
     ]
    }
   ],
   "source": [
    "y_hats = nn.predict(x_test, 2, 5)\n",
    "\n",
    "corr, total, percent = countCorrect(y_hats, y_test)\n",
    "\n",
    "print(\"Antall rette prediksjoner:\", corr)\n",
    "print(\"Totalt antall prediksjoner:\", total)\n",
    "print(\"Prosentvis riktige predikasjoner:\", percent, \"%\")\n"
   ]
  },
  {
   "cell_type": "markdown",
   "metadata": {},
   "source": [
    "Når to forskjellige verdier kan forekomme på fem ulike steder, resulterer dette i totalt $32$ mulige kombinasjoner ($2^5 = 32$). Denne mangfoldigheten gjør det praktisk talt umulig å teste algoritmen vår med nye sekvenser. Ideelt sett ville tapet tendert mot null, og prediksjonene ville vært korrekte hver gang, siden algoritmen burde gjenkjenne det riktige svaret ($y$) i stedet for å forutsi neste sekvens. Dette antyder at vektene våre kanskje ikke er optimalt tilpasset."
   ]
  },
  {
   "cell_type": "code",
   "execution_count": 13,
   "metadata": {},
   "outputs": [],
   "source": [
    "#definerer variabler\n",
    "r = 7\n",
    "m = 5\n",
    "n_max = 2*r-1\n",
    "\n",
    "d = 20\n",
    "k = 10\n",
    "p = 25\n",
    "L = 2\n",
    "\n",
    "embed = EmbedPosition(n_max,m,d)\n",
    "att1 = Attention(d,k)\n",
    "att2 = Attention(d,k)\n",
    "\n",
    "ff1 = FeedForward(d,p)\n",
    "ff2 = FeedForward(d,p)\n",
    "\n",
    "un_embed = LinearLayer(d,m)\n",
    "softmax = Softmax()\n",
    "loss = CrossEntropy()\n",
    "\n",
    "nn = NeuralNetwork([embed, att1, ff1, att2, ff2, un_embed, softmax])\n",
    "\n",
    "data = get_train_test_sorting(r, m, samples_per_batch=250,n_batches_train=10, n_batches_test=4)\n",
    "\n",
    "x_train = data['x_train']\n",
    "y_train = data['y_train']\n",
    "x_test = data['x_test']\n",
    "y_test = data['y_test']\n"
   ]
  },
  {
   "cell_type": "code",
   "execution_count": 14,
   "metadata": {},
   "outputs": [
    {
     "name": "stdout",
     "output_type": "stream",
     "text": [
      "Iterasjon  1  L =  1.595808885842096 \n",
      "Iterasjon  2  L =  1.5635688932843936 \n",
      "Iterasjon  3  L =  1.5195109693550777 \n",
      "Iterasjon  4  L =  1.4490705420135455 \n",
      "Iterasjon  5  L =  1.3283215175724616 \n",
      "Iterasjon  6  L =  1.1578145296941778 \n",
      "Iterasjon  7  L =  1.0231066633663413 \n",
      "Iterasjon  8  L =  0.9199094465058171 \n",
      "Iterasjon  9  L =  0.8250542191182555 \n",
      "Iterasjon  10  L =  0.748230572522712 \n",
      "Iterasjon  11  L =  0.7047352852103518 \n",
      "Iterasjon  12  L =  0.7208426802288588 \n",
      "Iterasjon  13  L =  0.7205504007323589 \n",
      "Iterasjon  14  L =  0.6997279413259563 \n",
      "Iterasjon  15  L =  0.6657280712287446 \n",
      "Iterasjon  16  L =  0.6353947364966006 \n",
      "Iterasjon  17  L =  0.6165764911140947 \n",
      "Iterasjon  18  L =  0.5949973433603444 \n",
      "Iterasjon  19  L =  0.5776420351585589 \n",
      "Iterasjon  20  L =  0.5620593012178888 \n",
      "Iterasjon  21  L =  0.5498537572252121 \n",
      "Iterasjon  22  L =  0.5351763055375555 \n",
      "Iterasjon  23  L =  0.5234287341652755 \n",
      "Iterasjon  24  L =  0.5071668988718245 \n",
      "Iterasjon  25  L =  0.5027318325794444 \n",
      "Iterasjon  26  L =  0.4997134547117522 \n",
      "Iterasjon  27  L =  0.49438021153672695 \n",
      "Iterasjon  28  L =  0.4910142658924374 \n",
      "Iterasjon  29  L =  0.47243768579219153 \n",
      "Iterasjon  30  L =  0.45292953930701507 \n",
      "Iterasjon  31  L =  0.43445774948261057 \n",
      "Iterasjon  32  L =  0.41784446905105066 \n",
      "Iterasjon  33  L =  0.4083894059091029 \n",
      "Iterasjon  34  L =  0.4255975787977862 \n",
      "Iterasjon  35  L =  0.4547896477707674 \n",
      "Iterasjon  36  L =  0.4578772697027528 \n",
      "Iterasjon  37  L =  0.4497944474082168 \n",
      "Iterasjon  38  L =  0.43335075514535343 \n",
      "Iterasjon  39  L =  0.412550286479361 \n",
      "Iterasjon  40  L =  0.3868119112558215 \n",
      "Iterasjon  41  L =  0.3749515399496622 \n",
      "Iterasjon  42  L =  0.35578695605725447 \n",
      "Iterasjon  43  L =  0.34646413944451165 \n",
      "Iterasjon  44  L =  0.3321791708557683 \n",
      "Iterasjon  45  L =  0.32613887564713145 \n",
      "Iterasjon  46  L =  0.3173974061911055 \n",
      "Iterasjon  47  L =  0.3156325336092448 \n",
      "Iterasjon  48  L =  0.3068660345890058 \n",
      "Iterasjon  49  L =  0.3100369114010342 \n",
      "Iterasjon  50  L =  0.3135588911585282 \n",
      "Iterasjon  51  L =  0.32555569740603146 \n",
      "Iterasjon  52  L =  0.332046804108359 \n",
      "Iterasjon  53  L =  0.32389674128901635 \n",
      "Iterasjon  54  L =  0.3176812367010424 \n",
      "Iterasjon  55  L =  0.29764600563105315 \n",
      "Iterasjon  56  L =  0.28122275551027054 \n",
      "Iterasjon  57  L =  0.2621413921241564 \n",
      "Iterasjon  58  L =  0.2504747209760759 \n",
      "Iterasjon  59  L =  0.239101777124894 \n",
      "Iterasjon  60  L =  0.23545232681196784 \n",
      "Iterasjon  61  L =  0.2286188339286034 \n",
      "Iterasjon  62  L =  0.23153774595712764 \n",
      "Iterasjon  63  L =  0.23204593412777222 \n",
      "Iterasjon  64  L =  0.23229042894160204 \n",
      "Iterasjon  65  L =  0.24237324614171402 \n",
      "Iterasjon  66  L =  0.24542496466707303 \n",
      "Iterasjon  67  L =  0.2572386088106918 \n",
      "Iterasjon  68  L =  0.24404677144265047 \n",
      "Iterasjon  69  L =  0.24754839676493307 \n",
      "Iterasjon  70  L =  0.23917763733197733 \n",
      "Iterasjon  71  L =  0.24405196457159956 \n",
      "Iterasjon  72  L =  0.23940074104094258 \n",
      "Iterasjon  73  L =  0.23808073085012382 \n",
      "Iterasjon  74  L =  0.23189744579177884 \n",
      "Iterasjon  75  L =  0.22313968308414975 \n",
      "Iterasjon  76  L =  0.20994517204328927 \n",
      "Iterasjon  77  L =  0.20482964188021824 \n",
      "Iterasjon  78  L =  0.193142339379675 \n",
      "Iterasjon  79  L =  0.18817003937883114 \n",
      "Iterasjon  80  L =  0.17561174302610688 \n",
      "Iterasjon  81  L =  0.17039343512397845 \n",
      "Iterasjon  82  L =  0.15987605591836157 \n",
      "Iterasjon  83  L =  0.1566141474984058 \n",
      "Iterasjon  84  L =  0.14888615530357993 \n",
      "Iterasjon  85  L =  0.14781963850924998 \n",
      "Iterasjon  86  L =  0.14293259973332875 \n",
      "Iterasjon  87  L =  0.1447139008275446 \n",
      "Iterasjon  88  L =  0.1453396304266214 \n",
      "Iterasjon  89  L =  0.14947133338356128 \n",
      "Iterasjon  90  L =  0.15487594168246333 \n",
      "Iterasjon  91  L =  0.15133838305406808 \n",
      "Iterasjon  92  L =  0.1508026666938888 \n",
      "Iterasjon  93  L =  0.13637307776853413 \n",
      "Iterasjon  94  L =  0.12692945522057256 \n",
      "Iterasjon  95  L =  0.11289056329912014 \n",
      "Iterasjon  96  L =  0.10557353284402912 \n",
      "Iterasjon  97  L =  0.10061176517887283 \n",
      "Iterasjon  98  L =  0.09340644062443787 \n",
      "Iterasjon  99  L =  0.08714793889100626 \n",
      "Iterasjon  100  L =  0.08106149790758206 \n",
      "Iterasjon  101  L =  0.07914389056790432 \n",
      "Iterasjon  102  L =  0.0799985001614885 \n",
      "Iterasjon  103  L =  0.0819785998598149 \n",
      "Iterasjon  104  L =  0.08467046709510562 \n",
      "Iterasjon  105  L =  0.09099995989583902 \n",
      "Iterasjon  106  L =  0.09511669978872 \n",
      "Iterasjon  107  L =  0.1063831140468374 \n",
      "Iterasjon  108  L =  0.12576036415265396 \n",
      "Iterasjon  109  L =  0.23846036474242444 \n",
      "Iterasjon  110  L =  0.35809654069386426 \n",
      "Iterasjon  111  L =  0.42530325205388114 \n",
      "Iterasjon  112  L =  0.35527580377986034 \n",
      "Iterasjon  113  L =  0.2943340854482589 \n",
      "Iterasjon  114  L =  0.20097518597926217 \n",
      "Iterasjon  115  L =  0.1764545826819385 \n",
      "Iterasjon  116  L =  0.1440065249603245 \n",
      "Iterasjon  117  L =  0.10431465966689293 \n",
      "Iterasjon  118  L =  0.08345104428655639 \n",
      "Iterasjon  119  L =  0.07150146280923511 \n",
      "Iterasjon  120  L =  0.05997198690906351 \n",
      "Iterasjon  121  L =  0.05318509291884197 \n",
      "Iterasjon  122  L =  0.04757469736618606 \n",
      "Iterasjon  123  L =  0.04187201754299012 \n",
      "Iterasjon  124  L =  0.03858295218547962 \n",
      "Iterasjon  125  L =  0.03550293676509588 \n",
      "Iterasjon  126  L =  0.033026161563093646 \n",
      "Iterasjon  127  L =  0.030594130551266068 \n",
      "Iterasjon  128  L =  0.028882393198601454 \n",
      "Iterasjon  129  L =  0.02695584865730267 \n",
      "Iterasjon  130  L =  0.025609855191810603 \n",
      "Iterasjon  131  L =  0.024206187991893068 \n",
      "Iterasjon  132  L =  0.022966091145254462 \n",
      "Iterasjon  133  L =  0.021943741974600698 \n",
      "Iterasjon  134  L =  0.020824007107808563 \n",
      "Iterasjon  135  L =  0.02002164077377052 \n",
      "Iterasjon  136  L =  0.019051819451955436 \n",
      "Iterasjon  137  L =  0.018354617955546236 \n",
      "Iterasjon  138  L =  0.017557799487110178 \n",
      "Iterasjon  139  L =  0.01691764485788578 \n",
      "Iterasjon  140  L =  0.016268693302096328 \n",
      "Iterasjon  141  L =  0.01567970991828837 \n",
      "Iterasjon  142  L =  0.015143736663880178 \n",
      "Iterasjon  143  L =  0.014603207693025613 \n",
      "Iterasjon  144  L =  0.01414967328300414 \n",
      "Iterasjon  145  L =  0.013650580202248977 \n",
      "Iterasjon  146  L =  0.013252630221567922 \n",
      "Iterasjon  147  L =  0.01280433697838346 \n",
      "Iterasjon  148  L =  0.012434768107881407 \n",
      "Iterasjon  149  L =  0.012047769157913984 \n",
      "Iterasjon  150  L =  0.011693647650934292 \n",
      "Iterasjon  151  L =  0.011360205090546697 \n",
      "Iterasjon  152  L =  0.011024711406449426 \n",
      "Iterasjon  153  L =  0.010728985204623306 \n",
      "Iterasjon  154  L =  0.01042075910233321 \n",
      "Iterasjon  155  L =  0.010147887571896556 \n",
      "Iterasjon  156  L =  0.009870477665347882 \n",
      "Iterasjon  157  L =  0.009613427617296317 \n",
      "Iterasjon  158  L =  0.009363007944720711 \n",
      "Iterasjon  159  L =  0.009120160419859209 \n",
      "Iterasjon  160  L =  0.008891506957821779 \n",
      "Iterasjon  161  L =  0.008664766144813697 \n",
      "Iterasjon  162  L =  0.008457497296914985 \n",
      "Iterasjon  163  L =  0.008245049543896904 \n",
      "Iterasjon  164  L =  0.00805179689227579 \n",
      "Iterasjon  165  L =  0.007856543918181757 \n",
      "Iterasjon  166  L =  0.007673584485774908 \n",
      "Iterasjon  167  L =  0.007495703322004742 \n",
      "Iterasjon  168  L =  0.007322361035093839 \n",
      "Iterasjon  169  L =  0.007157615718369766 \n",
      "Iterasjon  170  L =  0.0069934527454038565 \n",
      "Iterasjon  171  L =  0.006839188274103636 \n",
      "Iterasjon  172  L =  0.006687167616815581 \n",
      "Iterasjon  173  L =  0.006542548877443528 \n",
      "Iterasjon  174  L =  0.006401858954479624 \n",
      "Iterasjon  175  L =  0.006266173506357551 \n",
      "Iterasjon  176  L =  0.006135074062246264 \n",
      "Iterasjon  177  L =  0.006007975443388819 \n",
      "Iterasjon  178  L =  0.005885846316039262 \n",
      "Iterasjon  179  L =  0.005766760397013854 \n",
      "Iterasjon  180  L =  0.005652054686520569 \n",
      "Iterasjon  181  L =  0.005540554649296608 \n",
      "Iterasjon  182  L =  0.005431533751875833 \n",
      "Iterasjon  183  L =  0.005326070179307226 \n",
      "Iterasjon  184  L =  0.005223408368241687 \n",
      "Iterasjon  185  L =  0.005123434229495026 \n",
      "Iterasjon  186  L =  0.005028888046540013 \n",
      "Iterasjon  187  L =  0.00493148523501567 \n",
      "Iterasjon  188  L =  0.0048370401418867965 \n",
      "Iterasjon  189  L =  0.004745145784578046 \n",
      "Iterasjon  190  L =  0.004655001021944391 \n",
      "Iterasjon  191  L =  0.004567579557349717 \n",
      "Iterasjon  192  L =  0.004481783656120854 \n",
      "Iterasjon  193  L =  0.004398691745282207 \n",
      "Iterasjon  194  L =  0.004317389411647697 \n",
      "Iterasjon  195  L =  0.004238810921979901 \n",
      "Iterasjon  196  L =  0.004161511212656992 \n",
      "Iterasjon  197  L =  0.00408649606686458 \n",
      "Iterasjon  198  L =  0.004014048196517683 \n",
      "Iterasjon  199  L =  0.0039432713363017026 \n",
      "Iterasjon  200  L =  0.0038746285735913625 \n",
      "Iterasjon  201  L =  0.0038078450884821446 \n",
      "Iterasjon  202  L =  0.0037429790166464876 \n",
      "Iterasjon  203  L =  0.003679984599456198 \n",
      "Iterasjon  204  L =  0.0036184827914050497 \n",
      "Iterasjon  205  L =  0.003558934225274215 \n",
      "Iterasjon  206  L =  0.003500835450913666 \n",
      "Iterasjon  207  L =  0.003444357898028401 \n",
      "Iterasjon  208  L =  0.003389323351585661 \n",
      "Iterasjon  209  L =  0.00333587316373206 \n",
      "Iterasjon  210  L =  0.003284245626211568 \n",
      "Iterasjon  211  L =  0.0032336536752205327 \n",
      "Iterasjon  212  L =  0.003184313371758516 \n",
      "Iterasjon  213  L =  0.0031366917126295 \n",
      "Iterasjon  214  L =  0.0030897584096307674 \n",
      "Iterasjon  215  L =  0.0030444522052299446 \n",
      "Iterasjon  216  L =  0.0030000583762121785 \n",
      "Iterasjon  217  L =  0.0029570634534756253 \n",
      "Iterasjon  218  L =  0.0029145894488784136 \n",
      "Iterasjon  219  L =  0.0028729340191372514 \n",
      "Iterasjon  220  L =  0.002832438955535065 \n",
      "Iterasjon  221  L =  0.0027929648539831843 \n",
      "Iterasjon  222  L =  0.002754621327206307 \n",
      "Iterasjon  223  L =  0.0027167539944073864 \n",
      "Iterasjon  224  L =  0.0026800005080513363 \n",
      "Iterasjon  225  L =  0.0026441857067856485 \n",
      "Iterasjon  226  L =  0.002608661822321808 \n",
      "Iterasjon  227  L =  0.0025744062398471955 \n",
      "Iterasjon  228  L =  0.0025408641376422256 \n",
      "Iterasjon  229  L =  0.0025079118239734457 \n",
      "Iterasjon  230  L =  0.002475559045308833 \n",
      "Iterasjon  231  L =  0.0024437625234182553 \n",
      "Iterasjon  232  L =  0.002412487276949638 \n",
      "Iterasjon  233  L =  0.0023815692393875923 \n",
      "Iterasjon  234  L =  0.002351474974989988 \n",
      "Iterasjon  235  L =  0.002321258171175095 \n",
      "Iterasjon  236  L =  0.00229163505233319 \n",
      "Iterasjon  237  L =  0.0022622578369281094 \n",
      "Iterasjon  238  L =  0.0022330032416369794 \n",
      "Iterasjon  239  L =  0.0022041275591148184 \n",
      "Iterasjon  240  L =  0.0021749908566402877 \n",
      "Iterasjon  241  L =  0.002146062312924745 \n",
      "Iterasjon  242  L =  0.002116900561044617 \n",
      "Iterasjon  243  L =  0.0020875543960520446 \n",
      "Iterasjon  244  L =  0.0020581276259710292 \n",
      "Iterasjon  245  L =  0.002028288289025654 \n",
      "Iterasjon  246  L =  0.001999127101825037 \n",
      "Iterasjon  247  L =  0.001969241646249922 \n",
      "Iterasjon  248  L =  0.001939858556354103 \n",
      "Iterasjon  249  L =  0.001909442665756238 \n",
      "Iterasjon  250  L =  0.0018818536768892692 \n",
      "Iterasjon  251  L =  0.0018522115991178446 \n",
      "Iterasjon  252  L =  0.0018250975586136028 \n",
      "Iterasjon  253  L =  0.001794600820768959 \n",
      "Iterasjon  254  L =  0.0017690198693812945 \n",
      "Iterasjon  255  L =  0.0017385698274811237 \n",
      "Iterasjon  256  L =  0.001713689861141505 \n",
      "Iterasjon  257  L =  0.0016821685528547498 \n",
      "Iterasjon  258  L =  0.0016599775056136458 \n",
      "Iterasjon  259  L =  0.0016293019944147713 \n",
      "Iterasjon  260  L =  0.0016091811411170596 \n",
      "Iterasjon  261  L =  0.0015768742060054707 \n",
      "Iterasjon  262  L =  0.0015597462357943579 \n",
      "Iterasjon  263  L =  0.0015288613143849981 \n",
      "Iterasjon  264  L =  0.0015140793917476217 \n",
      "Iterasjon  265  L =  0.001480854633728401 \n",
      "Iterasjon  266  L =  0.0014661120052879115 \n",
      "Iterasjon  267  L =  0.0014278452367567124 \n",
      "Iterasjon  268  L =  0.0014108195346752394 \n",
      "Iterasjon  269  L =  0.0013761319000008918 \n",
      "Iterasjon  270  L =  0.001359797597613016 \n",
      "Iterasjon  271  L =  0.0013250277555001777 \n",
      "Iterasjon  272  L =  0.0013095198515748654 \n",
      "Iterasjon  273  L =  0.0012773230985897869 \n",
      "Iterasjon  274  L =  0.0012620650829076492 \n",
      "Iterasjon  275  L =  0.0012340130625460083 \n",
      "Iterasjon  276  L =  0.0012174037179927557 \n",
      "Iterasjon  277  L =  0.0011904864364996816 \n",
      "Iterasjon  278  L =  0.0011713494330083854 \n",
      "Iterasjon  279  L =  0.0011484916679863645 \n",
      "Iterasjon  280  L =  0.0011289317356173681 \n",
      "Iterasjon  281  L =  0.001109057212991431 \n",
      "Iterasjon  282  L =  0.0010895979763992803 \n",
      "Iterasjon  283  L =  0.0010710531905933325 \n",
      "Iterasjon  284  L =  0.001048889139690214 \n",
      "Iterasjon  285  L =  0.0010278201322193514 \n",
      "Iterasjon  286  L =  0.0010082307039333226 \n",
      "Iterasjon  287  L =  0.0009897472068058012 \n",
      "Iterasjon  288  L =  0.0009719651697938165 \n",
      "Iterasjon  289  L =  0.0009541578662685155 \n",
      "Iterasjon  290  L =  0.0009376070522786062 \n",
      "Iterasjon  291  L =  0.0009206732639362638 \n",
      "Iterasjon  292  L =  0.000904926674331595 \n",
      "Iterasjon  293  L =  0.0008888032376926841 \n",
      "Iterasjon  294  L =  0.0008736112221691472 \n",
      "Iterasjon  295  L =  0.0008582917162244655 \n",
      "Iterasjon  296  L =  0.0008435037196838316 \n",
      "Iterasjon  297  L =  0.0008288879032311177 \n",
      "Iterasjon  298  L =  0.0008144392808957079 \n",
      "Iterasjon  299  L =  0.0008003434516665627 \n",
      "Iterasjon  300  L =  0.0007863035204370636 \n"
     ]
    }
   ],
   "source": [
    "losses = test_Adam(nn, data['x_train'], data['y_train'], 300, 0.001, m, 6, 13)"
   ]
  },
  {
   "cell_type": "code",
   "execution_count": 15,
   "metadata": {},
   "outputs": [
    {
     "data": {
      "image/png": "[encoded data removed]",
      "text/plain": [
       "<Figure size 432x288 with 1 Axes>"
      ]
     },
     "metadata": {
      "needs_background": "light"
     },
     "output_type": "display_data"
    }
   ],
   "source": [
    "#Plotter loss-funksjonen per itterasjon\n",
    "plt.plot(np.arange(0,300), np.log(losses))\n",
    "plt.xlabel(\"Iterasjonnummer\")\n",
    "plt.ylabel(\"Logaritmen av loss-funksjon\")\n",
    "plt.title(\"Minimering ved antall iterasjoner\")\n",
    "plt.show()"
   ]
  },
  {
   "cell_type": "code",
   "execution_count": 16,
   "metadata": {},
   "outputs": [
    {
     "name": "stdout",
     "output_type": "stream",
     "text": [
      "Antall rette prediksjoner: 1000\n",
      "Totalt antall prediksjoner: 1000\n",
      "Prosentvis riktige predikasjoner: 100.0 %\n"
     ]
    }
   ],
   "source": [
    "#Henter prediksjonsfunksjonen\n",
    "y_hats = nn.predict(x_test, 5, 7)\n",
    "\n",
    "corr, total, percent = countCorrect(y_hats, y_test)\n",
    "#Printer andel riktige prediksjoner\n",
    "print(\"Antall rette prediksjoner:\", corr)\n",
    "print(\"Totalt antall prediksjoner:\", total)\n",
    "print(\"Prosentvis riktige predikasjoner:\", percent, \"%\")\n"
   ]
  },
  {
   "cell_type": "code",
   "execution_count": 17,
   "metadata": {},
   "outputs": [],
   "source": [
    "from data_generators import get_train_test_addition\n",
    "#definerer variabler\n",
    "r = 4\n",
    "m = 10\n",
    "n_max = 3*r\n",
    "\n",
    "d = 30\n",
    "k = 20\n",
    "p = 40\n",
    "L = 3\n",
    "\n",
    "#Lager 3 lag til nn\n",
    "att1 = Attention(d,k)\n",
    "att2 = Attention(d,k)\n",
    "att3 = Attention(d,k)\n",
    "\n",
    "ff1 = FeedForward(d,p)\n",
    "ff2 = FeedForward(d,p)\n",
    "ff3 = FeedForward(d,p)\n",
    "\n",
    "embed = EmbedPosition(n_max,m,d)\n",
    "un_embed = LinearLayer(d,m)\n",
    "softmax = Softmax()\n",
    "loss = CrossEntropy()\n",
    "\n",
    "#Lager det nevrale nettverket på nytt\n",
    "nn = NeuralNetwork([embed, att1, ff1, att2, ff2, att3, ff3, un_embed, softmax])\n",
    "#implementerer trenignsdata. 2 siffer i tallene vi adderer, 20 batches med 250 samples per batch, og 4 batches vi kan teste med\n",
    "data = get_train_test_addition(2, samples_per_batch=250,n_batches_train=20, n_batches_test=4)\n",
    "#Henter ut data\n",
    "x_train = data['x_train']\n",
    "y_train = data['y_train']\n",
    "x_test = data['x_test']\n",
    "y_test = data['y_test']"
   ]
  },
  {
   "cell_type": "code",
   "execution_count": 18,
   "metadata": {},
   "outputs": [
    {
     "name": "stdout",
     "output_type": "stream",
     "text": [
      "Iterasjon  1  L =  2.1977935045333856 \n",
      "Iterasjon  2  L =  1.9276659253749053 \n",
      "Iterasjon  3  L =  1.7596196578669883 \n",
      "Iterasjon  4  L =  1.7091247936560912 \n",
      "Iterasjon  5  L =  1.6925736695718872 \n",
      "Iterasjon  6  L =  1.5955980897473365 \n",
      "Iterasjon  7  L =  1.5465762320113727 \n",
      "Iterasjon  8  L =  1.5335210816980611 \n",
      "Iterasjon  9  L =  1.5241279348181285 \n",
      "Iterasjon  10  L =  1.5104677334547223 \n",
      "Iterasjon  11  L =  1.4864256681024923 \n",
      "Iterasjon  12  L =  1.4552803827510412 \n",
      "Iterasjon  13  L =  1.4097404087933687 \n",
      "Iterasjon  14  L =  1.359358795836389 \n",
      "Iterasjon  15  L =  1.3170914225713406 \n",
      "Iterasjon  16  L =  1.2563795616776219 \n",
      "Iterasjon  17  L =  1.203137187384929 \n",
      "Iterasjon  18  L =  1.1394101797158105 \n",
      "Iterasjon  19  L =  1.0929552116805938 \n",
      "Iterasjon  20  L =  1.0695853355300016 \n",
      "Iterasjon  21  L =  1.0699996258464244 \n",
      "Iterasjon  22  L =  1.050333975857757 \n",
      "Iterasjon  23  L =  1.0053105746737931 \n",
      "Iterasjon  24  L =  0.964571371364428 \n",
      "Iterasjon  25  L =  0.9408673667475277 \n",
      "Iterasjon  26  L =  0.9356626445106796 \n",
      "Iterasjon  27  L =  0.9636500254163873 \n",
      "Iterasjon  28  L =  0.9519476376310575 \n",
      "Iterasjon  29  L =  0.943698188034055 \n",
      "Iterasjon  30  L =  0.9180497371113926 \n",
      "Iterasjon  31  L =  0.8730997066965316 \n",
      "Iterasjon  32  L =  0.8359840255614003 \n",
      "Iterasjon  33  L =  0.8139178201560385 \n",
      "Iterasjon  34  L =  0.7949789683231042 \n",
      "Iterasjon  35  L =  0.778958769953616 \n",
      "Iterasjon  36  L =  0.7690295931085864 \n",
      "Iterasjon  37  L =  0.7541953485940129 \n",
      "Iterasjon  38  L =  0.7139918773369037 \n",
      "Iterasjon  39  L =  0.7057486026253684 \n",
      "Iterasjon  40  L =  0.6479627186316234 \n",
      "Iterasjon  41  L =  0.7132084598492311 \n",
      "Iterasjon  42  L =  0.8316295542562873 \n",
      "Iterasjon  43  L =  0.6796737876589583 \n",
      "Iterasjon  44  L =  0.49023069612576675 \n",
      "Iterasjon  45  L =  0.43041553558935197 \n",
      "Iterasjon  46  L =  0.48131446111777415 \n",
      "Iterasjon  47  L =  0.4228528235883603 \n",
      "Iterasjon  48  L =  0.4538976574778279 \n",
      "Iterasjon  49  L =  0.5577334998939274 \n",
      "Iterasjon  50  L =  0.5244870226080673 \n",
      "Iterasjon  51  L =  0.4275307313155177 \n",
      "Iterasjon  52  L =  0.3370253744338238 \n",
      "Iterasjon  53  L =  0.27351611367252365 \n",
      "Iterasjon  54  L =  0.24377646736854564 \n",
      "Iterasjon  55  L =  0.2301928335025024 \n",
      "Iterasjon  56  L =  0.22996670364854538 \n",
      "Iterasjon  57  L =  0.2256442349063333 \n",
      "Iterasjon  58  L =  0.22577968861005884 \n",
      "Iterasjon  59  L =  0.238214066234362 \n",
      "Iterasjon  60  L =  0.2515545922272249 \n",
      "Iterasjon  61  L =  0.2585471551161583 \n",
      "Iterasjon  62  L =  0.25169121805279865 \n",
      "Iterasjon  63  L =  0.2304246455338494 \n",
      "Iterasjon  64  L =  0.218196468305546 \n",
      "Iterasjon  65  L =  0.19353922799896517 \n",
      "Iterasjon  66  L =  0.18410375638496262 \n",
      "Iterasjon  67  L =  0.17536361703555334 \n",
      "Iterasjon  68  L =  0.17314068209678063 \n",
      "Iterasjon  69  L =  0.18770510348536357 \n",
      "Iterasjon  70  L =  0.1883981849902716 \n",
      "Iterasjon  71  L =  0.17700744563125928 \n",
      "Iterasjon  72  L =  0.16925035101802413 \n",
      "Iterasjon  73  L =  0.16868414859139436 \n",
      "Iterasjon  74  L =  0.16560269414437212 \n",
      "Iterasjon  75  L =  0.16202945275120678 \n",
      "Iterasjon  76  L =  0.16653084077167749 \n",
      "Iterasjon  77  L =  0.17709201744843434 \n",
      "Iterasjon  78  L =  0.17270311213976014 \n",
      "Iterasjon  79  L =  0.18859360729977656 \n",
      "Iterasjon  80  L =  0.21782638311252217 \n",
      "Iterasjon  81  L =  0.1821286691820235 \n",
      "Iterasjon  82  L =  0.24192237528466504 \n",
      "Iterasjon  83  L =  0.394923215221035 \n",
      "Iterasjon  84  L =  0.3570321106718571 \n",
      "Iterasjon  85  L =  0.2399238689534598 \n",
      "Iterasjon  86  L =  0.1864957533687548 \n",
      "Iterasjon  87  L =  0.1769363069005441 \n",
      "Iterasjon  88  L =  0.15564807491834376 \n",
      "Iterasjon  89  L =  0.11989617380570525 \n",
      "Iterasjon  90  L =  0.10536276716637771 \n",
      "Iterasjon  91  L =  0.09877267456019859 \n",
      "Iterasjon  92  L =  0.09457519502580915 \n",
      "Iterasjon  93  L =  0.09113757572955984 \n",
      "Iterasjon  94  L =  0.09192190180017258 \n",
      "Iterasjon  95  L =  0.09827492792273616 \n",
      "Iterasjon  96  L =  0.11049866211937327 \n",
      "Iterasjon  97  L =  0.1127999830903679 \n",
      "Iterasjon  98  L =  0.11447824410979165 \n",
      "Iterasjon  99  L =  0.12175185901528222 \n",
      "Iterasjon  100  L =  0.12772797205309688 \n",
      "Iterasjon  101  L =  0.1154404989093601 \n",
      "Iterasjon  102  L =  0.09994744680539339 \n",
      "Iterasjon  103  L =  0.09539535689563503 \n",
      "Iterasjon  104  L =  0.10280785670721833 \n",
      "Iterasjon  105  L =  0.1092195975463323 \n",
      "Iterasjon  106  L =  0.1019412234418666 \n",
      "Iterasjon  107  L =  0.08188574087550894 \n",
      "Iterasjon  108  L =  0.07241906550617895 \n",
      "Iterasjon  109  L =  0.06056355590175231 \n",
      "Iterasjon  110  L =  0.053948421449234826 \n",
      "Iterasjon  111  L =  0.053492921849050946 \n",
      "Iterasjon  112  L =  0.05175001417858317 \n",
      "Iterasjon  113  L =  0.046520055708549224 \n",
      "Iterasjon  114  L =  0.042450613738418505 \n",
      "Iterasjon  115  L =  0.04093696408679034 \n",
      "Iterasjon  116  L =  0.04129093994280651 \n",
      "Iterasjon  117  L =  0.04144635653951949 \n",
      "Iterasjon  118  L =  0.04160552988082147 \n",
      "Iterasjon  119  L =  0.0434898499620565 \n",
      "Iterasjon  120  L =  0.03980191152884225 \n",
      "Iterasjon  121  L =  0.04311877772980178 \n",
      "Iterasjon  122  L =  0.047302358074112205 \n",
      "Iterasjon  123  L =  0.05185161820790353 \n",
      "Iterasjon  124  L =  0.06223761758040023 \n",
      "Iterasjon  125  L =  0.11426569746365045 \n",
      "Iterasjon  126  L =  0.32646855678691306 \n",
      "Iterasjon  127  L =  0.8039253577080633 \n",
      "Iterasjon  128  L =  0.6123576648511089 \n",
      "Iterasjon  129  L =  0.40011197963176237 \n",
      "Iterasjon  130  L =  0.27059833458507343 \n",
      "Iterasjon  131  L =  0.18979125419312007 \n",
      "Iterasjon  132  L =  0.13643829408913452 \n",
      "Iterasjon  133  L =  0.09282294368872399 \n",
      "Iterasjon  134  L =  0.06853310842607006 \n",
      "Iterasjon  135  L =  0.060908757832511776 \n",
      "Iterasjon  136  L =  0.05187558437315191 \n",
      "Iterasjon  137  L =  0.04453933074436394 \n",
      "Iterasjon  138  L =  0.03915368701224109 \n",
      "Iterasjon  139  L =  0.03451908857679164 \n",
      "Iterasjon  140  L =  0.03132588880350291 \n",
      "Iterasjon  141  L =  0.029690261970397765 \n",
      "Iterasjon  142  L =  0.02908267441734766 \n",
      "Iterasjon  143  L =  0.029162687519678227 \n",
      "Iterasjon  144  L =  0.03017707001917781 \n",
      "Iterasjon  145  L =  0.03238154769525204 \n",
      "Iterasjon  146  L =  0.03536960152080133 \n",
      "Iterasjon  147  L =  0.03745175855956558 \n",
      "Iterasjon  148  L =  0.036753635507228044 \n",
      "Iterasjon  149  L =  0.03371522659239587 \n",
      "Iterasjon  150  L =  0.031593164826704906 \n"
     ]
    }
   ],
   "source": [
    "#Beregner og skriver ut loss for hver itterasjon\n",
    "losses = test_Adam(nn, data['x_train'], data['y_train'], 150, 0.001, m, 3, 6)"
   ]
  },
  {
   "cell_type": "markdown",
   "metadata": {},
   "source": [
    "Plotter $\\mathcal{L}^{i}$ for $i = 0,\\dots , n_{iter} − 1$ med logaritmisk skala på y-aksen.\n"
   ]
  },
  {
   "cell_type": "code",
   "execution_count": 19,
   "metadata": {},
   "outputs": [
    {
     "data": {
      "image/png": "[encoded data removed]",
      "text/plain": [
       "<Figure size 432x288 with 1 Axes>"
      ]
     },
     "metadata": {
      "needs_background": "light"
     },
     "output_type": "display_data"
    }
   ],
   "source": [
    "#Plotter loss-funksjonen per itterasjon i en logaritmisk skala\n",
    "plt.plot(np.arange(0,150), np.log(losses))\n",
    "plt.xlabel(\"Iterasjonnummer\")\n",
    "plt.ylabel(\"Logaritmen av loss-funksjon\")\n",
    "plt.title(\"Minimering ved antall iterasjoner\")\n",
    "plt.show()"
   ]
  },
  {
   "cell_type": "markdown",
   "metadata": {},
   "source": [
    "Som vi ser fra figuren minimerer vi objektfunksjonen ved flere itterasjoner. "
   ]
  },
  {
   "cell_type": "code",
   "execution_count": 20,
   "metadata": {},
   "outputs": [],
   "source": [
    "def countCorrect(y_hat, y):\n",
    "    batches = y_hat.shape[0]\n",
    "    samples = y_hat[0].shape[0]\n",
    "\n",
    "    counter = 0\n",
    "    total = samples*batches\n",
    "    #Ittererer gjennom prediksjoner og forventede svar og teller antall rette prediksjoner\n",
    "    for b in range(batches):\n",
    "        for i in range(samples):\n",
    "            #Tar ut og sammenlikner koresponderende siffer i prediksjon og treningsdata\n",
    "            if np.sum(y_hat[b,i] - np.flip(y[b,i])) == 0:\n",
    "                counter += 1\n",
    "\n",
    "    return counter, total, (counter/total)*100\n"
   ]
  },
  {
   "cell_type": "code",
   "execution_count": 21,
   "metadata": {},
   "outputs": [
    {
     "name": "stdout",
     "output_type": "stream",
     "text": [
      "Antall rette prediksjoner: 941\n",
      "Totalt antall prediksjoner: 1000\n",
      "Prosentvis riktige predikasjoner: 94.1 %\n"
     ]
    }
   ],
   "source": [
    "#Beregner antall riktige prediksjoner av testdataen opp mot testdataen\n",
    "y_hats = nn.predict(x_test, 10, 3)\n",
    "\n",
    "corr, total, percent = countCorrect(y_hats, y_test)\n",
    "\n",
    "print(\"Antall rette prediksjoner:\", corr)\n",
    "print(\"Totalt antall prediksjoner:\", total)\n",
    "print(\"Prosentvis riktige predikasjoner:\", percent, \"%\")\n"
   ]
  }
 ],
 "metadata": {
  "kernelspec": {
   "display_name": "Python 3",
   "language": "python",
   "name": "python3"
  },
  "language_info": {
   "codemirror_mode": {
    "name": "ipython",
    "version": 3
   },
   "file_extension": ".py",
   "mimetype": "text/x-python",
   "name": "python",
   "nbconvert_exporter": "python",
   "pygments_lexer": "ipython3",
   "version": "3.9.12"
  }
 },
 "nbformat": 4,
 "nbformat_minor": 2
}
