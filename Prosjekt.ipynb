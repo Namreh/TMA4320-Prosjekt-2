{
 "cells": [
  {
   "cell_type": "markdown",
   "metadata": {},
   "source": [
    "# Indmat prosjekt\n",
    "###### Liva Berge Flo, André Pettersen-Dahl, Herman Neple\n",
    "\n",
    "#### Oppgave 1"
   ]
  },
  {
   "cell_type": "markdown",
   "metadata": {},
   "source": [
    "#### Oppgave 3"
   ]
  },
  {
   "cell_type": "markdown",
   "metadata": {},
   "source": [
    "Vi begynner med å importere alle bibliotek vi trenger"
   ]
  },
  {
   "cell_type": "code",
   "execution_count": 1,
   "metadata": {},
   "outputs": [],
   "source": [
    "from layers import *\n",
    "from neural_network import NeuralNetwork\n",
    "from utils import onehot\n",
    "import numpy as np\n",
    "from data_generators import get_train_test_sorting"
   ]
  },
  {
   "cell_type": "code",
   "execution_count": 2,
   "metadata": {},
   "outputs": [
    {
     "name": "stdout",
     "output_type": "stream",
     "text": [
      "Iterasjon 0 L = 0.6764427103811563\n",
      "Iterasjon 1 L = 0.5825923585711106\n",
      "Iterasjon 2 L = 0.4819932305338076\n",
      "Iterasjon 3 L = 0.44701041154600507\n",
      "Iterasjon 4 L = 0.4509062844954621\n",
      "Iterasjon 5 L = 0.42945274709859227\n",
      "Iterasjon 6 L = 0.4152755966693008\n",
      "Iterasjon 7 L = 0.42335742910537916\n",
      "Iterasjon 8 L = 0.4138735340400127\n",
      "Iterasjon 9 L = 0.40409670403037146\n",
      "Iterasjon 10 L = 0.38713951171093114\n",
      "Iterasjon 11 L = 0.3747283439135328\n",
      "Iterasjon 12 L = 0.3654478585527182\n",
      "Iterasjon 13 L = 0.37703705204019516\n",
      "Iterasjon 14 L = 0.3656813260500883\n",
      "Iterasjon 15 L = 0.35880116655015154\n",
      "Iterasjon 16 L = 0.36144752565203764\n",
      "Iterasjon 17 L = 0.35958237944417915\n",
      "Iterasjon 18 L = 0.3350525634741123\n",
      "Iterasjon 19 L = 0.34021374761207185\n",
      "Iterasjon 20 L = 0.3332916156095082\n",
      "Iterasjon 21 L = 0.3107956480733405\n",
      "Iterasjon 22 L = 0.3101593519439032\n",
      "Iterasjon 23 L = 0.31796954449369064\n",
      "Iterasjon 24 L = 0.38054754261735485\n",
      "Iterasjon 25 L = 0.3836759580587365\n",
      "Iterasjon 26 L = 0.37112445748786305\n",
      "Iterasjon 27 L = 0.3524636995937699\n",
      "Iterasjon 28 L = 0.3251203279745977\n",
      "Iterasjon 29 L = 0.3138822458208518\n",
      "Iterasjon 30 L = 0.2914600635306945\n",
      "Iterasjon 31 L = 0.2848194403883517\n",
      "Iterasjon 32 L = 0.2814590919148813\n",
      "Iterasjon 33 L = 0.2793292813295197\n",
      "Iterasjon 34 L = 0.27905860547649486\n",
      "Iterasjon 35 L = 0.2780268808358036\n",
      "Iterasjon 36 L = 0.27798385365580686\n",
      "Iterasjon 37 L = 0.27731298598028437\n",
      "Iterasjon 38 L = 0.27731402501993996\n",
      "Iterasjon 39 L = 0.2770420761114904\n",
      "Iterasjon 40 L = 0.27678545459748766\n",
      "Iterasjon 41 L = 0.27652165434624476\n",
      "Iterasjon 42 L = 0.27625683506108467\n",
      "Iterasjon 43 L = 0.2759956378450835\n",
      "Iterasjon 44 L = 0.2757346451359739\n",
      "Iterasjon 45 L = 0.2763786302582705\n",
      "Iterasjon 46 L = 0.27599371927789956\n",
      "Iterasjon 47 L = 0.27737397364166505\n",
      "Iterasjon 48 L = 0.2767915321639677\n",
      "Iterasjon 49 L = 0.278901126054856\n",
      "\n"
     ]
    }
   ],
   "source": [
    "#definerer variabler\n",
    "r = 5\n",
    "m = 2\n",
    "\n",
    "d = 10\n",
    "k = 5\n",
    "p = 15\n",
    "L = 2\n",
    "\n",
    "embed = EmbedPosition(9,m,d)\n",
    "att1 = Attention(d,k)\n",
    "ff1 = FeedForward(d,p)\n",
    "un_embed = LinearLayer(d,m)\n",
    "softmax = Softmax()\n",
    "loss = CrossEntropy()\n",
    "\n",
    "nn = NeuralNetwork([embed, att1, ff1, un_embed, softmax])\n",
    "\n",
    "data = get_train_test_sorting(r, m, samples_per_batch=250,n_batches_train=10, n_batches_test=4)\n",
    "\n",
    "x_train = data['x_train']\n",
    "y_train = data['y_train']\n",
    "\n",
    "for j in range(50):\n",
    "    losses = []\n",
    "    for i in range(10):\n",
    "        X = onehot(x_train[i], m)\n",
    "        Z = nn.forward(X)\n",
    "\n",
    "        losses.append(loss.forward(Z,y_train[i]))\n",
    "        dLdZ = loss.backward()\n",
    "        nn.backward(dLdZ)\n",
    "        nn.step_Adam()\n",
    "    mean_loss = np.mean(losses)\n",
    "    print(f'Iterasjon {j} L = {mean_loss}')\n",
    "\n",
    "print()"
   ]
  },
  {
   "cell_type": "code",
   "execution_count": 3,
   "metadata": {},
   "outputs": [
    {
     "name": "stdout",
     "output_type": "stream",
     "text": [
      "Iterasjon 0 L = 0.27666469158167284\n",
      "Iterasjon 1 L = 0.27761103543094245\n",
      "Iterasjon 2 L = 0.27589695001252723\n",
      "Iterasjon 3 L = 0.2763400229802328\n",
      "Iterasjon 4 L = 0.2756879304060388\n",
      "Iterasjon 5 L = 0.27691849613581987\n",
      "Iterasjon 6 L = 0.27666469377477165\n",
      "Iterasjon 7 L = 0.27697432174159164\n",
      "Iterasjon 8 L = 0.27545465189005613\n",
      "Iterasjon 9 L = 0.27677295613687\n",
      "Iterasjon 10 L = 0.27472345257378195\n",
      "Iterasjon 11 L = 0.2753485051192104\n",
      "Iterasjon 12 L = 0.2743096119763916\n",
      "Iterasjon 13 L = 0.27495454825971605\n",
      "Iterasjon 14 L = 0.2746010186221402\n",
      "Iterasjon 15 L = 0.27556448079206114\n",
      "Iterasjon 16 L = 0.27821785944984867\n",
      "Iterasjon 17 L = 0.2768633661398169\n",
      "Iterasjon 18 L = 0.27499330299029523\n",
      "Iterasjon 19 L = 0.2758060240576397\n",
      "Iterasjon 20 L = 0.27356927829884853\n",
      "Iterasjon 21 L = 0.27242641294350994\n",
      "Iterasjon 22 L = 0.2715903271452821\n",
      "Iterasjon 23 L = 0.2717643549330026\n",
      "Iterasjon 24 L = 0.2711656762665881\n",
      "Iterasjon 25 L = 0.2711585973436827\n",
      "Iterasjon 26 L = 0.2706154123504656\n",
      "Iterasjon 27 L = 0.2709591464013589\n",
      "Iterasjon 28 L = 0.2707980571181169\n",
      "Iterasjon 29 L = 0.27044539946872476\n",
      "Iterasjon 30 L = 0.2716522944219294\n",
      "Iterasjon 31 L = 0.27144251281460935\n",
      "Iterasjon 32 L = 0.2729456099550746\n",
      "Iterasjon 33 L = 0.27270194697340505\n",
      "Iterasjon 34 L = 0.2749546399804892\n",
      "Iterasjon 35 L = 0.2740348322714442\n",
      "Iterasjon 36 L = 0.2733957236639394\n",
      "Iterasjon 37 L = 0.2771339438256176\n",
      "Iterasjon 38 L = 0.27601059153551466\n",
      "Iterasjon 39 L = 0.2777702882241897\n",
      "Iterasjon 40 L = 0.27825392447355335\n",
      "Iterasjon 41 L = 0.28456018118414395\n",
      "Iterasjon 42 L = 0.357771956121688\n",
      "Iterasjon 43 L = 0.6198861595295158\n",
      "Iterasjon 44 L = 0.6971616120256462\n",
      "Iterasjon 45 L = 0.6210430871260281\n",
      "Iterasjon 46 L = 0.5371846148012107\n",
      "Iterasjon 47 L = 0.4724286416356393\n",
      "Iterasjon 48 L = 0.4223577114409009\n",
      "Iterasjon 49 L = 0.40638188547216\n"
     ]
    }
   ],
   "source": [
    "for j in range(50):\n",
    "    losses = []\n",
    "    for i in range(10):\n",
    "        X = onehot(x_train[i], m)\n",
    "        Z = nn.forward(X)\n",
    "\n",
    "        losses.append(loss.forward(Z,y_train[i]))\n",
    "        dLdZ = loss.backward()\n",
    "        nn.backward(dLdZ)\n",
    "        nn.step_Adam()\n",
    "    mean_loss = np.mean(losses)\n",
    "    print(f'Iterasjon {j} L = {mean_loss}')"
   ]
  },
  {
   "cell_type": "markdown",
   "metadata": {},
   "source": [
    "#### Tester for en itterasjon for å se om den greier å predikere neste verdi"
   ]
  },
  {
   "cell_type": "code",
   "execution_count": 4,
   "metadata": {},
   "outputs": [
    {
     "name": "stdout",
     "output_type": "stream",
     "text": [
      "[[0 0 0 0 0]]\n"
     ]
    }
   ],
   "source": [
    "print(np.argmax(nn.forward(onehot(np.array([[1, 0 ,0, 0, 1]]), m)),axis=1))"
   ]
  },
  {
   "cell_type": "markdown",
   "metadata": {},
   "source": [
    "#### Tester hvor mange riktige prediksjoner vi får"
   ]
  },
  {
   "cell_type": "code",
   "execution_count": 5,
   "metadata": {},
   "outputs": [
    {
     "name": "stdout",
     "output_type": "stream",
     "text": [
      "Antall rette prediksjoner: 169\n",
      "Totalt antall prediksjoner: 250\n"
     ]
    }
   ],
   "source": [
    "x_test = data['x_test']\n",
    "y_test = data['y_test']\n",
    "\n",
    "\n",
    "def predict(nn: NeuralNetwork, xs: dict, r:int, m:int):\n",
    "    \n",
    "    batches = xs.shape[0]\n",
    "    y = np.zeros((xs.shape[0],xs.shape[1],r))\n",
    "    for i in range(batches):\n",
    "        x = xs[i]\n",
    "        for j in range(r):\n",
    "            #print(j)\n",
    "            X = onehot(x,m)\n",
    "            z = nn.forward(X)\n",
    "            Z = np.argmax(z, axis=1)\n",
    "            #print(Z.shape)\n",
    "            #print(x.shape)\n",
    "            toAppend =Z[:,-1:]\n",
    "            x = np.append(x, toAppend, axis=1)\n",
    "        y[i,:,:] = x[:,:-r]\n",
    "    return y\n",
    "\n",
    "\n",
    "\n",
    "y_pred = predict(nn, x_test, r, m)\n",
    "\n",
    "def count_correct_predictions(y_pred, y_test):\n",
    "    correct_predictions = np.count_nonzero(np.count_nonzero(y_pred == y_test, axis=2) == y_pred.shape[-1])\n",
    "    return correct_predictions\n",
    "\n",
    "y_test = data['y_test']\n",
    "correct_predictions = count_correct_predictions(y_pred, y_test)\n",
    "print(\"Antall rette prediksjoner:\", correct_predictions)\n",
    "print(\"Totalt antall prediksjoner:\", y_pred.shape[1])\n"
   ]
  },
  {
   "cell_type": "markdown",
   "metadata": {},
   "source": [
    "Når to forskjellige verdier kan forekomme på fem ulike steder, resulterer dette i totalt $32$ mulige kombinasjoner ($2^5 = 32$). Denne mangfoldigheten gjør det praktisk talt umulig å teste algoritmen vår med nye sekvenser. Ideelt sett ville tapet tendert mot null, og prediksjonene ville vært korrekte hver gang, siden algoritmen burde gjenkjenne det riktige svaret ($y$) i stedet for å forutsi neste sekvens. Dette antyder at vektene våre kanskje ikke er optimalt tilpasset."
   ]
  }
 ],
 "metadata": {
  "kernelspec": {
   "display_name": "Python 3",
   "language": "python",
   "name": "python3"
  },
  "language_info": {
   "codemirror_mode": {
    "name": "ipython",
    "version": 3
   },
   "file_extension": ".py",
   "mimetype": "text/x-python",
   "name": "python",
   "nbconvert_exporter": "python",
   "pygments_lexer": "ipython3",
   "version": "3.9.12"
  }
 },
 "nbformat": 4,
 "nbformat_minor": 2
}
