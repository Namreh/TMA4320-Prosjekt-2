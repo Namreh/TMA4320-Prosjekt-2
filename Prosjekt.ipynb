{
 "cells": [
  {
   "cell_type": "markdown",
   "metadata": {},
   "source": [
    "# Indmat prosjekt\n",
    "###### Liva Berge Flo, André Pettersen-Dahl, Herman Neple\n",
    "\n",
    "#### Oppgave 1"
   ]
  },
  {
   "cell_type": "markdown",
   "metadata": {},
   "source": [
    "#### Oppgave 3\n",
    "\n",
    "3.1"
   ]
  },
  {
   "cell_type": "markdown",
   "metadata": {},
   "source": [
    "Vi begynner med å importere alle bibliotek vi trenger"
   ]
  },
  {
   "cell_type": "code",
   "execution_count": 1,
   "metadata": {},
   "outputs": [],
   "source": [
    "from layers import *\n",
    "from neural_network import NeuralNetwork\n",
    "from utils import onehot\n",
    "import numpy as np\n",
    "from data_generators import get_train_test_sorting"
   ]
  },
  {
   "cell_type": "markdown",
   "metadata": {},
   "source": [
    "For å teste om lagene vi har implementert fungerer, kan vi manuelt kjøre gjennom algoritmen. Vi starter med å initalisere lagene til det nevrale nettverk."
   ]
  },
  {
   "cell_type": "code",
   "execution_count": 2,
   "metadata": {},
   "outputs": [
    {
     "name": "stdout",
     "output_type": "stream",
     "text": [
      "[[[0.9999999  0.50109856 0.33328455 0.25030925]\n",
      "  [0.         0.49890139 0.33381955 0.25030419]\n",
      "  [0.         0.         0.33289587 0.24967843]\n",
      "  [0.         0.         0.         0.24970811]]]\n"
     ]
    }
   ],
   "source": [
    "x = np.array([[0,1,2,3]])\n",
    "X = onehot(x, m)\n",
    "\n",
    "z0 = embed.forward(X)\n",
    "z11 = att1.forward(z0)\n",
    "z12 = ff1.forward(z11)\n",
    "z2 = un_embed.forward(z12)\n",
    "Z = softmax.forward(z2)\n"
   ]
  },
  {
   "cell_type": "markdown",
   "metadata": {},
   "source": [
    "Vi kan da endelig sjekke loss-funksjonens verdi"
   ]
  },
  {
   "cell_type": "code",
   "execution_count": 11,
   "metadata": {},
   "outputs": [
    {
     "name": "stdout",
     "output_type": "stream",
     "text": [
      "Unexpected exception formatting exception. Falling back to standard exception\n"
     ]
    },
    {
     "name": "stderr",
     "output_type": "stream",
     "text": [
      "Traceback (most recent call last):\n",
      "  File \"/Users/hermanneple/Library/Python/3.11/lib/python/site-packages/IPython/core/interactiveshell.py\", line 3442, in run_code\n",
      "    exec(code_obj, self.user_global_ns, self.user_ns)\n",
      "  File \"/var/folders/yf/2n4jp8f93hj5rp6k94wjwj8h0000gn/T/ipykernel_14454/853391953.py\", line 1, in <module>\n",
      "    L = loss.forward(Z, onehot(np.array([[0]]), m))\n",
      "        ^^^^^^^^^^^^^^^^^^^^^^^^^^^^^^^^^^^^^^^^^^^\n",
      "  File \"/Users/hermanneple/Documents/Fag/Vitber/TMA4320-Prosjekt-2/layers.py\", line 197, in forward\n",
      "  File \"/Users/hermanneple/Documents/Fag/Vitber/TMA4320-Prosjekt-2/utils.py\", line 20, in onehot\n",
      "    b,n = x.shape\n",
      "    ^^^\n",
      "ValueError: too many values to unpack (expected 2)\n",
      "\n",
      "During handling of the above exception, another exception occurred:\n",
      "\n",
      "Traceback (most recent call last):\n",
      "  File \"/Users/hermanneple/Library/Python/3.11/lib/python/site-packages/IPython/core/interactiveshell.py\", line 2057, in showtraceback\n",
      "    stb = self.InteractiveTB.structured_traceback(\n",
      "          ^^^^^^^^^^^^^^^^^^^^^^^^^^^^^^^^^^^^^^^^\n",
      "  File \"/Users/hermanneple/Library/Python/3.11/lib/python/site-packages/IPython/core/ultratb.py\", line 1118, in structured_traceback\n",
      "    return FormattedTB.structured_traceback(\n",
      "           ^^^^^^^^^^^^^^^^^^^^^^^^^^^^^^^^^\n",
      "  File \"/Users/hermanneple/Library/Python/3.11/lib/python/site-packages/IPython/core/ultratb.py\", line 1012, in structured_traceback\n",
      "    return VerboseTB.structured_traceback(\n",
      "           ^^^^^^^^^^^^^^^^^^^^^^^^^^^^^^^\n",
      "  File \"/Users/hermanneple/Library/Python/3.11/lib/python/site-packages/IPython/core/ultratb.py\", line 865, in structured_traceback\n",
      "    formatted_exception = self.format_exception_as_a_whole(etype, evalue, etb, number_of_lines_of_context,\n",
      "                          ^^^^^^^^^^^^^^^^^^^^^^^^^^^^^^^^^^^^^^^^^^^^^^^^^^^^^^^^^^^^^^^^^^^^^^^^^^^^^^^^\n",
      "  File \"/Users/hermanneple/Library/Python/3.11/lib/python/site-packages/IPython/core/ultratb.py\", line 818, in format_exception_as_a_whole\n",
      "    frames.append(self.format_record(r))\n",
      "                  ^^^^^^^^^^^^^^^^^^^^^\n",
      "  File \"/Users/hermanneple/Library/Python/3.11/lib/python/site-packages/IPython/core/ultratb.py\", line 736, in format_record\n",
      "    result += ''.join(_format_traceback_lines(frame_info.lines, Colors, self.has_colors, lvals))\n",
      "                                              ^^^^^^^^^^^^^^^^\n",
      "  File \"/Users/hermanneple/Library/Python/3.11/lib/python/site-packages/stack_data/utils.py\", line 144, in cached_property_wrapper\n",
      "    value = obj.__dict__[self.func.__name__] = self.func(obj)\n",
      "                                               ^^^^^^^^^^^^^^\n",
      "  File \"/Users/hermanneple/Library/Python/3.11/lib/python/site-packages/stack_data/core.py\", line 734, in lines\n",
      "    pieces = self.included_pieces\n",
      "             ^^^^^^^^^^^^^^^^^^^^\n",
      "  File \"/Users/hermanneple/Library/Python/3.11/lib/python/site-packages/stack_data/utils.py\", line 144, in cached_property_wrapper\n",
      "    value = obj.__dict__[self.func.__name__] = self.func(obj)\n",
      "                                               ^^^^^^^^^^^^^^\n",
      "  File \"/Users/hermanneple/Library/Python/3.11/lib/python/site-packages/stack_data/core.py\", line 681, in included_pieces\n",
      "    pos = scope_pieces.index(self.executing_piece)\n",
      "                             ^^^^^^^^^^^^^^^^^^^^\n",
      "  File \"/Users/hermanneple/Library/Python/3.11/lib/python/site-packages/stack_data/utils.py\", line 144, in cached_property_wrapper\n",
      "    value = obj.__dict__[self.func.__name__] = self.func(obj)\n",
      "                                               ^^^^^^^^^^^^^^\n",
      "  File \"/Users/hermanneple/Library/Python/3.11/lib/python/site-packages/stack_data/core.py\", line 660, in executing_piece\n",
      "    return only(\n",
      "           ^^^^^\n",
      "  File \"/Users/hermanneple/Library/Python/3.11/lib/python/site-packages/executing/executing.py\", line 190, in only\n",
      "    raise NotOneValueFound('Expected one value, found 0')\n",
      "executing.executing.NotOneValueFound: Expected one value, found 0\n"
     ]
    }
   ],
   "source": [
    "L = loss.forward(Z, onehot(np.array([[0]]), m))"
   ]
  },
  {
   "cell_type": "code",
   "execution_count": 5,
   "metadata": {},
   "outputs": [
    {
     "name": "stdout",
     "output_type": "stream",
     "text": [
      "Iterasjon 0 L = 0.6792927545369156\n",
      "Iterasjon 1 L = 0.6009509934471406\n",
      "Iterasjon 2 L = 0.5275376144215482\n",
      "Iterasjon 3 L = 0.5045253142775457\n",
      "Iterasjon 4 L = 0.49522002904730505\n",
      "Iterasjon 5 L = 0.4813278529614545\n",
      "Iterasjon 6 L = 0.4725286281199429\n",
      "Iterasjon 7 L = 0.46183823347881975\n",
      "Iterasjon 8 L = 0.468588816657765\n",
      "Iterasjon 9 L = 0.45944549629628045\n",
      "Iterasjon 10 L = 0.4545154667796001\n",
      "Iterasjon 11 L = 0.4287828182966245\n",
      "Iterasjon 12 L = 0.4309763598516108\n",
      "Iterasjon 13 L = 0.45565581380112086\n",
      "Iterasjon 14 L = 0.45282477613332794\n",
      "Iterasjon 15 L = 0.4266595248649067\n",
      "Iterasjon 16 L = 0.38820338700249896\n",
      "Iterasjon 17 L = 0.42941179814298935\n",
      "Iterasjon 18 L = 0.4483707699633621\n",
      "Iterasjon 19 L = 0.43214150830759407\n",
      "Iterasjon 20 L = 0.42065608132424026\n",
      "Iterasjon 21 L = 0.4003927475143311\n",
      "Iterasjon 22 L = 0.3671072244113719\n",
      "Iterasjon 23 L = 0.3665829011847336\n",
      "Iterasjon 24 L = 0.4011585883832816\n",
      "Iterasjon 25 L = 0.4565892015540058\n",
      "Iterasjon 26 L = 0.5008062562377549\n",
      "Iterasjon 27 L = 0.4389714223900764\n",
      "Iterasjon 28 L = 0.4092862932527807\n",
      "Iterasjon 29 L = 0.3736375166540889\n",
      "Iterasjon 30 L = 0.3507741759181543\n",
      "Iterasjon 31 L = 0.33954240412470393\n",
      "Iterasjon 32 L = 0.33211823702373805\n",
      "Iterasjon 33 L = 0.3363522305719882\n",
      "Iterasjon 34 L = 0.3452358937703566\n",
      "Iterasjon 35 L = 0.3381808230982978\n",
      "Iterasjon 36 L = 0.3412609319380431\n",
      "Iterasjon 37 L = 0.3345630826009399\n",
      "Iterasjon 38 L = 0.3286413236860413\n",
      "Iterasjon 39 L = 0.3213170156658592\n",
      "Iterasjon 40 L = 0.31748387766725256\n",
      "Iterasjon 41 L = 0.31652433400336427\n",
      "Iterasjon 42 L = 0.3131703536965302\n",
      "Iterasjon 43 L = 0.31340757019570625\n",
      "Iterasjon 44 L = 0.3122083146898168\n",
      "Iterasjon 45 L = 0.31234083620107145\n",
      "Iterasjon 46 L = 0.31190826601893507\n",
      "Iterasjon 47 L = 0.3118218250980176\n",
      "Iterasjon 48 L = 0.311825422551452\n",
      "Iterasjon 49 L = 0.3116267372127771\n",
      "\n"
     ]
    }
   ],
   "source": [
    "#definerer variabler\n",
    "r = 5\n",
    "m = 2\n",
    "\n",
    "d = 10\n",
    "k = 5\n",
    "p = 15\n",
    "L = 2\n",
    "\n",
    "embed = EmbedPosition(9,m,d)\n",
    "att1 = Attention(d,k)\n",
    "ff1 = FeedForward(d,p)\n",
    "un_embed = LinearLayer(d,m)\n",
    "softmax = Softmax()\n",
    "loss = CrossEntropy()\n",
    "\n",
    "nn = NeuralNetwork([embed, att1, ff1, un_embed, softmax])\n",
    "\n",
    "data = get_train_test_sorting(r, m, samples_per_batch=250,n_batches_train=10, n_batches_test=4)\n",
    "\n",
    "x_train = data['x_train']\n",
    "y_train = data['y_train']\n",
    "\n",
    "for j in range(50):\n",
    "    losses = []\n",
    "    for i in range(10):\n",
    "        X = onehot(x_train[i], m)\n",
    "        Z = nn.forward(X)\n",
    "\n",
    "        losses.append(loss.forward(Z,y_train[i]))\n",
    "        dLdZ = loss.backward()\n",
    "        nn.backward(dLdZ)\n",
    "        nn.step_Adam()\n",
    "    mean_loss = np.mean(losses)\n",
    "    print(f'Iterasjon {j} L = {mean_loss}')\n",
    "\n",
    "print()"
   ]
  },
  {
   "cell_type": "code",
   "execution_count": null,
   "metadata": {},
   "outputs": [
    {
     "name": "stdout",
     "output_type": "stream",
     "text": [
      "Iterasjon 0 L = 0.2773755224805332\n",
      "Iterasjon 1 L = 0.2785080682194594\n",
      "Iterasjon 2 L = 0.2745925188168889\n",
      "Iterasjon 3 L = 0.27354685833141656\n",
      "Iterasjon 4 L = 0.2751833234730213\n",
      "Iterasjon 5 L = 0.27345916411152915\n",
      "Iterasjon 6 L = 0.27423949275103\n",
      "Iterasjon 7 L = 0.27903588848850863\n",
      "Iterasjon 8 L = 0.27874300003189384\n",
      "Iterasjon 9 L = 0.2759813112977738\n",
      "Iterasjon 10 L = 0.2748279247557979\n",
      "Iterasjon 11 L = 0.2791642657327908\n",
      "Iterasjon 12 L = 0.2790908736463721\n",
      "Iterasjon 13 L = 0.27521017990152397\n",
      "Iterasjon 14 L = 0.2744401708701155\n",
      "Iterasjon 15 L = 0.274740654405153\n",
      "Iterasjon 16 L = 0.2735730658756311\n",
      "Iterasjon 17 L = 0.27548731416048694\n",
      "Iterasjon 18 L = 0.2750443716528411\n",
      "Iterasjon 19 L = 0.27684233720803314\n",
      "Iterasjon 20 L = 0.27519344842239474\n",
      "Iterasjon 21 L = 0.2761511939291742\n",
      "Iterasjon 22 L = 0.2760348493800951\n",
      "Iterasjon 23 L = 0.29219163084402594\n",
      "Iterasjon 24 L = 0.5543215016151819\n",
      "Iterasjon 25 L = 0.7920667867047556\n",
      "Iterasjon 26 L = 0.6053140870188309\n",
      "Iterasjon 27 L = 0.5181102098934518\n",
      "Iterasjon 28 L = 0.471098895897262\n",
      "Iterasjon 29 L = 0.4196758640949832\n",
      "Iterasjon 30 L = 0.38185035146395785\n",
      "Iterasjon 31 L = 0.4598716509210473\n",
      "Iterasjon 32 L = 0.4720983634704673\n",
      "Iterasjon 33 L = 0.4062065249724999\n",
      "Iterasjon 34 L = 0.36705343900199794\n",
      "Iterasjon 35 L = 0.36853909576044996\n",
      "Iterasjon 36 L = 0.40692593220767603\n",
      "Iterasjon 37 L = 0.4050512779848846\n",
      "Iterasjon 38 L = 0.3683051398786345\n",
      "Iterasjon 39 L = 0.33631727121694804\n",
      "Iterasjon 40 L = 0.3164025022478093\n",
      "Iterasjon 41 L = 0.30647608825008055\n",
      "Iterasjon 42 L = 0.29631716877846437\n",
      "Iterasjon 43 L = 0.2905951087492583\n",
      "Iterasjon 44 L = 0.28717787817874585\n",
      "Iterasjon 45 L = 0.2839548545307046\n",
      "Iterasjon 46 L = 0.2822966621538664\n",
      "Iterasjon 47 L = 0.28154511580841074\n",
      "Iterasjon 48 L = 0.27957310265277263\n",
      "Iterasjon 49 L = 0.278708134296919\n"
     ]
    }
   ],
   "source": [
    "for j in range(50):\n",
    "    losses = []\n",
    "    for i in range(10):\n",
    "        X = onehot(x_train[i], m)\n",
    "        Z = nn.forward(X)\n",
    "\n",
    "        losses.append(loss.forward(Z,y_train[i]))\n",
    "        dLdZ = loss.backward()\n",
    "        nn.backward(dLdZ)\n",
    "        nn.step_Adam()\n",
    "    mean_loss = np.mean(losses)\n",
    "    print(f'Iterasjon {j} L = {mean_loss}')"
   ]
  },
  {
   "cell_type": "markdown",
   "metadata": {},
   "source": [
    "#### Tester for en itterasjon for å se om den greier å predikere neste verdi"
   ]
  },
  {
   "cell_type": "code",
   "execution_count": null,
   "metadata": {},
   "outputs": [
    {
     "name": "stdout",
     "output_type": "stream",
     "text": [
      "[[0 0 0 0 0]]\n"
     ]
    }
   ],
   "source": [
    "print(np.argmax(nn.forward(onehot(np.array([[0, 0 ,0, 0, 0]]), m)),axis=1))"
   ]
  },
  {
   "cell_type": "markdown",
   "metadata": {},
   "source": [
    "#### Tester hvor mange riktige prediksjoner vi får"
   ]
  },
  {
   "cell_type": "code",
   "execution_count": 94,
   "metadata": {},
   "outputs": [
    {
     "name": "stdout",
     "output_type": "stream",
     "text": [
      "Antall rette prediksjoner: 184\n",
      "Totalt antall prediksjoner: 250\n"
     ]
    }
   ],
   "source": [
    "x_test = data['x_test']\n",
    "y_test = data['y_test']\n",
    "\n",
    "\n",
    "def predict(nn: NeuralNetwork, xs: dict, r:int, m:int):\n",
    "    \n",
    "    batches = xs.shape[0]\n",
    "    y = np.zeros((xs.shape[0],xs.shape[1],r))\n",
    "    for i in range(batches):\n",
    "        x = xs[i]\n",
    "        for j in range(r):\n",
    "            #print(j)\n",
    "            X = onehot(x,m)\n",
    "            z = nn.forward(X)\n",
    "            Z = np.argmax(z, axis=1)\n",
    "            #print(Z.shape)\n",
    "            #print(x.shape)\n",
    "            toAppend =Z[:,-1:]\n",
    "            x = np.append(x, toAppend, axis=1)\n",
    "        y[i,:,:] = x[:,:-r]\n",
    "    return y\n",
    "\n",
    "\n",
    "\n",
    "y_pred = predict(nn, x_test, r, m)\n",
    "\n",
    "def count_correct_predictions(y_pred, y_test):\n",
    "    correct_predictions = np.count_nonzero(np.count_nonzero(y_pred == y_test, axis=2) == y_pred.shape[-1])\n",
    "    return correct_predictions\n",
    "\n",
    "y_test = data['y_test']\n",
    "correct_predictions = count_correct_predictions(y_pred, y_test)\n",
    "print(\"Antall rette prediksjoner:\", correct_predictions)\n",
    "print(\"Totalt antall prediksjoner:\", y_pred.shape[1])\n"
   ]
  }
 ],
 "metadata": {
  "kernelspec": {
   "display_name": "Python 3",
   "language": "python",
   "name": "python3"
  },
  "language_info": {
   "codemirror_mode": {
    "name": "ipython",
    "version": 3
   },
   "file_extension": ".py",
   "mimetype": "text/x-python",
   "name": "python",
   "nbconvert_exporter": "python",
   "pygments_lexer": "ipython3",
   "version": "3.9.12"
  }
 },
 "nbformat": 4,
 "nbformat_minor": 2
}
