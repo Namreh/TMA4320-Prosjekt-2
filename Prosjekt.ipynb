{
 "cells": [
  {
   "cell_type": "markdown",
   "metadata": {},
   "source": [
    "# Indmat prosjekt\n",
    "###### Liva Berge Flo, André Pettersen-Dahl, Herman Neple\n",
    "\n",
    "#### Oppgave 1"
   ]
  },
  {
   "cell_type": "markdown",
   "metadata": {},
   "source": [
    "1.1"
   ]
  },
  {
   "cell_type": "markdown",
   "metadata": {},
   "source": [
    "En transformermodell skal trenes opp til å forsøke å predikere et heltall $d$, hvor $d = a \\cdot b + c$, hvor $a$ og $c$ er tosifrede heltall og $b$ er et ettsifret heltall. Vi kan se på et eksempel på et datasett som kan brukes for å trene opp modellen."
   ]
  },
  {
   "cell_type": "markdown",
   "metadata": {},
   "source": [
    "Vi kan la\n",
    "\\begin{align*}\n",
    "    r &= 2,   a = 28,  \n",
    " b = 4,   c = 18,   d = 130, \\\\\n",
    "\\end{align*}\n",
    "Input $x$ vil være tallene $a$, $b$ og $c$. I tillegg vil de første sifferne i $d$ være inkludert i input, fordi vi ønsker at transformermodellen skal trenes opp til å finne det siste sifferet i $d$. Output $y$ vil være tallet $d$ som man ønsker å predikere. Dermed har vi altså\n",
    "\n",
    "\\begin{align*}\n",
    "    x &= [2,8,4,1,8,1,3] \\quad \\text{og} \\quad y = [1,3,0], \\\\\n",
    "\\end{align*}"
   ]
  },
  {
   "cell_type": "markdown",
   "metadata": {},
   "source": [
    "1.2"
   ]
  },
  {
   "cell_type": "markdown",
   "metadata": {},
   "source": [
    "Vi ser videre på et eksempel på hvordan transformermodellen $f_{\\theta}$ kan predikere tallet $d$ for samme type problem.\n",
    "\n",
    "Transformermodellen vil utføre følgende operasjon\n",
    "\\begin{align*}\n",
    "    \\hat{z} &= [\\hat{z}_0, \\ldots, \\hat{z}_6] = f_{\\theta}([2,8,4,1,8,1,3]), \\\\\n",
    "\\end{align*}\n",
    "hvor det er ønskelig å finne en $\\theta$ slik at \n",
    "\\begin{align*}\n",
    "    \\hat{y} &= [\\hat{z}_{4}, \\hat{z}_{5}, \\hat{z}_{6}] = [0,3,1].\\\\\n",
    "\\end{align*}\n",
    "Transformermodellen vil ved addisjon beregne siste siffer først og tallet $d$ vil dermed være $\\hat{z}_{6}\\hat{z}_{5}\\hat{z}_{4} = 130$"
   ]
  },
  {
   "cell_type": "markdown",
   "metadata": {},
   "source": [
    "Vi lar igjen $r = 2, a = 18, b = 3, c = 22$.\n",
    "Et nytt siffer vil predikeres for hvert lag i transformermodellen. Prosessen vil dermed se slik ut:\n",
    "\\begin{align*}\n",
    "    x^{(0)} &= [1,8,3,2,2], & [\\hat{z}_{0}^{(0)},\\hat{z}_{1}^{(0)},\\hat{z}_{2}^{(0)},\\hat{z}_{3}^{(0)},\\hat{z}_{4}^{(0)},\\textcolor{red}{\\hat{z}_{5}^{(0)}}] = f_\\theta(x^{(0)}), \\\\\n",
    "    x^{(1)} &= [1,8,3,2,2,\\textcolor{red}{\\hat{z}_{5}^{(0)}}], & [\\hat{z}_{0}^{(1)},\\ldots, \\textcolor{blue}{\\hat{z}_{6}^{(1)}}] = f_\\theta(x^{(1)}), \\\\ \n",
    "    x^{(2)} &= [1,8,3,2,2,\\textcolor{red}{\\hat{z}_{5}^{(0)}},\\textcolor{blue}{\\hat{z}_{6}^{(1)}}], & [\\hat{z}_{0}^{(1)},\\ldots, \\textcolor{gold}{\\hat{z}_{7}^{(2)}}] = f_\\theta(x^{(2)}), \\\\\n",
    "    x^{(3)} &= [1,8,3,2,2,\\textcolor{red}{\\hat{z}_{5}^{(0)}},\\textcolor{blue}{\\hat{z}_{6}^{(1)}},\\textcolor{gold}{\\hat{z}_{7}^{(2)}}] \\\\\n",
    "    \\hat{y} &= [\\textcolor{red}{\\hat{z}_{5}^{(0)}},\\textcolor{blue}{\\hat{z}_{6}^{(1)}},\\textcolor{gold}{\\hat{z}_{7}^{(2)}}]. \\\\\n",
    "\\end{align*}"
   ]
  },
  {
   "cell_type": "markdown",
   "metadata": {},
   "source": [
    "Her ønsker vi altså at $d = \\textcolor{gold}{\\hat{z}_{7}^{(2)}}\\textcolor{blue}{\\hat{z}_{6}^{(1)}}\\textcolor{red}{\\hat{z}_{5}^{(0)}} = 130$"
   ]
  },
  {
   "cell_type": "markdown",
   "metadata": {},
   "source": [
    "1.3"
   ]
  },
  {
   "cell_type": "markdown",
   "metadata": {},
   "source": [
    "La $m = 5$ og $y = [4,3,2,1]$. Vi bruker cross-entropy som objektfunksjon $\\mathcal{L}$, og ønsker å finne en sannsynlighetsfordeling $\\hat Y$ som gir $\\mathcal{L}(\\theta, \\mathcal{D}) = 0$."
   ]
  },
  {
   "cell_type": "markdown",
   "metadata": {},
   "source": [
    "Ved å gjøre operasjonen $\\text{onehot}(y)$, får vi representert $y$ som en matrise Y\n",
    "\n",
    "$$Y = \\left[\n",
    "\\begin{array}{cccc}\n",
    "0 & 0 & 0 & 0 \\\\\n",
    "0 & 0 & 0 & 1 \\\\\n",
    "0 & 0 & 1 & 0 \\\\\n",
    "0 & 1 & 0 & 0 \\\\\n",
    "1 & 0 & 0 & 0 \n",
    "\\end{array}\n",
    "\\right]$$\n"
   ]
  },
  {
   "cell_type": "markdown",
   "metadata": {},
   "source": [
    "Objektfunksjonen cross-entropy vil i vårt tilfelle se slik ut:\n",
    "\n",
    "\n",
    "\\begin{align*}\n",
    "\\mathcal{L}(\\theta, \\mathcal{D}) &= -\\frac{1}{4} \\sum_{i=0}^{0} \\sum_{j=0}^{4} \\log Y_{kj}^{(i)}\n",
    "\\end{align*}\n",
    "\n",
    "hvor det i ytre løkke kun summeres opp til $D = 0$, siden vi kun har ett datasett. I indre løkke summeres det opp til $n = 4$, fordi vi har fire elementer i $y$."
   ]
  },
  {
   "cell_type": "markdown",
   "metadata": {},
   "source": [
    "Siden vi ønsker at $\\mathcal{L}(\\theta, \\mathcal{D}) = 0$, vil vi at alle $Y_{kj}^{(i)} = 1$, slik at logaritmen blir $0$."
   ]
  },
  {
   "cell_type": "markdown",
   "metadata": {},
   "source": [
    "\n",
    "\n",
    "$$\\hat Y = \\left[\n",
    "\\begin{array}{cccc}\n",
    "0 & 0 & 0 & 0 \\\\\n",
    "0 & 0 & 0 & 1 \\\\\n",
    "0 & 0 & 1 & 0 \\\\\n",
    "0 & 1 & 0 & 0 \\\\\n",
    "1 & 0 & 0 & 0 \n",
    "\\end{array}\n",
    "\\right]$$\n",
    "\n",
    "Altså har vi at:\n",
    "\n",
    "\n",
    "\\begin{align*}\n",
    "Y_{4,0} &= 1 \\\\\n",
    "Y_{3,1} &= 1 \\\\\n",
    "Y_{2,2} &= 1 \\\\\n",
    "Y_{1,3} &= 1 \\\\\n",
    "\\end{align*}\n",
    "\n",
    "Alle andre elementer i matrisen er $0$. Vi kan videre forenkle uttrykket for kryssentropien:\n",
    "\n",
    "$$\\mathcal{L}(\\theta, \\mathcal{D}) = -\\frac{1}{4} \\left( \\log Y_{4,0} + \\log Y_{3,1} + \\log Y_{2,2} + \\log Y_{1,3} \\right) \\\\$$\n",
    "$$= -\\frac{1}{4} \\left( \\log 1 + \\log 1 + \\log 1 + \\log 1 \\right) = -\\frac{1}{4} \\cdot 4 \\cdot \\log 1 \\\\$$\n",
    "$$= -\\frac{4}{4} \\cdot 0 = 0$$\n",
    "\n",
    "\n",
    "Altså har vi at $ \\mathcal{L}(\\theta, \\mathcal{D}) = 0 $."
   ]
  },
  {
   "cell_type": "markdown",
   "metadata": {},
   "source": [
    "Vi må i dette tilfellet ha at $\\hat y = y = [4,3,2,1]$. Dette kan man se dersom man utfører operasjonen $\\text{argmax}_{\\text{col}}(\\hat Y)$. Det kan også lett observeres ut fra at $\\hat Y = Y$."
   ]
  },
  {
   "cell_type": "markdown",
   "metadata": {},
   "source": [
    "1.4"
   ]
  },
  {
   "cell_type": "markdown",
   "metadata": {},
   "source": [
    "Det kan beregnes hvor mange enkeltparametre som inkluderes i transformermodellen. Vi kan begynne med å se på settet av parametere\n",
    "\\begin{align*}\n",
    "\\theta = \\{ W_E, W_P, W_U, \\{W_O^{(l)}, W_V^{(l)}, W_Q^{(l)}, W_K^{(l)}, W_1^{(l)}, W_2^{(l)}\\}_{l=0}^{L-1} \\}\n",
    "\\end{align*}\n",
    "Med $L$ lag, og dimensjoner $d$, $m$, $n_{max}$, $k$ og $p$, vil antallet enkeltparametere $w$, som må bestemmes ved optimering, bli\n",
    "\n",
    "\\begin{align*}\n",
    "w &=  d \\cdot m + d \\cdot n_{\\text{max}} + d \\cdot m + L\\cdot \\{ 4 ( k \\cdot d ) + 2 (p\\cdot d)\\} \\\\\n",
    "&= 2(d\\cdot m) + d\\cdot n_{\\text{max}} + L\\cdot \\{ 4 ( k \\cdot d ) + 2 (p\\cdot d)\\}\n",
    "\\end{align*}"
   ]
  },
  {
   "cell_type": "markdown",
   "metadata": {},
   "source": [
    "1.5"
   ]
  },
  {
   "cell_type": "markdown",
   "metadata": {},
   "source": [
    "Vi ønsker å vise at man må ha $\\alpha > 1$ for å få $\\hat{z} = [1]$ når input er $x = [1]$ og $n = n_{max} = 1, m = d = k = p = 2$ og $L = 1$. Vi kan starte med å gå manuelt gjennom hele transformeralgoritmen med de gitte verdiene. De første stegene gjøres i embedding."
   ]
  },
  {
   "cell_type": "markdown",
   "metadata": {},
   "source": [
    "$$x = [1], \\quad m = 2 \\\\\n",
    "X = \\text{onehot}(x) = \n",
    "\\begin{bmatrix}\n",
    "0 \\\\\n",
    "1 \\\\\n",
    "\\end{bmatrix} \\\\$$\n",
    "\n",
    "$$W_{E} = \\begin{bmatrix}\n",
    "    1 & 0 \\\\\n",
    "    0 & \\alpha \\\\\n",
    "\\end{bmatrix}\n",
    "W_{P} = \\begin{bmatrix}\n",
    "    1  \\\\\n",
    "    0  \\\\\n",
    "\\end{bmatrix} \\\\$$\n",
    "$$z_{0} = \\begin{bmatrix}\n",
    "    1 & 0 \\\\\n",
    "    0 & \\alpha \\\\\n",
    "\\end{bmatrix}\n",
    "\\begin{bmatrix}\n",
    "    0 \\\\\n",
    "    1 \\\\\n",
    "\\end{bmatrix} + \\begin{bmatrix}\n",
    "    1 \\\\\n",
    "    0 \\\\\n",
    "\\end{bmatrix}\n",
    "= \\begin{bmatrix}\n",
    "    0 \\\\\n",
    "    \\alpha \\\\\n",
    "\\end{bmatrix}\n",
    "+ \\begin{bmatrix}\n",
    "    1 \\\\\n",
    "    0 \\\\\n",
    "\\end{bmatrix}\n",
    "= \\begin{bmatrix}\n",
    "    1 \\\\\n",
    "    \\alpha \\\\\n",
    "\\end{bmatrix} \\\\$$\n"
   ]
  },
  {
   "cell_type": "markdown",
   "metadata": {},
   "source": [
    "Videre utføres attention-laget."
   ]
  },
  {
   "cell_type": "markdown",
   "metadata": {},
   "source": [
    "$$z_{\\frac{1}{2}} = z_0 + W_{O}^{T}W_{V}z_{0}A(z_{0})$$\n",
    "$$ = z_{0} + W_{O}^{T}W_{V}z_{0}\\text{ softmax}_{\\text{col }}(z_{0}^{T}W_{Q}^{T}W_{K}z_{0} + D)$$\n",
    "$$= \\begin{bmatrix}\n",
    "    0 \\\\\n",
    "    1 \\\\\n",
    "\\end{bmatrix} + \\begin{bmatrix}\n",
    "    1 & 0 \\\\\n",
    "    0 & 1 \\\\\n",
    "\\end{bmatrix} \\begin{bmatrix}\n",
    "    1 & 0 \\\\\n",
    "    1 & 1 \\\\\n",
    "\\end{bmatrix} \\begin{bmatrix}\n",
    "    1 \\\\\n",
    "    \\alpha \\\\\n",
    "\\end{bmatrix} \\text{softmax}_{\\text{col } }(\\begin{bmatrix}\n",
    "    1 & \\alpha\n",
    "\\end{bmatrix}\\begin{bmatrix}\n",
    "    1 & 0 \\\\\n",
    "    0 & 1 \\\\\n",
    "\\end{bmatrix}\\begin{bmatrix}\n",
    "    1 & 0 \\\\\n",
    "    0 & 1 \\\\\n",
    "\\end{bmatrix}\\begin{bmatrix}\n",
    "    1 \\\\\n",
    "    \\alpha \\\\\n",
    "\\end{bmatrix} + 0) \\\\$$\n",
    "\n",
    "$$= \\begin{bmatrix}\n",
    "    1 \\\\\n",
    "    \\alpha \\\\\n",
    "\\end{bmatrix}+\\begin{bmatrix}\n",
    "    1 \\\\\n",
    "    \\alpha \\\\\n",
    "\\end{bmatrix}\\text{softmax}_{\\text{col }}(1+\\alpha^2)\n",
    "= 2 \\begin{bmatrix}\n",
    "    1 \\\\\n",
    "    \\alpha \\\\\n",
    "\\end{bmatrix}$$"
   ]
  },
  {
   "cell_type": "markdown",
   "metadata": {},
   "source": [
    "Deretter utføres feed-forward-laget."
   ]
  },
  {
   "cell_type": "markdown",
   "metadata": {},
   "source": [
    "$$z_1 = z_{\\frac{1}{2}} + W_{2}^{T}\\sigma(W_1 z_{\\frac{1}{2}})\\\\$$\n",
    "$$= 2\\begin{bmatrix}\n",
    "    1 \\\\\n",
    "    \\alpha \\\\\n",
    "\\end{bmatrix} + W_{2}^{T}\\text{max}(0,W_1 z_{\\frac{1}{2}})\\\\$$\n",
    "$$= 2\\begin{bmatrix}\n",
    "    1 \\\\\n",
    "    \\alpha \\\\\n",
    "\\end{bmatrix}+\\begin{bmatrix}\n",
    "    1 & 0 \\\\\n",
    "    0 & 1 \\\\\n",
    "\\end{bmatrix}\\text{max}\\Bigg(0, \\begin{bmatrix}\n",
    "    1 & 0 \\\\\n",
    "    0 & 1 \\\\\n",
    "\\end{bmatrix}2\\begin{bmatrix}\n",
    "    1 \\\\\n",
    "    \\alpha \\\\\n",
    "\\end{bmatrix}\\Bigg)\\\\$$\n",
    "$$= 4\\begin{bmatrix}\n",
    "    1\\\\\n",
    "    \\alpha \\\\\n",
    "\\end{bmatrix}$$"
   ]
  },
  {
   "cell_type": "markdown",
   "metadata": {},
   "source": [
    "Deretter benyttes $\\text{softmax}_{\\text{col}}$ for å finne sannsynlighetsfordelingen."
   ]
  },
  {
   "cell_type": "markdown",
   "metadata": {},
   "source": [
    "$$Z = \\text{softmax}_{\\text{col}}(W_{U}^{T}z_{1})\\\\$$\n",
    "$$= \\text{softmax}_{\\text{col}}\\bigg(4\\begin{bmatrix}\n",
    "        1 \\\\\n",
    "        \\alpha \\\\\n",
    "    \\end{bmatrix}\\bigg)\\\\$$\n",
    "$$= \\frac{1}{e^{4}+e^{4\\alpha}}\\begin{bmatrix}\n",
    "        e^{4} \\\\\n",
    "        e^{4\\alpha} \\\\\n",
    "    \\end{bmatrix}$$"
   ]
  },
  {
   "cell_type": "markdown",
   "metadata": {},
   "source": [
    "Det kan observeres at $\\text{argmax}_{\\text{col}}(Z)$ vil returnere $\\hat{z} = [1]$ dersom $Z_{10}$ er størst. Vi må altså ha at\n",
    "\\begin{align*}\n",
    "e^{4\\alpha} > e^{4} \\implies \\alpha > 1\\\\\n",
    "\\Box\n",
    "\\end{align*}"
   ]
  },
  {
   "cell_type": "markdown",
   "metadata": {},
   "source": [
    "#### Oppgave 2"
   ]
  },
  {
   "cell_type": "markdown",
   "metadata": {},
   "source": [
    "#### Oppgave 3.1"
   ]
  },
  {
   "cell_type": "code",
   "execution_count": 1,
   "metadata": {},
   "outputs": [],
   "source": [
    "#Importerer nødvendige bibliotek\n",
    "from layers import *\n",
    "from neural_network import NeuralNetwork\n",
    "from utils import onehot\n",
    "import numpy as np\n",
    "from data_generators import get_train_test_sorting\n",
    "import matplotlib.pyplot as plt"
   ]
  },
  {
   "cell_type": "markdown",
   "metadata": {},
   "source": [
    "For å teste om lagene vi har implementert fungerer, kan vi manuelt kjøre gjennom algoritmen. Vi starter med å initalisere lagene til det nevrale nettverk."
   ]
  },
  {
   "cell_type": "code",
   "execution_count": 2,
   "metadata": {},
   "outputs": [],
   "source": [
    "#definerer variabler\n",
    "r = 4\n",
    "m = 4\n",
    "\n",
    "d = 10\n",
    "k = 5\n",
    "p = 15\n",
    "L = 2\n",
    "\n",
    "embed = EmbedPosition(9,m,d)\n",
    "att1 = Attention(d,k)\n",
    "ff1 = FeedForward(d,p)\n",
    "un_embed = LinearLayer(d,m)\n",
    "softmax = Softmax()\n",
    "loss = CrossEntropy()"
   ]
  },
  {
   "cell_type": "markdown",
   "metadata": {},
   "source": [
    "Vi kan videre gi nettverket vårt en input, la oss f.eks late som vi prøver å få modellen til å sortere tallene."
   ]
  },
  {
   "cell_type": "code",
   "execution_count": 3,
   "metadata": {},
   "outputs": [],
   "source": [
    "x = np.array([[0,1,2]])\n",
    "X = onehot(x, m)\n",
    "\n",
    "z0 = embed.forward(X)\n",
    "z11 = att1.forward(z0)\n",
    "z12 = ff1.forward(z11)\n",
    "z2 = un_embed.forward(z12)\n",
    "Z = softmax.forward(z2)"
   ]
  },
  {
   "cell_type": "markdown",
   "metadata": {},
   "source": [
    "Vi kan så teste om vi fikk riktig output, som i dette tilfelle burde være at det er $0$ på siste element. Om vi har riktig output skulle loss funksjonen vårt bli 0."
   ]
  },
  {
   "cell_type": "code",
   "execution_count": 4,
   "metadata": {},
   "outputs": [
    {
     "name": "stdout",
     "output_type": "stream",
     "text": [
      "1.3760630610953746\n"
     ]
    }
   ],
   "source": [
    "y = np.array([[0]])\n",
    "L = loss.forward(Z,y)\n",
    "\n",
    "print(L)"
   ]
  },
  {
   "cell_type": "markdown",
   "metadata": {},
   "source": [
    "Dette fungerte åpenbart ikke enda. Etter å ha kjørt en forward pass, er det fint å teste backwardfunksjonen til lagene. Vi starter da med å beregne den deriverte av loss funksjonen"
   ]
  },
  {
   "cell_type": "code",
   "execution_count": 5,
   "metadata": {},
   "outputs": [],
   "source": [
    "dLdz = loss.backward()\n",
    "d0 = softmax.backward(dLdz)\n",
    "d1 = un_embed.backward(d0)\n",
    "d21 = ff1.backward(d1)\n",
    "d22 = att1.backward(d21)\n",
    "d3 = embed.backward(d22)"
   ]
  },
  {
   "cell_type": "markdown",
   "metadata": {},
   "source": [
    "#### Oppgave 3.2\n",
    "\n",
    "Vi lager en generell funksjon som vil trene nettverket vårt. Denne funksjonen tar inn datasettet i batcher og gjennomfører Adam-steg for å optimalisere parametrene. Vi plotter også $\\mathcal{L}^{i}$ for $i = 0,\\dots , n_{iter} − 1$ med logaritmisk skala på y-aksen.\n"
   ]
  },
  {
   "cell_type": "code",
   "execution_count": 6,
   "metadata": {},
   "outputs": [],
   "source": [
    "def train_network(nn: NeuralNetwork, x_data, y_data, n_iters, step_size, m, start, stop):\n",
    "    n_batches = x_data.shape[0]\n",
    "    mean_losses = np.zeros(n_iters)\n",
    "    for j in range(n_iters):\n",
    "        losses = []\n",
    "        for i in range(n_batches):\n",
    "            x = x_data[i]\n",
    "            y = y_data[i][:,start:stop]\n",
    "            #Forward pass\n",
    "            X = onehot(x,m)\n",
    "            Z = nn.forward(X)\n",
    "            #Backward pass\n",
    "            losses.append(loss.forward(Z,y))\n",
    "            dLdZ = loss.backward()\n",
    "            nn.backward(dLdZ)\n",
    "            nn.step_Adam(step_size)\n",
    "        mean_loss = np.mean(losses)\n",
    "        print(\"Iterasjon \", str(j+1), \" L = \",mean_loss, \"\")\n",
    "        mean_losses[j] = mean_loss\n",
    "    #Plotter loss-funksjonen per itterasjon i en logaritmisk skala\n",
    "    plt.plot(np.arange(0,n_iters), np.log(mean_losses))\n",
    "    plt.xlabel(\"Iterasjonnummer\")\n",
    "    plt.ylabel(\"Logaritmen av loss-funksjon\")\n",
    "    plt.title(\"Minimering ved antall iterasjoner\")\n",
    "    plt.show()\n",
    "    #Returnerer gjennomsnittet over objektfunksjonen over batchene\n",
    "    return mean_losses\n"
   ]
  },
  {
   "cell_type": "markdown",
   "metadata": {},
   "source": [
    "#### Oppgave 3.3"
   ]
  },
  {
   "cell_type": "markdown",
   "metadata": {},
   "source": [
    "For oppgaven med sortering av 0 og 1"
   ]
  },
  {
   "cell_type": "code",
   "execution_count": 7,
   "metadata": {},
   "outputs": [],
   "source": [
    "#definerer variabler\n",
    "r = 5\n",
    "m = 2\n",
    "\n",
    "d = 10\n",
    "k = 5\n",
    "p = 15\n",
    "L = 2\n",
    "\n",
    "embed = EmbedPosition(9,m,d)\n",
    "att1 = Attention(d,k)\n",
    "att2 = Attention(d,k)\n",
    "ff1 = FeedForward(d,p)\n",
    "ff2 = FeedForward(d,p)\n",
    "un_embed = LinearLayer(d,m)\n",
    "softmax = Softmax()\n",
    "loss = CrossEntropy()\n",
    "\n",
    "nn = NeuralNetwork([embed, att1, ff1, att2, ff2, un_embed, softmax])\n",
    "\n",
    "data = get_train_test_sorting(r, m, samples_per_batch=250,n_batches_train=20, n_batches_test=4)\n",
    "\n",
    "x_train = data['x_train']\n",
    "y_train = data['y_train']\n",
    "x_test = data['x_test']\n",
    "y_test = data['y_test']"
   ]
  },
  {
   "cell_type": "markdown",
   "metadata": {},
   "source": [
    "La oss prøve å trene!"
   ]
  },
  {
   "cell_type": "code",
   "execution_count": 8,
   "metadata": {},
   "outputs": [
    {
     "name": "stdout",
     "output_type": "stream",
     "text": [
      "Iterasjon  1  L =  0.6933100890221054 \n",
      "Iterasjon  2  L =  0.670747321878496 \n",
      "Iterasjon  3  L =  0.6305331496465393 \n",
      "Iterasjon  4  L =  0.5347907830310554 \n",
      "Iterasjon  5  L =  0.3733934361203698 \n",
      "Iterasjon  6  L =  0.2599969001878302 \n",
      "Iterasjon  7  L =  0.16914860494583345 \n",
      "Iterasjon  8  L =  0.1268735604838946 \n",
      "Iterasjon  9  L =  0.09907721436379538 \n",
      "Iterasjon  10  L =  0.06888668161157967 \n",
      "Iterasjon  11  L =  0.04443913915833294 \n",
      "Iterasjon  12  L =  0.021203355253690333 \n",
      "Iterasjon  13  L =  0.010284192138167617 \n",
      "Iterasjon  14  L =  0.0026136659846755974 \n",
      "Iterasjon  15  L =  0.0011290223932512884 \n",
      "Iterasjon  16  L =  0.000738414862144844 \n",
      "Iterasjon  17  L =  0.0005457674996701485 \n",
      "Iterasjon  18  L =  0.00045206291949878585 \n",
      "Iterasjon  19  L =  0.0003821508878860795 \n",
      "Iterasjon  20  L =  0.00032849099913290366 \n",
      "Iterasjon  21  L =  0.0002860400759450666 \n",
      "Iterasjon  22  L =  0.00025165657027314533 \n",
      "Iterasjon  23  L =  0.00022331168927985866 \n",
      "Iterasjon  24  L =  0.00019964360639271626 \n",
      "Iterasjon  25  L =  0.00017972084556327033 \n",
      "Iterasjon  26  L =  0.00016275070507487465 \n",
      "Iterasjon  27  L =  0.00014812553518873706 \n",
      "Iterasjon  28  L =  0.00013541648603475733 \n",
      "Iterasjon  29  L =  0.00012430220741625623 \n",
      "Iterasjon  30  L =  0.00011453360632162962 \n",
      "Iterasjon  31  L =  0.00010589215451198446 \n",
      "Iterasjon  32  L =  9.819942830284489e-05 \n",
      "Iterasjon  33  L =  9.131750549029712e-05 \n",
      "Iterasjon  34  L =  8.513482961721591e-05 \n",
      "Iterasjon  35  L =  7.955862067622094e-05 \n",
      "Iterasjon  36  L =  7.451103610009582e-05 \n",
      "Iterasjon  37  L =  6.992645277385857e-05 \n",
      "Iterasjon  38  L =  6.574921363558777e-05 \n",
      "Iterasjon  39  L =  6.193700286968027e-05 \n",
      "Iterasjon  40  L =  5.845157616962326e-05 \n",
      "Iterasjon  41  L =  5.5250378246379884e-05 \n",
      "Iterasjon  42  L =  5.230229729565522e-05 \n",
      "Iterasjon  43  L =  4.9580922357744553e-05 \n",
      "Iterasjon  44  L =  4.706263272910628e-05 \n",
      "Iterasjon  45  L =  4.47307152164686e-05 \n",
      "Iterasjon  46  L =  4.257498346206562e-05 \n",
      "Iterasjon  47  L =  4.057299376721584e-05 \n",
      "Iterasjon  48  L =  3.8706178126650276e-05 \n",
      "Iterasjon  49  L =  3.6961841515171525e-05 \n",
      "Iterasjon  50  L =  3.5329404903056674e-05 \n",
      "Iterasjon  51  L =  3.379951329974479e-05 \n",
      "Iterasjon  52  L =  3.236376797235449e-05 \n",
      "Iterasjon  53  L =  3.101460351292164e-05 \n",
      "Iterasjon  54  L =  2.9745195792187876e-05 \n",
      "Iterasjon  55  L =  2.854533026584125e-05 \n",
      "Iterasjon  56  L =  2.73941818156889e-05 \n",
      "Iterasjon  57  L =  2.6301748240072462e-05 \n",
      "Iterasjon  58  L =  2.527699777328317e-05 \n",
      "Iterasjon  59  L =  2.4312977938742996e-05 \n",
      "Iterasjon  60  L =  2.3401541951727983e-05 \n",
      "Iterasjon  61  L =  2.253801433345689e-05 \n",
      "Iterasjon  62  L =  2.1719543591866093e-05 \n",
      "Iterasjon  63  L =  2.0942760494686407e-05 \n",
      "Iterasjon  64  L =  2.0205111931554913e-05 \n",
      "Iterasjon  65  L =  1.9503823471549263e-05 \n",
      "Iterasjon  66  L =  1.883671796071566e-05 \n",
      "Iterasjon  67  L =  1.8201457453270025e-05 \n",
      "Iterasjon  68  L =  1.759621097549462e-05 \n",
      "Iterasjon  69  L =  1.7018977657568344e-05 \n",
      "Iterasjon  70  L =  1.6468224729977387e-05 \n",
      "Iterasjon  71  L =  1.5942167689713946e-05 \n",
      "Iterasjon  72  L =  1.5440109092794332e-05 \n",
      "Iterasjon  73  L =  1.4961099572609014e-05 \n",
      "Iterasjon  74  L =  1.450359142571064e-05 \n",
      "Iterasjon  75  L =  1.4065523822645013e-05 \n",
      "Iterasjon  76  L =  1.3645837412262115e-05 \n",
      "Iterasjon  77  L =  1.3243450946778845e-05 \n",
      "Iterasjon  78  L =  1.2857493502810193e-05 \n",
      "Iterasjon  79  L =  1.2487000920848603e-05 \n",
      "Iterasjon  80  L =  1.2131181618395888e-05 \n",
      "Iterasjon  81  L =  1.17893113657183e-05 \n",
      "Iterasjon  82  L =  1.146067377802413e-05 \n",
      "Iterasjon  83  L =  1.114487105772109e-05 \n",
      "Iterasjon  84  L =  1.0842076256959872e-05 \n",
      "Iterasjon  85  L =  1.0550763137366914e-05 \n",
      "Iterasjon  86  L =  1.0270096696217131e-05 \n",
      "Iterasjon  87  L =  9.999673023271173e-06 \n",
      "Iterasjon  88  L =  9.738948922704328e-06 \n",
      "Iterasjon  89  L =  9.4874334522756e-06 \n",
      "Iterasjon  90  L =  9.244753092588465e-06 \n",
      "Iterasjon  91  L =  9.010487079700028e-06 \n",
      "Iterasjon  92  L =  8.784302348865453e-06 \n",
      "Iterasjon  93  L =  8.565807874957061e-06 \n",
      "Iterasjon  94  L =  8.354636976755956e-06 \n",
      "Iterasjon  95  L =  8.150480264580734e-06 \n",
      "Iterasjon  96  L =  7.953085202612745e-06 \n",
      "Iterasjon  97  L =  7.762140664186865e-06 \n",
      "Iterasjon  98  L =  7.577348880479299e-06 \n",
      "Iterasjon  99  L =  7.398465101945277e-06 \n",
      "Iterasjon  100  L =  7.225260876906035e-06 \n"
     ]
    },
    {
     "data": {
      "image/png": "[encoded data removed]",
      "text/plain": [
       "<Figure size 432x288 with 1 Axes>"
      ]
     },
     "metadata": {
      "needs_background": "light"
     },
     "output_type": "display_data"
    }
   ],
   "source": [
    "losses = train_network(nn, data['x_train'], data['y_train'], 100, 0.001, m, 4, 9)"
   ]
  },
  {
   "cell_type": "markdown",
   "metadata": {},
   "source": [
    "Som vi ser optimerer vi objektfunksjonen gjennom treningen."
   ]
  },
  {
   "cell_type": "markdown",
   "metadata": {},
   "source": [
    "#### Tester for én iterasjon for å se om den greier å predikere neste verdi"
   ]
  },
  {
   "cell_type": "code",
   "execution_count": 9,
   "metadata": {},
   "outputs": [
    {
     "name": "stdout",
     "output_type": "stream",
     "text": [
      "[[1 0 0 1 0]]\n"
     ]
    }
   ],
   "source": [
    "x = np.array([[1, 0 ,0, 1, 0]])\n",
    "X = onehot(x, m)\n",
    "\n",
    "#forward pass\n",
    "Z = nn.forward(X)\n",
    "z_hat = np.argmax(Z, axis=1)\n",
    "\n",
    "print(z_hat)"
   ]
  },
  {
   "cell_type": "markdown",
   "metadata": {},
   "source": [
    "Når vi sender inn arrayet [1, 0, 0, 1, 1], vil vi ved å sende det gjennom algoritmen få predikert den første predikerte verdien som det siste elementet i det returnerte arrayet, som beskrevet i avsnitt 1.2. Siden algoritmen sorterer verdiene i arrayet bestående av 0 og 1, forventer vi at det første sifferet i det sorterte arrayet blir 0. Deretter, for å predikere resten av sekvensen, mater vi inn det siste elementet i det predikerte arrayet tilbake inn i arrayet vi sender gjennom 'forward'-steget, og fortsetter prediksjonen derfra."
   ]
  },
  {
   "cell_type": "markdown",
   "metadata": {},
   "source": [
    "Videre er det nyttig med en funksjon som kan gir inn testdataen til nettverket vårt, og så en funksjon som teller antall riktige prediksjoner."
   ]
  },
  {
   "cell_type": "code",
   "execution_count": 10,
   "metadata": {},
   "outputs": [],
   "source": [
    "def countCorrect(y_hat, y):\n",
    "    batches = y_hat.shape[0]\n",
    "    samples = y_hat[0].shape[0]\n",
    "\n",
    "    counter = 0\n",
    "    total = samples*batches\n",
    "\n",
    "    for b in range(batches):\n",
    "        for i in range(samples):\n",
    "            if np.sum(y_hat[b,i] - y[b,i]) == 0:\n",
    "                counter += 1\n",
    "    print(\"Antall rette prediksjoner:\", counter)\n",
    "    print(\"Totalt antall prediksjoner:\", total)\n",
    "    print(\"Prosentvis riktige predikasjoner:\", (counter/total)*100, \"%\")\n",
    "    return\n"
   ]
  },
  {
   "cell_type": "markdown",
   "metadata": {},
   "source": [
    "Så kan vi se hvorvidt nettverket vårt klarer å sortere eller ikke."
   ]
  },
  {
   "cell_type": "code",
   "execution_count": 11,
   "metadata": {},
   "outputs": [
    {
     "name": "stdout",
     "output_type": "stream",
     "text": [
      "Antall rette prediksjoner: 1000\n",
      "Totalt antall prediksjoner: 1000\n",
      "Prosentvis riktige predikasjoner: 100.0 %\n"
     ]
    }
   ],
   "source": [
    "#Kaller på prediksjonsfunksjonen\n",
    "y_hats = nn.predict(x_test, 2, 5)\n",
    "#Teller antall rette prediksjoner\n",
    "tell = countCorrect(y_hats, y_test)"
   ]
  },
  {
   "cell_type": "markdown",
   "metadata": {},
   "source": [
    "Når to forskjellige verdier kan forekomme på fem ulike steder, resulterer dette i totalt $32$ mulige kombinasjoner ($2^5 = 32$). Denne mangfoldigheten gjør det praktisk talt umulig å teste algoritmen vår med nye sekvenser. Ideelt sett ville tapet tendert mot null, og prediksjonene ville vært korrekte hver gang, siden algoritmen burde gjenkjenne det riktige svaret ($y$) i stedet for å forutsi neste sekvens. Dette antyder at vektene våre kanskje ikke er optimalt tilpasset."
   ]
  },
  {
   "cell_type": "code",
   "execution_count": 12,
   "metadata": {},
   "outputs": [],
   "source": [
    "#definerer variabler\n",
    "r = 7\n",
    "m = 5\n",
    "n_max = 2*r-1\n",
    "\n",
    "d = 20\n",
    "k = 10\n",
    "p = 25\n",
    "L = 2\n",
    "\n",
    "embed = EmbedPosition(n_max,m,d)\n",
    "att1 = Attention(d,k)\n",
    "att2 = Attention(d,k)\n",
    "\n",
    "ff1 = FeedForward(d,p)\n",
    "ff2 = FeedForward(d,p)\n",
    "\n",
    "un_embed = LinearLayer(d,m)\n",
    "softmax = Softmax()\n",
    "loss = CrossEntropy()\n",
    "\n",
    "nn = NeuralNetwork([embed, att1, ff1, att2, ff2, un_embed, softmax])\n",
    "\n",
    "data = get_train_test_sorting(r, m, samples_per_batch=250,n_batches_train=10, n_batches_test=4)\n",
    "\n",
    "x_train = data['x_train']\n",
    "y_train = data['y_train']\n",
    "x_test = data['x_test']\n",
    "y_test = data['y_test']\n"
   ]
  },
  {
   "cell_type": "code",
   "execution_count": 13,
   "metadata": {},
   "outputs": [
    {
     "name": "stdout",
     "output_type": "stream",
     "text": [
      "Iterasjon  1  L =  1.6003321358241975 \n",
      "Iterasjon  2  L =  1.5655135487219471 \n",
      "Iterasjon  3  L =  1.5221893606932753 \n",
      "Iterasjon  4  L =  1.4611742038199498 \n",
      "Iterasjon  5  L =  1.3667690470283023 \n",
      "Iterasjon  6  L =  1.2219713152063754 \n",
      "Iterasjon  7  L =  1.0321309204348956 \n",
      "Iterasjon  8  L =  0.8673685959533757 \n",
      "Iterasjon  9  L =  0.7614504600401192 \n",
      "Iterasjon  10  L =  0.697426087257442 \n",
      "Iterasjon  11  L =  0.6794858849502486 \n",
      "Iterasjon  12  L =  0.6744016908755699 \n",
      "Iterasjon  13  L =  0.657376541549819 \n",
      "Iterasjon  14  L =  0.6503218032078446 \n",
      "Iterasjon  15  L =  0.6310229652323487 \n",
      "Iterasjon  16  L =  0.6005768479337916 \n",
      "Iterasjon  17  L =  0.5815571300299538 \n",
      "Iterasjon  18  L =  0.5612780769219814 \n",
      "Iterasjon  19  L =  0.5446414763173811 \n",
      "Iterasjon  20  L =  0.5347471861868633 \n",
      "Iterasjon  21  L =  0.51800340904678 \n",
      "Iterasjon  22  L =  0.5177897776759326 \n",
      "Iterasjon  23  L =  0.4986769351950782 \n",
      "Iterasjon  24  L =  0.4977565213857189 \n",
      "Iterasjon  25  L =  0.4766578928521831 \n",
      "Iterasjon  26  L =  0.47240562957182197 \n",
      "Iterasjon  27  L =  0.45720250323101885 \n",
      "Iterasjon  28  L =  0.4495029148871496 \n",
      "Iterasjon  29  L =  0.4367500502611804 \n",
      "Iterasjon  30  L =  0.4238028951194468 \n",
      "Iterasjon  31  L =  0.41062578424127993 \n",
      "Iterasjon  32  L =  0.399341461631737 \n",
      "Iterasjon  33  L =  0.38792001282762506 \n",
      "Iterasjon  34  L =  0.37809996161406645 \n",
      "Iterasjon  35  L =  0.36127585864976036 \n",
      "Iterasjon  36  L =  0.3507482943995383 \n",
      "Iterasjon  37  L =  0.33404130035427987 \n",
      "Iterasjon  38  L =  0.3286399026774454 \n",
      "Iterasjon  39  L =  0.3239121957602672 \n",
      "Iterasjon  40  L =  0.3265028847604545 \n",
      "Iterasjon  41  L =  0.32505154450389784 \n",
      "Iterasjon  42  L =  0.3141367208175456 \n",
      "Iterasjon  43  L =  0.30861812296235264 \n",
      "Iterasjon  44  L =  0.29029620888613705 \n",
      "Iterasjon  45  L =  0.2868299919918357 \n",
      "Iterasjon  46  L =  0.2656029716810823 \n",
      "Iterasjon  47  L =  0.2653922977739661 \n",
      "Iterasjon  48  L =  0.2439553372062327 \n",
      "Iterasjon  49  L =  0.24382045472052 \n",
      "Iterasjon  50  L =  0.22675374667650275 \n",
      "Iterasjon  51  L =  0.22559580847817656 \n",
      "Iterasjon  52  L =  0.21655827579201414 \n",
      "Iterasjon  53  L =  0.21430018596589476 \n",
      "Iterasjon  54  L =  0.20589489612754922 \n",
      "Iterasjon  55  L =  0.20405661777786593 \n",
      "Iterasjon  56  L =  0.19772910514642178 \n",
      "Iterasjon  57  L =  0.19542478247807488 \n",
      "Iterasjon  58  L =  0.19134997080509694 \n",
      "Iterasjon  59  L =  0.18308655157966208 \n",
      "Iterasjon  60  L =  0.16996880939753928 \n",
      "Iterasjon  61  L =  0.16650718384361057 \n",
      "Iterasjon  62  L =  0.15172811469771466 \n",
      "Iterasjon  63  L =  0.15153641161170248 \n",
      "Iterasjon  64  L =  0.1430260023951357 \n",
      "Iterasjon  65  L =  0.13739543258310177 \n",
      "Iterasjon  66  L =  0.13289720134420807 \n",
      "Iterasjon  67  L =  0.12689239385334927 \n",
      "Iterasjon  68  L =  0.12775329430239896 \n",
      "Iterasjon  69  L =  0.12288767742123234 \n",
      "Iterasjon  70  L =  0.12400990994040875 \n",
      "Iterasjon  71  L =  0.12017828879761439 \n",
      "Iterasjon  72  L =  0.11896754170783001 \n",
      "Iterasjon  73  L =  0.11649308448403299 \n",
      "Iterasjon  74  L =  0.11135191732470491 \n",
      "Iterasjon  75  L =  0.12347446273433674 \n",
      "Iterasjon  76  L =  0.11065252933417757 \n",
      "Iterasjon  77  L =  0.1215609371547199 \n",
      "Iterasjon  78  L =  0.11226548089648827 \n",
      "Iterasjon  79  L =  0.11480572355279547 \n",
      "Iterasjon  80  L =  0.10197154185688684 \n",
      "Iterasjon  81  L =  0.10089166143856598 \n",
      "Iterasjon  82  L =  0.08883994191484494 \n",
      "Iterasjon  83  L =  0.08830172537080389 \n",
      "Iterasjon  84  L =  0.08047306802108675 \n",
      "Iterasjon  85  L =  0.08013062373124288 \n",
      "Iterasjon  86  L =  0.07710580928847195 \n",
      "Iterasjon  87  L =  0.07591107721919099 \n",
      "Iterasjon  88  L =  0.0691857511173746 \n",
      "Iterasjon  89  L =  0.06653245940640215 \n",
      "Iterasjon  90  L =  0.05811896395555275 \n",
      "Iterasjon  91  L =  0.053223509616120455 \n",
      "Iterasjon  92  L =  0.04592260998201887 \n",
      "Iterasjon  93  L =  0.04312543050854612 \n",
      "Iterasjon  94  L =  0.03613842472095506 \n",
      "Iterasjon  95  L =  0.031523567893025406 \n",
      "Iterasjon  96  L =  0.02565410747774622 \n",
      "Iterasjon  97  L =  0.021880242607986107 \n",
      "Iterasjon  98  L =  0.02047285455725917 \n",
      "Iterasjon  99  L =  0.018695326115461795 \n",
      "Iterasjon  100  L =  0.017352210871439823 \n",
      "Iterasjon  101  L =  0.016051282471228036 \n",
      "Iterasjon  102  L =  0.015033323932281073 \n",
      "Iterasjon  103  L =  0.01433134575072464 \n",
      "Iterasjon  104  L =  0.013644081558681609 \n",
      "Iterasjon  105  L =  0.013048173924636914 \n",
      "Iterasjon  106  L =  0.012448521424993118 \n",
      "Iterasjon  107  L =  0.0119372906469665 \n",
      "Iterasjon  108  L =  0.011490597324938363 \n",
      "Iterasjon  109  L =  0.011026199404772473 \n",
      "Iterasjon  110  L =  0.010616892324028085 \n",
      "Iterasjon  111  L =  0.010224556771656214 \n",
      "Iterasjon  112  L =  0.009849641797423906 \n",
      "Iterasjon  113  L =  0.00950136198860318 \n",
      "Iterasjon  114  L =  0.009156561858390163 \n",
      "Iterasjon  115  L =  0.008838066195995038 \n",
      "Iterasjon  116  L =  0.008532486032334686 \n",
      "Iterasjon  117  L =  0.008237184282372233 \n",
      "Iterasjon  118  L =  0.00796330468645726 \n",
      "Iterasjon  119  L =  0.007698625343123938 \n",
      "Iterasjon  120  L =  0.007446884457860211 \n",
      "Iterasjon  121  L =  0.007208334209469031 \n",
      "Iterasjon  122  L =  0.00697727295794825 \n",
      "Iterasjon  123  L =  0.006757311004524823 \n",
      "Iterasjon  124  L =  0.006546563693532957 \n",
      "Iterasjon  125  L =  0.00634482181204177 \n",
      "Iterasjon  126  L =  0.006152480285397304 \n",
      "Iterasjon  127  L =  0.005967996661655358 \n",
      "Iterasjon  128  L =  0.0057916074204732194 \n",
      "Iterasjon  129  L =  0.00562247052150567 \n",
      "Iterasjon  130  L =  0.005459978367724809 \n",
      "Iterasjon  131  L =  0.005303750239130433 \n",
      "Iterasjon  132  L =  0.005153351826331601 \n",
      "Iterasjon  133  L =  0.0050089208607035285 \n",
      "Iterasjon  134  L =  0.004870372706774658 \n",
      "Iterasjon  135  L =  0.0047368460070432335 \n",
      "Iterasjon  136  L =  0.004608524476778054 \n",
      "Iterasjon  137  L =  0.0044847163342805075 \n",
      "Iterasjon  138  L =  0.004365327050166738 \n",
      "Iterasjon  139  L =  0.0042503849545258866 \n",
      "Iterasjon  140  L =  0.004139394680285879 \n",
      "Iterasjon  141  L =  0.004032260020877257 \n",
      "Iterasjon  142  L =  0.003928857510658341 \n",
      "Iterasjon  143  L =  0.0038290693740227677 \n",
      "Iterasjon  144  L =  0.0037325659359126843 \n",
      "Iterasjon  145  L =  0.0036391864150121947 \n",
      "Iterasjon  146  L =  0.003548917857471301 \n",
      "Iterasjon  147  L =  0.0034614759168251725 \n",
      "Iterasjon  148  L =  0.0033768652298464125 \n",
      "Iterasjon  149  L =  0.003294909499086353 \n",
      "Iterasjon  150  L =  0.003215562102680455 \n",
      "Iterasjon  151  L =  0.003138813055175372 \n",
      "Iterasjon  152  L =  0.003064347452939469 \n",
      "Iterasjon  153  L =  0.002992194542797986 \n",
      "Iterasjon  154  L =  0.0029221747976006544 \n",
      "Iterasjon  155  L =  0.0028541932545764473 \n",
      "Iterasjon  156  L =  0.002788198896054008 \n",
      "Iterasjon  157  L =  0.002724068015178826 \n",
      "Iterasjon  158  L =  0.0026617555827983335 \n",
      "Iterasjon  159  L =  0.0026012634996474817 \n",
      "Iterasjon  160  L =  0.00254253279388516 \n",
      "Iterasjon  161  L =  0.002485431894762155 \n",
      "Iterasjon  162  L =  0.0024299212422319583 \n",
      "Iterasjon  163  L =  0.0023760138754374124 \n",
      "Iterasjon  164  L =  0.002323653934468791 \n",
      "Iterasjon  165  L =  0.0022727089023860136 \n",
      "Iterasjon  166  L =  0.0022231936856869977 \n",
      "Iterasjon  167  L =  0.002175076808093799 \n",
      "Iterasjon  168  L =  0.0021282741205815203 \n",
      "Iterasjon  169  L =  0.00208278099114745 \n",
      "Iterasjon  170  L =  0.002038657453439255 \n",
      "Iterasjon  171  L =  0.0019956483596107327 \n",
      "Iterasjon  172  L =  0.001953810844766448 \n",
      "Iterasjon  173  L =  0.00191311444915041 \n",
      "Iterasjon  174  L =  0.0018735237310875297 \n",
      "Iterasjon  175  L =  0.0018349082697917726 \n",
      "Iterasjon  176  L =  0.0017972578200806482 \n",
      "Iterasjon  177  L =  0.0017605967537101016 \n",
      "Iterasjon  178  L =  0.0017249446215888895 \n",
      "Iterasjon  179  L =  0.0016902078504311968 \n",
      "Iterasjon  180  L =  0.0016564096385407359 \n",
      "Iterasjon  181  L =  0.0016234724178687085 \n",
      "Iterasjon  182  L =  0.0015913616116610817 \n",
      "Iterasjon  183  L =  0.0015600330774084624 \n",
      "Iterasjon  184  L =  0.0015294941517628366 \n",
      "Iterasjon  185  L =  0.0014997413034976172 \n",
      "Iterasjon  186  L =  0.0014707223653468752 \n",
      "Iterasjon  187  L =  0.001442409847699552 \n",
      "Iterasjon  188  L =  0.0014147817392807806 \n",
      "Iterasjon  189  L =  0.001387796099639974 \n",
      "Iterasjon  190  L =  0.0013614688196682367 \n",
      "Iterasjon  191  L =  0.001335799037104424 \n",
      "Iterasjon  192  L =  0.001310742549561096 \n",
      "Iterasjon  193  L =  0.0012863741336862707 \n",
      "Iterasjon  194  L =  0.001262637994164058 \n",
      "Iterasjon  195  L =  0.001239461076003807 \n",
      "Iterasjon  196  L =  0.0012168532923715713 \n",
      "Iterasjon  197  L =  0.001194840164475379 \n",
      "Iterasjon  198  L =  0.0011733412362838814 \n",
      "Iterasjon  199  L =  0.001152324342132824 \n",
      "Iterasjon  200  L =  0.0011318268896794664 \n",
      "Iterasjon  201  L =  0.0011118094650976506 \n",
      "Iterasjon  202  L =  0.0010922884968609992 \n",
      "Iterasjon  203  L =  0.0010732337387578822 \n",
      "Iterasjon  204  L =  0.0010545946734682521 \n",
      "Iterasjon  205  L =  0.001036415157759062 \n",
      "Iterasjon  206  L =  0.0010186586091509087 \n",
      "Iterasjon  207  L =  0.001001263391025539 \n",
      "Iterasjon  208  L =  0.0009842814340695692 \n",
      "Iterasjon  209  L =  0.000967683748716585 \n",
      "Iterasjon  210  L =  0.0009514361142388692 \n",
      "Iterasjon  211  L =  0.0009355445736022004 \n",
      "Iterasjon  212  L =  0.0009200246062458946 \n",
      "Iterasjon  213  L =  0.0009048367116489724 \n",
      "Iterasjon  214  L =  0.0008899770110867933 \n",
      "Iterasjon  215  L =  0.0008754342814833498 \n",
      "Iterasjon  216  L =  0.0008611994429374232 \n",
      "Iterasjon  217  L =  0.0008473002770462423 \n",
      "Iterasjon  218  L =  0.0008337104777497226 \n",
      "Iterasjon  219  L =  0.0008203940070041309 \n",
      "Iterasjon  220  L =  0.0008073639771206008 \n",
      "Iterasjon  221  L =  0.0007946111539974245 \n",
      "Iterasjon  222  L =  0.0007821224302995965 \n",
      "Iterasjon  223  L =  0.0007698882073896072 \n",
      "Iterasjon  224  L =  0.0007579044997070046 \n",
      "Iterasjon  225  L =  0.0007461694432819258 \n",
      "Iterasjon  226  L =  0.0007346756907286304 \n",
      "Iterasjon  227  L =  0.0007234166717390788 \n",
      "Iterasjon  228  L =  0.0007123770785449489 \n",
      "Iterasjon  229  L =  0.0007015631618996858 \n",
      "Iterasjon  230  L =  0.0006909855998648418 \n",
      "Iterasjon  231  L =  0.0006806160996975503 \n",
      "Iterasjon  232  L =  0.0006704428226215808 \n",
      "Iterasjon  233  L =  0.0006604744267215814 \n",
      "Iterasjon  234  L =  0.0006507013171526282 \n",
      "Iterasjon  235  L =  0.0006411165221002666 \n",
      "Iterasjon  236  L =  0.0006317418429298215 \n",
      "Iterasjon  237  L =  0.0006224985288596424 \n",
      "Iterasjon  238  L =  0.0006134160908972573 \n",
      "Iterasjon  239  L =  0.0006045074078668834 \n",
      "Iterasjon  240  L =  0.000595789107327817 \n",
      "Iterasjon  241  L =  0.0005872427148486751 \n",
      "Iterasjon  242  L =  0.0005788505187697961 \n",
      "Iterasjon  243  L =  0.0005706074584234141 \n",
      "Iterasjon  244  L =  0.0005625142618334723 \n",
      "Iterasjon  245  L =  0.0005545735954319583 \n",
      "Iterasjon  246  L =  0.0005467767388708577 \n",
      "Iterasjon  247  L =  0.0005391247060067861 \n",
      "Iterasjon  248  L =  0.0005316071842098396 \n",
      "Iterasjon  249  L =  0.0005242196414628499 \n",
      "Iterasjon  250  L =  0.0005169692550277866 \n",
      "Iterasjon  251  L =  0.0005098553575144006 \n",
      "Iterasjon  252  L =  0.0005028633865215139 \n",
      "Iterasjon  253  L =  0.0004960004444705823 \n",
      "Iterasjon  254  L =  0.0004892567460541717 \n",
      "Iterasjon  255  L =  0.00048262730145551773 \n",
      "Iterasjon  256  L =  0.0004761083375648227 \n",
      "Iterasjon  257  L =  0.00046970283555249255 \n",
      "Iterasjon  258  L =  0.0004634100901603733 \n",
      "Iterasjon  259  L =  0.00045722210398008444 \n",
      "Iterasjon  260  L =  0.00045114449398633345 \n",
      "Iterasjon  261  L =  0.00044516729441431416 \n",
      "Iterasjon  262  L =  0.0004392897744855386 \n",
      "Iterasjon  263  L =  0.00043351181787157106 \n",
      "Iterasjon  264  L =  0.00042782709761963734 \n",
      "Iterasjon  265  L =  0.0004222349483434912 \n",
      "Iterasjon  266  L =  0.0004167394735555323 \n",
      "Iterasjon  267  L =  0.0004113389511119133 \n",
      "Iterasjon  268  L =  0.000406056907915727 \n",
      "Iterasjon  269  L =  0.00040082427347548156 \n",
      "Iterasjon  270  L =  0.000395641443427759 \n",
      "Iterasjon  271  L =  0.0003906242304300247 \n",
      "Iterasjon  272  L =  0.00038566132041807156 \n",
      "Iterasjon  273  L =  0.00038075440954471603 \n",
      "Iterasjon  274  L =  0.00037593602078378957 \n",
      "Iterasjon  275  L =  0.0003711939017716821 \n",
      "Iterasjon  276  L =  0.0003665161097201104 \n",
      "Iterasjon  277  L =  0.0003618937797312916 \n",
      "Iterasjon  278  L =  0.00035740019196206567 \n",
      "Iterasjon  279  L =  0.00035295950289355614 \n",
      "Iterasjon  280  L =  0.0003485596427495748 \n",
      "Iterasjon  281  L =  0.00034423089820428656 \n",
      "Iterasjon  282  L =  0.00033998268059131276 \n",
      "Iterasjon  283  L =  0.0003357995383061553 \n",
      "Iterasjon  284  L =  0.00033165778036079623 \n",
      "Iterasjon  285  L =  0.00032762932578438077 \n",
      "Iterasjon  286  L =  0.0003236417492351996 \n",
      "Iterasjon  287  L =  0.00031969794336837 \n",
      "Iterasjon  288  L =  0.00031581853218444505 \n",
      "Iterasjon  289  L =  0.0003120020822506869 \n",
      "Iterasjon  290  L =  0.0003082407062206652 \n",
      "Iterasjon  291  L =  0.00030451748215422906 \n",
      "Iterasjon  292  L =  0.0003008964682341691 \n",
      "Iterasjon  293  L =  0.0002973103362247502 \n",
      "Iterasjon  294  L =  0.0002937648206421946 \n",
      "Iterasjon  295  L =  0.00029027532800936765 \n",
      "Iterasjon  296  L =  0.00028684039112479207 \n",
      "Iterasjon  297  L =  0.00028345789029024445 \n",
      "Iterasjon  298  L =  0.0002801245471803403 \n",
      "Iterasjon  299  L =  0.0002768233073866763 \n",
      "Iterasjon  300  L =  0.0002736081740715933 \n"
     ]
    },
    {
     "data": {
      "image/png": "[encoded data removed]",
      "text/plain": [
       "<Figure size 432x288 with 1 Axes>"
      ]
     },
     "metadata": {
      "needs_background": "light"
     },
     "output_type": "display_data"
    }
   ],
   "source": [
    "losses = train_network(nn, data['x_train'], data['y_train'], 300, 0.001, m, 6, 13)"
   ]
  },
  {
   "cell_type": "code",
   "execution_count": 15,
   "metadata": {},
   "outputs": [
    {
     "name": "stdout",
     "output_type": "stream",
     "text": [
      "Antall rette prediksjoner: 999\n",
      "Totalt antall prediksjoner: 1000\n",
      "Prosentvis riktige predikasjoner: 99.9 %\n"
     ]
    }
   ],
   "source": [
    "#Henter prediksjonsfunksjonen\n",
    "y_hats = nn.predict(x_test, 5, 7)\n",
    "\n",
    "tell = countCorrect(y_hats, y_test)"
   ]
  },
  {
   "cell_type": "code",
   "execution_count": 16,
   "metadata": {},
   "outputs": [],
   "source": [
    "from data_generators import get_train_test_addition\n",
    "#definerer variabler\n",
    "r = 4\n",
    "m = 10\n",
    "n_max = 3*r\n",
    "\n",
    "d = 30\n",
    "k = 20\n",
    "p = 40\n",
    "L = 3\n",
    "\n",
    "#Lager 3 lag til nn\n",
    "att1 = Attention(d,k)\n",
    "att2 = Attention(d,k)\n",
    "att3 = Attention(d,k)\n",
    "\n",
    "ff1 = FeedForward(d,p)\n",
    "ff2 = FeedForward(d,p)\n",
    "ff3 = FeedForward(d,p)\n",
    "\n",
    "embed = EmbedPosition(n_max,m,d)\n",
    "un_embed = LinearLayer(d,m)\n",
    "softmax = Softmax()\n",
    "loss = CrossEntropy()\n",
    "\n",
    "#Lager det nevrale nettverket på nytt\n",
    "nn = NeuralNetwork([embed, att1, ff1, att2, ff2, att3, ff3, un_embed, softmax])\n",
    "#implementerer trenignsdata. 2 siffer i tallene vi adderer, 20 batches med 250 samples per batch, og 4 batches vi kan teste med\n",
    "data = get_train_test_addition(2, samples_per_batch=250,n_batches_train=20, n_batches_test=4)\n",
    "#Henter ut data\n",
    "x_train = data['x_train']\n",
    "y_train = data['y_train']\n",
    "x_test = data['x_test']\n",
    "y_test = data['y_test']"
   ]
  },
  {
   "cell_type": "code",
   "execution_count": 17,
   "metadata": {},
   "outputs": [
    {
     "name": "stdout",
     "output_type": "stream",
     "text": [
      "Iterasjon  1  L =  2.2454979898195773 \n",
      "Iterasjon  2  L =  1.999142133223404 \n",
      "Iterasjon  3  L =  1.7835447430115778 \n",
      "Iterasjon  4  L =  1.7400087829091049 \n",
      "Iterasjon  5  L =  1.6752067959854529 \n",
      "Iterasjon  6  L =  1.5976970746610246 \n",
      "Iterasjon  7  L =  1.550178853304426 \n",
      "Iterasjon  8  L =  1.53458898862377 \n",
      "Iterasjon  9  L =  1.5259607595509872 \n",
      "Iterasjon  10  L =  1.5120530482382084 \n",
      "Iterasjon  11  L =  1.4900824243634065 \n",
      "Iterasjon  12  L =  1.4539015127928512 \n",
      "Iterasjon  13  L =  1.4062846638888966 \n",
      "Iterasjon  14  L =  1.3596949914921823 \n",
      "Iterasjon  15  L =  1.2769149930329733 \n",
      "Iterasjon  16  L =  1.2092653762540908 \n",
      "Iterasjon  17  L =  1.1470840264198094 \n",
      "Iterasjon  18  L =  1.0558493766480448 \n",
      "Iterasjon  19  L =  0.9845398928651334 \n",
      "Iterasjon  20  L =  0.9595488341518476 \n",
      "Iterasjon  21  L =  0.8985564407183373 \n",
      "Iterasjon  22  L =  0.7600633718932872 \n",
      "Iterasjon  23  L =  0.6677284020966561 \n",
      "Iterasjon  24  L =  0.6208117916910946 \n",
      "Iterasjon  25  L =  0.5809929764400217 \n",
      "Iterasjon  26  L =  0.5725119599511065 \n",
      "Iterasjon  27  L =  0.6492108293435794 \n",
      "Iterasjon  28  L =  0.5970577888418919 \n",
      "Iterasjon  29  L =  0.5288907771568753 \n",
      "Iterasjon  30  L =  0.4902072812623814 \n",
      "Iterasjon  31  L =  0.48576794650401 \n",
      "Iterasjon  32  L =  0.4876412046092442 \n",
      "Iterasjon  33  L =  0.4622800307009392 \n",
      "Iterasjon  34  L =  0.44391305481468085 \n",
      "Iterasjon  35  L =  0.4054749158888599 \n",
      "Iterasjon  36  L =  0.3638226746682934 \n",
      "Iterasjon  37  L =  0.3289853121684463 \n",
      "Iterasjon  38  L =  0.29088718547516984 \n",
      "Iterasjon  39  L =  0.2578671167000468 \n",
      "Iterasjon  40  L =  0.2660804978884271 \n",
      "Iterasjon  41  L =  0.2857673252383713 \n",
      "Iterasjon  42  L =  0.30477232772194035 \n",
      "Iterasjon  43  L =  0.37572448697772576 \n",
      "Iterasjon  44  L =  0.375813871959192 \n",
      "Iterasjon  45  L =  0.33407478874057456 \n",
      "Iterasjon  46  L =  0.2356060242431493 \n",
      "Iterasjon  47  L =  0.1838025565250608 \n",
      "Iterasjon  48  L =  0.16279093440265738 \n",
      "Iterasjon  49  L =  0.15624154495213735 \n",
      "Iterasjon  50  L =  0.15710005945639954 \n",
      "Iterasjon  51  L =  0.1684792778296421 \n",
      "Iterasjon  52  L =  0.31924905904505363 \n",
      "Iterasjon  53  L =  0.45337232506135566 \n",
      "Iterasjon  54  L =  0.5285847523152825 \n",
      "Iterasjon  55  L =  0.33781204803545944 \n",
      "Iterasjon  56  L =  0.21852565727507517 \n",
      "Iterasjon  57  L =  0.14721984550472852 \n",
      "Iterasjon  58  L =  0.11011052255662912 \n",
      "Iterasjon  59  L =  0.08847507220474392 \n",
      "Iterasjon  60  L =  0.07291776792330174 \n",
      "Iterasjon  61  L =  0.06187244465700805 \n",
      "Iterasjon  62  L =  0.05341260054226996 \n",
      "Iterasjon  63  L =  0.046732783861862186 \n",
      "Iterasjon  64  L =  0.04171526345424334 \n",
      "Iterasjon  65  L =  0.03767752449222487 \n",
      "Iterasjon  66  L =  0.03652725640031594 \n",
      "Iterasjon  67  L =  0.037104464630657676 \n",
      "Iterasjon  68  L =  0.0346973611882627 \n",
      "Iterasjon  69  L =  0.030737397493317963 \n",
      "Iterasjon  70  L =  0.03277408671385593 \n",
      "Iterasjon  71  L =  0.06152848138056345 \n",
      "Iterasjon  72  L =  0.5824796742863293 \n",
      "Iterasjon  73  L =  0.8237420746866002 \n",
      "Iterasjon  74  L =  0.5532209942990912 \n",
      "Iterasjon  75  L =  0.31206481977454087 \n",
      "Iterasjon  76  L =  0.1621193966652895 \n",
      "Iterasjon  77  L =  0.10291411133827824 \n",
      "Iterasjon  78  L =  0.06599877340483733 \n",
      "Iterasjon  79  L =  0.04856515474538177 \n",
      "Iterasjon  80  L =  0.036415083014103115 \n",
      "Iterasjon  81  L =  0.028575786685156722 \n",
      "Iterasjon  82  L =  0.023523564254022543 \n",
      "Iterasjon  83  L =  0.019938668963608387 \n",
      "Iterasjon  84  L =  0.016956612214751955 \n",
      "Iterasjon  85  L =  0.014640347114990413 \n",
      "Iterasjon  86  L =  0.012822627077872305 \n",
      "Iterasjon  87  L =  0.011290880344871416 \n",
      "Iterasjon  88  L =  0.00996931864973796 \n",
      "Iterasjon  89  L =  0.008865150313768836 \n",
      "Iterasjon  90  L =  0.007942610863607081 \n",
      "Iterasjon  91  L =  0.007150232375007534 \n",
      "Iterasjon  92  L =  0.00647050612528257 \n",
      "Iterasjon  93  L =  0.005884537699670583 \n",
      "Iterasjon  94  L =  0.005374683609518379 \n",
      "Iterasjon  95  L =  0.004931715837256331 \n",
      "Iterasjon  96  L =  0.004537369914033236 \n",
      "Iterasjon  97  L =  0.0041905186978277754 \n",
      "Iterasjon  98  L =  0.003876803507918549 \n",
      "Iterasjon  99  L =  0.003598607901841141 \n",
      "Iterasjon  100  L =  0.003347461997901806 \n",
      "Iterasjon  101  L =  0.003123571724709461 \n",
      "Iterasjon  102  L =  0.0029211833226468267 \n",
      "Iterasjon  103  L =  0.0027388163914280747 \n",
      "Iterasjon  104  L =  0.0025744077619671733 \n",
      "Iterasjon  105  L =  0.0024245841250728557 \n",
      "Iterasjon  106  L =  0.0022885356522126003 \n",
      "Iterasjon  107  L =  0.0021623438054255402 \n",
      "Iterasjon  108  L =  0.0020479319733614732 \n",
      "Iterasjon  109  L =  0.0019409760541086898 \n",
      "Iterasjon  110  L =  0.001843360194632122 \n",
      "Iterasjon  111  L =  0.0017515449220235012 \n",
      "Iterasjon  112  L =  0.0016678866277801577 \n",
      "Iterasjon  113  L =  0.0015889296988660455 \n",
      "Iterasjon  114  L =  0.0015164173361741265 \n",
      "Iterasjon  115  L =  0.001447951237967421 \n",
      "Iterasjon  116  L =  0.0013840454393812378 \n",
      "Iterasjon  117  L =  0.0013249570871254736 \n",
      "Iterasjon  118  L =  0.0012688745879412817 \n",
      "Iterasjon  119  L =  0.0012168337357566423 \n",
      "Iterasjon  120  L =  0.0011672909835376236 \n",
      "Iterasjon  121  L =  0.001121174740978363 \n",
      "Iterasjon  122  L =  0.0010772475206418605 \n",
      "Iterasjon  123  L =  0.0010363807458985508 \n",
      "Iterasjon  124  L =  0.0009974464486841562 \n",
      "Iterasjon  125  L =  0.0009606304036323153 \n",
      "Iterasjon  126  L =  0.0009260839407176211 \n",
      "Iterasjon  127  L =  0.000893057274681614 \n",
      "Iterasjon  128  L =  0.0008620749666129248 \n",
      "Iterasjon  129  L =  0.0008323136511209611 \n",
      "Iterasjon  130  L =  0.0008043025441075883 \n",
      "Iterasjon  131  L =  0.0007773458505750273 \n",
      "Iterasjon  132  L =  0.0007519303742422621 \n",
      "Iterasjon  133  L =  0.0007274046734413903 \n",
      "Iterasjon  134  L =  0.0007042893604036725 \n",
      "Iterasjon  135  L =  0.0006820654320984949 \n",
      "Iterasjon  136  L =  0.0006608255199859934 \n",
      "Iterasjon  137  L =  0.0006406239113920172 \n",
      "Iterasjon  138  L =  0.0006211342027747839 \n",
      "Iterasjon  139  L =  0.0006026194388816573 \n",
      "Iterasjon  140  L =  0.0005847274594421084 \n",
      "Iterasjon  141  L =  0.000567720647389517 \n",
      "Iterasjon  142  L =  0.0005512466716657591 \n",
      "Iterasjon  143  L =  0.0005355783970787429 \n",
      "Iterasjon  144  L =  0.0005204286848278074 \n",
      "Iterasjon  145  L =  0.0005059971426241616 \n",
      "Iterasjon  146  L =  0.0004920321747044263 \n",
      "Iterasjon  147  L =  0.0004786860093788435 \n",
      "Iterasjon  148  L =  0.00046570868954291756 \n",
      "Iterasjon  149  L =  0.0004533376743788623 \n",
      "Iterasjon  150  L =  0.0004413227956298513 \n"
     ]
    },
    {
     "data": {
      "image/png": "[encoded data removed]",
      "text/plain": [
       "<Figure size 432x288 with 1 Axes>"
      ]
     },
     "metadata": {
      "needs_background": "light"
     },
     "output_type": "display_data"
    }
   ],
   "source": [
    "#Beregner og skriver ut loss for hver itterasjon\n",
    "losses = train_network(nn, data['x_train'], data['y_train'], 150, 0.001, m, 3, 6)"
   ]
  },
  {
   "cell_type": "markdown",
   "metadata": {},
   "source": [
    "Som vi ser fra figuren minimerer vi objektfunksjonen ved flere itterasjoner. "
   ]
  },
  {
   "cell_type": "code",
   "execution_count": 20,
   "metadata": {},
   "outputs": [
    {
     "name": "stdout",
     "output_type": "stream",
     "text": [
      "Antall rette prediksjoner: 1000\n",
      "Totalt antall prediksjoner: 1000\n",
      "Prosentvis riktige predikasjoner: 100.0 %\n"
     ]
    }
   ],
   "source": [
    "#Beregner antall riktige prediksjoner av testdataen opp mot testdataen\n",
    "y_hats = nn.predict(x_test, 10, 3)\n",
    "\n",
    "Tell = countCorrect(y_hats, np.flip(y_test))"
   ]
  }
 ],
 "metadata": {
  "kernelspec": {
   "display_name": "Python 3",
   "language": "python",
   "name": "python3"
  },
  "language_info": {
   "codemirror_mode": {
    "name": "ipython",
    "version": 3
   },
   "file_extension": ".py",
   "mimetype": "text/x-python",
   "name": "python",
   "nbconvert_exporter": "python",
   "pygments_lexer": "ipython3",
   "version": "3.9.12"
  }
 },
 "nbformat": 4,
 "nbformat_minor": 2
}
