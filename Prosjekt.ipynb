{
 "cells": [
  {
   "cell_type": "markdown",
   "metadata": {},
   "source": [
    "# Indmat prosjekt\n",
    "###### Liva Berge Flo, André Pettersen-Dahl, Herman Neple\n",
    "\n",
    "#### Oppgave 1"
   ]
  },
  {
   "cell_type": "markdown",
   "metadata": {},
   "source": [
    "#### Oppgave 3\n",
    "\n",
    "3.1"
   ]
  },
  {
   "cell_type": "markdown",
   "metadata": {},
   "source": [
    "Vi begynner med å importere alle bibliotek vi trenger"
   ]
  },
  {
   "cell_type": "code",
   "execution_count": 1,
   "metadata": {},
   "outputs": [],
   "source": [
    "from layers import *\n",
    "from neural_network import NeuralNetwork\n",
    "from utils import onehot\n",
    "import numpy as np\n",
    "from data_generators import get_train_test_sorting\n",
    "import matplotlib.pyplot as plt"
   ]
  },
  {
   "cell_type": "markdown",
   "metadata": {},
   "source": [
    "For å teste om lagene vi har implementert fungerer, kan vi manuelt kjøre gjennom algoritmen. Vi starter med å initalisere lagene til det nevrale nettverk."
   ]
  },
  {
   "cell_type": "code",
   "execution_count": 2,
   "metadata": {},
   "outputs": [
    {
     "ename": "NameError",
     "evalue": "name 'm' is not defined",
     "output_type": "error",
     "traceback": [
      "\u001b[1;31m---------------------------------------------------------------------------\u001b[0m",
      "\u001b[1;31mNameError\u001b[0m                                 Traceback (most recent call last)",
      "Input \u001b[1;32mIn [2]\u001b[0m, in \u001b[0;36m<cell line: 2>\u001b[1;34m()\u001b[0m\n\u001b[0;32m      1\u001b[0m x \u001b[38;5;241m=\u001b[39m np\u001b[38;5;241m.\u001b[39marray([[\u001b[38;5;241m0\u001b[39m,\u001b[38;5;241m1\u001b[39m,\u001b[38;5;241m2\u001b[39m,\u001b[38;5;241m3\u001b[39m]])\n\u001b[1;32m----> 2\u001b[0m X \u001b[38;5;241m=\u001b[39m onehot(x, \u001b[43mm\u001b[49m)\n\u001b[0;32m      4\u001b[0m z0 \u001b[38;5;241m=\u001b[39m embed\u001b[38;5;241m.\u001b[39mforward(X)\n\u001b[0;32m      5\u001b[0m z11 \u001b[38;5;241m=\u001b[39m att1\u001b[38;5;241m.\u001b[39mforward(z0)\n",
      "\u001b[1;31mNameError\u001b[0m: name 'm' is not defined"
     ]
    }
   ],
   "source": [
    "x = np.array([[0,1,2,3]])\n",
    "X = onehot(x, m)\n",
    "\n",
    "z0 = embed.forward(X)\n",
    "z11 = att1.forward(z0)\n",
    "z12 = ff1.forward(z11)\n",
    "z2 = un_embed.forward(z12)\n",
    "Z = softmax.forward(z2)\n"
   ]
  },
  {
   "cell_type": "markdown",
   "metadata": {},
   "source": [
    "Vi kan da endelig sjekke loss-funksjonens verdi"
   ]
  },
  {
   "cell_type": "code",
   "execution_count": null,
   "metadata": {},
   "outputs": [
    {
     "name": "stdout",
     "output_type": "stream",
     "text": [
      "Unexpected exception formatting exception. Falling back to standard exception\n"
     ]
    },
    {
     "name": "stderr",
     "output_type": "stream",
     "text": [
      "Traceback (most recent call last):\n",
      "  File \"/Users/hermanneple/Library/Python/3.11/lib/python/site-packages/IPython/core/interactiveshell.py\", line 3442, in run_code\n",
      "    exec(code_obj, self.user_global_ns, self.user_ns)\n",
      "  File \"/var/folders/yf/2n4jp8f93hj5rp6k94wjwj8h0000gn/T/ipykernel_14454/853391953.py\", line 1, in <module>\n",
      "    L = loss.forward(Z, onehot(np.array([[0]]), m))\n",
      "        ^^^^^^^^^^^^^^^^^^^^^^^^^^^^^^^^^^^^^^^^^^^\n",
      "  File \"/Users/hermanneple/Documents/Fag/Vitber/TMA4320-Prosjekt-2/layers.py\", line 197, in forward\n",
      "  File \"/Users/hermanneple/Documents/Fag/Vitber/TMA4320-Prosjekt-2/utils.py\", line 20, in onehot\n",
      "    b,n = x.shape\n",
      "    ^^^\n",
      "ValueError: too many values to unpack (expected 2)\n",
      "\n",
      "During handling of the above exception, another exception occurred:\n",
      "\n",
      "Traceback (most recent call last):\n",
      "  File \"/Users/hermanneple/Library/Python/3.11/lib/python/site-packages/IPython/core/interactiveshell.py\", line 2057, in showtraceback\n",
      "    stb = self.InteractiveTB.structured_traceback(\n",
      "          ^^^^^^^^^^^^^^^^^^^^^^^^^^^^^^^^^^^^^^^^\n",
      "  File \"/Users/hermanneple/Library/Python/3.11/lib/python/site-packages/IPython/core/ultratb.py\", line 1118, in structured_traceback\n",
      "    return FormattedTB.structured_traceback(\n",
      "           ^^^^^^^^^^^^^^^^^^^^^^^^^^^^^^^^^\n",
      "  File \"/Users/hermanneple/Library/Python/3.11/lib/python/site-packages/IPython/core/ultratb.py\", line 1012, in structured_traceback\n",
      "    return VerboseTB.structured_traceback(\n",
      "           ^^^^^^^^^^^^^^^^^^^^^^^^^^^^^^^\n",
      "  File \"/Users/hermanneple/Library/Python/3.11/lib/python/site-packages/IPython/core/ultratb.py\", line 865, in structured_traceback\n",
      "    formatted_exception = self.format_exception_as_a_whole(etype, evalue, etb, number_of_lines_of_context,\n",
      "                          ^^^^^^^^^^^^^^^^^^^^^^^^^^^^^^^^^^^^^^^^^^^^^^^^^^^^^^^^^^^^^^^^^^^^^^^^^^^^^^^^\n",
      "  File \"/Users/hermanneple/Library/Python/3.11/lib/python/site-packages/IPython/core/ultratb.py\", line 818, in format_exception_as_a_whole\n",
      "    frames.append(self.format_record(r))\n",
      "                  ^^^^^^^^^^^^^^^^^^^^^\n",
      "  File \"/Users/hermanneple/Library/Python/3.11/lib/python/site-packages/IPython/core/ultratb.py\", line 736, in format_record\n",
      "    result += ''.join(_format_traceback_lines(frame_info.lines, Colors, self.has_colors, lvals))\n",
      "                                              ^^^^^^^^^^^^^^^^\n",
      "  File \"/Users/hermanneple/Library/Python/3.11/lib/python/site-packages/stack_data/utils.py\", line 144, in cached_property_wrapper\n",
      "    value = obj.__dict__[self.func.__name__] = self.func(obj)\n",
      "                                               ^^^^^^^^^^^^^^\n",
      "  File \"/Users/hermanneple/Library/Python/3.11/lib/python/site-packages/stack_data/core.py\", line 734, in lines\n",
      "    pieces = self.included_pieces\n",
      "             ^^^^^^^^^^^^^^^^^^^^\n",
      "  File \"/Users/hermanneple/Library/Python/3.11/lib/python/site-packages/stack_data/utils.py\", line 144, in cached_property_wrapper\n",
      "    value = obj.__dict__[self.func.__name__] = self.func(obj)\n",
      "                                               ^^^^^^^^^^^^^^\n",
      "  File \"/Users/hermanneple/Library/Python/3.11/lib/python/site-packages/stack_data/core.py\", line 681, in included_pieces\n",
      "    pos = scope_pieces.index(self.executing_piece)\n",
      "                             ^^^^^^^^^^^^^^^^^^^^\n",
      "  File \"/Users/hermanneple/Library/Python/3.11/lib/python/site-packages/stack_data/utils.py\", line 144, in cached_property_wrapper\n",
      "    value = obj.__dict__[self.func.__name__] = self.func(obj)\n",
      "                                               ^^^^^^^^^^^^^^\n",
      "  File \"/Users/hermanneple/Library/Python/3.11/lib/python/site-packages/stack_data/core.py\", line 660, in executing_piece\n",
      "    return only(\n",
      "           ^^^^^\n",
      "  File \"/Users/hermanneple/Library/Python/3.11/lib/python/site-packages/executing/executing.py\", line 190, in only\n",
      "    raise NotOneValueFound('Expected one value, found 0')\n",
      "executing.executing.NotOneValueFound: Expected one value, found 0\n"
     ]
    }
   ],
   "source": [
    "L = loss.forward(Z, onehot(np.array([[0]]), m))"
   ]
  },
  {
   "cell_type": "code",
   "execution_count": 12,
   "metadata": {},
   "outputs": [],
   "source": [
    "#definerer variabler\n",
    "r = 5\n",
    "m = 2\n",
    "\n",
    "d = 10\n",
    "k = 5\n",
    "p = 15\n",
    "L = 2\n",
    "\n",
    "embed = EmbedPosition(9,m,d)\n",
    "att1 = Attention(d,k)\n",
    "ff1 = FeedForward(d,p)\n",
    "un_embed = LinearLayer(d,m)\n",
    "softmax = Softmax()\n",
    "loss = CrossEntropy()\n",
    "\n",
    "nn = NeuralNetwork([embed, att1, ff1, un_embed, softmax])\n",
    "\n",
    "data = get_train_test_sorting(r, m, samples_per_batch=250,n_batches_train=10, n_batches_test=4)\n",
    "\n",
    "x_train = data['x_train']\n",
    "y_train = data['y_train']\n"
   ]
  },
  {
   "cell_type": "code",
   "execution_count": 5,
   "metadata": {},
   "outputs": [],
   "source": [
    "def test_Adam(x_data, y_data, n_iters, step_size):\n",
    "    n_batches = x_data.shape[0]\n",
    "    mean_losses = np.zeros(n_iters)\n",
    "    for j in range(n_iters):\n",
    "        losses = []\n",
    "        for i in range(n_batches):\n",
    "            x = x_data[i]\n",
    "            y = y_data[i]\n",
    "\n",
    "            X = onehot(x,m)\n",
    "            Z = nn.forward(X)\n",
    "\n",
    "            losses.append(loss.forward(Z,y))\n",
    "            dLdZ = loss.backward()\n",
    "            nn.backward(dLdZ)\n",
    "            nn.step_Adam()\n",
    "        mean_loss = np.mean(losses)\n",
    "        print(\"Iterasjon \", str(j+1), \" L = \",mean_loss, \"\")\n",
    "        mean_losses[j] = mean_loss\n",
    "    return mean_losses"
   ]
  },
  {
   "cell_type": "code",
   "execution_count": 6,
   "metadata": {},
   "outputs": [
    {
     "name": "stdout",
     "output_type": "stream",
     "text": [
      "Iterasjon  1  L =  0.6780612900845479 \n",
      "Iterasjon  2  L =  0.5949140400230325 \n",
      "Iterasjon  3  L =  0.507847569164693 \n",
      "Iterasjon  4  L =  0.4730238455217842 \n",
      "Iterasjon  5  L =  0.46688917296549065 \n",
      "Iterasjon  6  L =  0.4789522954726341 \n",
      "Iterasjon  7  L =  0.4686482352062081 \n",
      "Iterasjon  8  L =  0.4378284383690695 \n",
      "Iterasjon  9  L =  0.4274818176098078 \n",
      "Iterasjon  10  L =  0.4178799093511184 \n",
      "Iterasjon  11  L =  0.4334116483567724 \n",
      "Iterasjon  12  L =  0.4332264817659775 \n",
      "Iterasjon  13  L =  0.4302987806503311 \n",
      "Iterasjon  14  L =  0.4228958406066824 \n",
      "Iterasjon  15  L =  0.4303237539114562 \n",
      "Iterasjon  16  L =  0.42196770754353513 \n",
      "Iterasjon  17  L =  0.4119046248720114 \n",
      "Iterasjon  18  L =  0.39866933660969783 \n",
      "Iterasjon  19  L =  0.40533778835492973 \n",
      "Iterasjon  20  L =  0.4149544307352217 \n",
      "Iterasjon  21  L =  0.4118146157214542 \n",
      "Iterasjon  22  L =  0.3999587401161263 \n",
      "Iterasjon  23  L =  0.3862679712170172 \n",
      "Iterasjon  24  L =  0.3830673681355582 \n",
      "Iterasjon  25  L =  0.39292907307131714 \n",
      "Iterasjon  26  L =  0.39031458421388715 \n",
      "Iterasjon  27  L =  0.3812076960565179 \n",
      "Iterasjon  28  L =  0.396706246199996 \n",
      "Iterasjon  29  L =  0.4021146885965491 \n",
      "Iterasjon  30  L =  0.3823990124349077 \n",
      "Iterasjon  31  L =  0.3697765546970233 \n",
      "Iterasjon  32  L =  0.3694352414572241 \n",
      "Iterasjon  33  L =  0.36699828453896144 \n",
      "Iterasjon  34  L =  0.36856069890380105 \n",
      "Iterasjon  35  L =  0.39343453276534696 \n",
      "Iterasjon  36  L =  0.44298594867499935 \n",
      "Iterasjon  37  L =  0.4374756544027288 \n",
      "Iterasjon  38  L =  0.3988238695860233 \n",
      "Iterasjon  39  L =  0.3541682521302366 \n",
      "Iterasjon  40  L =  0.34044594342814566 \n",
      "Iterasjon  41  L =  0.34040517012812865 \n",
      "Iterasjon  42  L =  0.37738572187034375 \n",
      "Iterasjon  43  L =  0.3965557229268959 \n",
      "Iterasjon  44  L =  0.48417348502225244 \n",
      "Iterasjon  45  L =  0.48756247236529504 \n",
      "Iterasjon  46  L =  0.44298254268092674 \n",
      "Iterasjon  47  L =  0.37320113554789075 \n",
      "Iterasjon  48  L =  0.3400596093945447 \n",
      "Iterasjon  49  L =  0.3337304956527848 \n",
      "Iterasjon  50  L =  0.327915967003369 \n",
      "Iterasjon  51  L =  0.32717408015519045 \n",
      "Iterasjon  52  L =  0.3292259096763163 \n",
      "Iterasjon  53  L =  0.3583707869756527 \n",
      "Iterasjon  54  L =  0.47305982351401055 \n",
      "Iterasjon  55  L =  0.46910746463424974 \n",
      "Iterasjon  56  L =  0.46766037395340304 \n",
      "Iterasjon  57  L =  0.42360795035855314 \n",
      "Iterasjon  58  L =  0.388802238359214 \n",
      "Iterasjon  59  L =  0.35400012288796195 \n",
      "Iterasjon  60  L =  0.3389718122355657 \n",
      "Iterasjon  61  L =  0.32816179679311785 \n",
      "Iterasjon  62  L =  0.34076965667767256 \n",
      "Iterasjon  63  L =  0.44530841098396506 \n",
      "Iterasjon  64  L =  0.4364401250565441 \n",
      "Iterasjon  65  L =  0.41629308711262103 \n",
      "Iterasjon  66  L =  0.42112294835490827 \n",
      "Iterasjon  67  L =  0.3486919640497087 \n",
      "Iterasjon  68  L =  0.324541715225254 \n",
      "Iterasjon  69  L =  0.3177645250477137 \n",
      "Iterasjon  70  L =  0.31330805844744997 \n",
      "Iterasjon  71  L =  0.3136806441682426 \n",
      "Iterasjon  72  L =  0.3267295145972639 \n",
      "Iterasjon  73  L =  0.34529054401428666 \n",
      "Iterasjon  74  L =  0.32191421001145626 \n",
      "Iterasjon  75  L =  0.32260637431019995 \n",
      "Iterasjon  76  L =  0.31536062736416776 \n",
      "Iterasjon  77  L =  0.31373064609841883 \n",
      "Iterasjon  78  L =  0.3127541996793409 \n",
      "Iterasjon  79  L =  0.31120088417811387 \n",
      "Iterasjon  80  L =  0.3100788737828403 \n",
      "Iterasjon  81  L =  0.30925656273416424 \n",
      "Iterasjon  82  L =  0.30890390323971156 \n",
      "Iterasjon  83  L =  0.30874763144124445 \n",
      "Iterasjon  84  L =  0.3084901467046718 \n",
      "Iterasjon  85  L =  0.30849640381408727 \n",
      "Iterasjon  86  L =  0.30840424187906523 \n",
      "Iterasjon  87  L =  0.30835451255513274 \n",
      "Iterasjon  88  L =  0.30875353039409054 \n",
      "Iterasjon  89  L =  0.30860510858313484 \n",
      "Iterasjon  90  L =  0.3090189639665357 \n",
      "Iterasjon  91  L =  0.3099377954729766 \n",
      "Iterasjon  92  L =  0.31058012995335943 \n",
      "Iterasjon  93  L =  0.31136090964962715 \n",
      "Iterasjon  94  L =  0.3104195143013774 \n",
      "Iterasjon  95  L =  0.3113212995159679 \n",
      "Iterasjon  96  L =  0.31091556519658614 \n",
      "Iterasjon  97  L =  0.3112097588112187 \n",
      "Iterasjon  98  L =  0.3103710396262874 \n",
      "Iterasjon  99  L =  0.3102943258606605 \n",
      "Iterasjon  100  L =  0.30950270862199664 \n"
     ]
    },
    {
     "data": {
      "image/png": "[encoded data removed]",
      "text/plain": [
       "<Figure size 432x288 with 1 Axes>"
      ]
     },
     "metadata": {
      "needs_background": "light"
     },
     "output_type": "display_data"
    },
    {
     "data": {
      "text/plain": [
       "<Figure size 1080x864 with 0 Axes>"
      ]
     },
     "metadata": {},
     "output_type": "display_data"
    }
   ],
   "source": [
    "plt.plot(np.arange(0,100), np.log(test_Adam(data['x_train'], data['y_train'], 100, 0.1)))\n",
    "plt.xlabel(\"Iterasjonnummer\")\n",
    "plt.ylabel(\"Logaritmen av loss-funksjon\")\n",
    "plt.title(\"Minimering ved antall iterasjoner\")\n",
    "plt.figure(figsize=(15,12))\n",
    "plt.show()"
   ]
  },
  {
   "cell_type": "markdown",
   "metadata": {},
   "source": [
    "#### Tester for en itterasjon for å se om den greier å predikere neste verdi"
   ]
  },
  {
   "cell_type": "code",
   "execution_count": 8,
   "metadata": {},
   "outputs": [
    {
     "name": "stdout",
     "output_type": "stream",
     "text": [
      "[[0 0 0 0 0]]\n"
     ]
    }
   ],
   "source": [
    "print(np.argmax(nn.forward(onehot(np.array([[1, 0 ,0, 1, 1]]), m)),axis=1))"
   ]
  },
  {
   "cell_type": "markdown",
   "metadata": {},
   "source": [
    "#### Tester hvor mange riktige prediksjoner vi får"
   ]
  },
  {
   "cell_type": "code",
   "execution_count": 11,
   "metadata": {},
   "outputs": [
    {
     "name": "stdout",
     "output_type": "stream",
     "text": [
      "Antall rette prediksjoner: 179\n",
      "Totalt antall prediksjoner: 250\n",
      "Prosentvis riktige predikasjoner: 71.6 %\n"
     ]
    }
   ],
   "source": [
    "x_test = data['x_test']\n",
    "y_test = data['y_test']\n",
    "\n",
    "\n",
    "def predict(nn: NeuralNetwork, xs: dict, r:int, m:int):\n",
    "    \n",
    "    batches = xs.shape[0]\n",
    "    y = np.zeros((xs.shape[0],xs.shape[1],r))\n",
    "    for i in range(batches):\n",
    "        x = xs[i]\n",
    "        for j in range(r):\n",
    "            #print(j)\n",
    "            X = onehot(x,m)\n",
    "            z = nn.forward(X)\n",
    "            Z = np.argmax(z, axis=1)\n",
    "            #print(Z.shape)\n",
    "            #print(x.shape)\n",
    "            toAppend =Z[:,-1:]\n",
    "            x = np.append(x, toAppend, axis=1)\n",
    "        y[i,:,:] = x[:,:-r]\n",
    "    return y\n",
    "\n",
    "\n",
    "\n",
    "y_pred = predict(nn, x_test, r, m)\n",
    "\n",
    "def count_correct_predictions(y_pred, y_test):\n",
    "    correct_predictions = np.count_nonzero(np.count_nonzero(y_pred == y_test, axis=2) == y_pred.shape[-1])\n",
    "    return correct_predictions\n",
    "\n",
    "y_test = data['y_test']\n",
    "correct_predictions = count_correct_predictions(y_pred, y_test)\n",
    "print(\"Antall rette prediksjoner:\", correct_predictions)\n",
    "print(\"Totalt antall prediksjoner:\", y_pred.shape[1])\n",
    "print(\"Prosentvis riktige predikasjoner:\", (correct_predictions/y_pred.shape[1])*100, \"%\")\n"
   ]
  },
  {
   "cell_type": "markdown",
   "metadata": {},
   "source": [
    "Når to forskjellige verdier kan forekomme på fem ulike steder, resulterer dette i totalt $32$ mulige kombinasjoner ($2^5 = 32$). Denne mangfoldigheten gjør det praktisk talt umulig å teste algoritmen vår med nye sekvenser. Ideelt sett ville tapet tendert mot null, og prediksjonene ville vært korrekte hver gang, siden algoritmen burde gjenkjenne det riktige svaret ($y$) i stedet for å forutsi neste sekvens. Dette antyder at vektene våre kanskje ikke er optimalt tilpasset."
   ]
  }
 ],
 "metadata": {
  "kernelspec": {
   "display_name": "Python 3",
   "language": "python",
   "name": "python3"
  },
  "language_info": {
   "codemirror_mode": {
    "name": "ipython",
    "version": 3
   },
   "file_extension": ".py",
   "mimetype": "text/x-python",
   "name": "python",
   "nbconvert_exporter": "python",
   "pygments_lexer": "ipython3",
   "version": "3.9.12"
  }
 },
 "nbformat": 4,
 "nbformat_minor": 2
}
