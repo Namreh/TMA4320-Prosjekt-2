{
 "cells": [
  {
   "cell_type": "markdown",
   "metadata": {},
   "source": [
    "# Indmat prosjekt\n",
    "###### Liva Berge Flo, André Pettersen-Dahl, Herman Neple\n",
    "\n",
    "#### Introduksjon\n",
    "Kunstig intelligens har den siste tiden vært i vinden. Spesielt populære er modeller som ChatGPT. Disse type modellene som i bunn og grunner predikerer neste del av en sekvens, bruker det som heter en transformermodell. I dette prosjektet vil vi forsøke å bygge en transformermodell fra bunnen av ved hjelp av python og biblioteket numpy. Vi vil også forhåpentligvis underveis i denne prosessen forstå om KI virkelig er noe å frykte, eller om det bare er lineær algebra.\n",
    "\n",
    "#### Oppgave 1"
   ]
  },
  {
   "cell_type": "markdown",
   "metadata": {},
   "source": [
    "1.1"
   ]
  },
  {
   "cell_type": "markdown",
   "metadata": {},
   "source": [
    "En transformermodell skal trenes opp til å forsøke å predikere et heltall $d$, hvor $d = a \\cdot b + c$, hvor $a$ og $c$ er tosifrede heltall og $b$ er et ettsifret heltall. Vi kan se på et eksempel på et datasett som kan brukes for å trene opp modellen."
   ]
  },
  {
   "cell_type": "markdown",
   "metadata": {},
   "source": [
    "Vi kan la\n",
    "\\begin{align*}\n",
    "       a = 28,  \n",
    " b = 4,   c = 18,   d = 130, \\\\\n",
    "\\end{align*}\n",
    "Input $x$ vil være tallene $a$, $b$ og $c$. I tillegg vil de to første sifrene i $d$ være inkludert i input, fordi vi ønsker at transformermodellen skal trenes opp til å finne det siste sifferet i $d$. Output $y$ vil være tallet $d$ som man ønsker å predikere. Dermed har vi altså\n",
    "\n",
    "\\begin{align*}\n",
    "    x &= [2,8,4,1,8,1,3] \\quad \\text{og} \\quad y = [1,3,0] \\\\\n",
    "\\end{align*}"
   ]
  },
  {
   "cell_type": "markdown",
   "metadata": {},
   "source": [
    "1.2"
   ]
  },
  {
   "cell_type": "markdown",
   "metadata": {},
   "source": [
    "Videre ser vi på et eksempel på hvordan transformermodellen $f_{\\theta}$ kan predikere tallet $d$ for samme type problem."
   ]
  },
  {
   "cell_type": "markdown",
   "metadata": {},
   "source": [
    "Vi setter $a = 18, b = 3, c = 22.\\\\$\n",
    "Et nytt siffer vil predikeres for hver gang vi sender $x$ inn i transformermodellen. Siste element i prediksjonen vil så bli lagt til i $x$, hvor de andre elementene i prediksjonen blir forkastet. Deretter sender vi $x$-en med det nye elementet inn i modellen på nytt. \n",
    "\n",
    "Prosessen vil dermed se slik ut:\n",
    "\\begin{align*}\n",
    "    x^{(0)} &= [1,8,3,2,2], & [\\hat{z}_{0}^{(0)},\\hat{z}_{1}^{(0)},\\hat{z}_{2}^{(0)},\\hat{z}_{3}^{(0)},\\hat{z}_{4}^{(0)},\\textcolor{red}{\\hat{z}_{5}^{(0)}}] = f_\\theta(x^{(0)}), \\\\\n",
    "    x^{(1)} &= [1,8,3,2,2,\\textcolor{red}{\\hat{z}_{5}^{(0)}}], & [\\hat{z}_{0}^{(1)},\\ldots, \\textcolor{blue}{\\hat{z}_{6}^{(1)}}] = f_\\theta(x^{(1)}), \\\\ \n",
    "    x^{(2)} &= [1,8,3,2,2,\\textcolor{red}{\\hat{z}_{5}^{(0)}},\\textcolor{blue}{\\hat{z}_{6}^{(1)}}], & [\\hat{z}_{0}^{(1)},\\ldots, \\textcolor{gold}{\\hat{z}_{7}^{(2)}}] = f_\\theta(x^{(2)}), \\\\\n",
    "    x^{(3)} &= [1,8,3,2,2,\\textcolor{red}{\\hat{z}_{5}^{(0)}},\\textcolor{blue}{\\hat{z}_{6}^{(1)}},\\textcolor{gold}{\\hat{z}_{7}^{(2)}}] \\\\\n",
    "    \\hat{y} &= [\\textcolor{red}{\\hat{z}_{5}^{(0)}},\\textcolor{blue}{\\hat{z}_{6}^{(1)}},\\textcolor{gold}{\\hat{z}_{7}^{(2)}}]. \\\\\n",
    "\\end{align*}"
   ]
  },
  {
   "cell_type": "markdown",
   "metadata": {},
   "source": [
    "Om parameterne $\\theta$ er riktig optimert, ønsker vi altså at rekkefølgen $\\textcolor{red}{\\hat{z}_{5}^{(0)}}\\textcolor{blue}{\\hat{z}_{6}^{(1)}}\\textcolor{gold}{\\hat{z}_{7}^{(2)}} = 076 = d$"
   ]
  },
  {
   "cell_type": "markdown",
   "metadata": {},
   "source": [
    "1.3"
   ]
  },
  {
   "cell_type": "markdown",
   "metadata": {},
   "source": [
    "La $m = 5$ og $y = [4,3,2,1]$. Vi bruker cross-entropy som objektfunksjon $\\mathcal{L}$, og ønsker å finne en sannsynlighetsfordeling $\\hat Y$ som gir $\\mathcal{L}(\\theta, \\mathcal{D}) = 0$."
   ]
  },
  {
   "cell_type": "markdown",
   "metadata": {},
   "source": [
    "I vårt tilfelle vil dette se slik ut:\n",
    "\n",
    "\n",
    "\\begin{align*}\n",
    "\\mathcal{L}(\\theta, \\mathcal{D}) &= -\\frac{1}{4} \\sum_{i=0}^{0} \\sum_{j=0}^{4} \\log \\hat Y_{kj}^{(i)}\n",
    "\\end{align*}\n",
    "\n",
    "hvor det i ytre løkke kun summeres opp til $D = 0$, siden vi kun har ett datasett. I indre løkke summeres det opp til $n = 4$, fordi vi har 4 kolonner i $y$. For hver kolonne er indeksen $k$ gitt av hvilken rad som er «riktig» ifølge $y$."
   ]
  },
  {
   "cell_type": "markdown",
   "metadata": {},
   "source": [
    "Siden vi ønsker at $\\mathcal{L}(\\theta, \\mathcal{D}) = 0$, vil vi at alle $Y_{kj}^{(i)} = 1$, slik at logaritmen av dette blir $0$. Vi velger altså en sannsynelighetsfordeling $\\hat Y$ der elementene er $1$ i rad $k$ for hver kolonne.\n",
    "\n",
    "Vi får altså:"
   ]
  },
  {
   "cell_type": "markdown",
   "metadata": {},
   "source": [
    "\n",
    "\n",
    "$$\\hat Y = \\left[\n",
    "\\begin{array}{cccc}\n",
    "0 & 0 & 0 & 0 \\\\\n",
    "0 & 0 & 0 & 1 \\\\\n",
    "0 & 0 & 1 & 0 \\\\\n",
    "0 & 1 & 0 & 0 \\\\\n",
    "1 & 0 & 0 & 0 \n",
    "\\end{array}\n",
    "\\right]$$\n",
    "\n",
    "Dette gjør at:\n",
    "\n",
    "\n",
    "\\begin{align*}\n",
    "Y_{4,0} &= 1 \\\\\n",
    "Y_{3,1} &= 1 \\\\\n",
    "Y_{2,2} &= 1 \\\\\n",
    "Y_{1,3} &= 1 \\\\\n",
    "\\end{align*}\n",
    "\n",
    "Vi kan videre forenkle uttrykket for objektfunksjonen:\n",
    "\n",
    "$$\\mathcal{L}(\\theta, \\mathcal{D}) = -\\frac{1}{4} \\left( \\log Y_{4,0} + \\log Y_{3,1} + \\log Y_{2,2} + \\log Y_{1,3} \\right) \\\\$$\n",
    "$$= -\\frac{1}{4} \\left( \\log 1 + \\log 1 + \\log 1 + \\log 1 \\right) = -\\frac{1}{4} \\cdot 4 \\cdot \\log 1 \\\\$$\n",
    "$$= -\\frac{4}{4} \\cdot 0 = 0$$\n",
    "\n",
    "\n",
    "Altså har vi at $ \\mathcal{L}(\\theta, \\mathcal{D}) = 0 $."
   ]
  },
  {
   "cell_type": "markdown",
   "metadata": {},
   "source": [
    "Vi må i dette tilfellet ha at $\\hat y = y = [4,3,2,1]$. Dette kan man se dersom man utfører operasjonen $\\text{argmax}_{\\text{col}}(\\hat Y)$. Det kan også lett observeres ut fra at $\\hat Y = Y$."
   ]
  },
  {
   "cell_type": "markdown",
   "metadata": {},
   "source": [
    "1.4"
   ]
  },
  {
   "cell_type": "markdown",
   "metadata": {},
   "source": [
    "Det kan beregnes hvor mange enkeltparametre som inkluderes i transformermodellen. Vi kan begynne med å se på settet av parametere\n",
    "\\begin{align*}\n",
    "\\theta = \\{ W_E, W_P, W_U, \\{W_O^{(l)}, W_V^{(l)}, W_Q^{(l)}, W_K^{(l)}, W_1^{(l)}, W_2^{(l)}\\}_{l=0}^{L-1} \\}\n",
    "\\end{align*}\n",
    "Med $L$ lag, og dimensjoner $d$, $m$, $n_{max}$, $k$ og $p$, vil antallet enkeltparametere $w$, som må bestemmes ved optimering, bli\n",
    "\n",
    "\\begin{align*}\n",
    "w &=  d \\cdot m + d \\cdot n_{\\text{max}} + d \\cdot m + L\\cdot \\{ 4 ( k \\cdot d ) + 2 (p\\cdot d)\\} \\\\\n",
    "&= 2(d\\cdot m) + d\\cdot n_{\\text{max}} + L\\cdot \\{ 4 ( k \\cdot d ) + 2 (p\\cdot d)\\}\n",
    "\\end{align*}"
   ]
  },
  {
   "cell_type": "markdown",
   "metadata": {},
   "source": [
    "1.5"
   ]
  },
  {
   "cell_type": "markdown",
   "metadata": {},
   "source": [
    "Vi ønsker å vise at man må ha $\\alpha > 1$ for å få $\\hat{z} = [1]$ når input er $x = [1]$ og $n = n_{max} = 1, m = d = k = p = 2$ og $L = 1$. Vi kan starte med å gå manuelt gjennom hele transformeralgoritmen med de gitte verdiene. De første stegene gjøres i embedding."
   ]
  },
  {
   "cell_type": "markdown",
   "metadata": {},
   "source": [
    "$$x = [1], \\quad m = 2 \\\\\n",
    "X = \\text{onehot}(x) = \n",
    "\\begin{bmatrix}\n",
    "0 \\\\\n",
    "1 \\\\\n",
    "\\end{bmatrix} \\\\$$\n",
    "\n",
    "$$W_{E} = \\begin{bmatrix}\n",
    "    1 & 0 \\\\\n",
    "    0 & \\alpha \\\\\n",
    "\\end{bmatrix}\n",
    "W_{P} = \\begin{bmatrix}\n",
    "    1  \\\\\n",
    "    0  \\\\\n",
    "\\end{bmatrix} \\\\$$\n",
    "$$z_{0} = \\begin{bmatrix}\n",
    "    1 & 0 \\\\\n",
    "    0 & \\alpha \\\\\n",
    "\\end{bmatrix}\n",
    "\\begin{bmatrix}\n",
    "    0 \\\\\n",
    "    1 \\\\\n",
    "\\end{bmatrix} + \\begin{bmatrix}\n",
    "    1 \\\\\n",
    "    0 \\\\\n",
    "\\end{bmatrix}\n",
    "= \\begin{bmatrix}\n",
    "    0 \\\\\n",
    "    \\alpha \\\\\n",
    "\\end{bmatrix}\n",
    "+ \\begin{bmatrix}\n",
    "    1 \\\\\n",
    "    0 \\\\\n",
    "\\end{bmatrix}\n",
    "= \\begin{bmatrix}\n",
    "    1 \\\\\n",
    "    \\alpha \\\\\n",
    "\\end{bmatrix} \\\\$$\n"
   ]
  },
  {
   "cell_type": "markdown",
   "metadata": {},
   "source": [
    "Videre utføres attention-laget."
   ]
  },
  {
   "cell_type": "markdown",
   "metadata": {},
   "source": [
    "$$z_{\\frac{1}{2}} = z_0 + W_{O}^{T}W_{V}z_{0}A(z_{0})$$\n",
    "$$ = z_{0} + W_{O}^{T}W_{V}z_{0}\\text{ softmax}_{\\text{col }}(z_{0}^{T}W_{Q}^{T}W_{K}z_{0} + D)$$\n",
    "$$= \\begin{bmatrix}\n",
    "    0 \\\\\n",
    "    1 \\\\\n",
    "\\end{bmatrix} + \\begin{bmatrix}\n",
    "    1 & 0 \\\\\n",
    "    0 & 1 \\\\\n",
    "\\end{bmatrix} \\begin{bmatrix}\n",
    "    1 & 0 \\\\\n",
    "    1 & 1 \\\\\n",
    "\\end{bmatrix} \\begin{bmatrix}\n",
    "    1 \\\\\n",
    "    \\alpha \\\\\n",
    "\\end{bmatrix} \\text{softmax}_{\\text{col } }(\\begin{bmatrix}\n",
    "    1 & \\alpha\n",
    "\\end{bmatrix}\\begin{bmatrix}\n",
    "    1 & 0 \\\\\n",
    "    0 & 1 \\\\\n",
    "\\end{bmatrix}\\begin{bmatrix}\n",
    "    1 & 0 \\\\\n",
    "    0 & 1 \\\\\n",
    "\\end{bmatrix}\\begin{bmatrix}\n",
    "    1 \\\\\n",
    "    \\alpha \\\\\n",
    "\\end{bmatrix} + 0) \\\\$$\n",
    "\n",
    "$$= \\begin{bmatrix}\n",
    "    1 \\\\\n",
    "    \\alpha \\\\\n",
    "\\end{bmatrix}+\\begin{bmatrix}\n",
    "    1 \\\\\n",
    "    \\alpha \\\\\n",
    "\\end{bmatrix}\\text{softmax}_{\\text{col }}(1+\\alpha^2)\n",
    "= 2 \\begin{bmatrix}\n",
    "    1 \\\\\n",
    "    \\alpha \\\\\n",
    "\\end{bmatrix}$$"
   ]
  },
  {
   "cell_type": "markdown",
   "metadata": {},
   "source": [
    "Deretter utføres feed-forward-laget."
   ]
  },
  {
   "cell_type": "markdown",
   "metadata": {},
   "source": [
    "$$z_1 = z_{\\frac{1}{2}} + W_{2}^{T}\\sigma(W_1 z_{\\frac{1}{2}})\\\\$$\n",
    "$$= 2\\begin{bmatrix}\n",
    "    1 \\\\\n",
    "    \\alpha \\\\\n",
    "\\end{bmatrix} + W_{2}^{T}\\text{max}(0,W_1 z_{\\frac{1}{2}})\\\\$$\n",
    "$$= 2\\begin{bmatrix}\n",
    "    1 \\\\\n",
    "    \\alpha \\\\\n",
    "\\end{bmatrix}+\\begin{bmatrix}\n",
    "    1 & 0 \\\\\n",
    "    0 & 1 \\\\\n",
    "\\end{bmatrix}\\text{max}\\Bigg(0, \\begin{bmatrix}\n",
    "    1 & 0 \\\\\n",
    "    0 & 1 \\\\\n",
    "\\end{bmatrix}2\\begin{bmatrix}\n",
    "    1 \\\\\n",
    "    \\alpha \\\\\n",
    "\\end{bmatrix}\\Bigg)\\\\$$\n",
    "$$= 4\\begin{bmatrix}\n",
    "    1\\\\\n",
    "    \\alpha \\\\\n",
    "\\end{bmatrix}$$"
   ]
  },
  {
   "cell_type": "markdown",
   "metadata": {},
   "source": [
    "Deretter benyttes $\\text{softmax}_{\\text{col}}$ for å finne sannsynlighetsfordelingen."
   ]
  },
  {
   "cell_type": "markdown",
   "metadata": {},
   "source": [
    "$$Z = \\text{softmax}_{\\text{col}}(W_{U}^{T}z_{1})\\\\$$\n",
    "$$= \\text{softmax}_{\\text{col}}\\bigg(4\\begin{bmatrix}\n",
    "        1 \\\\\n",
    "        \\alpha \\\\\n",
    "    \\end{bmatrix}\\bigg)\\\\$$\n",
    "$$= \\frac{1}{e^{4}+e^{4\\alpha}}\\begin{bmatrix}\n",
    "        e^{4} \\\\\n",
    "        e^{4\\alpha} \\\\\n",
    "    \\end{bmatrix}$$"
   ]
  },
  {
   "cell_type": "markdown",
   "metadata": {},
   "source": [
    "Det kan observeres at $\\text{argmax}_{\\text{col}}(Z)$ vil returnere $\\hat{z} = [1]$ dersom $Z_{10}$ er størst. Vi må altså ha at\n",
    "\\begin{align*}\n",
    "e^{4\\alpha} > e^{4} \\implies \\alpha > 1\\\\\n",
    "\\Box\n",
    "\\end{align*}"
   ]
  },
  {
   "cell_type": "markdown",
   "metadata": {},
   "source": [
    "#### Oppgave 2"
   ]
  },
  {
   "cell_type": "markdown",
   "metadata": {},
   "source": [
    "2.1\n",
    "\n",
    "$\\texttt{NeuralNetwork}$ utnytter arven som er mellom $\\texttt{Layers}$ og dens underklasser. Ved at alle lag i det nevrale nettverket er underklasser av $\\texttt{Layers}$, kan vi behandle alle lag «likt». Her utnyttes altså det faktumet at hvert lag har mye av de samme funksjonalitetene. Dette kalles polymorfisme. Dette forenkler og generaliserer nettverket vårt, og gjør at vi enkelt kan bruke samme kode for å lage nettverk som er strukturert ulikt og bygd opp med ulike typer lag. \n",
    "\n",
    "$ \\texttt{step\\_gd} $ funksjonen i $\\texttt{NeuralNetwork}$ bruker funksjonen $\\texttt{isinstance}$ for å kun utføre gradient descent på de underklassene av $\\texttt{Layers}$ som faktisk har parametere vi ønsker å oppdatere. Et annet alternativ ville da vært å holde en liste på hvilke lag som vi ønsker å oppdatere parametere på, men dette hadde vært mer krunglete, siden vi da må vite noe om strukturen til det spesifikke nettverket."
   ]
  },
  {
   "cell_type": "markdown",
   "metadata": {},
   "source": [
    "2.2\n",
    "\n",
    "Implementeringen av funksjonene skjer i layers.py. Vi gir en oppsumering av det vi har tenkt for de ulike lagene.\n",
    "\n",
    "$\\texttt{Softmax}$\n",
    "\n",
    "Her har vi fulgt Appendix A og tips gitt i oppgaveteksten. \n",
    "\n",
    "$\\texttt{Cross-entropy}$\n",
    "\n",
    "Ettersom $y$ kan ha, og som oftest har, mindre lengde enn sannsynlighetsfordelingen man får ut fra nettverket, slicer vi $Z$ utfra lengden til $y$. Dette gjør også at vi må «padde» $\\hat y$ matrisen i backward funksjonen, slik at den får samme dimensjon som $Z$ når den går bakover i nettverket.\n",
    "\n",
    "Ellers følges Appendiks A i utregningene.\n",
    "\n",
    "$\\texttt{Unembedding}$\n",
    "\n",
    "Her velger vi å implementere laget som et lineært lag som tar input-matrisen fra lengde d til m.\n",
    "\n",
    "$\\texttt{Attention}$\n",
    "\n",
    "Her velger vi å implementere $W_V$ og $W_O$ som lineære lag innad i attention laget, der $W_O$ blir lagret som \n",
    "transponert. Ellers blir $W_K$ og $W_Q$ definert i Attention-laget."
   ]
  },
  {
   "cell_type": "markdown",
   "metadata": {},
   "source": [
    "2.3\n",
    "\n",
    "Implementeringen av ADAM gjøres ved at matrisene $M$ og $V$ lagres sammen med paramterene og $G$ i params ordboken innad i lagene."
   ]
  },
  {
   "cell_type": "markdown",
   "metadata": {},
   "source": [
    "#### Oppgave 3.1"
   ]
  },
  {
   "cell_type": "code",
   "execution_count": 1,
   "metadata": {},
   "outputs": [],
   "source": [
    "#Importerer nødvendige bibliotek\n",
    "from layers import *\n",
    "from neural_network import NeuralNetwork\n",
    "from utils import *\n",
    "import numpy as np\n",
    "from data_generators import get_train_test_sorting\n",
    "import matplotlib.pyplot as plt"
   ]
  },
  {
   "cell_type": "markdown",
   "metadata": {},
   "source": [
    "For å teste om lagene vi har implementert fungerer, kan vi manuelt kjøre gjennom algoritmen. Vi starter med å initalisere lagene til det nevrale nettverk."
   ]
  },
  {
   "cell_type": "code",
   "execution_count": 2,
   "metadata": {},
   "outputs": [],
   "source": [
    "#definerer variabler\n",
    "r = 4\n",
    "m = 4\n",
    "n = 3\n",
    "\n",
    "d = 10\n",
    "k = 5\n",
    "p = 15\n",
    "L = 2\n",
    "\n",
    "embed = EmbedPosition(9,m,d)\n",
    "att1 = Attention(d,k)\n",
    "ff1 = FeedForward(d,p)\n",
    "un_embed = LinearLayer(d,m)\n",
    "softmax = Softmax()\n",
    "loss = CrossEntropy()"
   ]
  },
  {
   "cell_type": "markdown",
   "metadata": {},
   "source": [
    "Vi kan videre gi nettverket vårt en input, la oss f.eks late som vi prøver å få modellen til å sortere tallene."
   ]
  },
  {
   "cell_type": "code",
   "execution_count": 3,
   "metadata": {},
   "outputs": [],
   "source": [
    "x = np.array([[0,1,2]])\n",
    "X = onehot(x, m)\n",
    "\n",
    "z0 = embed.forward(X)\n",
    "z11 = att1.forward(z0)\n",
    "z12 = ff1.forward(z11)\n",
    "z2 = un_embed.forward(z12)\n",
    "Z = softmax.forward(z2)"
   ]
  },
  {
   "cell_type": "markdown",
   "metadata": {},
   "source": [
    "Det kan være nå nyttig å se om størrelsene og stegene er som forventet."
   ]
  },
  {
   "cell_type": "code",
   "execution_count": 4,
   "metadata": {},
   "outputs": [
    {
     "name": "stdout",
     "output_type": "stream",
     "text": [
      "Burde være i onehot-format:\n",
      " X:\n",
      " [[[1. 0. 0.]\n",
      "  [0. 1. 0.]\n",
      "  [0. 0. 1.]\n",
      "  [0. 0. 0.]]]\n",
      "Formen på hvert steg med b=1 :\n",
      " z0: burde ha shape (b, 10, 3). Den har shape: (1, 10, 3) \n",
      " z11: burde ha shape (b, 10, 3). Den har shape: (1, 10, 3) \n",
      " z12: burde ha shape (b, 10, 3). Den har shape: (1, 10, 3) \n",
      " z2: burde ha shape (b, 4, 3). Den har shape: (1, 4, 3)\n",
      "Z: \n",
      " [[[0.25597825 0.25592653 0.26161355]\n",
      "  [0.25673452 0.25312274 0.26194715]\n",
      "  [0.2491288  0.24568376 0.2367588 ]\n",
      "  [0.2381584  0.24526694 0.23968048]]]\n",
      "Kolonnene i Z summert: [[1. 1. 1.]]\n"
     ]
    }
   ],
   "source": [
    "#Er X i onehot format?\n",
    "print(f\"Burde være i onehot-format:\\n X:\\n {X}\")\n",
    "\n",
    "#Sjekker shape av alle stegene.\n",
    "print(f\"Formen på hvert steg med b=1 :\\n z0: burde ha shape (b, {d}, {n}). Den har shape: {z0.shape} \\n z11: burde ha shape (b, {d}, {n}). Den har shape: {z11.shape} \\n z12: burde ha shape (b, {d}, {n}). Den har shape: {z12.shape} \\n z2: burde ha shape (b, {m}, {n}). Den har shape: {z2.shape}\")\n",
    "\n",
    "#Ser at ingen av elementene i Z er negative:\n",
    "print(f\"Z: \\n {Z}\")\n",
    "\n",
    "#Sjekker om summen av kolonnene i Z er ca 1\n",
    "print(f\"Kolonnene i Z summert: {np.round(np.sum(Z, axis=1))}\")\n"
   ]
  },
  {
   "cell_type": "markdown",
   "metadata": {},
   "source": [
    "Vi kan så teste om vi fikk riktig output, som i dette tilfelle burde være at det er $0$ på siste element. Om vi har riktig output skulle loss funksjonen vårt bli 0."
   ]
  },
  {
   "cell_type": "code",
   "execution_count": 5,
   "metadata": {},
   "outputs": [
    {
     "name": "stdout",
     "output_type": "stream",
     "text": [
      "0.5823397686796951\n"
     ]
    }
   ],
   "source": [
    "y = np.array([[0]])\n",
    "L = loss.forward(Z,y)\n",
    "\n",
    "print(L)"
   ]
  },
  {
   "cell_type": "markdown",
   "metadata": {},
   "source": [
    "Dette fungerte åpenbart ikke enda. Vi kan derfor prøve å trene nettverket et par runder. Vi starter da med å beregne den deriverte av loss funksjonen og kjøre en backward pass, før vi igjen kjører forward."
   ]
  },
  {
   "cell_type": "code",
   "execution_count": 6,
   "metadata": {},
   "outputs": [],
   "source": [
    "for i in range(4):\n",
    "    dLdz = loss.backward()\n",
    "    d0 = softmax.backward(dLdz)\n",
    "    d1 = un_embed.backward(d0)\n",
    "    d21 = ff1.backward(d1)\n",
    "    d22 = att1.backward(d21)\n",
    "    d3 = embed.backward(d22)\n",
    "\n",
    "    z0 = embed.step_Adam(0.1, 0.9, 0.999, 10e-8)\n",
    "    z11 = att1.step_Adam(0.1, 0.9, 0.999, 10e-8)\n",
    "    z12 = ff1.step_Adam(0.1, 0.9, 0.999, 10e-8)\n",
    "    z2 = un_embed.step_Adam(0.1, 0.9, 0.999, 10e-8)\n",
    "\n",
    "    z0 = embed.forward(X)\n",
    "    z11 = att1.forward(z0)\n",
    "    z12 = ff1.forward(z11)\n",
    "    z2 = un_embed.forward(z12)\n",
    "    Z = softmax.forward(z2)\n",
    "\n"
   ]
  },
  {
   "cell_type": "markdown",
   "metadata": {},
   "source": [
    "Vi kan nå se om backward har fungert og om vi har klart å optimalisere modellen."
   ]
  },
  {
   "cell_type": "code",
   "execution_count": 7,
   "metadata": {},
   "outputs": [
    {
     "name": "stdout",
     "output_type": "stream",
     "text": [
      "[[ 1.35048728e-03  5.22729791e-04 -1.39816889e-03 -1.84201787e-03\n",
      "   4.06465448e-04  9.72813859e-04  8.27227730e-04  1.38353391e-03\n",
      "   1.79592826e-03  1.73706302e-03]\n",
      " [ 2.95334796e-04  1.14314513e-04 -3.05762171e-04 -4.02826431e-04\n",
      "   8.88889456e-05  2.12742310e-04  1.80904431e-04  3.02561684e-04\n",
      "   3.92747207e-04  3.79874111e-04]\n",
      " [-2.45226325e-03 -9.49191507e-04  2.53884522e-03  3.34480213e-03\n",
      "  -7.38074544e-04 -1.76647031e-03 -1.50210979e-03 -2.51227051e-03\n",
      "  -3.26111097e-03 -3.15422136e-03]\n",
      " [ 9.85684219e-04  3.81526367e-04 -1.02048574e-03 -1.34443913e-03\n",
      "   2.96668161e-04  7.10030582e-04  6.03771195e-04  1.00980406e-03\n",
      "   1.31079957e-03  1.26783542e-03]\n",
      " [ 2.53761412e-03  9.82228059e-04 -2.62720957e-03 -3.46121776e-03\n",
      "   7.63763182e-04  1.82795220e-03  1.55439063e-03  2.59970993e-03\n",
      "   3.37461373e-03  3.26400384e-03]]\n",
      "Loss etter 4 iterasjoner: 2.6898985864590656e-05\n"
     ]
    }
   ],
   "source": [
    "#printer en av d matrisene og ser at de har blitt oppdatert\n",
    "print(att1.params['wk']['d'])\n",
    "\n",
    "#printer loss funksjonen på nytt og ser om den er blitt bedre\n",
    "print(f\"Loss etter 4 iterasjoner: {loss.forward(Z, y)}\")"
   ]
  },
  {
   "cell_type": "markdown",
   "metadata": {},
   "source": [
    "Vi kan se at lagene i nettverket virker å være riktig implementert. Vi får en lavere loss funksjon ved å utføre $\\texttt{step\\_adam}$, og parameterene virker å bli endret i backward passet."
   ]
  },
  {
   "cell_type": "markdown",
   "metadata": {},
   "source": [
    "#### Oppgave 3.2\n",
    "\n",
    "Vi lager en generell funksjon som vil trene nettverket vårt. Denne funksjonen tar inn datasettet i batcher og gjennomfører Adam-steg for å optimalisere parametrene. Vi plotter også $\\mathcal{L}^{i}$ for $i = 0,\\dots , n_{iter} − 1$ med logaritmisk skala på y-aksen.\n"
   ]
  },
  {
   "cell_type": "code",
   "execution_count": 8,
   "metadata": {},
   "outputs": [],
   "source": [
    "def test_Adam(nn: NeuralNetwork, loss, x_data, y_data, n_iters, step_size, m, start, stop):\n",
    "    n_batches = x_data.shape[0]\n",
    "    mean_losses = np.zeros(n_iters)\n",
    "    for j in range(n_iters):\n",
    "        losses = []\n",
    "        for i in range(n_batches):\n",
    "            x = x_data[i]\n",
    "            y = y_data[i][:,start:stop] #Henter ut prediksjonsdataen\n",
    "            #Forward pass\n",
    "            X = onehot(x,m)\n",
    "            Z = nn.forward(X)\n",
    "            #Backward pass\n",
    "            losses.append(loss.forward(Z,y))\n",
    "            dLdZ = loss.backward()\n",
    "            nn.backward(dLdZ)\n",
    "            nn.step_Adam(step_size)\n",
    "        mean_loss = np.mean(losses)\n",
    "        print(\"Iterasjon \", str(j+1), \" L = \",mean_loss, \"\")\n",
    "        mean_losses[j] = mean_loss\n",
    "\n",
    "    #Plotter loss-funksjonen per itterasjon i en logaritmisk skala\n",
    "    plt.plot(np.arange(0,n_iters), np.log10(mean_losses))\n",
    "    plt.xlabel(\"Iterasjonnummer\")\n",
    "    plt.ylabel(\"Logaritmen av loss-funksjon\")\n",
    "    plt.title(\"Optimering av loss-funksjonen\")\n",
    "    plt.figure(figsize=(20,25))\n",
    "    plt.show()\n",
    "    #Returnerer gjennomsnittet over objektfunksjonen over batchene\n",
    "    return mean_losses"
   ]
  },
  {
   "cell_type": "markdown",
   "metadata": {},
   "source": [
    "#### Oppgave 3.3"
   ]
  },
  {
   "cell_type": "markdown",
   "metadata": {},
   "source": [
    "Nå som vi har implementert treningsalgoritmen vår og testet at lagene er riktig implementert, er vi klare til å trene nettverket vårt på et enkelt sorteringsproblem. Vi ønsker å trene nettverket ved å gi det usorterte tallsekvenser bestående av 5 sifre med verdi 0 eller 1, sammen med tilhørende sorterte datasett. Med korrekt konfigurert nettverk vil det kunne analysere treningsdataene og søke etter mønstre som det deretter kan bruke til å forutsi hvordan en usortert sekvens vil se ut når den er ferdig sortert."
   ]
  },
  {
   "cell_type": "code",
   "execution_count": 9,
   "metadata": {},
   "outputs": [],
   "source": [
    "#definerer variabler\n",
    "r = 5\n",
    "m = 2\n",
    "\n",
    "d = 10\n",
    "k = 5\n",
    "p = 15\n",
    "L = 2\n",
    "#Implementerer 2 lag \n",
    "embed = EmbedPosition(9,m,d)\n",
    "att1 = Attention(d,k)\n",
    "att2 = Attention(d,k)\n",
    "ff1 = FeedForward(d,p)\n",
    "ff2 = FeedForward(d,p)\n",
    "un_embed = LinearLayer(d,m)\n",
    "softmax = Softmax()\n",
    "loss = CrossEntropy()\n",
    "#Initialiserer nettverket\n",
    "nn = NeuralNetwork([embed, att1, ff1, att2, ff2, un_embed, softmax])\n",
    "#Henter ut data\n",
    "data = get_train_test_sorting(r, m, samples_per_batch=250,n_batches_train=20, n_batches_test=4)\n",
    "#Lagrer data for enklere bruk senere\n",
    "x_train = data['x_train']\n",
    "y_train = data['y_train']\n",
    "x_test = data['x_test']\n",
    "y_test = data['y_test']"
   ]
  },
  {
   "cell_type": "markdown",
   "metadata": {},
   "source": [
    "Med lagene initialisert og treningsdataene innhentet, er det nå på tide å starte treningen av nettverket. Vi kjører nå treningsalgoritmen som beskrevet tidligere på treningsdataene vi har hentet fra $\\texttt{get\\_train\\_test\\_sorting}$-funksjonen. Deretter plotter vi og skriver ut tapet til objektsfunksjonen underveis."
   ]
  },
  {
   "cell_type": "code",
   "execution_count": 10,
   "metadata": {},
   "outputs": [
    {
     "name": "stdout",
     "output_type": "stream",
     "text": [
      "Iterasjon  1  L =  0.29548789090065086 \n",
      "Iterasjon  2  L =  0.282082241591645 \n",
      "Iterasjon  3  L =  0.25734207604329407 \n",
      "Iterasjon  4  L =  0.21323498647284858 \n",
      "Iterasjon  5  L =  0.15633265828809648 \n",
      "Iterasjon  6  L =  0.09704888227143947 \n",
      "Iterasjon  7  L =  0.05241325470684886 \n",
      "Iterasjon  8  L =  0.04661109636061868 \n",
      "Iterasjon  9  L =  0.03230428517203645 \n",
      "Iterasjon  10  L =  0.020734111437745995 \n",
      "Iterasjon  11  L =  0.011842548411838577 \n",
      "Iterasjon  12  L =  0.003538002413121609 \n",
      "Iterasjon  13  L =  0.001829558897440352 \n",
      "Iterasjon  14  L =  0.0007410556290341241 \n",
      "Iterasjon  15  L =  0.00046313345918457156 \n",
      "Iterasjon  16  L =  0.0003438452970454339 \n",
      "Iterasjon  17  L =  0.00027973845762440915 \n",
      "Iterasjon  18  L =  0.0002344028571336689 \n",
      "Iterasjon  19  L =  0.000199977558310722 \n",
      "Iterasjon  20  L =  0.00017289329230562282 \n",
      "Iterasjon  21  L =  0.00015108913512015487 \n",
      "Iterasjon  22  L =  0.00013323955716992682 \n",
      "Iterasjon  23  L =  0.00011842502647256385 \n",
      "Iterasjon  24  L =  0.00010598221820789383 \n",
      "Iterasjon  25  L =  9.542459009298955e-05 \n",
      "Iterasjon  26  L =  8.63761211514074e-05 \n",
      "Iterasjon  27  L =  7.839931921751328e-05 \n",
      "Iterasjon  28  L =  7.138596807395388e-05 \n",
      "Iterasjon  29  L =  6.526043279848575e-05 \n",
      "Iterasjon  30  L =  5.988901054167962e-05 \n",
      "Iterasjon  31  L =  5.5156171817103254e-05 \n",
      "Iterasjon  32  L =  5.096317320336516e-05 \n",
      "Iterasjon  33  L =  4.7229621976053036e-05 \n",
      "Iterasjon  34  L =  4.389079866515521e-05 \n",
      "Iterasjon  35  L =  4.089255744262046e-05 \n",
      "Iterasjon  36  L =  3.8189721268253974e-05 \n",
      "Iterasjon  37  L =  3.574481811485481e-05 \n",
      "Iterasjon  38  L =  3.352557574305436e-05 \n",
      "Iterasjon  39  L =  3.150475794898043e-05 \n",
      "Iterasjon  40  L =  2.9659559950318225e-05 \n",
      "Iterasjon  41  L =  2.7969723753119982e-05 \n",
      "Iterasjon  42  L =  2.6418383652515407e-05 \n",
      "Iterasjon  43  L =  2.499084210820226e-05 \n",
      "Iterasjon  44  L =  2.3674097165287315e-05 \n",
      "Iterasjon  45  L =  2.245702991026276e-05 \n",
      "Iterasjon  46  L =  2.1329823314085932e-05 \n",
      "Iterasjon  47  L =  2.028370166275044e-05 \n",
      "Iterasjon  48  L =  1.9311047785807617e-05 \n",
      "Iterasjon  49  L =  1.8405229094021037e-05 \n",
      "Iterasjon  50  L =  1.756027758985412e-05 \n",
      "Iterasjon  51  L =  1.6770710757050773e-05 \n",
      "Iterasjon  52  L =  1.603178422489679e-05 \n",
      "Iterasjon  53  L =  1.5339294533585543e-05 \n",
      "Iterasjon  54  L =  1.4689396670989209e-05 \n",
      "Iterasjon  55  L =  1.4078664588405358e-05 \n",
      "Iterasjon  56  L =  1.3504001574011237e-05 \n",
      "Iterasjon  57  L =  1.296265857455606e-05 \n",
      "Iterasjon  58  L =  1.2452119190767226e-05 \n",
      "Iterasjon  59  L =  1.1970060438133931e-05 \n",
      "Iterasjon  60  L =  1.1514376948388173e-05 \n",
      "Iterasjon  61  L =  1.1083256988713366e-05 \n",
      "Iterasjon  62  L =  1.0674937734656694e-05 \n",
      "Iterasjon  63  L =  1.0287841786380578e-05 \n",
      "Iterasjon  64  L =  9.920511784152548e-06 \n",
      "Iterasjon  65  L =  9.571661041753193e-06 \n",
      "Iterasjon  66  L =  9.24005909435205e-06 \n",
      "Iterasjon  67  L =  8.924584001516003e-06 \n",
      "Iterasjon  68  L =  8.624217072236912e-06 \n",
      "Iterasjon  69  L =  8.338034551663812e-06 \n",
      "Iterasjon  70  L =  8.065141555990916e-06 \n",
      "Iterasjon  71  L =  7.804792911480115e-06 \n",
      "Iterasjon  72  L =  7.556235882637646e-06 \n",
      "Iterasjon  73  L =  7.318758081583476e-06 \n",
      "Iterasjon  74  L =  7.0916059294014206e-06 \n",
      "Iterasjon  75  L =  6.874240578755654e-06 \n",
      "Iterasjon  76  L =  6.666150482877109e-06 \n",
      "Iterasjon  77  L =  6.466820195017785e-06 \n",
      "Iterasjon  78  L =  6.2757680303679126e-06 \n",
      "Iterasjon  79  L =  6.092532396969999e-06 \n",
      "Iterasjon  80  L =  5.91669717194901e-06 \n",
      "Iterasjon  81  L =  5.747886558558604e-06 \n",
      "Iterasjon  82  L =  5.585711191336606e-06 \n",
      "Iterasjon  83  L =  5.429858335425672e-06 \n",
      "Iterasjon  84  L =  5.279983965525249e-06 \n",
      "Iterasjon  85  L =  5.135807105196547e-06 \n",
      "Iterasjon  86  L =  4.997033318501768e-06 \n",
      "Iterasjon  87  L =  4.863417183892536e-06 \n",
      "Iterasjon  88  L =  4.7346947189851004e-06 \n",
      "Iterasjon  89  L =  4.610632583383051e-06 \n",
      "Iterasjon  90  L =  4.491026664576283e-06 \n",
      "Iterasjon  91  L =  4.375648504230662e-06 \n",
      "Iterasjon  92  L =  4.2643207374551414e-06 \n",
      "Iterasjon  93  L =  4.156862022078568e-06 \n",
      "Iterasjon  94  L =  4.053073430984937e-06 \n",
      "Iterasjon  95  L =  3.952815504396756e-06 \n",
      "Iterasjon  96  L =  3.855961638422261e-06 \n",
      "Iterasjon  97  L =  3.7624676491449424e-06 \n",
      "Iterasjon  98  L =  3.6720647694903096e-06 \n",
      "Iterasjon  99  L =  3.5845998531483605e-06 \n",
      "Iterasjon  100  L =  3.4999484281773743e-06 \n"
     ]
    },
    {
     "data": {
      "image/png": "[encoded data removed]",
      "text/plain": [
       "<Figure size 432x288 with 1 Axes>"
      ]
     },
     "metadata": {
      "needs_background": "light"
     },
     "output_type": "display_data"
    },
    {
     "data": {
      "text/plain": [
       "<Figure size 1440x1800 with 0 Axes>"
      ]
     },
     "metadata": {},
     "output_type": "display_data"
    }
   ],
   "source": [
    "losses = test_Adam(nn, loss, data['x_train'], data['y_train'], 100, 0.001, m, 4, 9)"
   ]
  },
  {
   "cell_type": "markdown",
   "metadata": {},
   "source": [
    "Som vi ser, klarer vi å optimere nettverket ved at vi minimerer objektfunksjonen. Vi ser også hvordan det er en raskere endring i objektfunskjonen for de første iterasjonene, før den gradvis tilnærmer seg en minimumsverdi."
   ]
  },
  {
   "cell_type": "markdown",
   "metadata": {},
   "source": [
    "Tester for én iterasjon for å se om den greier å predikere neste verdi"
   ]
  },
  {
   "cell_type": "code",
   "execution_count": 11,
   "metadata": {},
   "outputs": [
    {
     "name": "stdout",
     "output_type": "stream",
     "text": [
      "[[1 0 0 1 0]]\n"
     ]
    }
   ],
   "source": [
    "x = np.array([[1, 0 ,0, 1, 0]])\n",
    "X = onehot(x, m)\n",
    "\n",
    "#forward pass\n",
    "Z = nn.forward(X)\n",
    "z_hat = np.argmax(Z, axis=1)\n",
    "\n",
    "print(z_hat)"
   ]
  },
  {
   "cell_type": "markdown",
   "metadata": {},
   "source": [
    "Når vi sender inn arrayet [[1, 0, 0, 1, 1]] i algoritmen, vil vi få den første predikerte verdien som det siste elementet i det returnerte arrayet, som beskrevet i avsnitt 1.2. Siden algoritmen sorterer verdiene i arrayet bestående av 0 og 1, forventer vi at det første sifferet i det sorterte arrayet blir 0. Deretter, for å predikere resten av sekvensen, mater vi inn det siste elementet i det predikerte arrayet tilbake inn i arrayet vi sender gjennom 'forward'-steget, og fortsetter prediksjonen derfra."
   ]
  },
  {
   "cell_type": "markdown",
   "metadata": {},
   "source": [
    "Videre har vi definert funksjonene $\\texttt{predict}$ i $\\texttt{NeuralNetwork}$ og $\\texttt{countCorrect}$ i $\\texttt{utils.py}$. $\\texttt{predict}$ tar inn testdataen til det nevrale nettverket vårt og predikerer svarene ut ifra dataen, før $\\texttt{countCorrect}$ sjekker hvor stor andel av prediksjonene som var riktige. Dermed kan vi se hvorvidt nettverket vårt klarer å sortere eller ikke."
   ]
  },
  {
   "cell_type": "code",
   "execution_count": 12,
   "metadata": {},
   "outputs": [
    {
     "name": "stdout",
     "output_type": "stream",
     "text": [
      "Antall rette prediksjoner: 1000\n",
      "Totalt antall prediksjoner: 1000\n",
      "Prosentvis riktige predikasjoner: 100.0 %\n"
     ]
    }
   ],
   "source": [
    "#Kaller på prediksjonsfunksjonen\n",
    "y_hats = nn.predict(x_test, 2, 5)\n",
    "#Teller antall rette prediksjoner\n",
    "tell = countCorrect_sort(y_hats, y_test)"
   ]
  },
  {
   "cell_type": "markdown",
   "metadata": {},
   "source": [
    "Når to forskjellige verdier kan forekomme på fem ulike steder, resulterer dette i totalt $32$ mulige kombinasjoner $(2^5 = 32)$. Denne variasjonen gjør det praktisk talt umulig å teste algoritmen vår med nye sekvenser. Ideelt sett ville tapet ha tendert mot null, og prediksjonene ville vært korrekte hver gang, siden algoritmen burde gjenkjenne det riktige svaret $(y)$ i stedet for å forutsi neste sekvens. Hvis dette ikke skjer, kan det tyde på feil i det nevrale nettverket eller treningsdataen."
   ]
  },
  {
   "cell_type": "markdown",
   "metadata": {},
   "source": [
    "Nå som vi ser at det nevrale nettverket blir trent riktig, kan vi prøve å løse det samme problemet med tallsekvenser på lengde $7$ og tall fra $0$ til $4$."
   ]
  },
  {
   "cell_type": "code",
   "execution_count": 13,
   "metadata": {},
   "outputs": [],
   "source": [
    "#Initialiserer to lag og henter ny treningsdata likt som tidligere\n",
    "#definerer variabler\n",
    "r = 7\n",
    "m = 5\n",
    "n_max = 2*r-1\n",
    "\n",
    "d = 20\n",
    "k = 10\n",
    "p = 25\n",
    "L = 2\n",
    "#Implementerer 2 lag\n",
    "embed = EmbedPosition(n_max,m,d)\n",
    "att1 = Attention(d,k)\n",
    "att2 = Attention(d,k)\n",
    "\n",
    "ff1 = FeedForward(d,p)\n",
    "ff2 = FeedForward(d,p)\n",
    "\n",
    "un_embed = LinearLayer(d,m)\n",
    "softmax = Softmax()\n",
    "loss = CrossEntropy()\n",
    "#Initialiserer nettverket\n",
    "nn = NeuralNetwork([embed, att1, ff1, att2, ff2, un_embed, softmax])\n",
    "#Henter data\n",
    "data = get_train_test_sorting(r, m, samples_per_batch=250,n_batches_train=10, n_batches_test=4)\n",
    "#Lagrer data for enklere senere bruk\n",
    "x_train = data['x_train']\n",
    "y_train = data['y_train']\n",
    "x_test = data['x_test']\n",
    "y_test = data['y_test']\n"
   ]
  },
  {
   "cell_type": "markdown",
   "metadata": {},
   "source": [
    "Trener modellen på den nye dataen for å optimere prediksjonene. Her har vi valgt steglengden 0.001 siden det har vist seg å gi gode resultater. Vi velger også å ikke stoppe treningen ved $\\mathcal{L} < 0.01$, for å garantere et bedre resultat."
   ]
  },
  {
   "cell_type": "code",
   "execution_count": 14,
   "metadata": {},
   "outputs": [
    {
     "name": "stdout",
     "output_type": "stream",
     "text": [
      "Iterasjon  1  L =  0.6937131650100311 \n",
      "Iterasjon  2  L =  0.677705507910215 \n",
      "Iterasjon  3  L =  0.6573056332108114 \n",
      "Iterasjon  4  L =  0.6279617826234438 \n",
      "Iterasjon  5  L =  0.584634923367463 \n",
      "Iterasjon  6  L =  0.5258147874839245 \n",
      "Iterasjon  7  L =  0.45463062304164736 \n",
      "Iterasjon  8  L =  0.38533820040126426 \n",
      "Iterasjon  9  L =  0.34136902497742666 \n",
      "Iterasjon  10  L =  0.326360089694158 \n",
      "Iterasjon  11  L =  0.31537052217126843 \n",
      "Iterasjon  12  L =  0.30533679869707747 \n",
      "Iterasjon  13  L =  0.2931101161085507 \n",
      "Iterasjon  14  L =  0.27217122526808846 \n",
      "Iterasjon  15  L =  0.2561181478781552 \n",
      "Iterasjon  16  L =  0.24080317631198356 \n",
      "Iterasjon  17  L =  0.23023315973075498 \n",
      "Iterasjon  18  L =  0.21699953337177375 \n",
      "Iterasjon  19  L =  0.21056069951796172 \n",
      "Iterasjon  20  L =  0.20765793241493918 \n",
      "Iterasjon  21  L =  0.20289990749899456 \n",
      "Iterasjon  22  L =  0.20694524675581044 \n",
      "Iterasjon  23  L =  0.20010057219405994 \n",
      "Iterasjon  24  L =  0.19712402618242797 \n",
      "Iterasjon  25  L =  0.18233803651029803 \n",
      "Iterasjon  26  L =  0.17437038764990018 \n",
      "Iterasjon  27  L =  0.16406574896422094 \n",
      "Iterasjon  28  L =  0.15485653650911377 \n",
      "Iterasjon  29  L =  0.14306700378788714 \n",
      "Iterasjon  30  L =  0.13486554035309592 \n",
      "Iterasjon  31  L =  0.12923156734210584 \n",
      "Iterasjon  32  L =  0.13846865881771447 \n",
      "Iterasjon  33  L =  0.18409334520855086 \n",
      "Iterasjon  34  L =  0.22992085168883675 \n",
      "Iterasjon  35  L =  0.22044168645834264 \n",
      "Iterasjon  36  L =  0.18926219203123357 \n",
      "Iterasjon  37  L =  0.16414401605293857 \n",
      "Iterasjon  38  L =  0.15911295352656546 \n",
      "Iterasjon  39  L =  0.1446860570408027 \n",
      "Iterasjon  40  L =  0.128569306182912 \n",
      "Iterasjon  41  L =  0.11745988592186005 \n",
      "Iterasjon  42  L =  0.10836830432015121 \n",
      "Iterasjon  43  L =  0.10121954089965776 \n",
      "Iterasjon  44  L =  0.09572278490864462 \n",
      "Iterasjon  45  L =  0.09256367856664849 \n",
      "Iterasjon  46  L =  0.09034880540052846 \n",
      "Iterasjon  47  L =  0.0924267616921611 \n",
      "Iterasjon  48  L =  0.10266269334181084 \n",
      "Iterasjon  49  L =  0.11477360659545315 \n",
      "Iterasjon  50  L =  0.12488882786503701 \n",
      "Iterasjon  51  L =  0.12110160662714245 \n",
      "Iterasjon  52  L =  0.12075903312228446 \n",
      "Iterasjon  53  L =  0.1195975413777786 \n",
      "Iterasjon  54  L =  0.11510750065816096 \n",
      "Iterasjon  55  L =  0.11753840688380483 \n",
      "Iterasjon  56  L =  0.10438821768980608 \n",
      "Iterasjon  57  L =  0.10766762878303875 \n",
      "Iterasjon  58  L =  0.08544389980320087 \n",
      "Iterasjon  59  L =  0.07875020865187615 \n",
      "Iterasjon  60  L =  0.0700218070099434 \n",
      "Iterasjon  61  L =  0.0700805046357917 \n",
      "Iterasjon  62  L =  0.06887532974124558 \n",
      "Iterasjon  63  L =  0.07101832267092464 \n",
      "Iterasjon  64  L =  0.07037787273695151 \n",
      "Iterasjon  65  L =  0.07746351700648016 \n",
      "Iterasjon  66  L =  0.08392065924484249 \n",
      "Iterasjon  67  L =  0.0987308117666487 \n",
      "Iterasjon  68  L =  0.10301925615878829 \n",
      "Iterasjon  69  L =  0.10586105720346946 \n",
      "Iterasjon  70  L =  0.10146310772359221 \n",
      "Iterasjon  71  L =  0.0966356477695389 \n",
      "Iterasjon  72  L =  0.09097433854757966 \n",
      "Iterasjon  73  L =  0.08373292066867674 \n",
      "Iterasjon  74  L =  0.07671583044275251 \n",
      "Iterasjon  75  L =  0.0686599651718358 \n",
      "Iterasjon  76  L =  0.060319028244017844 \n",
      "Iterasjon  77  L =  0.05615738426622825 \n",
      "Iterasjon  78  L =  0.051663457407983115 \n",
      "Iterasjon  79  L =  0.04997207317306742 \n",
      "Iterasjon  80  L =  0.04627577018276582 \n",
      "Iterasjon  81  L =  0.04552840250808813 \n",
      "Iterasjon  82  L =  0.042797367752870207 \n",
      "Iterasjon  83  L =  0.04219522131826818 \n",
      "Iterasjon  84  L =  0.039714674042718626 \n",
      "Iterasjon  85  L =  0.038991266295124685 \n",
      "Iterasjon  86  L =  0.036838378750657375 \n",
      "Iterasjon  87  L =  0.036204700095264206 \n",
      "Iterasjon  88  L =  0.0343609117597319 \n",
      "Iterasjon  89  L =  0.03442309887319189 \n",
      "Iterasjon  90  L =  0.033235201007637064 \n",
      "Iterasjon  91  L =  0.03417311681098319 \n",
      "Iterasjon  92  L =  0.03389681145040261 \n",
      "Iterasjon  93  L =  0.03600218935818307 \n",
      "Iterasjon  94  L =  0.03691900414873829 \n",
      "Iterasjon  95  L =  0.040075727204948244 \n",
      "Iterasjon  96  L =  0.04326426392592592 \n",
      "Iterasjon  97  L =  0.05107766441011592 \n",
      "Iterasjon  98  L =  0.06489283894517488 \n",
      "Iterasjon  99  L =  0.07921624837230118 \n",
      "Iterasjon  100  L =  0.06814374001984055 \n",
      "Iterasjon  101  L =  0.06059106049805466 \n",
      "Iterasjon  102  L =  0.04107731933920526 \n",
      "Iterasjon  103  L =  0.03875345211957613 \n",
      "Iterasjon  104  L =  0.034582447240101816 \n",
      "Iterasjon  105  L =  0.023816863660234635 \n",
      "Iterasjon  106  L =  0.02180804267301157 \n",
      "Iterasjon  107  L =  0.018124969309186518 \n",
      "Iterasjon  108  L =  0.01748445196668875 \n",
      "Iterasjon  109  L =  0.0171200899208821 \n",
      "Iterasjon  110  L =  0.01725373425501622 \n",
      "Iterasjon  111  L =  0.01837424135864422 \n",
      "Iterasjon  112  L =  0.01942656340596698 \n",
      "Iterasjon  113  L =  0.02127961589130723 \n",
      "Iterasjon  114  L =  0.024104835677997132 \n",
      "Iterasjon  115  L =  0.026948375153373966 \n",
      "Iterasjon  116  L =  0.030365508199733722 \n",
      "Iterasjon  117  L =  0.038421947107332516 \n",
      "Iterasjon  118  L =  0.042177068673412275 \n",
      "Iterasjon  119  L =  0.06248843965104336 \n",
      "Iterasjon  120  L =  0.08654653541666465 \n",
      "Iterasjon  121  L =  0.0960798187337705 \n",
      "Iterasjon  122  L =  0.11233397306674661 \n",
      "Iterasjon  123  L =  0.12920477657587034 \n",
      "Iterasjon  124  L =  0.10813760544783904 \n",
      "Iterasjon  125  L =  0.10349332782411216 \n",
      "Iterasjon  126  L =  0.07237122051490337 \n",
      "Iterasjon  127  L =  0.05811071505947916 \n",
      "Iterasjon  128  L =  0.030072723823449037 \n",
      "Iterasjon  129  L =  0.02923174163977791 \n",
      "Iterasjon  130  L =  0.02142726853169441 \n",
      "Iterasjon  131  L =  0.014186731889041215 \n",
      "Iterasjon  132  L =  0.013934981751991931 \n",
      "Iterasjon  133  L =  0.01090477204181612 \n",
      "Iterasjon  134  L =  0.010079058888520724 \n",
      "Iterasjon  135  L =  0.008890921293086988 \n",
      "Iterasjon  136  L =  0.008206461591341195 \n",
      "Iterasjon  137  L =  0.007544278108027444 \n",
      "Iterasjon  138  L =  0.00700794873815432 \n",
      "Iterasjon  139  L =  0.0065300863539087765 \n",
      "Iterasjon  140  L =  0.006117232613701715 \n",
      "Iterasjon  141  L =  0.005747413750387845 \n",
      "Iterasjon  142  L =  0.005414297460118902 \n",
      "Iterasjon  143  L =  0.005114173884532525 \n",
      "Iterasjon  144  L =  0.004839781156158066 \n",
      "Iterasjon  145  L =  0.004589327374924951 \n",
      "Iterasjon  146  L =  0.004360155619358827 \n",
      "Iterasjon  147  L =  0.004147646909463795 \n",
      "Iterasjon  148  L =  0.003950546594087491 \n",
      "Iterasjon  149  L =  0.0037682024539537236 \n",
      "Iterasjon  150  L =  0.0035985594832525537 \n",
      "Iterasjon  151  L =  0.0034398762056708615 \n",
      "Iterasjon  152  L =  0.0032915747910506354 \n",
      "Iterasjon  153  L =  0.0031527643841497413 \n",
      "Iterasjon  154  L =  0.0030224577204542363 \n",
      "Iterasjon  155  L =  0.002900149047851903 \n",
      "Iterasjon  156  L =  0.0027848726316060547 \n",
      "Iterasjon  157  L =  0.0026759997779571957 \n",
      "Iterasjon  158  L =  0.0025730905043135858 \n",
      "Iterasjon  159  L =  0.0024757527778217297 \n",
      "Iterasjon  160  L =  0.0023835321660710864 \n",
      "Iterasjon  161  L =  0.002295969988293426 \n",
      "Iterasjon  162  L =  0.0022128543616024357 \n",
      "Iterasjon  163  L =  0.0021339546899854537 \n",
      "Iterasjon  164  L =  0.0020590240727385465 \n",
      "Iterasjon  165  L =  0.001987693578760682 \n",
      "Iterasjon  166  L =  0.0019198512305907782 \n",
      "Iterasjon  167  L =  0.0018552580268792703 \n",
      "Iterasjon  168  L =  0.0017935622422548092 \n",
      "Iterasjon  169  L =  0.0017346754907514388 \n",
      "Iterasjon  170  L =  0.001678470317871154 \n",
      "Iterasjon  171  L =  0.0016247557380972585 \n",
      "Iterasjon  172  L =  0.0015734148276034699 \n",
      "Iterasjon  173  L =  0.0015243244810139625 \n",
      "Iterasjon  174  L =  0.0014773723654707832 \n",
      "Iterasjon  175  L =  0.0014324588374999647 \n",
      "Iterasjon  176  L =  0.0013894491234958915 \n",
      "Iterasjon  177  L =  0.0013481502237179675 \n",
      "Iterasjon  178  L =  0.0013085444199131952 \n",
      "Iterasjon  179  L =  0.0012705303845424534 \n",
      "Iterasjon  180  L =  0.0012340620705014386 \n",
      "Iterasjon  181  L =  0.0011990593387199637 \n",
      "Iterasjon  182  L =  0.0011654178699227315 \n",
      "Iterasjon  183  L =  0.001133099147370312 \n",
      "Iterasjon  184  L =  0.001102048188903819 \n",
      "Iterasjon  185  L =  0.0010721602849690537 \n",
      "Iterasjon  186  L =  0.0010433940687094045 \n",
      "Iterasjon  187  L =  0.0010156406558476533 \n",
      "Iterasjon  188  L =  0.0009888854573502212 \n",
      "Iterasjon  189  L =  0.0009630570372201703 \n",
      "Iterasjon  190  L =  0.0009381341503631744 \n",
      "Iterasjon  191  L =  0.0009140662549510838 \n",
      "Iterasjon  192  L =  0.000890822020520729 \n",
      "Iterasjon  193  L =  0.0008683925702259893 \n",
      "Iterasjon  194  L =  0.0008467432609783771 \n",
      "Iterasjon  195  L =  0.0008258178938172951 \n",
      "Iterasjon  196  L =  0.000805598746031968 \n",
      "Iterasjon  197  L =  0.0007860613642665284 \n",
      "Iterasjon  198  L =  0.0007671690642440161 \n",
      "Iterasjon  199  L =  0.0007489038111035187 \n",
      "Iterasjon  200  L =  0.0007312331735154786 \n",
      "Iterasjon  201  L =  0.0007141405378648386 \n",
      "Iterasjon  202  L =  0.0006976196120665796 \n",
      "Iterasjon  203  L =  0.0006816263896144619 \n",
      "Iterasjon  204  L =  0.0006661198954666465 \n",
      "Iterasjon  205  L =  0.0006511004873078028 \n",
      "Iterasjon  206  L =  0.000636559629073465 \n",
      "Iterasjon  207  L =  0.0006224694510988084 \n",
      "Iterasjon  208  L =  0.0006087949972929696 \n",
      "Iterasjon  209  L =  0.0005955525186304355 \n",
      "Iterasjon  210  L =  0.0005826992534353254 \n",
      "Iterasjon  211  L =  0.0005702264087113349 \n",
      "Iterasjon  212  L =  0.0005581260314413446 \n",
      "Iterasjon  213  L =  0.0005463975453356786 \n",
      "Iterasjon  214  L =  0.0005349644417857356 \n",
      "Iterasjon  215  L =  0.0005238846274651131 \n",
      "Iterasjon  216  L =  0.0005131503648567002 \n",
      "Iterasjon  217  L =  0.0005026935350979392 \n",
      "Iterasjon  218  L =  0.0004925252088521799 \n",
      "Iterasjon  219  L =  0.00048263554798314446 \n",
      "Iterasjon  220  L =  0.00047301884568581095 \n",
      "Iterasjon  221  L =  0.0004636707209967043 \n",
      "Iterasjon  222  L =  0.0004545660118443903 \n",
      "Iterasjon  223  L =  0.00044570695076509483 \n",
      "Iterasjon  224  L =  0.0004370904870415647 \n",
      "Iterasjon  225  L =  0.0004287168884003225 \n",
      "Iterasjon  226  L =  0.00042056994809270675 \n",
      "Iterasjon  227  L =  0.00041263939942535414 \n",
      "Iterasjon  228  L =  0.00040491890090884903 \n",
      "Iterasjon  229  L =  0.0003973976210208968 \n",
      "Iterasjon  230  L =  0.00039006552528596196 \n",
      "Iterasjon  231  L =  0.00038292082251765097 \n",
      "Iterasjon  232  L =  0.00037596159452102026 \n",
      "Iterasjon  233  L =  0.0003691675343052553 \n",
      "Iterasjon  234  L =  0.0003625408133873209 \n",
      "Iterasjon  235  L =  0.00035607384553939907 \n",
      "Iterasjon  236  L =  0.00034976899493134345 \n",
      "Iterasjon  237  L =  0.00034360953230703345 \n",
      "Iterasjon  238  L =  0.0003375885593096638 \n",
      "Iterasjon  239  L =  0.0003317164202255226 \n",
      "Iterasjon  240  L =  0.00032597946620255297 \n",
      "Iterasjon  241  L =  0.0003203690978870648 \n",
      "Iterasjon  242  L =  0.00031488683136668085 \n",
      "Iterasjon  243  L =  0.00030953675927611015 \n",
      "Iterasjon  244  L =  0.0003043163483676826 \n",
      "Iterasjon  245  L =  0.0002992075134321674 \n",
      "Iterasjon  246  L =  0.0002941990988449477 \n",
      "Iterasjon  247  L =  0.0002893186384025105 \n",
      "Iterasjon  248  L =  0.0002845566870276602 \n",
      "Iterasjon  249  L =  0.00027989954141026277 \n",
      "Iterasjon  250  L =  0.00027534315012213136 \n",
      "Iterasjon  251  L =  0.000270890298432778 \n",
      "Iterasjon  252  L =  0.00026653829444507116 \n",
      "Iterasjon  253  L =  0.00026227728407103573 \n",
      "Iterasjon  254  L =  0.00025810677488487076 \n",
      "Iterasjon  255  L =  0.00025401902185575854 \n",
      "Iterasjon  256  L =  0.00025001957134925093 \n",
      "Iterasjon  257  L =  0.00024610265700920366 \n",
      "Iterasjon  258  L =  0.00024227269295974837 \n",
      "Iterasjon  259  L =  0.00023852775396995574 \n",
      "Iterasjon  260  L =  0.0002348644873262261 \n",
      "Iterasjon  261  L =  0.00023127413030865895 \n",
      "Iterasjon  262  L =  0.00022776010526445804 \n",
      "Iterasjon  263  L =  0.0002243167766648914 \n",
      "Iterasjon  264  L =  0.0002209351406658129 \n",
      "Iterasjon  265  L =  0.00021760847843331453 \n",
      "Iterasjon  266  L =  0.00021435009452652485 \n",
      "Iterasjon  267  L =  0.000211154649268348 \n",
      "Iterasjon  268  L =  0.00020802326317086555 \n",
      "Iterasjon  269  L =  0.00020495242904073875 \n",
      "Iterasjon  270  L =  0.0002019427657197469 \n",
      "Iterasjon  271  L =  0.00019899048099561323 \n",
      "Iterasjon  272  L =  0.00019610138549019246 \n",
      "Iterasjon  273  L =  0.00019327642078549915 \n",
      "Iterasjon  274  L =  0.00019050488425512976 \n",
      "Iterasjon  275  L =  0.00018778337946358579 \n",
      "Iterasjon  276  L =  0.00018511232035143266 \n",
      "Iterasjon  277  L =  0.0001824943740995018 \n",
      "Iterasjon  278  L =  0.00017992412289045222 \n",
      "Iterasjon  279  L =  0.00017740081379266084 \n",
      "Iterasjon  280  L =  0.00017492308243222235 \n",
      "Iterasjon  281  L =  0.0001724925969968289 \n",
      "Iterasjon  282  L =  0.0001701063876644776 \n",
      "Iterasjon  283  L =  0.00016776422914876581 \n",
      "Iterasjon  284  L =  0.00016546346337760015 \n",
      "Iterasjon  285  L =  0.00016320413616804488 \n",
      "Iterasjon  286  L =  0.00016098982650625536 \n",
      "Iterasjon  287  L =  0.00015881406338482936 \n",
      "Iterasjon  288  L =  0.00015668573594354744 \n",
      "Iterasjon  289  L =  0.00015459542550617198 \n",
      "Iterasjon  290  L =  0.0001525415973910044 \n",
      "Iterasjon  291  L =  0.0001505210326293521 \n",
      "Iterasjon  292  L =  0.00014853705506009683 \n",
      "Iterasjon  293  L =  0.00014658784584005465 \n",
      "Iterasjon  294  L =  0.00014467343161418564 \n",
      "Iterasjon  295  L =  0.0001427912806673957 \n",
      "Iterasjon  296  L =  0.00014094018715982032 \n",
      "Iterasjon  297  L =  0.0001391208845844247 \n",
      "Iterasjon  298  L =  0.0001373304123396091 \n",
      "Iterasjon  299  L =  0.00013557062688769806 \n",
      "Iterasjon  300  L =  0.00013383908545991173 \n"
     ]
    },
    {
     "data": {
      "image/png": "[encoded data removed]",
      "text/plain": [
       "<Figure size 432x288 with 1 Axes>"
      ]
     },
     "metadata": {
      "needs_background": "light"
     },
     "output_type": "display_data"
    },
    {
     "data": {
      "text/plain": [
       "<Figure size 1440x1800 with 0 Axes>"
      ]
     },
     "metadata": {},
     "output_type": "display_data"
    }
   ],
   "source": [
    "losses = test_Adam(nn, loss, data['x_train'], data['y_train'], 300, 0.001, m, 6, 13)"
   ]
  },
  {
   "cell_type": "markdown",
   "metadata": {},
   "source": [
    "Som vi ser går også loss-funksjonen her mot 0, men i en lavere grad enn tidligere. Dette kan indikere at nettverket vårt sliter litt mer med å stadfeste klare mønster og sammenhenger. Verdien er likevel lav nok til at vi burde forvente riktig prediksjon store deler av tiden. "
   ]
  },
  {
   "cell_type": "markdown",
   "metadata": {},
   "source": [
    "Vi kan derfor teste med noen enkle tilfeller for å bekrefte at vi får riktig prediksjon."
   ]
  },
  {
   "cell_type": "code",
   "execution_count": 15,
   "metadata": {},
   "outputs": [
    {
     "name": "stdout",
     "output_type": "stream",
     "text": [
      "[3 0 4 1 4 3 2] -> [0 1 2 3 3 4 4]\n",
      "[4 2 2 1 2 2 4] -> [1 2 2 2 2 4 4]\n",
      "[1 2 0 1 3 0 4] -> [0 0 1 1 2 3 4]\n"
     ]
    }
   ],
   "source": [
    "#Arrayene vi vil prøve å sortere\n",
    "x_1 = np.array([[[3, 0, 4, 1, 4, 3, 2]]]) \n",
    "x_2 = np.array([[[4, 2, 2, 1, 2, 2, 4]]])\n",
    "x_3 = np.array([[[1, 2, 0, 1, 3, 0, 4]]])\n",
    "\n",
    "#Printer de opprinnelige usorterte arrayene med tilhørende sortert prediksjon\n",
    "print(x_1[0,0], \"->\",(nn.predict(x_1, 5, 7))[0,0])\n",
    "print(x_2[0,0], \"->\",(nn.predict(x_2, 5, 7))[0,0])\n",
    "print(x_3[0,0], \"->\",(nn.predict(x_3, 5, 7))[0,0])"
   ]
  },
  {
   "cell_type": "markdown",
   "metadata": {},
   "source": [
    "Vi ser at nettverket vårt klarer å predikere riktig for disse tilfellene. Likevel kan det være fordelaktig å teste det med et større datasett for å få en dypere forståelse av nettverkets treningsnivå."
   ]
  },
  {
   "cell_type": "markdown",
   "metadata": {},
   "source": [
    "I motsetning til i forrige problem har vi nå flere mulige sekvenskombinasjoner enn det vi har trent på. $\\texttt{get\\_train\\_test\\_sorting}$-funksjonen leverer testdata som nettverket ikke har blitt eksponert for under treningen. Ved å bruke testdataen lar dette oss evaluere hvor godt nettverket vårt kan forutsi sortering av tall, da det blir testet på prediksjonsevnen, og ikke bare på gjenkjennelse av treningsdataen."
   ]
  },
  {
   "cell_type": "markdown",
   "metadata": {},
   "source": [
    "Vi velger dermed å teste nettverket på testdataen som består av $4$ batches med $250$ samples."
   ]
  },
  {
   "cell_type": "code",
   "execution_count": 16,
   "metadata": {},
   "outputs": [
    {
     "name": "stdout",
     "output_type": "stream",
     "text": [
      "Antall rette prediksjoner: 998\n",
      "Totalt antall prediksjoner: 1000\n",
      "Prosentvis riktige predikasjoner: 99.8 %\n"
     ]
    }
   ],
   "source": [
    "#Henter prediksjonsfunksjonen\n",
    "y_hats = nn.predict(x_test, 5, 7)\n",
    "#Finner andelen av riktige prediksjoner\n",
    "tell = countCorrect_sort(y_hats, y_test)"
   ]
  },
  {
   "cell_type": "markdown",
   "metadata": {},
   "source": [
    "Også her ser vi at modellen vår er godt trent på å sortere riktig, selv med ny data og flere mulige kombinasjoner enn tidligere."
   ]
  },
  {
   "cell_type": "markdown",
   "metadata": {},
   "source": [
    "#### Oppgave 3.4"
   ]
  },
  {
   "cell_type": "markdown",
   "metadata": {},
   "source": [
    "Nå som vi har demonstrert muligheten til å trene det nevrale nettverket til å sortere tall, ønsker vi å utforske om det kan lære enkel addisjon med to tosifrede tall. Denne tilnærmingen ligner på sorteringen, men her øker vi mengden treningsdata i håp om å oppnå en godt trent modell som kan forutsi riktig resultat store deler av tiden."
   ]
  },
  {
   "cell_type": "markdown",
   "metadata": {},
   "source": [
    "Vi starter med å initialisere 3 lag, definere nødvendige variabler og hente ut treningsdata."
   ]
  },
  {
   "cell_type": "code",
   "execution_count": 17,
   "metadata": {},
   "outputs": [],
   "source": [
    "from data_generators import get_train_test_addition\n",
    "#definerer variabler\n",
    "r = 4\n",
    "m = 10\n",
    "n_max = 3*r\n",
    "\n",
    "d = 30\n",
    "k = 20\n",
    "p = 40\n",
    "L = 3\n",
    "\n",
    "#Lager 3 lag til nn\n",
    "att1 = Attention(d,k)\n",
    "att2 = Attention(d,k)\n",
    "att3 = Attention(d,k)\n",
    "\n",
    "ff1 = FeedForward(d,p)\n",
    "ff2 = FeedForward(d,p)\n",
    "ff3 = FeedForward(d,p)\n",
    "\n",
    "embed = EmbedPosition(n_max,m,d)\n",
    "un_embed = LinearLayer(d,m)\n",
    "softmax = Softmax()\n",
    "loss = CrossEntropy()\n",
    "\n",
    "#Lager det nevrale nettverket på nytt\n",
    "nn = NeuralNetwork([embed, att1, ff1, att2, ff2, att3, ff3, un_embed, softmax])\n",
    "#implementerer trenignsdata. 2 siffer i tallene vi adderer, 20 batches med 250 samples per batch, og 4 batches vi kan teste med\n",
    "data = get_train_test_addition(2, samples_per_batch=250,n_batches_train=20, n_batches_test=20)\n",
    "#Henter ut data\n",
    "x_train = data['x_train']\n",
    "y_train = data['y_train']\n",
    "x_test = data['x_test']\n",
    "y_test = data['y_test']"
   ]
  },
  {
   "cell_type": "markdown",
   "metadata": {},
   "source": [
    "Nå kan vi beregne, plotte og skrive ut tapet til objektsfunksjonen ved hver iterasjon ved hjelp av den samme funksjonen som tidligere."
   ]
  },
  {
   "cell_type": "code",
   "execution_count": 18,
   "metadata": {},
   "outputs": [
    {
     "name": "stdout",
     "output_type": "stream",
     "text": [
      "Iterasjon  1  L =  0.9926128572884163 \n",
      "Iterasjon  2  L =  0.9035114457482504 \n",
      "Iterasjon  3  L =  0.8127345456225645 \n",
      "Iterasjon  4  L =  0.7587591805048524 \n",
      "Iterasjon  5  L =  0.7501619448354389 \n",
      "Iterasjon  6  L =  0.7243287340336242 \n",
      "Iterasjon  7  L =  0.6883254693065681 \n",
      "Iterasjon  8  L =  0.6708336638327672 \n",
      "Iterasjon  9  L =  0.6668490116821422 \n",
      "Iterasjon  10  L =  0.665948087314036 \n",
      "Iterasjon  11  L =  0.6651523149527749 \n",
      "Iterasjon  12  L =  0.6640733752834596 \n",
      "Iterasjon  13  L =  0.6621549613152469 \n",
      "Iterasjon  14  L =  0.6595062085223375 \n",
      "Iterasjon  15  L =  0.6546504793139526 \n",
      "Iterasjon  16  L =  0.6502990186055059 \n",
      "Iterasjon  17  L =  0.6505753733436073 \n",
      "Iterasjon  18  L =  0.6425117595962524 \n",
      "Iterasjon  19  L =  0.6298927560522808 \n",
      "Iterasjon  20  L =  0.6109427719201641 \n",
      "Iterasjon  21  L =  0.5990278703371019 \n",
      "Iterasjon  22  L =  0.6012179433720977 \n",
      "Iterasjon  23  L =  0.550013239877515 \n",
      "Iterasjon  24  L =  0.519418685923577 \n",
      "Iterasjon  25  L =  0.5089425944214303 \n",
      "Iterasjon  26  L =  0.45156879488254675 \n",
      "Iterasjon  27  L =  0.4022279326063141 \n",
      "Iterasjon  28  L =  0.40060723244341634 \n",
      "Iterasjon  29  L =  0.38029978693334365 \n",
      "Iterasjon  30  L =  0.33194954451130754 \n",
      "Iterasjon  31  L =  0.3155877104462522 \n",
      "Iterasjon  32  L =  0.2917569481158674 \n",
      "Iterasjon  33  L =  0.26630590441891855 \n",
      "Iterasjon  34  L =  0.28152708603503085 \n",
      "Iterasjon  35  L =  0.3020377562928785 \n",
      "Iterasjon  36  L =  0.2973591862579056 \n",
      "Iterasjon  37  L =  0.25021547430665597 \n",
      "Iterasjon  38  L =  0.20796632261582 \n",
      "Iterasjon  39  L =  0.18309114410127256 \n",
      "Iterasjon  40  L =  0.19260888145944027 \n",
      "Iterasjon  41  L =  0.2501928220986578 \n",
      "Iterasjon  42  L =  0.26735039139416045 \n",
      "Iterasjon  43  L =  0.23223909183820193 \n",
      "Iterasjon  44  L =  0.19729247956992685 \n",
      "Iterasjon  45  L =  0.1621549909250735 \n",
      "Iterasjon  46  L =  0.1299606256995739 \n",
      "Iterasjon  47  L =  0.10833233723980981 \n",
      "Iterasjon  48  L =  0.09599745032122392 \n",
      "Iterasjon  49  L =  0.092473714789728 \n",
      "Iterasjon  50  L =  0.10083821864583571 \n",
      "Iterasjon  51  L =  0.2053495110305002 \n",
      "Iterasjon  52  L =  0.2771639990345632 \n",
      "Iterasjon  53  L =  0.22318238515514444 \n",
      "Iterasjon  54  L =  0.14426408778459185 \n",
      "Iterasjon  55  L =  0.1053285647224714 \n",
      "Iterasjon  56  L =  0.08166051732781497 \n",
      "Iterasjon  57  L =  0.06820055142512763 \n",
      "Iterasjon  58  L =  0.06060866673970362 \n",
      "Iterasjon  59  L =  0.05974777478122349 \n",
      "Iterasjon  60  L =  0.07358794750214676 \n",
      "Iterasjon  61  L =  0.08243194728955835 \n",
      "Iterasjon  62  L =  0.06311699309802422 \n",
      "Iterasjon  63  L =  0.047977341539781296 \n",
      "Iterasjon  64  L =  0.04003845188868653 \n",
      "Iterasjon  65  L =  0.051860592319388034 \n",
      "Iterasjon  66  L =  0.15078971729548318 \n",
      "Iterasjon  67  L =  0.2390368586490931 \n",
      "Iterasjon  68  L =  0.23348312280153505 \n",
      "Iterasjon  69  L =  0.17374884060675416 \n",
      "Iterasjon  70  L =  0.11521327276670039 \n",
      "Iterasjon  71  L =  0.0769117614433977 \n",
      "Iterasjon  72  L =  0.04755986362881083 \n",
      "Iterasjon  73  L =  0.031362194662261304 \n",
      "Iterasjon  74  L =  0.024605363794195916 \n",
      "Iterasjon  75  L =  0.018672515563149104 \n",
      "Iterasjon  76  L =  0.014598692340163862 \n",
      "Iterasjon  77  L =  0.01210881330342014 \n",
      "Iterasjon  78  L =  0.010267532048465788 \n",
      "Iterasjon  79  L =  0.008905769011753543 \n",
      "Iterasjon  80  L =  0.007917044283340256 \n",
      "Iterasjon  81  L =  0.007146593294371719 \n",
      "Iterasjon  82  L =  0.006414585958231214 \n",
      "Iterasjon  83  L =  0.0057252378073557 \n",
      "Iterasjon  84  L =  0.00514540606474685 \n",
      "Iterasjon  85  L =  0.004689732356011178 \n",
      "Iterasjon  86  L =  0.004327268467378887 \n",
      "Iterasjon  87  L =  0.004001100835511009 \n",
      "Iterasjon  88  L =  0.0036817555171529417 \n",
      "Iterasjon  89  L =  0.0033918002458656086 \n",
      "Iterasjon  90  L =  0.0031508543384400475 \n",
      "Iterasjon  91  L =  0.002943950869365274 \n",
      "Iterasjon  92  L =  0.0027505556558366545 \n",
      "Iterasjon  93  L =  0.0025688026119036083 \n",
      "Iterasjon  94  L =  0.00240481610439548 \n",
      "Iterasjon  95  L =  0.00225899582568173 \n",
      "Iterasjon  96  L =  0.002131215761799193 \n",
      "Iterasjon  97  L =  0.002013289905131656 \n",
      "Iterasjon  98  L =  0.0019007731410022033 \n",
      "Iterasjon  99  L =  0.0017945438249612547 \n",
      "Iterasjon  100  L =  0.0016946824342219727 \n",
      "Iterasjon  101  L =  0.0016058886743233456 \n",
      "Iterasjon  102  L =  0.0015285389876661688 \n",
      "Iterasjon  103  L =  0.0014578493087559602 \n",
      "Iterasjon  104  L =  0.0013889509042626976 \n",
      "Iterasjon  105  L =  0.0013197475993502869 \n",
      "Iterasjon  106  L =  0.0012531679566967187 \n",
      "Iterasjon  107  L =  0.0011926653485140092 \n",
      "Iterasjon  108  L =  0.0011391875017575978 \n",
      "Iterasjon  109  L =  0.0010898655239282057 \n",
      "Iterasjon  110  L =  0.0010423570567232939 \n",
      "Iterasjon  111  L =  0.000994115085610468 \n",
      "Iterasjon  112  L =  0.0009482895925922823 \n",
      "Iterasjon  113  L =  0.0009048646884056864 \n",
      "Iterasjon  114  L =  0.0008655677549472501 \n",
      "Iterasjon  115  L =  0.0008313244263600704 \n",
      "Iterasjon  116  L =  0.0007969938528887265 \n",
      "Iterasjon  117  L =  0.0007612748021989319 \n",
      "Iterasjon  118  L =  0.0007282027439335433 \n",
      "Iterasjon  119  L =  0.0006980027085299222 \n",
      "Iterasjon  120  L =  0.0006707053207205391 \n",
      "Iterasjon  121  L =  0.0006454453727096046 \n",
      "Iterasjon  122  L =  0.0006206843204977322 \n",
      "Iterasjon  123  L =  0.0005962226362604205 \n",
      "Iterasjon  124  L =  0.0005732262419958715 \n",
      "Iterasjon  125  L =  0.0005521329500910184 \n",
      "Iterasjon  126  L =  0.0005322573824626841 \n",
      "Iterasjon  127  L =  0.0005135635273751061 \n",
      "Iterasjon  128  L =  0.0004946863566259364 \n",
      "Iterasjon  129  L =  0.0004767035734501446 \n",
      "Iterasjon  130  L =  0.0004604111701797071 \n",
      "Iterasjon  131  L =  0.00044542747272341085 \n",
      "Iterasjon  132  L =  0.0004308235862036399 \n",
      "Iterasjon  133  L =  0.0004158337180962113 \n",
      "Iterasjon  134  L =  0.00040189753274794474 \n",
      "Iterasjon  135  L =  0.0003891725419709651 \n",
      "Iterasjon  136  L =  0.000376886325270929 \n",
      "Iterasjon  137  L =  0.00036476602610520934 \n",
      "Iterasjon  138  L =  0.00035279766420074916 \n",
      "Iterasjon  139  L =  0.0003421710481441364 \n",
      "Iterasjon  140  L =  0.0003322052030602347 \n",
      "Iterasjon  141  L =  0.00032185850859098563 \n",
      "Iterasjon  142  L =  0.00031152627859989143 \n",
      "Iterasjon  143  L =  0.00030233764352143364 \n",
      "Iterasjon  144  L =  0.00029354838539855777 \n",
      "Iterasjon  145  L =  0.00028477024499027573 \n",
      "Iterasjon  146  L =  0.0002765174871040663 \n",
      "Iterasjon  147  L =  0.00026832168919767167 \n",
      "Iterasjon  148  L =  0.00026012503834064646 \n",
      "Iterasjon  149  L =  0.000252588270305435 \n",
      "Iterasjon  150  L =  0.00024561461800031825 \n"
     ]
    },
    {
     "data": {
      "image/png": "[encoded data removed]",
      "text/plain": [
       "<Figure size 432x288 with 1 Axes>"
      ]
     },
     "metadata": {
      "needs_background": "light"
     },
     "output_type": "display_data"
    },
    {
     "data": {
      "text/plain": [
       "<Figure size 1440x1800 with 0 Axes>"
      ]
     },
     "metadata": {},
     "output_type": "display_data"
    }
   ],
   "source": [
    "#Beregner og skriver ut loss for hver itterasjon\n",
    "losses = test_Adam(nn, loss, data['x_train'], data['y_train'], 150, 0.001, m, 3, 6)"
   ]
  },
  {
   "cell_type": "markdown",
   "metadata": {},
   "source": [
    "Som vi ser fra figuren, blir tapet i objektsfunksjonen minsket over flere iterasjoner."
   ]
  },
  {
   "cell_type": "markdown",
   "metadata": {},
   "source": [
    "Vi kan nå evaluere vårt nevrale nettverk ved å mate det med enkelttilfeller og deretter observere om det faktisk klarer å forutsi riktig addisjon."
   ]
  },
  {
   "cell_type": "code",
   "execution_count": 19,
   "metadata": {},
   "outputs": [
    {
     "name": "stdout",
     "output_type": "stream",
     "text": [
      "[3 0] + [4 1] = [0 7 1]\n",
      "[4 2] + [9 1] = [1 3 3]\n",
      "[7 2] + [0 1] = [0 7 3]\n"
     ]
    }
   ],
   "source": [
    "#Gir eksempler på arrays vi ønsker å predikere\n",
    "x_1 = np.array([[[3, 0, 4, 1]]])\n",
    "x_2 = np.array([[[4, 2, 9, 1]]])\n",
    "x_3 = np.array([[[7, 2, 0, 1]]])\n",
    "\n",
    "#Printfunksjoner for å printe hva vi ønsker å predikere summen av opp mot vår predikerte sum\n",
    "print(x_1[0,0][:2], \"+\" ,x_1[0,0][2:], \"=\",np.flip(nn.predict(x_1, m, 3))[0,0])\n",
    "print(x_2[0,0][:2], \"+\" ,x_2[0,0][2:], \"=\",np.flip(nn.predict(x_2, m, 3))[0,0])\n",
    "print(x_3[0,0][:2], \"+\" ,x_3[0,0][2:], \"=\",np.flip(nn.predict(x_3, m, 3))[0,0])"
   ]
  },
  {
   "cell_type": "markdown",
   "metadata": {},
   "source": [
    "Vi kan også utføre testing av nettverket vårt på testdataen vi uttrakk samtidig med treningsdataen. I dette tilfellet vil vi gjennomføre 5000 tester på dataene som modellen vår ikke har blitt trent på tidligere."
   ]
  },
  {
   "cell_type": "code",
   "execution_count": 20,
   "metadata": {},
   "outputs": [
    {
     "name": "stdout",
     "output_type": "stream",
     "text": [
      "Antall rette prediksjoner: 4998\n",
      "Totalt antall prediksjoner: 5000\n",
      "Prosentvis riktige predikasjoner: 99.96 %\n"
     ]
    }
   ],
   "source": [
    "#Beregner antall riktige prediksjoner av testdataen opp mot testdataen\n",
    "y_hats = nn.predict(x_test, 10, 3)\n",
    "#Teller hvor mange prediksjoner som var riktig\n",
    "Tell = countCorrect_add(y_hats, y_test)"
   ]
  },
  {
   "cell_type": "markdown",
   "metadata": {},
   "source": [
    "Som vi observerer, vil modellen vår gjøre korrekte addisjonsprediksjoner mesteparten av tiden. For å vurdere nøyaktigheten grundig, kan vi teste hvor mange korrekte prediksjoner den gir for alle de 10 000 mulige tallparene av tosifrede tall."
   ]
  },
  {
   "cell_type": "code",
   "execution_count": 21,
   "metadata": {},
   "outputs": [
    {
     "name": "stdout",
     "output_type": "stream",
     "text": [
      "Antall rette prediksjoner: 9998\n",
      "Totalt antall prediksjoner: 10000\n",
      "Prosentvis riktige predikasjoner: 99.98 %\n"
     ]
    }
   ],
   "source": [
    "#Funksjon definert i utils.py som genererer og henter alle mulige kombinasjoner av to tosifrede tall\n",
    "x_values, y_values = createAllSamples()\n",
    "\n",
    "#Ser hvor mange riktige av de 10 000 mulige kombinasjonene vi greier å predikere\n",
    "y_hats = nn.predict(x_values, 10, 3)\n",
    "\n",
    "Tell = countCorrect_add(y_hats, y_values)\n"
   ]
  },
  {
   "cell_type": "markdown",
   "metadata": {},
   "source": [
    "Som vi ser greier vi å predikere riktig for opp imot alle mulige kombinasjoner for addisjon mellom to tosifrede tall."
   ]
  },
  {
   "cell_type": "markdown",
   "metadata": {},
   "source": [
    "#### Konklusjon\n",
    "\n",
    "For å konkludere prosjektet har vi forsøkt å trene nettverket vårt på tekst, slik at den kan skrive konklusjonen for oss. La oss prøve å generere en tekst som starter med «for å konkludere »"
   ]
  },
  {
   "cell_type": "code",
   "execution_count": 5,
   "metadata": {},
   "outputs": [
    {
     "name": "stdout",
     "output_type": "stream",
     "text": [
      "data has 17369 characters, 50 unique.\n",
      "[[28 37 39  1 47  1 33 37 36 33 34 42 26 27 39 27  1 38 39 37 40 32 27 33\n",
      "  41 27 41  1  1]]\n"
     ]
    },
    {
     "name": "stdout",
     "output_type": "stream",
     "text": [
      "for å konkludere prosjektet  bete atrat brumerlenn eg dinsponser.\n",
      "Vårer r unnyprg pprtøt ioter hasmmun ra vi potatennsjonener.\n",
      "Restulåre sulå ste ttydere opåre vår de uknst vår or.\n",
      "Vår an br bikalystr kar hyrterår binn irdidid ut engforsistid lil l larte lig kar prupå hasn arrr føredert ated he akobit pg pbidråvere gen re rung unsarin arr.\n",
      "Ve ere for g ing inder hyskom potart moni ar.\n",
      "innalt binger lt hylorr vinar generppg lumerkater.\n",
      "Gjer vår annnananinadider re år ine rukan dere kanor for-med \n"
     ]
    }
   ],
   "source": [
    "import pickle\n",
    "from text_generation import *\n",
    "\n",
    "#henter inn dictionary fra treningsdataen\n",
    "text =  open('treningsTekster/konklusjoner.txt', 'r').read()\n",
    "_,idx_to_text,text_to_idx, m = text_to_training_data(50,text,num_batches=3,batch_size=110)\n",
    "\n",
    "#henter vårt ferdigtrente\n",
    "with open(\"ferdigtrent_nn\", 'rb') as f:\n",
    "    nn = pickle.load(f)\n",
    "\n",
    "#startteksten vi vil ha\n",
    "start_text = \"for å konkludere prosjektet  \"\n",
    "start_idx = np.array([convertToID(start_text,text_to_idx)])\n",
    "print(start_idx)\n",
    "\n",
    "n_gen = 500\n",
    "\n",
    "generated_idx = generate(nn,start_idx,m,50,n_gen)\n",
    "\n",
    "text = convertToTxt(generated_idx[0],idx_to_text)\n",
    "\n",
    "print(text)\n"
   ]
  },
  {
   "cell_type": "markdown",
   "metadata": {},
   "source": [
    "Som vi kan se, er det lite frykt for at, hvertfall vårt nettverk, vil ta over verden med det første. Vi har i prosjektet klart å bygge en transformermodell med relativt enkel lineær algebra, og å optimere denne med back-propagation. Vi har fått ganske gode resultater, som viser hvor bra selv en enkel modell kan fungere på enkle problemstillinger som sortering og addisjon."
   ]
  }
 ],
 "metadata": {
  "kernelspec": {
   "display_name": "Python 3",
   "language": "python",
   "name": "python3"
  },
  "language_info": {
   "codemirror_mode": {
    "name": "ipython",
    "version": 3
   },
   "file_extension": ".py",
   "mimetype": "text/x-python",
   "name": "python",
   "nbconvert_exporter": "python",
   "pygments_lexer": "ipython3",
   "version": "3.11.1"
  }
 },
 "nbformat": 4,
 "nbformat_minor": 2
}
